{
 "cells": [
  {
   "cell_type": "markdown",
   "id": "535ed3cf-0f3b-459c-9dbb-3b3bd93aefa9",
   "metadata": {},
   "source": [
    "### Python Functions"
   ]
  },
  {
   "cell_type": "markdown",
   "id": "4200af02-5f5d-4390-bb51-33e78cc170af",
   "metadata": {},
   "source": [
    "#### For, If,Functions\n",
    "\r\n",
    "Functions in Python. A function is a set of statements that take inputs, do some specific computation and produces output. These functions are called user defined function"
   ]
  },
  {
   "cell_type": "code",
   "execution_count": 24,
   "id": "5c951d13-b228-4ef3-95f5-43f436581ebf",
   "metadata": {},
   "outputs": [],
   "source": [
    "# import libraries\n",
    "import numpy as np\n",
    "import pandas as pd"
   ]
  },
  {
   "cell_type": "code",
   "execution_count": 25,
   "id": "92bb63a9-2670-486f-984d-5cefc5954282",
   "metadata": {},
   "outputs": [
    {
     "name": "stdout",
     "output_type": "stream",
     "text": [
      "The given number is odd\n"
     ]
    }
   ],
   "source": [
    "# let's create an if-else condition to find if number is even or odd\n",
    "num = 3\n",
    "\n",
    "if num%2==0:\n",
    "    print(\"The given number is even\")\n",
    "else:\n",
    "    print(\"The given number is odd\")"
   ]
  },
  {
   "cell_type": "code",
   "execution_count": 26,
   "id": "df3a4453-d9df-4bb1-bfc9-212879806a39",
   "metadata": {},
   "outputs": [],
   "source": [
    "# let's define the functions so it can be reused many times\n",
    "def even_odd(num):\n",
    "    if num%2==0:\n",
    "        print(\"The given number is even\")\n",
    "    else:\n",
    "        print(\"The given number is odd\")"
   ]
  },
  {
   "cell_type": "code",
   "execution_count": 27,
   "id": "4b54235e-21bc-4bfb-8693-3e1dda4cd367",
   "metadata": {},
   "outputs": [
    {
     "name": "stdout",
     "output_type": "stream",
     "text": [
      "The given number is odd\n"
     ]
    }
   ],
   "source": [
    "even_odd(17)"
   ]
  },
  {
   "cell_type": "code",
   "execution_count": 28,
   "id": "66dd2320-7473-419b-8e6a-b824b16ebaac",
   "metadata": {},
   "outputs": [],
   "source": [
    "# print vs return\n",
    "def hello_world():\n",
    "    print(\"Hello World!\")"
   ]
  },
  {
   "cell_type": "code",
   "execution_count": 29,
   "id": "e355899e-9ee8-4883-bf5e-17e85a923d21",
   "metadata": {},
   "outputs": [
    {
     "name": "stdout",
     "output_type": "stream",
     "text": [
      "Hello World!\n"
     ]
    }
   ],
   "source": [
    "hello_world()"
   ]
  },
  {
   "cell_type": "code",
   "execution_count": 30,
   "id": "ec63b805-f9d7-472f-82bc-d6cb7f304b85",
   "metadata": {},
   "outputs": [
    {
     "name": "stdout",
     "output_type": "stream",
     "text": [
      "Hello World!\n",
      "None\n"
     ]
    }
   ],
   "source": [
    "hello = hello_world()\n",
    "print(hello)"
   ]
  },
  {
   "cell_type": "code",
   "execution_count": 31,
   "id": "c0d9cced-27a1-47bf-8874-a787798c4b70",
   "metadata": {},
   "outputs": [],
   "source": [
    "def new_world():\n",
    "    return \"hello people\""
   ]
  },
  {
   "cell_type": "code",
   "execution_count": 32,
   "id": "96e71b24-9b81-43a5-8c84-9a505fba24a9",
   "metadata": {},
   "outputs": [
    {
     "name": "stdout",
     "output_type": "stream",
     "text": [
      "hello people\n"
     ]
    }
   ],
   "source": [
    "val = new_world()\n",
    "print(val)"
   ]
  },
  {
   "cell_type": "code",
   "execution_count": 33,
   "id": "29c0e509-f6a8-44e6-a996-77466b88ef03",
   "metadata": {},
   "outputs": [],
   "source": [
    "# function to add number\n",
    "def add(num1, num2):\n",
    "    return num1+num2"
   ]
  },
  {
   "cell_type": "code",
   "execution_count": 34,
   "id": "7ee68a36-4ad3-4f7a-9ae4-1f41877d7905",
   "metadata": {},
   "outputs": [
    {
     "data": {
      "text/plain": [
       "35"
      ]
     },
     "execution_count": 34,
     "metadata": {},
     "output_type": "execute_result"
    }
   ],
   "source": [
    "add(17,18)"
   ]
  },
  {
   "cell_type": "code",
   "execution_count": 35,
   "id": "3293fcde-b1ed-494f-85db-099892f35a09",
   "metadata": {},
   "outputs": [],
   "source": [
    "# positional and keyword arguments\n",
    "def hello(name, age=29):\n",
    "    print(\"My name is {} and age is {}\".format(name, age))"
   ]
  },
  {
   "cell_type": "code",
   "execution_count": 36,
   "id": "dc98482f-9635-4e6c-a6b8-2c62d1341ce1",
   "metadata": {},
   "outputs": [
    {
     "name": "stdout",
     "output_type": "stream",
     "text": [
      "My name is Akshay and age is 29\n"
     ]
    }
   ],
   "source": [
    "hello(\"Akshay\")"
   ]
  },
  {
   "cell_type": "code",
   "execution_count": 37,
   "id": "621e96b8-9a41-4eef-a92c-c2e1597b60a9",
   "metadata": {},
   "outputs": [],
   "source": [
    "def hello(*args, **kwargs):\n",
    "    print(args)\n",
    "    print(kwargs)"
   ]
  },
  {
   "cell_type": "code",
   "execution_count": 38,
   "id": "cfbeeb1a-d43f-4cc1-9af3-50626d342dbe",
   "metadata": {},
   "outputs": [
    {
     "name": "stdout",
     "output_type": "stream",
     "text": [
      "('Akshay', 'Paunikar')\n",
      "{'age': 29, 'yob': 1994}\n"
     ]
    }
   ],
   "source": [
    "hello(\"Akshay\", \"Paunikar\", age=29, yob=1994)"
   ]
  },
  {
   "cell_type": "code",
   "execution_count": 39,
   "id": "ae83634c-ab95-4c1f-8869-3bad0fcf34ef",
   "metadata": {},
   "outputs": [],
   "source": [
    "lst = ['Akshay', 'Paunikar']\n",
    "dict = {'age': 29, 'yob': 1994}"
   ]
  },
  {
   "cell_type": "code",
   "execution_count": 40,
   "id": "7c9462fd-cc70-495b-8f23-c7bdec45684d",
   "metadata": {},
   "outputs": [
    {
     "name": "stdout",
     "output_type": "stream",
     "text": [
      "('Akshay', 'Paunikar')\n",
      "{'age': 29, 'yob': 1994}\n"
     ]
    }
   ],
   "source": [
    "hello(*lst, **dict)"
   ]
  },
  {
   "cell_type": "code",
   "execution_count": 41,
   "id": "aea5d19d-caad-4dd6-919e-0d9f1201413e",
   "metadata": {},
   "outputs": [
    {
     "name": "stdout",
     "output_type": "stream",
     "text": [
      "56 53\n"
     ]
    }
   ],
   "source": [
    "# If conditions  and for loops\n",
    "\n",
    "lst=[1,2,3,4,5,6,7,8,9,10,12,13,14,15]\n",
    "\n",
    "even_sum=0\n",
    "odd_sum=0\n",
    "for i in lst:\n",
    "    if i%2==0:\n",
    "        even_sum=even_sum+i\n",
    "    else:\n",
    "        odd_sum=odd_sum+i\n",
    "print(even_sum,odd_sum)"
   ]
  },
  {
   "cell_type": "code",
   "execution_count": 42,
   "id": "0a91b045-5086-4ccc-bd2b-e395c383194b",
   "metadata": {},
   "outputs": [
    {
     "name": "stdin",
     "output_type": "stream",
     "text": [
      "Please enter your first number: 12\n",
      "Please enter your second number 12\n"
     ]
    },
    {
     "data": {
      "text/plain": [
       "24"
      ]
     },
     "execution_count": 42,
     "metadata": {},
     "output_type": "execute_result"
    }
   ],
   "source": [
    "num1 = int(input(\"Please enter your first number:\"))\n",
    "num2 = int(input(\"Please enter your second number\"))\n",
    "\n",
    "add(num1, num2)"
   ]
  },
  {
   "cell_type": "code",
   "execution_count": 47,
   "id": "3c7b82f7-feb3-446d-8ca6-60819608f280",
   "metadata": {},
   "outputs": [],
   "source": [
    "def hello(name, age):\n",
    "    print(\"My name is {} and age is {}\".format(name, age))"
   ]
  },
  {
   "cell_type": "code",
   "execution_count": 48,
   "id": "118091df-7de3-4679-b6f1-fd2a472c5b9d",
   "metadata": {},
   "outputs": [
    {
     "name": "stdin",
     "output_type": "stream",
     "text": [
      "Please enter your name: Akshay Paunikar\n",
      "Please enter your age: 30\n"
     ]
    },
    {
     "name": "stdout",
     "output_type": "stream",
     "text": [
      "My name is Akshay Paunikar and age is 30\n"
     ]
    }
   ],
   "source": [
    "name = str(input(\"Please enter your name:\"))\n",
    "age = int(input(\"Please enter your age:\"))\n",
    "\n",
    "hello(name, age)"
   ]
  }
 ],
 "metadata": {
  "kernelspec": {
   "display_name": "Python 3 (ipykernel)",
   "language": "python",
   "name": "python3"
  },
  "language_info": {
   "codemirror_mode": {
    "name": "ipython",
    "version": 3
   },
   "file_extension": ".py",
   "mimetype": "text/x-python",
   "name": "python",
   "nbconvert_exporter": "python",
   "pygments_lexer": "ipython3",
   "version": "3.9.18"
  }
 },
 "nbformat": 4,
 "nbformat_minor": 5
}
