{
 "cells": [
  {
   "cell_type": "markdown",
   "id": "c6cb0fe6-88ea-4779-b3ab-cd8941abaf9e",
   "metadata": {},
   "source": [
    "<h3>Shallow Copy vs Deep Copy</h3>"
   ]
  },
  {
   "cell_type": "markdown",
   "id": "3c0e8218-2706-4292-bdec-1db0b22851c1",
   "metadata": {},
   "source": [
    "Let's understand the difference between \"=\", copy(), deepcopy().\n",
    "\n",
    "This applies only to collections as collections are mutable."
   ]
  },
  {
   "cell_type": "code",
   "execution_count": 1,
   "id": "69ffa72f-d06e-479d-a67c-a5cf28149352",
   "metadata": {},
   "outputs": [],
   "source": [
    "# \"=\"\n",
    "lst1 = ['David', 'Ronaldo', 'Messi', 'Pele']\n",
    "lst2 = lst1"
   ]
  },
  {
   "cell_type": "code",
   "execution_count": 2,
   "id": "4ad89ead-97d5-4ec1-b601-87a51ac1dfa4",
   "metadata": {},
   "outputs": [
    {
     "data": {
      "text/plain": [
       "['David', 'Ronaldo', 'Messi', 'Pele']"
      ]
     },
     "execution_count": 2,
     "metadata": {},
     "output_type": "execute_result"
    }
   ],
   "source": [
    "lst1"
   ]
  },
  {
   "cell_type": "code",
   "execution_count": 3,
   "id": "47509173-50ce-48e3-918b-02b41b838d13",
   "metadata": {},
   "outputs": [
    {
     "data": {
      "text/plain": [
       "['David', 'Ronaldo', 'Messi', 'Pele']"
      ]
     },
     "execution_count": 3,
     "metadata": {},
     "output_type": "execute_result"
    }
   ],
   "source": [
    "lst2"
   ]
  },
  {
   "cell_type": "code",
   "execution_count": 4,
   "id": "1b8e0257-2287-44a8-93db-c7a805f075bb",
   "metadata": {},
   "outputs": [],
   "source": [
    "lst2[1] = 'Mbappe'"
   ]
  },
  {
   "cell_type": "code",
   "execution_count": 5,
   "id": "d6ec54d4-7902-406a-a07a-227abf7f833f",
   "metadata": {},
   "outputs": [
    {
     "data": {
      "text/plain": [
       "['David', 'Mbappe', 'Messi', 'Pele']"
      ]
     },
     "execution_count": 5,
     "metadata": {},
     "output_type": "execute_result"
    }
   ],
   "source": [
    "lst2"
   ]
  },
  {
   "cell_type": "code",
   "execution_count": 6,
   "id": "d8e1c6b1-31fc-41cd-8db1-d80c8b7c636f",
   "metadata": {},
   "outputs": [
    {
     "data": {
      "text/plain": [
       "['David', 'Mbappe', 'Messi', 'Pele']"
      ]
     },
     "execution_count": 6,
     "metadata": {},
     "output_type": "execute_result"
    }
   ],
   "source": [
    "lst1"
   ]
  },
  {
   "cell_type": "code",
   "execution_count": 7,
   "id": "fe253066-d6d1-4af9-9b41-64b52c4906d6",
   "metadata": {},
   "outputs": [],
   "source": [
    "# copy() - This is a shallow copy\n",
    "lst1 = ['David', 'Ronaldo', 'Messi', 'Pele']\n",
    "lst2 = lst1.copy()"
   ]
  },
  {
   "cell_type": "code",
   "execution_count": 8,
   "id": "bcec665a-430e-489f-893f-d6a618b05465",
   "metadata": {},
   "outputs": [],
   "source": [
    "lst2[1] = 'Mbappe'"
   ]
  },
  {
   "cell_type": "code",
   "execution_count": 9,
   "id": "2723fb43-7383-4ddc-ba0a-c64fed74d524",
   "metadata": {},
   "outputs": [
    {
     "data": {
      "text/plain": [
       "['David', 'Mbappe', 'Messi', 'Pele']"
      ]
     },
     "execution_count": 9,
     "metadata": {},
     "output_type": "execute_result"
    }
   ],
   "source": [
    "lst2"
   ]
  },
  {
   "cell_type": "code",
   "execution_count": 10,
   "id": "c328e18e-907f-4070-9899-7cef93585199",
   "metadata": {},
   "outputs": [
    {
     "data": {
      "text/plain": [
       "['David', 'Ronaldo', 'Messi', 'Pele']"
      ]
     },
     "execution_count": 10,
     "metadata": {},
     "output_type": "execute_result"
    }
   ],
   "source": [
    "lst1"
   ]
  },
  {
   "cell_type": "code",
   "execution_count": 11,
   "id": "eaf92b16-7f79-46de-9f4c-5fc9b1079dcf",
   "metadata": {},
   "outputs": [],
   "source": [
    "# shallow copy of nested list\n",
    "lst1 = [['David', 'Mbappe', 'Messi', 'Pele'], [1, 2, 3, 4]]\n",
    "lst2 = lst1.copy()"
   ]
  },
  {
   "cell_type": "code",
   "execution_count": 12,
   "id": "b3bd0eaa-be1b-4ad7-a68f-336314004a4e",
   "metadata": {},
   "outputs": [
    {
     "data": {
      "text/plain": [
       "[['David', 'Mbappe', 'Messi', 'Pele'], [1, 2, 3, 4]]"
      ]
     },
     "execution_count": 12,
     "metadata": {},
     "output_type": "execute_result"
    }
   ],
   "source": [
    "lst1"
   ]
  },
  {
   "cell_type": "code",
   "execution_count": 13,
   "id": "c7b4fe4e-88bb-4500-b4b5-2d27d96971f1",
   "metadata": {},
   "outputs": [
    {
     "data": {
      "text/plain": [
       "[['David', 'Mbappe', 'Messi', 'Pele'], [1, 2, 3, 4]]"
      ]
     },
     "execution_count": 13,
     "metadata": {},
     "output_type": "execute_result"
    }
   ],
   "source": [
    "lst2"
   ]
  },
  {
   "cell_type": "code",
   "execution_count": 15,
   "id": "239763f1-f10c-4164-8826-9a7b9d547f02",
   "metadata": {},
   "outputs": [],
   "source": [
    "lst1[1][0] = 10"
   ]
  },
  {
   "cell_type": "code",
   "execution_count": 16,
   "id": "ad211a6b-b63a-4185-bd5e-6b59d73a8c1f",
   "metadata": {},
   "outputs": [
    {
     "data": {
      "text/plain": [
       "[['David', 'Mbappe', 'Messi', 'Pele'], [10, 2, 3, 4]]"
      ]
     },
     "execution_count": 16,
     "metadata": {},
     "output_type": "execute_result"
    }
   ],
   "source": [
    "lst1"
   ]
  },
  {
   "cell_type": "code",
   "execution_count": 17,
   "id": "be5efab2-9e08-465a-8612-4f80efcf5ed9",
   "metadata": {},
   "outputs": [
    {
     "data": {
      "text/plain": [
       "[['David', 'Mbappe', 'Messi', 'Pele'], [10, 2, 3, 4]]"
      ]
     },
     "execution_count": 17,
     "metadata": {},
     "output_type": "execute_result"
    }
   ],
   "source": [
    "lst2"
   ]
  },
  {
   "cell_type": "code",
   "execution_count": 18,
   "id": "d46759c3-ed46-4deb-9167-59e874062ada",
   "metadata": {},
   "outputs": [],
   "source": [
    "lst1.append([100, 200, 300, 400])"
   ]
  },
  {
   "cell_type": "code",
   "execution_count": 19,
   "id": "37d7187a-9403-4a5c-adbb-ad6b27272ec6",
   "metadata": {},
   "outputs": [
    {
     "data": {
      "text/plain": [
       "[['David', 'Mbappe', 'Messi', 'Pele'], [10, 2, 3, 4], [100, 200, 300, 400]]"
      ]
     },
     "execution_count": 19,
     "metadata": {},
     "output_type": "execute_result"
    }
   ],
   "source": [
    "lst1"
   ]
  },
  {
   "cell_type": "code",
   "execution_count": 20,
   "id": "55c73c29-04ff-49ea-9fee-28554e3a22bf",
   "metadata": {},
   "outputs": [
    {
     "data": {
      "text/plain": [
       "[['David', 'Mbappe', 'Messi', 'Pele'], [10, 2, 3, 4]]"
      ]
     },
     "execution_count": 20,
     "metadata": {},
     "output_type": "execute_result"
    }
   ],
   "source": [
    "lst2"
   ]
  },
  {
   "cell_type": "code",
   "execution_count": 21,
   "id": "eeb58e0e-e4e2-4aaa-b6b8-8ae18cd69339",
   "metadata": {},
   "outputs": [],
   "source": [
    "# deepcopy()\n",
    "import copy"
   ]
  },
  {
   "cell_type": "code",
   "execution_count": 22,
   "id": "24015830-9d42-4d71-867c-bcedf1cf4510",
   "metadata": {},
   "outputs": [],
   "source": [
    "lst1 = ['David', 'Ronaldo', 'Messi', 'Pele']\n",
    "lst2 = copy.deepcopy(lst1)"
   ]
  },
  {
   "cell_type": "code",
   "execution_count": 23,
   "id": "16251ce4-e58b-47ce-b124-7b1936a35b33",
   "metadata": {},
   "outputs": [
    {
     "data": {
      "text/plain": [
       "['David', 'Mbappe', 'Messi', 'Pele']"
      ]
     },
     "execution_count": 23,
     "metadata": {},
     "output_type": "execute_result"
    }
   ],
   "source": [
    "lst2[1] = 'Mbappe'\n",
    "lst2"
   ]
  },
  {
   "cell_type": "code",
   "execution_count": 24,
   "id": "8283e659-d0bd-4b98-8548-8dfdd542ab98",
   "metadata": {},
   "outputs": [
    {
     "data": {
      "text/plain": [
       "['David', 'Ronaldo', 'Messi', 'Pele']"
      ]
     },
     "execution_count": 24,
     "metadata": {},
     "output_type": "execute_result"
    }
   ],
   "source": [
    "lst1"
   ]
  },
  {
   "cell_type": "code",
   "execution_count": 25,
   "id": "268226da-ccea-4ad4-8453-ea9a2da14d65",
   "metadata": {},
   "outputs": [],
   "source": [
    "# deepcopy nested list\n",
    "lst1 = [['David', 'Ronaldo', 'Messi', 'Pele'], [1, 2, 3, 4]]\n",
    "lst2 = copy.deepcopy(lst1)"
   ]
  },
  {
   "cell_type": "code",
   "execution_count": 27,
   "id": "4cdc642f-15a0-4a39-855e-d3ab85135e0d",
   "metadata": {},
   "outputs": [],
   "source": [
    "lst2[1][0] = 100"
   ]
  },
  {
   "cell_type": "code",
   "execution_count": 28,
   "id": "42292517-a9a2-433b-9a25-b87688c1326f",
   "metadata": {},
   "outputs": [
    {
     "data": {
      "text/plain": [
       "[['David', 'Ronaldo', 'Messi', 'Pele'], [100, 2, 3, 4]]"
      ]
     },
     "execution_count": 28,
     "metadata": {},
     "output_type": "execute_result"
    }
   ],
   "source": [
    "lst2"
   ]
  },
  {
   "cell_type": "code",
   "execution_count": 29,
   "id": "dea48283-3872-4cf6-8f7a-79828780d699",
   "metadata": {},
   "outputs": [
    {
     "data": {
      "text/plain": [
       "[['David', 'Ronaldo', 'Messi', 'Pele'], [1, 2, 3, 4]]"
      ]
     },
     "execution_count": 29,
     "metadata": {},
     "output_type": "execute_result"
    }
   ],
   "source": [
    "lst1"
   ]
  },
  {
   "cell_type": "markdown",
   "id": "8371aa2d-f855-44e9-978a-cc798cf48874",
   "metadata": {},
   "source": [
    "A shallow copy creates a new array, but it does not create new copies of the elements within the array. Instead, it points to the same elements as the original array. A deep copy, on the other hand, creates a completely independent copy of both the array and its data. It does not share any data with the original array."
   ]
  }
 ],
 "metadata": {
  "kernelspec": {
   "display_name": "Python 3 (ipykernel)",
   "language": "python",
   "name": "python3"
  },
  "language_info": {
   "codemirror_mode": {
    "name": "ipython",
    "version": 3
   },
   "file_extension": ".py",
   "mimetype": "text/x-python",
   "name": "python",
   "nbconvert_exporter": "python",
   "pygments_lexer": "ipython3",
   "version": "3.9.18"
  }
 },
 "nbformat": 4,
 "nbformat_minor": 5
}
