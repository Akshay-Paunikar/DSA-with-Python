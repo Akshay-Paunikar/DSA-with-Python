{
 "cells": [
  {
   "cell_type": "markdown",
   "id": "535ed3cf-0f3b-459c-9dbb-3b3bd93aefa9",
   "metadata": {},
   "source": [
    "### Python Functions"
   ]
  },
  {
   "cell_type": "markdown",
   "id": "4200af02-5f5d-4390-bb51-33e78cc170af",
   "metadata": {},
   "source": [
    "A function is a set of statements that take inputs, do some specific computation and produces output. These functions are called user defined function"
   ]
  },
  {
   "cell_type": "code",
   "execution_count": 44,
   "id": "5c951d13-b228-4ef3-95f5-43f436581ebf",
   "metadata": {},
   "outputs": [],
   "source": [
    "# import libraries\n",
    "import numpy as np\n",
    "import pandas as pd"
   ]
  },
  {
   "cell_type": "code",
   "execution_count": 45,
   "id": "92bb63a9-2670-486f-984d-5cefc5954282",
   "metadata": {},
   "outputs": [
    {
     "name": "stdout",
     "output_type": "stream",
     "text": [
      "The given number is odd\n"
     ]
    }
   ],
   "source": [
    "# let's create an if-else condition to find if number is even or odd\n",
    "num = 3\n",
    "\n",
    "if num%2==0:\n",
    "    print(\"The given number is even\")\n",
    "else:\n",
    "    print(\"The given number is odd\")"
   ]
  },
  {
   "cell_type": "code",
   "execution_count": 46,
   "id": "df3a4453-d9df-4bb1-bfc9-212879806a39",
   "metadata": {},
   "outputs": [],
   "source": [
    "# let's define the functions so it can be reused many times\n",
    "def even_odd(num):\n",
    "    if num%2==0:\n",
    "        print(\"The given number is even\")\n",
    "    else:\n",
    "        print(\"The given number is odd\")"
   ]
  },
  {
   "cell_type": "code",
   "execution_count": 47,
   "id": "4b54235e-21bc-4bfb-8693-3e1dda4cd367",
   "metadata": {},
   "outputs": [
    {
     "name": "stdout",
     "output_type": "stream",
     "text": [
      "The given number is odd\n"
     ]
    }
   ],
   "source": [
    "even_odd(17)"
   ]
  },
  {
   "cell_type": "code",
   "execution_count": 48,
   "id": "66dd2320-7473-419b-8e6a-b824b16ebaac",
   "metadata": {},
   "outputs": [],
   "source": [
    "# print vs return\n",
    "def hello_world():\n",
    "    print(\"Hello World!\")"
   ]
  },
  {
   "cell_type": "code",
   "execution_count": 49,
   "id": "e355899e-9ee8-4883-bf5e-17e85a923d21",
   "metadata": {},
   "outputs": [
    {
     "name": "stdout",
     "output_type": "stream",
     "text": [
      "Hello World!\n"
     ]
    }
   ],
   "source": [
    "hello_world()"
   ]
  },
  {
   "cell_type": "code",
   "execution_count": 50,
   "id": "ec63b805-f9d7-472f-82bc-d6cb7f304b85",
   "metadata": {},
   "outputs": [
    {
     "name": "stdout",
     "output_type": "stream",
     "text": [
      "Hello World!\n",
      "None\n"
     ]
    }
   ],
   "source": [
    "hello = hello_world()\n",
    "print(hello)"
   ]
  },
  {
   "cell_type": "code",
   "execution_count": 51,
   "id": "c0d9cced-27a1-47bf-8874-a787798c4b70",
   "metadata": {},
   "outputs": [],
   "source": [
    "def new_world():\n",
    "    return \"hello people\""
   ]
  },
  {
   "cell_type": "code",
   "execution_count": 52,
   "id": "96e71b24-9b81-43a5-8c84-9a505fba24a9",
   "metadata": {},
   "outputs": [
    {
     "name": "stdout",
     "output_type": "stream",
     "text": [
      "hello people\n"
     ]
    }
   ],
   "source": [
    "val = new_world()\n",
    "print(val)"
   ]
  },
  {
   "cell_type": "code",
   "execution_count": 53,
   "id": "29c0e509-f6a8-44e6-a996-77466b88ef03",
   "metadata": {},
   "outputs": [],
   "source": [
    "# function to add number\n",
    "def add(num1, num2):\n",
    "    return num1+num2"
   ]
  },
  {
   "cell_type": "code",
   "execution_count": 54,
   "id": "7ee68a36-4ad3-4f7a-9ae4-1f41877d7905",
   "metadata": {},
   "outputs": [
    {
     "data": {
      "text/plain": [
       "35"
      ]
     },
     "execution_count": 54,
     "metadata": {},
     "output_type": "execute_result"
    }
   ],
   "source": [
    "add(17,18)"
   ]
  },
  {
   "cell_type": "code",
   "execution_count": 55,
   "id": "3293fcde-b1ed-494f-85db-099892f35a09",
   "metadata": {},
   "outputs": [],
   "source": [
    "# positional and keyword arguments\n",
    "def hello(name, age=29):\n",
    "    print(\"My name is {} and age is {}\".format(name, age))"
   ]
  },
  {
   "cell_type": "code",
   "execution_count": 56,
   "id": "dc98482f-9635-4e6c-a6b8-2c62d1341ce1",
   "metadata": {},
   "outputs": [
    {
     "name": "stdout",
     "output_type": "stream",
     "text": [
      "My name is Akshay and age is 29\n"
     ]
    }
   ],
   "source": [
    "hello(\"Akshay\")"
   ]
  },
  {
   "cell_type": "code",
   "execution_count": 57,
   "id": "621e96b8-9a41-4eef-a92c-c2e1597b60a9",
   "metadata": {},
   "outputs": [],
   "source": [
    "def hello(*args, **kwargs):\n",
    "    print(args)\n",
    "    print(kwargs)"
   ]
  },
  {
   "cell_type": "code",
   "execution_count": 58,
   "id": "cfbeeb1a-d43f-4cc1-9af3-50626d342dbe",
   "metadata": {},
   "outputs": [
    {
     "name": "stdout",
     "output_type": "stream",
     "text": [
      "('Akshay', 'Paunikar')\n",
      "{'age': 29, 'yob': 1994}\n"
     ]
    }
   ],
   "source": [
    "hello(\"Akshay\", \"Paunikar\", age=29, yob=1994)"
   ]
  },
  {
   "cell_type": "code",
   "execution_count": 59,
   "id": "ae83634c-ab95-4c1f-8869-3bad0fcf34ef",
   "metadata": {},
   "outputs": [],
   "source": [
    "lst = ['Akshay', 'Paunikar']\n",
    "dict = {'age': 29, 'yob': 1994}"
   ]
  },
  {
   "cell_type": "code",
   "execution_count": 60,
   "id": "7c9462fd-cc70-495b-8f23-c7bdec45684d",
   "metadata": {},
   "outputs": [
    {
     "name": "stdout",
     "output_type": "stream",
     "text": [
      "('Akshay', 'Paunikar')\n",
      "{'age': 29, 'yob': 1994}\n"
     ]
    }
   ],
   "source": [
    "hello(*lst, **dict)"
   ]
  },
  {
   "cell_type": "code",
   "execution_count": 61,
   "id": "aea5d19d-caad-4dd6-919e-0d9f1201413e",
   "metadata": {},
   "outputs": [
    {
     "name": "stdout",
     "output_type": "stream",
     "text": [
      "56 53\n"
     ]
    }
   ],
   "source": [
    "# If conditions and for loops\n",
    "\n",
    "lst=[1,2,3,4,5,6,7,8,9,10,12,13,14,15]\n",
    "\n",
    "even_sum=0\n",
    "odd_sum=0\n",
    "for i in lst:\n",
    "    if i%2==0:\n",
    "        even_sum=even_sum+i\n",
    "    else:\n",
    "        odd_sum=odd_sum+i\n",
    "print(even_sum,odd_sum)"
   ]
  },
  {
   "cell_type": "code",
   "execution_count": 62,
   "id": "0a91b045-5086-4ccc-bd2b-e395c383194b",
   "metadata": {},
   "outputs": [
    {
     "data": {
      "text/plain": [
       "13"
      ]
     },
     "execution_count": 62,
     "metadata": {},
     "output_type": "execute_result"
    }
   ],
   "source": [
    "num1 = int(input(\"Please enter your first number:\"))\n",
    "num2 = int(input(\"Please enter your second number\"))\n",
    "\n",
    "add(num1, num2)"
   ]
  },
  {
   "cell_type": "code",
   "execution_count": 63,
   "id": "3c7b82f7-feb3-446d-8ca6-60819608f280",
   "metadata": {},
   "outputs": [],
   "source": [
    "def hello(name, age):\n",
    "    print(\"My name is {} and age is {}\".format(name, age))"
   ]
  },
  {
   "cell_type": "code",
   "execution_count": 64,
   "id": "118091df-7de3-4679-b6f1-fd2a472c5b9d",
   "metadata": {},
   "outputs": [
    {
     "name": "stdout",
     "output_type": "stream",
     "text": [
      "My name is akshay and age is 30\n"
     ]
    }
   ],
   "source": [
    "name = str(input(\"Please enter your name:\"))\n",
    "age = int(input(\"Please enter your age:\"))\n",
    "\n",
    "hello(name, age)"
   ]
  },
  {
   "cell_type": "markdown",
   "id": "78e6292f",
   "metadata": {},
   "source": [
    "#### IF-ELIF-ELSE"
   ]
  },
  {
   "cell_type": "code",
   "execution_count": 1,
   "id": "81d1382f",
   "metadata": {},
   "outputs": [
    {
     "name": "stdout",
     "output_type": "stream",
     "text": [
      "a is greater than b\n"
     ]
    }
   ],
   "source": [
    "a = 200\n",
    "b = 33\n",
    "if b > a:\n",
    "  print(\"b is greater than a\")\n",
    "elif a == b:\n",
    "  print(\"a and b are equal\")\n",
    "else:\n",
    "  print(\"a is greater than b\")"
   ]
  },
  {
   "cell_type": "markdown",
   "id": "84547e1d",
   "metadata": {},
   "source": [
    "#### WHILE LOOP\n",
    "\n",
    "With the while loop we can execute a set of statements as long as a condition is true."
   ]
  },
  {
   "cell_type": "code",
   "execution_count": 2,
   "id": "6b8652b2",
   "metadata": {},
   "outputs": [
    {
     "name": "stdout",
     "output_type": "stream",
     "text": [
      "1\n",
      "2\n",
      "3\n",
      "4\n",
      "5\n"
     ]
    }
   ],
   "source": [
    "i = 1\n",
    "while i < 6:\n",
    "  print(i)\n",
    "  i += 1"
   ]
  },
  {
   "cell_type": "markdown",
   "id": "6b6c8558",
   "metadata": {},
   "source": [
    "With the break statement we can stop the loop even if the while condition is true:"
   ]
  },
  {
   "cell_type": "code",
   "execution_count": 3,
   "id": "9323dd3f",
   "metadata": {},
   "outputs": [
    {
     "name": "stdout",
     "output_type": "stream",
     "text": [
      "1\n",
      "2\n",
      "3\n"
     ]
    }
   ],
   "source": [
    "i = 1\n",
    "while i < 6:\n",
    "  print(i)\n",
    "  if i == 3:\n",
    "    break\n",
    "  i += 1"
   ]
  },
  {
   "cell_type": "markdown",
   "id": "9de60f7f",
   "metadata": {},
   "source": [
    "With the continue statement we can stop the current iteration, and continue with the next:"
   ]
  },
  {
   "cell_type": "code",
   "execution_count": 4,
   "id": "83e78209",
   "metadata": {},
   "outputs": [
    {
     "name": "stdout",
     "output_type": "stream",
     "text": [
      "1\n",
      "2\n",
      "4\n",
      "5\n",
      "6\n"
     ]
    }
   ],
   "source": [
    "i = 0\n",
    "while i < 6:\n",
    "  i += 1\n",
    "  if i == 3:\n",
    "    continue\n",
    "  print(i)"
   ]
  },
  {
   "cell_type": "markdown",
   "id": "101d7f36",
   "metadata": {},
   "source": [
    "#### FOR LOOP\n",
    "\n",
    "A for loop is used for iterating over a sequence (that is either a list, a tuple, a dictionary, a set, or a string). With the for loop we can execute a set of statements, once for each item in a list, tuple, set etc."
   ]
  },
  {
   "cell_type": "code",
   "execution_count": 5,
   "id": "c36e374c",
   "metadata": {},
   "outputs": [
    {
     "name": "stdout",
     "output_type": "stream",
     "text": [
      "apple\n",
      "banana\n",
      "cherry\n"
     ]
    }
   ],
   "source": [
    "fruits = [\"apple\", \"banana\", \"cherry\"]\n",
    "for x in fruits:\n",
    "  print(x)"
   ]
  },
  {
   "cell_type": "markdown",
   "id": "3f6f9ce7",
   "metadata": {},
   "source": [
    "#### range() Function\n",
    "\n",
    "To loop through a set of code a specified number of times, we can use the range() function.\n",
    "\n",
    "The range() function returns a sequence of numbers, starting from 0 by default, and increments by 1 (by default), and ends at a specified number."
   ]
  },
  {
   "cell_type": "code",
   "execution_count": 6,
   "id": "9646897b",
   "metadata": {},
   "outputs": [
    {
     "name": "stdout",
     "output_type": "stream",
     "text": [
      "0\n",
      "1\n",
      "2\n",
      "3\n",
      "4\n",
      "5\n"
     ]
    }
   ],
   "source": [
    "for x in range(6):\n",
    "  print(x)"
   ]
  },
  {
   "cell_type": "markdown",
   "id": "a15f87f0",
   "metadata": {},
   "source": [
    "The range() function defaults to 0 as a starting value, however it is possible to specify the starting value by adding a parameter: range(2, 6), which means values from 2 to 6 (but not including 6):"
   ]
  },
  {
   "cell_type": "code",
   "execution_count": 7,
   "id": "13537a38",
   "metadata": {},
   "outputs": [
    {
     "name": "stdout",
     "output_type": "stream",
     "text": [
      "2\n",
      "3\n",
      "4\n",
      "5\n"
     ]
    }
   ],
   "source": [
    "for x in range(2, 6):\n",
    "  print(x)"
   ]
  },
  {
   "cell_type": "markdown",
   "id": "6f0e1e8b",
   "metadata": {},
   "source": [
    "The range() function defaults to increment the sequence by 1, however it is possible to specify the increment value by adding a third parameter: range(2, 30, 3):"
   ]
  },
  {
   "cell_type": "code",
   "execution_count": 8,
   "id": "2ae44e3d",
   "metadata": {},
   "outputs": [
    {
     "name": "stdout",
     "output_type": "stream",
     "text": [
      "2\n",
      "5\n",
      "8\n",
      "11\n",
      "14\n",
      "17\n",
      "20\n",
      "23\n",
      "26\n",
      "29\n"
     ]
    }
   ],
   "source": [
    "for x in range(2, 30, 3):\n",
    "  print(x)"
   ]
  },
  {
   "cell_type": "markdown",
   "id": "02e7d2d6",
   "metadata": {},
   "source": [
    "#### Nested Loops\n",
    "\n",
    "A nested loop is a loop inside a loop.\n",
    "\n",
    "The \"inner loop\" will be executed one time for each iteration of the \"outer loop\":"
   ]
  },
  {
   "cell_type": "code",
   "execution_count": 9,
   "id": "9f99dd00",
   "metadata": {},
   "outputs": [
    {
     "name": "stdout",
     "output_type": "stream",
     "text": [
      "red apple\n",
      "red banana\n",
      "red cherry\n",
      "big apple\n",
      "big banana\n",
      "big cherry\n",
      "tasty apple\n",
      "tasty banana\n",
      "tasty cherry\n"
     ]
    }
   ],
   "source": [
    "adj = [\"red\", \"big\", \"tasty\"]\n",
    "fruits = [\"apple\", \"banana\", \"cherry\"]\n",
    "\n",
    "for x in adj:\n",
    "  for y in fruits:\n",
    "    print(x, y)"
   ]
  }
 ],
 "metadata": {
  "kernelspec": {
   "display_name": "Python 3 (ipykernel)",
   "language": "python",
   "name": "python3"
  },
  "language_info": {
   "codemirror_mode": {
    "name": "ipython",
    "version": 3
   },
   "file_extension": ".py",
   "mimetype": "text/x-python",
   "name": "python",
   "nbconvert_exporter": "python",
   "pygments_lexer": "ipython3",
   "version": "3.9.18"
  }
 },
 "nbformat": 4,
 "nbformat_minor": 5
}
