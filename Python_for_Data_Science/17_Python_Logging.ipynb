{
 "cells": [
  {
   "cell_type": "markdown",
   "id": "7a50a176-71e3-471c-9f16-ec9a0ea4cdc3",
   "metadata": {},
   "source": [
    "<h2>Python Logging:</h2>\n",
    "\n",
    "Logging is a means of tracking events that happen when some software runs. Logging is important for software developing, debugging, and running. If you don’t have any logging record and your program crashes, there are very few chances that you detect the cause of the problem. And if you detect the cause, it will consume a lot of time. With logging, you can leave a trail of breadcrumbs so that if something goes wrong, we can determine the cause of the problem.\n",
    "\n",
    "Python has a built-in module logging which allows writing status messages to a file or any other output streams. The file can contain information on which part of the code is executed and what problems have arisen. "
   ]
  },
  {
   "cell_type": "markdown",
   "id": "8a4212aa-0291-4025-b7c2-311f6c57688c",
   "metadata": {},
   "source": [
    "<b>Python Logging Levels:</b>"
   ]
  },
  {
   "cell_type": "markdown",
   "id": "818d6bbb-b42b-4205-ba0f-2fed60797bc8",
   "metadata": {},
   "source": [
    "There are five built-in levels of the log message.  \n",
    "\n",
    " - <b>Debug:</b> These are used to give Detailed information, typically of interest only when diagnosing problems.\n",
    " - <b>Info:</b> These are used to confirm that things are working as expected\n",
    " - <b>Warning:</b> These are used as an indication that something unexpected happened, or is indicative of some problem in the near future\n",
    " - <b>Error:</b> This tells that due to a more serious problem, the software has not been able to perform some function\n",
    " - <b>Critical:</b> This tells serious error, indicating that the program itself may be unable to continue running"
   ]
  },
  {
   "cell_type": "code",
   "execution_count": 6,
   "id": "2fd90f03-45af-4a8f-8705-14198a62c04c",
   "metadata": {},
   "outputs": [],
   "source": [
    "# importing module\n",
    "import logging\n",
    " \n",
    "# Create and configure logger\n",
    "logging.basicConfig(filename=\"newfile.log\",\n",
    "                    format='%(asctime)s %(message)s',\n",
    "                    filemode='w')\n",
    " \n",
    "# Creating an object\n",
    "logger = logging.getLogger()\n",
    " \n",
    "# Setting the threshold of logger to DEBUG\n",
    "logger.setLevel(logging.DEBUG)\n",
    " \n",
    "# Test messages\n",
    "logger.debug(\"Harmless debug Message\")\n",
    "logger.info(\"Just an information\")\n",
    "logger.warning(\"Its a Warning\")\n",
    "logger.error(\"Did you try to divide by zero\")\n",
    "logger.critical(\"Internet is down\")"
   ]
  },
  {
   "cell_type": "markdown",
   "id": "99dfbf4e-ed97-42a9-bfa9-647a61ea28ae",
   "metadata": {},
   "source": [
    "<h4>Python Logging Exception</h4>"
   ]
  },
  {
   "cell_type": "code",
   "execution_count": 7,
   "id": "0ba0a7be-d59b-4ee9-aa76-b7c969ce3272",
   "metadata": {},
   "outputs": [],
   "source": [
    "# let's create a Custom logging which we can use in any ML or DL projects\n",
    "import logging\n",
    "import os\n",
    "from datetime import datetime\n",
    "\n",
    "LOG_FILE = f\"{datetime.now().strftime('%m_%d_%Y_%H_%M_%S')}.log\"\n",
    "logs_path = os.path.join(os.getcwd(), \"logs\", LOG_FILE)\n",
    "os.makedirs(logs_path, exist_ok=True)\n",
    "\n",
    "LOG_FILE_PATH = os.path.join(logs_path, LOG_FILE)\n",
    "\n",
    "logging.basicConfig(\n",
    "    filename=LOG_FILE_PATH,\n",
    "    format=\"[ %(asctime)s ] %(lineno)d %(name)s - %(levelname)s - %(message)s\",\n",
    "    filemode='w',\n",
    "    force=True,\n",
    "    level=logging.INFO\n",
    ")\n",
    "\n",
    "logger = logging.getLogger()"
   ]
  },
  {
   "cell_type": "code",
   "execution_count": 8,
   "id": "8c3da7b1-0283-4304-80ee-9077d4841034",
   "metadata": {},
   "outputs": [],
   "source": [
    "# let's create a Custom Exception which we can use in any ML or DL projects\n",
    "import sys\n",
    "\n",
    "def error_message_detail(error, error_detail:sys):\n",
    "    _,_,exc_tb = error_detail.exc_info()\n",
    "    file_name = exc_tb.tb_frame.f_code.co_filename\n",
    "    error_message = \"Error occured in python script name [{0}] line number [{1}] error message [{2}]\".format(\n",
    "        file_name, exc_tb.tb_lineno, str(error)\n",
    "    )\n",
    "    \n",
    "    return error_message\n",
    "\n",
    "class CustomException(Exception):\n",
    "    def __init__(self, error_message, error_detail:sys):\n",
    "        super().__init__(error_message)\n",
    "        self.error_message = error_message_detail(error_message, error_detail=error_detail)\n",
    "        \n",
    "    def __str__(self):\n",
    "        return self.error_message"
   ]
  },
  {
   "cell_type": "code",
   "execution_count": 10,
   "id": "44ace78a-7af2-4842-b0b8-c4553dcfb61c",
   "metadata": {},
   "outputs": [
    {
     "name": "stdout",
     "output_type": "stream",
     "text": [
      "0.5\n"
     ]
    }
   ],
   "source": [
    "try:\n",
    "    logger.info(\"Below function will be used to divide 2 numbers\")\n",
    "    a = int(input(\"Please enter first number:\"))\n",
    "    b = int(input(\"Please enter second number:\"))\n",
    "    c = a/b\n",
    "except Exception as e:\n",
    "    logger.exception(e)\n",
    "    raise CustomException(e,sys)\n",
    "else:\n",
    "    print(c)\n",
    "    logger.info(\"Division operation is successfull\")"
   ]
  },
  {
   "cell_type": "code",
   "execution_count": 11,
   "id": "ff90db5c",
   "metadata": {},
   "outputs": [
    {
     "ename": "CustomException",
     "evalue": "Error occured in python script name [C:\\Users\\LENOVO\\AppData\\Local\\Temp\\ipykernel_14860\\1350843980.py] line number [5] error message [division by zero]",
     "output_type": "error",
     "traceback": [
      "\u001b[1;31m---------------------------------------------------------------------------\u001b[0m",
      "\u001b[1;31mZeroDivisionError\u001b[0m                         Traceback (most recent call last)",
      "Cell \u001b[1;32mIn[11], line 5\u001b[0m\n\u001b[0;32m      4\u001b[0m     b \u001b[38;5;241m=\u001b[39m \u001b[38;5;28mint\u001b[39m(\u001b[38;5;28minput\u001b[39m(\u001b[38;5;124m\"\u001b[39m\u001b[38;5;124mPlease enter second number:\u001b[39m\u001b[38;5;124m\"\u001b[39m))\n\u001b[1;32m----> 5\u001b[0m     c \u001b[38;5;241m=\u001b[39m \u001b[43ma\u001b[49m\u001b[38;5;241;43m/\u001b[39;49m\u001b[43mb\u001b[49m\n\u001b[0;32m      6\u001b[0m \u001b[38;5;28;01mexcept\u001b[39;00m \u001b[38;5;167;01mException\u001b[39;00m \u001b[38;5;28;01mas\u001b[39;00m e:\n",
      "\u001b[1;31mZeroDivisionError\u001b[0m: division by zero",
      "\nDuring handling of the above exception, another exception occurred:\n",
      "\u001b[1;31mCustomException\u001b[0m                           Traceback (most recent call last)",
      "Cell \u001b[1;32mIn[11], line 8\u001b[0m\n\u001b[0;32m      6\u001b[0m \u001b[38;5;28;01mexcept\u001b[39;00m \u001b[38;5;167;01mException\u001b[39;00m \u001b[38;5;28;01mas\u001b[39;00m e:\n\u001b[0;32m      7\u001b[0m     logger\u001b[38;5;241m.\u001b[39mexception(e)\n\u001b[1;32m----> 8\u001b[0m     \u001b[38;5;28;01mraise\u001b[39;00m CustomException(e,sys)\n\u001b[0;32m      9\u001b[0m \u001b[38;5;28;01melse\u001b[39;00m:\n\u001b[0;32m     10\u001b[0m     \u001b[38;5;28mprint\u001b[39m(c)\n",
      "\u001b[1;31mCustomException\u001b[0m: Error occured in python script name [C:\\Users\\LENOVO\\AppData\\Local\\Temp\\ipykernel_14860\\1350843980.py] line number [5] error message [division by zero]"
     ]
    }
   ],
   "source": [
    "try:\n",
    "    logger.info(\"Below function will be used to divide 2 numbers\")\n",
    "    a = int(input(\"Please enter first number:\"))\n",
    "    b = int(input(\"Please enter second number:\"))\n",
    "    c = a/b\n",
    "except Exception as e:\n",
    "    logger.exception(e)\n",
    "    raise CustomException(e,sys)\n",
    "else:\n",
    "    print(c)\n",
    "    logger.info(\"Division operation is successfull\")"
   ]
  }
 ],
 "metadata": {
  "kernelspec": {
   "display_name": "Deep_Learning",
   "language": "python",
   "name": "python3"
  },
  "language_info": {
   "codemirror_mode": {
    "name": "ipython",
    "version": 3
   },
   "file_extension": ".py",
   "mimetype": "text/x-python",
   "name": "python",
   "nbconvert_exporter": "python",
   "pygments_lexer": "ipython3",
   "version": "3.9.18"
  }
 },
 "nbformat": 4,
 "nbformat_minor": 5
}
