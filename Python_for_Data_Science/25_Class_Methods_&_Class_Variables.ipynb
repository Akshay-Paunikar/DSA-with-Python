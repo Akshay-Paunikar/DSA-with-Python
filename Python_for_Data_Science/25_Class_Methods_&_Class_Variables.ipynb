{
 "cells": [
  {
   "cell_type": "markdown",
   "id": "443a3fbe-d4d9-4992-9966-e2e07fbfe46e",
   "metadata": {},
   "source": [
    "<h3>Class Methods & Class Variables</h3>"
   ]
  },
  {
   "cell_type": "code",
   "execution_count": 3,
   "id": "d89b7b35-d6dc-4a03-9b22-5135c27244f8",
   "metadata": {},
   "outputs": [],
   "source": [
    "class CAR:\n",
    "    base_price = 1000000\n",
    "    def __init__(self, engine, topSpeed, hp, transmission):\n",
    "        self.engine = engine\n",
    "        self.topSpeed = topSpeed\n",
    "        self.hp = hp\n",
    "        self.transmission = transmission\n",
    "    def what_base_price(self):\n",
    "        print(\"The base price is {}\".format(self.base_price))\n",
    "    @classmethod\n",
    "    def revised_base_price(cls, inflation):\n",
    "        cls.base_price = cls.base_price + (cls.base_price * inflation)"
   ]
  },
  {
   "cell_type": "code",
   "execution_count": 4,
   "id": "41efc381-65de-4d57-8ce9-50434c4f7333",
   "metadata": {},
   "outputs": [
    {
     "data": {
      "text/plain": [
       "1000000"
      ]
     },
     "execution_count": 4,
     "metadata": {},
     "output_type": "execute_result"
    }
   ],
   "source": [
    "CAR.base_price"
   ]
  },
  {
   "cell_type": "code",
   "execution_count": 5,
   "id": "8d463ed0-68ca-487c-bb8d-f4c7881c8aae",
   "metadata": {},
   "outputs": [],
   "source": [
    "CAR.revised_base_price(0.15)"
   ]
  },
  {
   "cell_type": "code",
   "execution_count": 6,
   "id": "37515d4c-87f9-4950-92e0-2b8232cc2abb",
   "metadata": {},
   "outputs": [
    {
     "data": {
      "text/plain": [
       "1150000.0"
      ]
     },
     "execution_count": 6,
     "metadata": {},
     "output_type": "execute_result"
    }
   ],
   "source": [
    "CAR.base_price"
   ]
  },
  {
   "cell_type": "code",
   "execution_count": 7,
   "id": "0190acfb-aa1e-4758-a3c1-4cd217a19952",
   "metadata": {},
   "outputs": [],
   "source": [
    "car1 = CAR('Diesel', '250 km/hr', '2000 HP', 'Manual')"
   ]
  },
  {
   "cell_type": "code",
   "execution_count": 8,
   "id": "fbfd6091-7c4e-4bba-84fc-18ae0fd339ac",
   "metadata": {},
   "outputs": [
    {
     "data": {
      "text/plain": [
       "'Diesel'"
      ]
     },
     "execution_count": 8,
     "metadata": {},
     "output_type": "execute_result"
    }
   ],
   "source": [
    "car1.engine"
   ]
  },
  {
   "cell_type": "code",
   "execution_count": 9,
   "id": "c45fe68e-ca0c-4ade-8094-82419ed3e8d9",
   "metadata": {},
   "outputs": [
    {
     "data": {
      "text/plain": [
       "'250 km/hr'"
      ]
     },
     "execution_count": 9,
     "metadata": {},
     "output_type": "execute_result"
    }
   ],
   "source": [
    "car1.topSpeed"
   ]
  },
  {
   "cell_type": "code",
   "execution_count": 10,
   "id": "04cdc179-1e66-455c-b63d-4ca1cef8ebfa",
   "metadata": {},
   "outputs": [
    {
     "data": {
      "text/plain": [
       "'2000 HP'"
      ]
     },
     "execution_count": 10,
     "metadata": {},
     "output_type": "execute_result"
    }
   ],
   "source": [
    "car1.hp"
   ]
  },
  {
   "cell_type": "code",
   "execution_count": 11,
   "id": "e00005a0-f46b-4e0f-a4da-3cd9393672b8",
   "metadata": {},
   "outputs": [
    {
     "data": {
      "text/plain": [
       "'Manual'"
      ]
     },
     "execution_count": 11,
     "metadata": {},
     "output_type": "execute_result"
    }
   ],
   "source": [
    "car1.transmission"
   ]
  },
  {
   "cell_type": "code",
   "execution_count": 12,
   "id": "b442b006-8658-44ba-b822-181f2fa91289",
   "metadata": {},
   "outputs": [
    {
     "data": {
      "text/plain": [
       "1150000.0"
      ]
     },
     "execution_count": 12,
     "metadata": {},
     "output_type": "execute_result"
    }
   ],
   "source": [
    "car1.base_price"
   ]
  },
  {
   "cell_type": "code",
   "execution_count": 13,
   "id": "fb41725b-0fd1-45a8-ac07-ec3b2302d970",
   "metadata": {},
   "outputs": [],
   "source": [
    "CAR.revised_base_price(0.10)"
   ]
  },
  {
   "cell_type": "code",
   "execution_count": 14,
   "id": "b2498780-a353-450c-b695-b073a041e9b4",
   "metadata": {},
   "outputs": [
    {
     "data": {
      "text/plain": [
       "1265000.0"
      ]
     },
     "execution_count": 14,
     "metadata": {},
     "output_type": "execute_result"
    }
   ],
   "source": [
    "CAR.base_price"
   ]
  },
  {
   "cell_type": "code",
   "execution_count": 15,
   "id": "5fe3a4f4-88f2-4768-bfcc-b31692bde57d",
   "metadata": {},
   "outputs": [
    {
     "data": {
      "text/plain": [
       "1265000.0"
      ]
     },
     "execution_count": 15,
     "metadata": {},
     "output_type": "execute_result"
    }
   ],
   "source": [
    "car1.base_price"
   ]
  },
  {
   "cell_type": "code",
   "execution_count": null,
   "id": "04fbc5a8-9500-4169-adfe-55f322e8065b",
   "metadata": {},
   "outputs": [],
   "source": []
  }
 ],
 "metadata": {
  "kernelspec": {
   "display_name": "Python 3 (ipykernel)",
   "language": "python",
   "name": "python3"
  },
  "language_info": {
   "codemirror_mode": {
    "name": "ipython",
    "version": 3
   },
   "file_extension": ".py",
   "mimetype": "text/x-python",
   "name": "python",
   "nbconvert_exporter": "python",
   "pygments_lexer": "ipython3",
   "version": "3.9.18"
  }
 },
 "nbformat": 4,
 "nbformat_minor": 5
}
