{
 "cells": [
  {
   "cell_type": "markdown",
   "id": "8dc38340-0b8e-447d-9fa7-869291d01cc6",
   "metadata": {},
   "source": [
    "### OOPS Tutorial\n",
    "\n",
    "In Python, object-oriented Programming (OOPs) is a programming paradigm that uses objects and classes in programming. It aims to implement real-world entities like inheritance, polymorphisms, encapsulation, etc. in the programming. The main concept of OOPs is to bind the data and the functions that work on that together as a single unit so that no other part of the code can access this data.action"
   ]
  },
  {
   "cell_type": "markdown",
   "id": "016ab792-25fe-40d9-9049-c838c004ab4c",
   "metadata": {},
   "source": [
    "#### OOPs Concepts in Python\n",
    "\n",
    " - Class\n",
    " - Objects\n",
    " - Polymorphism\n",
    " - Encapsulation\n",
    " - Inheritance\n",
    " - Data Abstraction"
   ]
  },
  {
   "cell_type": "markdown",
   "id": "a73e0510-c286-4847-9ce8-22d8a8c2319c",
   "metadata": {},
   "source": [
    "#### Class:\n",
    "\n",
    "A class is a collection of objects. A class contains the blueprints or the prototype from which the objects are being created. It is a logical entity that contains some attributes and methods. \r\n",
    "\r\n",
    "To understand the need for creating a class let’s consider an example, let’s say you wanted to track the number of dogs that may have different attributes like breed, and age. If a list is used, the first element could be the dog’s breed while the second element could represent its age. Let’s suppose there are 100 different dogs, then how would you know which element is supposed to be which? What if you wanted to add other properties to these dogs? This lacks organization and it’s the exact need for classesibute. "
   ]
  },
  {
   "cell_type": "markdown",
   "id": "96fc7798-f889-4a31-880a-dd20396f640f",
   "metadata": {},
   "source": [
    "Some points on Python class:  \n",
    "\n",
    " - Classes are created by keyword class.\n",
    " - Attributes are the variables that belong to a class.\n",
    " - Attributes are always public and can be accessed using the dot (.) operator. Eg.: Myclass.Myattribute"
   ]
  },
  {
   "cell_type": "markdown",
   "id": "3b89056b-23eb-405f-8317-f126e36e2cb8",
   "metadata": {},
   "source": [
    "#### Objects:\n",
    "\n",
    "The object is an entity that has a state and behavior associated with it. It may be any real-world object like a mouse, keyboard, chair, table, pen, etc. Integers, strings, floating-point numbers, even arrays, and dictionaries, are all objects. More specifically, any single integer or any single string is an object. The number 12 is an object, the string “Hello, world” is an object, a list is an object that can hold other objects, and so on. You’ve been using objects all along and may not even realize it."
   ]
  },
  {
   "cell_type": "code",
   "execution_count": 3,
   "id": "1f0c656f-e177-450b-84b8-ee639ba7f664",
   "metadata": {},
   "outputs": [],
   "source": [
    "class car:\n",
    "    def __init__(self, window, door, engineType):\n",
    "        self.windows = window\n",
    "        self.doors = door\n",
    "        self.engineType = engineType"
   ]
  },
  {
   "cell_type": "code",
   "execution_count": 4,
   "id": "b3f21bb7-1b68-4699-bc5d-a4b5874f782d",
   "metadata": {},
   "outputs": [],
   "source": [
    "car1 = car(6, 5, \"petrol\")"
   ]
  },
  {
   "cell_type": "code",
   "execution_count": 5,
   "id": "f558e356-7a27-4d0b-8456-fdabb4fe9cfd",
   "metadata": {},
   "outputs": [],
   "source": [
    "car2 = car(4, 3, \"diesel\")"
   ]
  },
  {
   "cell_type": "code",
   "execution_count": 6,
   "id": "5ca4e5de-6ed6-4696-972a-146042b0be34",
   "metadata": {},
   "outputs": [
    {
     "data": {
      "text/plain": [
       "6"
      ]
     },
     "execution_count": 6,
     "metadata": {},
     "output_type": "execute_result"
    }
   ],
   "source": [
    "car1.windows"
   ]
  },
  {
   "cell_type": "code",
   "execution_count": 7,
   "id": "b2a9d9ac-6fef-494c-a464-7704e7713294",
   "metadata": {},
   "outputs": [
    {
     "data": {
      "text/plain": [
       "'petrol'"
      ]
     },
     "execution_count": 7,
     "metadata": {},
     "output_type": "execute_result"
    }
   ],
   "source": [
    "car1.engineType"
   ]
  },
  {
   "cell_type": "code",
   "execution_count": 8,
   "id": "9ab2975d-1d3f-4051-99f5-e303a7465fa2",
   "metadata": {},
   "outputs": [
    {
     "data": {
      "text/plain": [
       "3"
      ]
     },
     "execution_count": 8,
     "metadata": {},
     "output_type": "execute_result"
    }
   ],
   "source": [
    "car2.doors"
   ]
  },
  {
   "cell_type": "code",
   "execution_count": 9,
   "id": "82e0a29f-7452-4b05-a49b-ddcd9572405a",
   "metadata": {},
   "outputs": [
    {
     "data": {
      "text/plain": [
       "'diesel'"
      ]
     },
     "execution_count": 9,
     "metadata": {},
     "output_type": "execute_result"
    }
   ],
   "source": [
    "car2.engineType"
   ]
  },
  {
   "cell_type": "code",
   "execution_count": 13,
   "id": "7587c0ef-513b-4d2d-8cf8-447ea2c99b64",
   "metadata": {},
   "outputs": [
    {
     "data": {
      "text/plain": [
       "<__main__.car at 0x1e676fcb700>"
      ]
     },
     "execution_count": 13,
     "metadata": {},
     "output_type": "execute_result"
    }
   ],
   "source": [
    "car1"
   ]
  },
  {
   "cell_type": "code",
   "execution_count": 11,
   "id": "55f33ae8-fd92-4455-9635-0ec5568e0afb",
   "metadata": {},
   "outputs": [
    {
     "data": {
      "text/plain": [
       "<__main__.car at 0x1e6769a5fa0>"
      ]
     },
     "execution_count": 11,
     "metadata": {},
     "output_type": "execute_result"
    }
   ],
   "source": [
    "car2"
   ]
  },
  {
   "cell_type": "code",
   "execution_count": 2,
   "id": "2d8c8524-5e7a-4d44-bc33-7fb3e8622680",
   "metadata": {},
   "outputs": [
    {
     "data": {
      "text/plain": [
       "['__class__',\n",
       " '__delattr__',\n",
       " '__dict__',\n",
       " '__dir__',\n",
       " '__doc__',\n",
       " '__eq__',\n",
       " '__format__',\n",
       " '__ge__',\n",
       " '__getattribute__',\n",
       " '__gt__',\n",
       " '__hash__',\n",
       " '__init__',\n",
       " '__init_subclass__',\n",
       " '__le__',\n",
       " '__lt__',\n",
       " '__module__',\n",
       " '__ne__',\n",
       " '__new__',\n",
       " '__reduce__',\n",
       " '__reduce_ex__',\n",
       " '__repr__',\n",
       " '__setattr__',\n",
       " '__sizeof__',\n",
       " '__str__',\n",
       " '__subclasshook__',\n",
       " '__weakref__']"
      ]
     },
     "execution_count": 2,
     "metadata": {},
     "output_type": "execute_result"
    }
   ],
   "source": [
    "dir(car)"
   ]
  },
  {
   "cell_type": "code",
   "execution_count": 15,
   "id": "1e51ef31-b742-40d9-ab09-db32929d028a",
   "metadata": {},
   "outputs": [],
   "source": [
    "class suv:\n",
    "    def __init__(self, window, door, engineType):\n",
    "        self.windows = window\n",
    "        self.doors = door\n",
    "        self.engineType = engineType\n",
    "    def self_driving(self):\n",
    "        return \"This is a {} car\".format(self.engineType)"
   ]
  },
  {
   "cell_type": "code",
   "execution_count": 16,
   "id": "5a52fdd8-34b0-4721-b08f-aba6ae6ca2e2",
   "metadata": {},
   "outputs": [],
   "source": [
    "mahindra = suv(6, 5, \"diesel\")"
   ]
  },
  {
   "cell_type": "code",
   "execution_count": 20,
   "id": "e8eae830-0352-4c3c-a4c3-a2aa1c08793f",
   "metadata": {},
   "outputs": [
    {
     "data": {
      "text/plain": [
       "5"
      ]
     },
     "execution_count": 20,
     "metadata": {},
     "output_type": "execute_result"
    }
   ],
   "source": [
    "mahindra.doors"
   ]
  },
  {
   "cell_type": "code",
   "execution_count": 21,
   "id": "002cae08-7b87-4374-a3a2-dff3b4671bfe",
   "metadata": {},
   "outputs": [
    {
     "data": {
      "text/plain": [
       "6"
      ]
     },
     "execution_count": 21,
     "metadata": {},
     "output_type": "execute_result"
    }
   ],
   "source": [
    "mahindra.windows"
   ]
  },
  {
   "cell_type": "code",
   "execution_count": 17,
   "id": "831dfa6c-3eda-48bd-8e41-6d03649b4c8a",
   "metadata": {},
   "outputs": [
    {
     "data": {
      "text/plain": [
       "'This is a diesel car'"
      ]
     },
     "execution_count": 17,
     "metadata": {},
     "output_type": "execute_result"
    }
   ],
   "source": [
    "mahindra.self_driving()"
   ]
  },
  {
   "cell_type": "code",
   "execution_count": 19,
   "id": "98602b73-6102-4126-9700-d7528ad1b14b",
   "metadata": {},
   "outputs": [],
   "source": [
    "mercedes = suv(4, 3, 'EV')"
   ]
  },
  {
   "cell_type": "code",
   "execution_count": 22,
   "id": "28ffc6fc-1ac1-4404-8171-608ea4d48a08",
   "metadata": {},
   "outputs": [
    {
     "data": {
      "text/plain": [
       "3"
      ]
     },
     "execution_count": 22,
     "metadata": {},
     "output_type": "execute_result"
    }
   ],
   "source": [
    "mercedes.doors"
   ]
  },
  {
   "cell_type": "code",
   "execution_count": 23,
   "id": "596d2e8b-7d84-42cb-aac2-9e7d06e7e7c5",
   "metadata": {},
   "outputs": [
    {
     "data": {
      "text/plain": [
       "4"
      ]
     },
     "execution_count": 23,
     "metadata": {},
     "output_type": "execute_result"
    }
   ],
   "source": [
    "mercedes.windows"
   ]
  },
  {
   "cell_type": "code",
   "execution_count": 24,
   "id": "1bd0f234-9780-4eea-a39b-9c48e31f2401",
   "metadata": {},
   "outputs": [
    {
     "data": {
      "text/plain": [
       "'This is a EV car'"
      ]
     },
     "execution_count": 24,
     "metadata": {},
     "output_type": "execute_result"
    }
   ],
   "source": [
    "mercedes.self_driving()"
   ]
  },
  {
   "cell_type": "markdown",
   "id": "69c86c46-bb67-4840-beab-5ec9eaf0206b",
   "metadata": {},
   "source": [
    "#### SELF:\n",
    "\n",
    "Class methods must have an extra first parameter in the method definition. We do not give a value for this parameter when we call the method, Python provides it. \n",
    "If we have a method that takes no arguments, then we still have to have one argument \r\n",
    "This is similar to this pointer in C++ and this reference in Jav\n",
    "a.\r\n",
    "When we call a method of this object as myobject.method(arg1, arg2), this is automatically converted by Python into MyClass.method(myobject, arg1, arg2) – this is all the special self is about."
   ]
  },
  {
   "cell_type": "markdown",
   "id": "bc58b366-a251-41cf-8d6a-b3f371a05f02",
   "metadata": {},
   "source": [
    "<h4>__init__:</h4>\n",
    "\r\n",
    "The__init___ method is similar to constructors in C++ and Java. It is run as soon as an object of a class is instantiated. The method is useful to do any initialization you want to do with your object\n",
    "\n",
    "The task of constructors is to initialize(assign values) to the data members of the class when an object of the class is created.\r\n",
    "\r\n",
    "Like methods, a constructor also contains a collection of statements(i.e. instructions) that are executed at the time of Object creation. It is run as soon as an object of a class is instantiated.."
   ]
  },
  {
   "cell_type": "markdown",
   "id": "c4d8411a-d566-4ef4-bf0c-c6524cc3e056",
   "metadata": {},
   "source": [
    "<h3>INHERITANCE:</h3>\n",
    "Inheritance is the capability of one class to derive or inherit the properties from another class. The class that derives properties is called the derived class or child class and the class from which the properties are being derived is called the base class or parent class. s A."
   ]
  },
  {
   "cell_type": "markdown",
   "id": "74ca8f4f-6ec4-40de-8a04-d447e982846e",
   "metadata": {},
   "source": [
    "The benefits of inheritance are:\n",
    " - It represents real-world relationships well.\n",
    " - It provides the reusability of a code. We don’t have to write the same code again and again. Also, it allows us to add more features to a class without modifying it.\n",
    " - It is transitive in nature, which means that if class B inherits from another class A, then all the subclasses of B would automatically inherit from class A."
   ]
  },
  {
   "cell_type": "markdown",
   "id": "66a2c45c-f8be-4d94-8331-7c9bc4edd536",
   "metadata": {},
   "source": [
    "Types of Inheritance:\n",
    "\n",
    "<b>Single Inheritance:</b> Single-level inheritance enables a derived class to inherit characteristics from a single-parent class.\n",
    "\n",
    "<b>Multilevel Inheritance:</b> Multi-level inheritance enables a derived class to inherit properties from an immediate parent class which in turn inherits properties from his parent class. \n",
    "\n",
    "<b>Hierarchical Inheritance:</b> Hierarchical-level inheritance enables more than one derived class to inherit properties from a parent class.\n",
    "\n",
    "<b>Multiple Inheritance:</b> Multiple-level inheritance enables one derived class to inherit properties from more than one base class."
   ]
  },
  {
   "cell_type": "code",
   "execution_count": 71,
   "id": "45f12d74-0ea3-4d84-8c26-d0e73343e8ea",
   "metadata": {},
   "outputs": [],
   "source": [
    "# let's create a new class which will be a blueprint for class - car\n",
    "class car:\n",
    "    def __init__(self, brand, type, engineType, color):\n",
    "        self.brand = brand\n",
    "        self.type = type\n",
    "        self.engineType = engineType\n",
    "        self.color = color\n",
    "    def info(self):\n",
    "        return \"You have selected car - {} which is a {} having a {} engine and a vibrant {} color\".format(\n",
    "            self.brand, self.type, self.engineType, self.color)"
   ]
  },
  {
   "cell_type": "code",
   "execution_count": 72,
   "id": "b6743c15-564b-4c12-b523-f7d4607b3524",
   "metadata": {},
   "outputs": [],
   "source": [
    "car1 = car(\"Mercedes\", \"Sedan\", \"Petrol\", \"Red\")"
   ]
  },
  {
   "cell_type": "code",
   "execution_count": 73,
   "id": "b546c29b-705d-4b71-b866-38159954f232",
   "metadata": {},
   "outputs": [
    {
     "name": "stdout",
     "output_type": "stream",
     "text": [
      "Mercedes\n",
      "Sedan\n",
      "Petrol\n",
      "Red\n"
     ]
    }
   ],
   "source": [
    "print(car1.brand)\n",
    "print(car1.type)\n",
    "print(car1.engineType)\n",
    "print(car1.color)"
   ]
  },
  {
   "cell_type": "code",
   "execution_count": 74,
   "id": "377caf7f-509d-4247-b84a-c33f02f71a0c",
   "metadata": {},
   "outputs": [
    {
     "data": {
      "text/plain": [
       "'You have selected car - Mercedes which is a Sedan having a Petrol engine and a vibrant Red color'"
      ]
     },
     "execution_count": 74,
     "metadata": {},
     "output_type": "execute_result"
    }
   ],
   "source": [
    "car1.info()"
   ]
  },
  {
   "cell_type": "code",
   "execution_count": 75,
   "id": "e7478d19-be7b-49dc-93e3-1d08a61ba1c5",
   "metadata": {},
   "outputs": [],
   "source": [
    "# INHERITANCE\n",
    "class ev_car(car):\n",
    "    def __init__(self, brand, type, engineType, color, hybridType, AIenabled, selfDrive):\n",
    "        super().__init__(brand, type, engineType, color)\n",
    "        self.hybridType = hybridType\n",
    "        self.AIenabled = AIenabled\n",
    "        self.selfDrive = selfDrive\n",
    "    def drive(self):\n",
    "        return \"Also this car can run on {} and it has AI-functionality {} with self-driving {}\".format(\n",
    "            self.hybridType, self.AIenabled, self.selfDrive)"
   ]
  },
  {
   "cell_type": "code",
   "execution_count": 76,
   "id": "bc99e107-edbe-4d56-9c22-22b3205e7e16",
   "metadata": {},
   "outputs": [],
   "source": [
    "car2 = ev_car(\"Mercedes\", \"SUV\", \"Battery\", \"White\", \"Diesel\", \"available\", \"enabled\")"
   ]
  },
  {
   "cell_type": "code",
   "execution_count": 77,
   "id": "bee04826-4603-450c-a0ea-40a416ccb52d",
   "metadata": {},
   "outputs": [
    {
     "data": {
      "text/plain": [
       "'Mercedes'"
      ]
     },
     "execution_count": 77,
     "metadata": {},
     "output_type": "execute_result"
    }
   ],
   "source": [
    "car2.brand"
   ]
  },
  {
   "cell_type": "code",
   "execution_count": 79,
   "id": "a1cbcd39-8a7c-490f-a692-30201bb77cae",
   "metadata": {},
   "outputs": [
    {
     "data": {
      "text/plain": [
       "'SUV'"
      ]
     },
     "execution_count": 79,
     "metadata": {},
     "output_type": "execute_result"
    }
   ],
   "source": [
    "car2.type"
   ]
  },
  {
   "cell_type": "code",
   "execution_count": 80,
   "id": "0dbfca88-fde5-4c78-97f0-bd60491d8fcc",
   "metadata": {},
   "outputs": [
    {
     "data": {
      "text/plain": [
       "'Battery'"
      ]
     },
     "execution_count": 80,
     "metadata": {},
     "output_type": "execute_result"
    }
   ],
   "source": [
    "car2.engineType"
   ]
  },
  {
   "cell_type": "code",
   "execution_count": 81,
   "id": "df015c6a-6036-42e2-9f86-c296d57c07b5",
   "metadata": {},
   "outputs": [
    {
     "data": {
      "text/plain": [
       "'White'"
      ]
     },
     "execution_count": 81,
     "metadata": {},
     "output_type": "execute_result"
    }
   ],
   "source": [
    "car2.color"
   ]
  },
  {
   "cell_type": "code",
   "execution_count": 82,
   "id": "62f132e3-5793-4d1d-bfed-f0c3020e3ee7",
   "metadata": {},
   "outputs": [
    {
     "data": {
      "text/plain": [
       "'Diesel'"
      ]
     },
     "execution_count": 82,
     "metadata": {},
     "output_type": "execute_result"
    }
   ],
   "source": [
    "car2.hybridType"
   ]
  },
  {
   "cell_type": "code",
   "execution_count": 83,
   "id": "093c948f-53a5-4b1e-9a0e-a2f162fef6b9",
   "metadata": {},
   "outputs": [
    {
     "data": {
      "text/plain": [
       "'available'"
      ]
     },
     "execution_count": 83,
     "metadata": {},
     "output_type": "execute_result"
    }
   ],
   "source": [
    "car2.AIenabled"
   ]
  },
  {
   "cell_type": "code",
   "execution_count": 84,
   "id": "2e364754-2ab0-4fb7-b319-320a48c6afcb",
   "metadata": {},
   "outputs": [
    {
     "data": {
      "text/plain": [
       "'enabled'"
      ]
     },
     "execution_count": 84,
     "metadata": {},
     "output_type": "execute_result"
    }
   ],
   "source": [
    "car2.selfDrive"
   ]
  },
  {
   "cell_type": "code",
   "execution_count": 85,
   "id": "51a8acc0-7f0f-46d8-825a-3cdfb0bf058c",
   "metadata": {},
   "outputs": [
    {
     "data": {
      "text/plain": [
       "'You have selected car - Mercedes which is a SUV having a Battery engine and a vibrant White color'"
      ]
     },
     "execution_count": 85,
     "metadata": {},
     "output_type": "execute_result"
    }
   ],
   "source": [
    "car2.info()"
   ]
  },
  {
   "cell_type": "code",
   "execution_count": 86,
   "id": "64dd1263-32e4-45a5-934d-9281e19971a2",
   "metadata": {},
   "outputs": [
    {
     "data": {
      "text/plain": [
       "'Also this car can run on Diesel and it has AI-functionality available with self-driving enabled'"
      ]
     },
     "execution_count": 86,
     "metadata": {},
     "output_type": "execute_result"
    }
   ],
   "source": [
    "car2.drive()"
   ]
  },
  {
   "cell_type": "markdown",
   "id": "cb9c54b7-ebf3-4b4e-b665-620f682ae2ff",
   "metadata": {},
   "source": [
    "Above examle show a Single Inheritance. let's look at other types of Inheritance."
   ]
  },
  {
   "cell_type": "markdown",
   "id": "7626f54a-3af3-4d3f-9c31-65fbec5b11c2",
   "metadata": {},
   "source": [
    "<h4>Multilevel Inheritance:</h4>"
   ]
  },
  {
   "cell_type": "code",
   "execution_count": 99,
   "id": "bc167929-b050-41c2-90c1-e9dce8328327",
   "metadata": {},
   "outputs": [],
   "source": [
    "class GrandFather:\n",
    "    def __init__(self, GrandFatherName):\n",
    "        self.GrandFatherName = GrandFatherName\n",
    "class Father(GrandFather):\n",
    "    def __init__(self, GrandFatherName, FatherName):\n",
    "        super().__init__(GrandFatherName)\n",
    "        self.FatherName = FatherName\n",
    "class Son(Father):\n",
    "    def __init__(self, GrandFatherName, FatherName, SonName):\n",
    "        super().__init__(GrandFatherName, FatherName)\n",
    "        self.SonName = SonName\n",
    "    def Introduction(self):\n",
    "        print(\"Hello! My name is {}. My father's name is {}. My grand father's name is {}\".format(\n",
    "            self.SonName, self.FatherName, self.GrandFatherName))"
   ]
  },
  {
   "cell_type": "code",
   "execution_count": 100,
   "id": "ff5c7be8-a06c-4678-945b-6f534152ec64",
   "metadata": {},
   "outputs": [],
   "source": [
    "student1 = Son(\"Ram\", \"Suresh\", \"Sachin\")"
   ]
  },
  {
   "cell_type": "code",
   "execution_count": 101,
   "id": "40589123-d1fb-4e67-bc62-d724871acc52",
   "metadata": {},
   "outputs": [
    {
     "data": {
      "text/plain": [
       "'Ram'"
      ]
     },
     "execution_count": 101,
     "metadata": {},
     "output_type": "execute_result"
    }
   ],
   "source": [
    "student1.GrandFatherName"
   ]
  },
  {
   "cell_type": "code",
   "execution_count": 102,
   "id": "9f29b938-d70e-46dd-8d75-e870ca85039d",
   "metadata": {},
   "outputs": [
    {
     "data": {
      "text/plain": [
       "'Suresh'"
      ]
     },
     "execution_count": 102,
     "metadata": {},
     "output_type": "execute_result"
    }
   ],
   "source": [
    "student1.FatherName"
   ]
  },
  {
   "cell_type": "code",
   "execution_count": 103,
   "id": "d98ba35a-fc22-446f-a2e6-2e55c6298af6",
   "metadata": {},
   "outputs": [
    {
     "data": {
      "text/plain": [
       "'Sachin'"
      ]
     },
     "execution_count": 103,
     "metadata": {},
     "output_type": "execute_result"
    }
   ],
   "source": [
    "student1.SonName"
   ]
  },
  {
   "cell_type": "code",
   "execution_count": 104,
   "id": "1192c24c-5fd5-42d2-9276-74d4bea07185",
   "metadata": {},
   "outputs": [
    {
     "name": "stdout",
     "output_type": "stream",
     "text": [
      "Hello! My name is Sachin. My father's name is Suresh. My grand father's name is Ram\n"
     ]
    }
   ],
   "source": [
    "student1.Introduction()"
   ]
  },
  {
   "cell_type": "markdown",
   "id": "5a71f0a4-d28a-4500-ad21-57d7e5c849c6",
   "metadata": {},
   "source": [
    "<h4>Hierarchical Inheritance:</h4>"
   ]
  },
  {
   "cell_type": "code",
   "execution_count": 134,
   "id": "753df9ea-ab8b-4315-9a1e-460431021336",
   "metadata": {},
   "outputs": [],
   "source": [
    "class PersonalInfo:\n",
    "    def __init__(self, Name, Age, City, ZipCode):\n",
    "        self.Name = Name\n",
    "        self.Age = Age\n",
    "        self.City = City\n",
    "        self.ZipCode = ZipCode\n",
    "class Student(PersonalInfo):\n",
    "    def __init__(self, Name, Age, City, ZipCode, School):\n",
    "        super().__init__(Name, Age, City, ZipCode)\n",
    "        self.School = School\n",
    "    def StudentInfo(self):\n",
    "        print(\"Name: {}, Age: {}, City: {}, ZipCode: {}, School: {}\".format(\n",
    "            self.Name, self.Age, self.City, self.ZipCode, self.School))\n",
    "class Employee(PersonalInfo):\n",
    "    def __init__(self, Name, Age, City, ZipCode, Company):\n",
    "        super().__init__(Name, Age, City, ZipCode)\n",
    "        self.Company = Company\n",
    "    def EmployeeInfo(self):\n",
    "        print(\"Name: {}, Age: {}, City: {}, ZipCode: {}, Company: {}\".format(\n",
    "            self.Name, self.Age, self.City, self.ZipCode, self.Company))"
   ]
  },
  {
   "cell_type": "code",
   "execution_count": 135,
   "id": "ec7d0bb3-f5c2-43ad-ac76-c93cc8053c0d",
   "metadata": {},
   "outputs": [],
   "source": [
    "student1 = Student(\"Akshay\", 15, \"Nagpur\", 444444, \"Private School\")"
   ]
  },
  {
   "cell_type": "code",
   "execution_count": 136,
   "id": "ab562ff1-b4e5-4805-b6bf-228c012ae2e9",
   "metadata": {},
   "outputs": [
    {
     "data": {
      "text/plain": [
       "'Akshay'"
      ]
     },
     "execution_count": 136,
     "metadata": {},
     "output_type": "execute_result"
    }
   ],
   "source": [
    "student1.Name"
   ]
  },
  {
   "cell_type": "code",
   "execution_count": 137,
   "id": "7848fb27-4714-4526-be9f-ee4ae46f3a19",
   "metadata": {},
   "outputs": [
    {
     "data": {
      "text/plain": [
       "15"
      ]
     },
     "execution_count": 137,
     "metadata": {},
     "output_type": "execute_result"
    }
   ],
   "source": [
    "student1.Age"
   ]
  },
  {
   "cell_type": "code",
   "execution_count": 138,
   "id": "890b58dc-3967-457b-bfe6-b33cf3f3f76c",
   "metadata": {},
   "outputs": [
    {
     "data": {
      "text/plain": [
       "'Nagpur'"
      ]
     },
     "execution_count": 138,
     "metadata": {},
     "output_type": "execute_result"
    }
   ],
   "source": [
    "student1.City"
   ]
  },
  {
   "cell_type": "code",
   "execution_count": 139,
   "id": "a6d5c037-a429-4def-a51b-506df82c21b0",
   "metadata": {},
   "outputs": [
    {
     "data": {
      "text/plain": [
       "444444"
      ]
     },
     "execution_count": 139,
     "metadata": {},
     "output_type": "execute_result"
    }
   ],
   "source": [
    "student1.ZipCode"
   ]
  },
  {
   "cell_type": "code",
   "execution_count": 140,
   "id": "1f899a4d-bc75-40bf-ae2a-b575752e9a19",
   "metadata": {},
   "outputs": [
    {
     "data": {
      "text/plain": [
       "'Private School'"
      ]
     },
     "execution_count": 140,
     "metadata": {},
     "output_type": "execute_result"
    }
   ],
   "source": [
    "student1.School"
   ]
  },
  {
   "cell_type": "code",
   "execution_count": 141,
   "id": "068a651e-75fb-4816-bd0a-3926453ad01f",
   "metadata": {},
   "outputs": [
    {
     "name": "stdout",
     "output_type": "stream",
     "text": [
      "Name: Akshay, Age: 15, City: Nagpur, ZipCode: 444444, School: Private School\n"
     ]
    }
   ],
   "source": [
    "student1.StudentInfo()"
   ]
  },
  {
   "cell_type": "code",
   "execution_count": 142,
   "id": "a3964280-743c-444c-836e-f18b88bd73ca",
   "metadata": {},
   "outputs": [],
   "source": [
    "employee1 = Employee(\"Akshay\", 35, \"Bangalore\", 111111, \"AI Technologies PVT LTD\")"
   ]
  },
  {
   "cell_type": "code",
   "execution_count": 143,
   "id": "6824cf0c-ec7c-493f-b632-8979eb0a47ce",
   "metadata": {},
   "outputs": [
    {
     "data": {
      "text/plain": [
       "'Akshay'"
      ]
     },
     "execution_count": 143,
     "metadata": {},
     "output_type": "execute_result"
    }
   ],
   "source": [
    "employee1.Name"
   ]
  },
  {
   "cell_type": "code",
   "execution_count": 144,
   "id": "515e0ed2-91cc-48fa-ad6d-636637ea5554",
   "metadata": {},
   "outputs": [
    {
     "data": {
      "text/plain": [
       "35"
      ]
     },
     "execution_count": 144,
     "metadata": {},
     "output_type": "execute_result"
    }
   ],
   "source": [
    "employee1.Age"
   ]
  },
  {
   "cell_type": "code",
   "execution_count": 145,
   "id": "e8eff2d1-7fce-4e0c-8334-1fec8f89ceef",
   "metadata": {},
   "outputs": [
    {
     "data": {
      "text/plain": [
       "'Bangalore'"
      ]
     },
     "execution_count": 145,
     "metadata": {},
     "output_type": "execute_result"
    }
   ],
   "source": [
    "employee1.City"
   ]
  },
  {
   "cell_type": "code",
   "execution_count": 146,
   "id": "a93354ff-8675-4463-9818-00801a86284d",
   "metadata": {},
   "outputs": [
    {
     "data": {
      "text/plain": [
       "111111"
      ]
     },
     "execution_count": 146,
     "metadata": {},
     "output_type": "execute_result"
    }
   ],
   "source": [
    "employee1.ZipCode"
   ]
  },
  {
   "cell_type": "code",
   "execution_count": 147,
   "id": "f7bdd11b-a701-4620-a433-4987c2d248d3",
   "metadata": {},
   "outputs": [
    {
     "data": {
      "text/plain": [
       "'AI Technologies PVT LTD'"
      ]
     },
     "execution_count": 147,
     "metadata": {},
     "output_type": "execute_result"
    }
   ],
   "source": [
    "employee1.Company"
   ]
  },
  {
   "cell_type": "code",
   "execution_count": 148,
   "id": "f98a96d0-24dd-40d7-ab02-fa20578f7878",
   "metadata": {},
   "outputs": [
    {
     "name": "stdout",
     "output_type": "stream",
     "text": [
      "Name: Akshay, Age: 35, City: Bangalore, ZipCode: 111111, Company: AI Technologies PVT LTD\n"
     ]
    }
   ],
   "source": [
    "employee1.EmployeeInfo()"
   ]
  },
  {
   "cell_type": "markdown",
   "id": "a694807a-68ef-4cf9-92c1-ed571cbfa57e",
   "metadata": {},
   "source": [
    "<h4>Multiple Inheritance:</h4>"
   ]
  },
  {
   "cell_type": "code",
   "execution_count": 161,
   "id": "3c874c70-fac1-484d-a00f-a96594366cf8",
   "metadata": {},
   "outputs": [],
   "source": [
    "class GrandFather:\n",
    "    def __init__(self, GrandFatherName):\n",
    "        self.GrandFatherName = GrandFatherName\n",
    "class Father:\n",
    "    def __init__(self, FatherName):\n",
    "        self.FatherName = FatherName\n",
    "class Son(GrandFather, Father):\n",
    "    def __init__(self, GrandFatherName, FatherName, SonName):\n",
    "        GrandFather.__init__(self, GrandFatherName)\n",
    "        Father.__init__(self, FatherName)\n",
    "        self.SonName = SonName\n",
    "    def Introduction(self):\n",
    "        print(\"Hello! My name is {}. My father's name is {}. My grand father's name is {}\".format(\n",
    "            self.SonName, self.FatherName, self.GrandFatherName))"
   ]
  },
  {
   "cell_type": "code",
   "execution_count": 162,
   "id": "fb9b8701-b160-4b2e-88fc-01ce4fda7eef",
   "metadata": {},
   "outputs": [],
   "source": [
    "student1 = Son(\"Ram\", \"Suresh\", \"Sachin\")"
   ]
  },
  {
   "cell_type": "code",
   "execution_count": 163,
   "id": "a3cc69bb-5bae-4e07-b50e-3df41f877078",
   "metadata": {},
   "outputs": [
    {
     "data": {
      "text/plain": [
       "'Ram'"
      ]
     },
     "execution_count": 163,
     "metadata": {},
     "output_type": "execute_result"
    }
   ],
   "source": [
    "student1.GrandFatherName"
   ]
  },
  {
   "cell_type": "code",
   "execution_count": 164,
   "id": "3abdab95-89e9-401c-867e-b3e3eee34f88",
   "metadata": {},
   "outputs": [
    {
     "data": {
      "text/plain": [
       "'Suresh'"
      ]
     },
     "execution_count": 164,
     "metadata": {},
     "output_type": "execute_result"
    }
   ],
   "source": [
    "student1.FatherName"
   ]
  },
  {
   "cell_type": "code",
   "execution_count": 165,
   "id": "eb650f7b-cff7-4a33-b3ca-f95bda641b28",
   "metadata": {},
   "outputs": [
    {
     "data": {
      "text/plain": [
       "'Sachin'"
      ]
     },
     "execution_count": 165,
     "metadata": {},
     "output_type": "execute_result"
    }
   ],
   "source": [
    "student1.SonName"
   ]
  },
  {
   "cell_type": "code",
   "execution_count": 166,
   "id": "e23f36cc-b293-4004-945c-2073633b5279",
   "metadata": {},
   "outputs": [
    {
     "name": "stdout",
     "output_type": "stream",
     "text": [
      "Hello! My name is Sachin. My father's name is Suresh. My grand father's name is Ram\n"
     ]
    }
   ],
   "source": [
    "student1.Introduction()"
   ]
  },
  {
   "cell_type": "markdown",
   "id": "ab164637-ed23-4c0d-b1be-6840c94720e0",
   "metadata": {},
   "source": [
    "<h3>Polymorphism:</h3>"
   ]
  },
  {
   "cell_type": "markdown",
   "id": "5763c4fd-dbf6-47db-825d-c8b7974755b0",
   "metadata": {},
   "source": [
    "The word polymorphism means having many forms. In programming, polymorphism means the same function name (but different signatures) being used for different types. The key difference is the data types and number of arguments used in function."
   ]
  },
  {
   "cell_type": "code",
   "execution_count": 167,
   "id": "f0a27d96-5485-49fc-bc36-c28d5a06314b",
   "metadata": {},
   "outputs": [],
   "source": [
    "class car:\n",
    "    def __init__(self, brand, model):\n",
    "        self.brand = brand\n",
    "        self.model = model\n",
    "    def transport(self):\n",
    "        print(\"The car with brand: {} and model: {} is used for on-road transportation\".format(self.brand, self.model))\n",
    "class boat:\n",
    "    def __init__(self, brand, model):\n",
    "        self.brand = brand\n",
    "        self.model = model\n",
    "    def transport(self):\n",
    "        print(\"The boat with brand: {} and model: {} is used for on-water transportation\".format(self.brand, self.model))\n",
    "class plane:\n",
    "    def __init__(self, brand, model):\n",
    "        self.brand = brand\n",
    "        self.model = model\n",
    "    def transport(self):\n",
    "        print(\"The plane with brand: {} and model: {} is used for on-air transportation\".format(self.brand, self.model))      "
   ]
  },
  {
   "cell_type": "code",
   "execution_count": 168,
   "id": "996aa6c5-643e-4efb-9019-bec45e9d0c29",
   "metadata": {},
   "outputs": [],
   "source": [
    "car1 = car(\"Mercedes\", \"Maybach\")\n",
    "boat1 = boat(\"Ibiza\", \"Touring1\")\n",
    "plane1 = plane(\"airbus\", \"A380\")"
   ]
  },
  {
   "cell_type": "code",
   "execution_count": 170,
   "id": "b764bc54-0157-4a56-b336-14878e792bfe",
   "metadata": {},
   "outputs": [
    {
     "name": "stdout",
     "output_type": "stream",
     "text": [
      "Mercedes\n",
      "Maybach\n",
      "The car with brand: Mercedes and model: Maybach is used for on-road transportation\n",
      "Ibiza\n",
      "Touring1\n",
      "The boat with brand: Ibiza and model: Touring1 is used for on-water transportation\n",
      "airbus\n",
      "A380\n",
      "The plane with brand: airbus and model: A380 is used for on-air transportation\n"
     ]
    }
   ],
   "source": [
    "for i in (car1, boat1, plane1):\n",
    "    print(i.brand)\n",
    "    print(i.model)\n",
    "    i.transport()"
   ]
  },
  {
   "cell_type": "code",
   "execution_count": 171,
   "id": "6714c142-921b-444d-9bfa-36e616b1ff43",
   "metadata": {},
   "outputs": [],
   "source": [
    "# with inheritance\n",
    "class TransportType:\n",
    "    def __init__(self, vehicleType):\n",
    "        self.vehicleType = vehicleType\n",
    "class car(TransportType):\n",
    "    def __init__(self, vehicleType, brand, model):\n",
    "        super().__init__(vehicleType)\n",
    "        self.brand = brand\n",
    "        self.model = model\n",
    "    def transport(self):\n",
    "        print(\"The vehicle with vehicle type: {} with brand: {} and model: {} is used for on-road transportation\".format(\n",
    "            self.vehicleType, self.brand, self.model))\n",
    "class boat(TransportType):\n",
    "    def __init__(self, vehicleType, brand, model):\n",
    "        super().__init__(vehicleType)\n",
    "        self.brand = brand\n",
    "        self.model = model\n",
    "    def transport(self):\n",
    "        print(\"The vehicle with vehicle type: {} with brand: {} and model: {} is used for on-water transportation\".format(\n",
    "            self.vehicleType, self.brand, self.model))\n",
    "class plane(TransportType):\n",
    "    def __init__(self, vehicleType, brand, model):\n",
    "        super().__init__(vehicleType)\n",
    "        self.brand = brand\n",
    "        self.model = model\n",
    "    def transport(self):\n",
    "        print(\"The vehicle with vehicle type: {} with brand: {} and model: {} is used for on-air transportation\".format(\n",
    "            self.vehicleType, self.brand, self.model))  "
   ]
  },
  {
   "cell_type": "code",
   "execution_count": 172,
   "id": "b6155749-05bb-442c-b103-ee1b137deb4a",
   "metadata": {},
   "outputs": [],
   "source": [
    "car1 = car(\"Car\", \"Mercedes\", \"Maybach\")\n",
    "boat1 = boat(\"Boat\", \"Ibiza\", \"Touring1\")\n",
    "plane1 = plane(\"Airplane\", \"airbus\", \"A380\")"
   ]
  },
  {
   "cell_type": "code",
   "execution_count": 173,
   "id": "8b3f6ca2-da9a-4d68-a6de-c5e11bd82fea",
   "metadata": {},
   "outputs": [
    {
     "name": "stdout",
     "output_type": "stream",
     "text": [
      "Car\n",
      "Mercedes\n",
      "Maybach\n",
      "The vehicle with vehicle type: Car with brand: Mercedes and model: Maybach is used for on-road transportation\n",
      "Boat\n",
      "Ibiza\n",
      "Touring1\n",
      "The vehicle with vehicle type: Boat with brand: Ibiza and model: Touring1 is used for on-water transportation\n",
      "Airplane\n",
      "airbus\n",
      "A380\n",
      "The vehicle with vehicle type: Airplane with brand: airbus and model: A380 is used for on-air transportation\n"
     ]
    }
   ],
   "source": [
    "for i in (car1, boat1, plane1):\n",
    "    print(i.vehicleType)\n",
    "    print(i.brand)\n",
    "    print(i.model)\n",
    "    i.transport()"
   ]
  },
  {
   "cell_type": "code",
   "execution_count": null,
   "id": "238441e0-7148-47d2-b0c2-dcdfe9a92315",
   "metadata": {},
   "outputs": [],
   "source": []
  }
 ],
 "metadata": {
  "kernelspec": {
   "display_name": "Python 3 (ipykernel)",
   "language": "python",
   "name": "python3"
  },
  "language_info": {
   "codemirror_mode": {
    "name": "ipython",
    "version": 3
   },
   "file_extension": ".py",
   "mimetype": "text/x-python",
   "name": "python",
   "nbconvert_exporter": "python",
   "pygments_lexer": "ipython3",
   "version": "3.9.18"
  }
 },
 "nbformat": 4,
 "nbformat_minor": 5
}
