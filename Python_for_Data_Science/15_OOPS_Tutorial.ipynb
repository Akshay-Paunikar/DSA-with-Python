{
 "cells": [
  {
   "cell_type": "markdown",
   "id": "8dc38340-0b8e-447d-9fa7-869291d01cc6",
   "metadata": {},
   "source": [
    "### OOPS Tutorial\n",
    "\n",
    "In Python, object-oriented Programming (OOPs) is a programming paradigm that uses objects and classes in programming. It aims to implement real-world entities like inheritance, polymorphisms, encapsulation, etc. in the programming. The main concept of OOPs is to bind the data and the functions that work on that together as a single unit so that no other part of the code can access this data.action"
   ]
  },
  {
   "cell_type": "markdown",
   "id": "016ab792-25fe-40d9-9049-c838c004ab4c",
   "metadata": {},
   "source": [
    "#### OOPs Concepts in Python\n",
    "\n",
    " - Class\n",
    " - Objects\n",
    " - Polymorphism\n",
    " - Encapsulation\n",
    " - Inheritance\n",
    " - Data Abstraction"
   ]
  },
  {
   "cell_type": "markdown",
   "id": "a73e0510-c286-4847-9ce8-22d8a8c2319c",
   "metadata": {},
   "source": [
    "#### Class:\n",
    "\n",
    "A class is a collection of objects. A class contains the blueprints or the prototype from which the objects are being created. It is a logical entity that contains some attributes and methods. \r\n",
    "\r\n",
    "To understand the need for creating a class let’s consider an example, let’s say you wanted to track the number of dogs that may have different attributes like breed, and age. If a list is used, the first element could be the dog’s breed while the second element could represent its age. Let’s suppose there are 100 different dogs, then how would you know which element is supposed to be which? What if you wanted to add other properties to these dogs? This lacks organization and it’s the exact need for classesibute. "
   ]
  },
  {
   "cell_type": "markdown",
   "id": "96fc7798-f889-4a31-880a-dd20396f640f",
   "metadata": {},
   "source": [
    "Some points on Python class:  \n",
    "\n",
    " - Classes are created by keyword class.\n",
    " - Attributes are the variables that belong to a class.\n",
    " - Attributes are always public and can be accessed using the dot (.) operator. Eg.: Myclass.Myattribute"
   ]
  },
  {
   "cell_type": "markdown",
   "id": "3b89056b-23eb-405f-8317-f126e36e2cb8",
   "metadata": {},
   "source": [
    "#### Objects:\n",
    "\n",
    "The object is an entity that has a state and behavior associated with it. It may be any real-world object like a mouse, keyboard, chair, table, pen, etc. Integers, strings, floating-point numbers, even arrays, and dictionaries, are all objects. More specifically, any single integer or any single string is an object. The number 12 is an object, the string “Hello, world” is an object, a list is an object that can hold other objects, and so on. You’ve been using objects all along and may not even realize it."
   ]
  },
  {
   "cell_type": "code",
   "execution_count": 3,
   "id": "1f0c656f-e177-450b-84b8-ee639ba7f664",
   "metadata": {},
   "outputs": [],
   "source": [
    "class car:\n",
    "    def __init__(self, window, door, engineType):\n",
    "        self.windows = window\n",
    "        self.doors = door\n",
    "        self.engineType = engineType"
   ]
  },
  {
   "cell_type": "code",
   "execution_count": 4,
   "id": "b3f21bb7-1b68-4699-bc5d-a4b5874f782d",
   "metadata": {},
   "outputs": [],
   "source": [
    "car1 = car(6, 5, \"petrol\")"
   ]
  },
  {
   "cell_type": "code",
   "execution_count": 5,
   "id": "f558e356-7a27-4d0b-8456-fdabb4fe9cfd",
   "metadata": {},
   "outputs": [],
   "source": [
    "car2 = car(4, 3, \"diesel\")"
   ]
  },
  {
   "cell_type": "code",
   "execution_count": 6,
   "id": "5ca4e5de-6ed6-4696-972a-146042b0be34",
   "metadata": {},
   "outputs": [
    {
     "data": {
      "text/plain": [
       "6"
      ]
     },
     "execution_count": 6,
     "metadata": {},
     "output_type": "execute_result"
    }
   ],
   "source": [
    "car1.windows"
   ]
  },
  {
   "cell_type": "code",
   "execution_count": 7,
   "id": "b2a9d9ac-6fef-494c-a464-7704e7713294",
   "metadata": {},
   "outputs": [
    {
     "data": {
      "text/plain": [
       "'petrol'"
      ]
     },
     "execution_count": 7,
     "metadata": {},
     "output_type": "execute_result"
    }
   ],
   "source": [
    "car1.engineType"
   ]
  },
  {
   "cell_type": "code",
   "execution_count": 8,
   "id": "9ab2975d-1d3f-4051-99f5-e303a7465fa2",
   "metadata": {},
   "outputs": [
    {
     "data": {
      "text/plain": [
       "3"
      ]
     },
     "execution_count": 8,
     "metadata": {},
     "output_type": "execute_result"
    }
   ],
   "source": [
    "car2.doors"
   ]
  },
  {
   "cell_type": "code",
   "execution_count": 9,
   "id": "82e0a29f-7452-4b05-a49b-ddcd9572405a",
   "metadata": {},
   "outputs": [
    {
     "data": {
      "text/plain": [
       "'diesel'"
      ]
     },
     "execution_count": 9,
     "metadata": {},
     "output_type": "execute_result"
    }
   ],
   "source": [
    "car2.engineType"
   ]
  },
  {
   "cell_type": "code",
   "execution_count": 13,
   "id": "7587c0ef-513b-4d2d-8cf8-447ea2c99b64",
   "metadata": {},
   "outputs": [
    {
     "data": {
      "text/plain": [
       "<__main__.car at 0x1e676fcb700>"
      ]
     },
     "execution_count": 13,
     "metadata": {},
     "output_type": "execute_result"
    }
   ],
   "source": [
    "car1"
   ]
  },
  {
   "cell_type": "code",
   "execution_count": 11,
   "id": "55f33ae8-fd92-4455-9635-0ec5568e0afb",
   "metadata": {},
   "outputs": [
    {
     "data": {
      "text/plain": [
       "<__main__.car at 0x1e6769a5fa0>"
      ]
     },
     "execution_count": 11,
     "metadata": {},
     "output_type": "execute_result"
    }
   ],
   "source": [
    "car2"
   ]
  },
  {
   "cell_type": "code",
   "execution_count": 2,
   "id": "2d8c8524-5e7a-4d44-bc33-7fb3e8622680",
   "metadata": {},
   "outputs": [
    {
     "data": {
      "text/plain": [
       "['__class__',\n",
       " '__delattr__',\n",
       " '__dict__',\n",
       " '__dir__',\n",
       " '__doc__',\n",
       " '__eq__',\n",
       " '__format__',\n",
       " '__ge__',\n",
       " '__getattribute__',\n",
       " '__gt__',\n",
       " '__hash__',\n",
       " '__init__',\n",
       " '__init_subclass__',\n",
       " '__le__',\n",
       " '__lt__',\n",
       " '__module__',\n",
       " '__ne__',\n",
       " '__new__',\n",
       " '__reduce__',\n",
       " '__reduce_ex__',\n",
       " '__repr__',\n",
       " '__setattr__',\n",
       " '__sizeof__',\n",
       " '__str__',\n",
       " '__subclasshook__',\n",
       " '__weakref__']"
      ]
     },
     "execution_count": 2,
     "metadata": {},
     "output_type": "execute_result"
    }
   ],
   "source": [
    "dir(car)"
   ]
  },
  {
   "cell_type": "code",
   "execution_count": 15,
   "id": "1e51ef31-b742-40d9-ab09-db32929d028a",
   "metadata": {},
   "outputs": [],
   "source": [
    "class suv:\n",
    "    def __init__(self, window, door, engineType):\n",
    "        self.windows = window\n",
    "        self.doors = door\n",
    "        self.engineType = engineType\n",
    "    def self_driving(self):\n",
    "        return \"This is a {} car\".format(self.engineType)"
   ]
  },
  {
   "cell_type": "code",
   "execution_count": 16,
   "id": "5a52fdd8-34b0-4721-b08f-aba6ae6ca2e2",
   "metadata": {},
   "outputs": [],
   "source": [
    "mahindra = suv(6, 5, \"diesel\")"
   ]
  },
  {
   "cell_type": "code",
   "execution_count": 20,
   "id": "e8eae830-0352-4c3c-a4c3-a2aa1c08793f",
   "metadata": {},
   "outputs": [
    {
     "data": {
      "text/plain": [
       "5"
      ]
     },
     "execution_count": 20,
     "metadata": {},
     "output_type": "execute_result"
    }
   ],
   "source": [
    "mahindra.doors"
   ]
  },
  {
   "cell_type": "code",
   "execution_count": 21,
   "id": "002cae08-7b87-4374-a3a2-dff3b4671bfe",
   "metadata": {},
   "outputs": [
    {
     "data": {
      "text/plain": [
       "6"
      ]
     },
     "execution_count": 21,
     "metadata": {},
     "output_type": "execute_result"
    }
   ],
   "source": [
    "mahindra.windows"
   ]
  },
  {
   "cell_type": "code",
   "execution_count": 17,
   "id": "831dfa6c-3eda-48bd-8e41-6d03649b4c8a",
   "metadata": {},
   "outputs": [
    {
     "data": {
      "text/plain": [
       "'This is a diesel car'"
      ]
     },
     "execution_count": 17,
     "metadata": {},
     "output_type": "execute_result"
    }
   ],
   "source": [
    "mahindra.self_driving()"
   ]
  },
  {
   "cell_type": "code",
   "execution_count": 19,
   "id": "98602b73-6102-4126-9700-d7528ad1b14b",
   "metadata": {},
   "outputs": [],
   "source": [
    "mercedes = suv(4, 3, 'EV')"
   ]
  },
  {
   "cell_type": "code",
   "execution_count": 22,
   "id": "28ffc6fc-1ac1-4404-8171-608ea4d48a08",
   "metadata": {},
   "outputs": [
    {
     "data": {
      "text/plain": [
       "3"
      ]
     },
     "execution_count": 22,
     "metadata": {},
     "output_type": "execute_result"
    }
   ],
   "source": [
    "mercedes.doors"
   ]
  },
  {
   "cell_type": "code",
   "execution_count": 23,
   "id": "596d2e8b-7d84-42cb-aac2-9e7d06e7e7c5",
   "metadata": {},
   "outputs": [
    {
     "data": {
      "text/plain": [
       "4"
      ]
     },
     "execution_count": 23,
     "metadata": {},
     "output_type": "execute_result"
    }
   ],
   "source": [
    "mercedes.windows"
   ]
  },
  {
   "cell_type": "code",
   "execution_count": 24,
   "id": "1bd0f234-9780-4eea-a39b-9c48e31f2401",
   "metadata": {},
   "outputs": [
    {
     "data": {
      "text/plain": [
       "'This is a EV car'"
      ]
     },
     "execution_count": 24,
     "metadata": {},
     "output_type": "execute_result"
    }
   ],
   "source": [
    "mercedes.self_driving()"
   ]
  },
  {
   "cell_type": "markdown",
   "id": "69c86c46-bb67-4840-beab-5ec9eaf0206b",
   "metadata": {},
   "source": [
    "#### SELF:\n",
    "\n",
    "Class methods must have an extra first parameter in the method definition. We do not give a value for this parameter when we call the method, Python provides it. \n",
    "If we have a method that takes no arguments, then we still have to have one argument \r\n",
    "This is similar to this pointer in C++ and this reference in Jav\n",
    "a.\r\n",
    "When we call a method of this object as myobject.method(arg1, arg2), this is automatically converted by Python into MyClass.method(myobject, arg1, arg2) – this is all the special self is about."
   ]
  },
  {
   "cell_type": "markdown",
   "id": "bc58b366-a251-41cf-8d6a-b3f371a05f02",
   "metadata": {},
   "source": [
    "<h4>__init__:</h4>\n",
    "\r\n",
    "The__init___ method is similar to constructors in C++ and Java. It is run as soon as an object of a class is instantiated. The method is useful to do any initialization you want to do with your object\n",
    "\n",
    "The task of constructors is to initialize(assign values) to the data members of the class when an object of the class is created.\r\n",
    "\r\n",
    "Like methods, a constructor also contains a collection of statements(i.e. instructions) that are executed at the time of Object creation. It is run as soon as an object of a class is instantiated.."
   ]
  },
  {
   "cell_type": "markdown",
   "id": "c4d8411a-d566-4ef4-bf0c-c6524cc3e056",
   "metadata": {},
   "source": [
    "<h3>INHERITANCE:</h3>\n",
    "Inheritance is the capability of one class to derive or inherit the properties from another class. The class that derives properties is called the derived class or child class and the class from which the properties are being derived is called the base class or parent class. s A."
   ]
  },
  {
   "cell_type": "markdown",
   "id": "74ca8f4f-6ec4-40de-8a04-d447e982846e",
   "metadata": {},
   "source": [
    "The benefits of inheritance are:\n",
    " - It represents real-world relationships well.\n",
    " - It provides the reusability of a code. We don’t have to write the same code again and again. Also, it allows us to add more features to a class without modifying it.\n",
    " - It is transitive in nature, which means that if class B inherits from another class A, then all the subclasses of B would automatically inherit from class A."
   ]
  },
  {
   "cell_type": "markdown",
   "id": "66a2c45c-f8be-4d94-8331-7c9bc4edd536",
   "metadata": {},
   "source": [
    "Types of Inheritance:\n",
    "\n",
    "<b>Single Inheritance:</b> Single-level inheritance enables a derived class to inherit characteristics from a single-parent class.\n",
    "\n",
    "<b>Multilevel Inheritance:</b> Multi-level inheritance enables a derived class to inherit properties from an immediate parent class which in turn inherits properties from his parent class. \n",
    "\n",
    "<b>Hierarchical Inheritance:</b> Hierarchical-level inheritance enables more than one derived class to inherit properties from a parent class.\n",
    "\n",
    "<b>Multiple Inheritance:</b> Multiple-level inheritance enables one derived class to inherit properties from more than one base class."
   ]
  },
  {
   "cell_type": "code",
   "execution_count": 71,
   "id": "45f12d74-0ea3-4d84-8c26-d0e73343e8ea",
   "metadata": {},
   "outputs": [],
   "source": [
    "# let's create a new class which will be a blueprint for class - car\n",
    "class car:\n",
    "    def __init__(self, brand, type, engineType, color):\n",
    "        self.brand = brand\n",
    "        self.type = type\n",
    "        self.engineType = engineType\n",
    "        self.color = color\n",
    "    def info(self):\n",
    "        return \"You have selected car - {} which is a {} having a {} engine and a vibrant {} color\".format(\n",
    "            self.brand, self.type, self.engineType, self.color)"
   ]
  },
  {
   "cell_type": "code",
   "execution_count": 72,
   "id": "b6743c15-564b-4c12-b523-f7d4607b3524",
   "metadata": {},
   "outputs": [],
   "source": [
    "car1 = car(\"Mercedes\", \"Sedan\", \"Petrol\", \"Red\")"
   ]
  },
  {
   "cell_type": "code",
   "execution_count": 73,
   "id": "b546c29b-705d-4b71-b866-38159954f232",
   "metadata": {},
   "outputs": [
    {
     "name": "stdout",
     "output_type": "stream",
     "text": [
      "Mercedes\n",
      "Sedan\n",
      "Petrol\n",
      "Red\n"
     ]
    }
   ],
   "source": [
    "print(car1.brand)\n",
    "print(car1.type)\n",
    "print(car1.engineType)\n",
    "print(car1.color)"
   ]
  },
  {
   "cell_type": "code",
   "execution_count": 74,
   "id": "377caf7f-509d-4247-b84a-c33f02f71a0c",
   "metadata": {},
   "outputs": [
    {
     "data": {
      "text/plain": [
       "'You have selected car - Mercedes which is a Sedan having a Petrol engine and a vibrant Red color'"
      ]
     },
     "execution_count": 74,
     "metadata": {},
     "output_type": "execute_result"
    }
   ],
   "source": [
    "car1.info()"
   ]
  },
  {
   "cell_type": "code",
   "execution_count": 75,
   "id": "e7478d19-be7b-49dc-93e3-1d08a61ba1c5",
   "metadata": {},
   "outputs": [],
   "source": [
    "# INHERITANCE\n",
    "class ev_car(car):\n",
    "    def __init__(self, brand, type, engineType, color, hybridType, AIenabled, selfDrive):\n",
    "        super().__init__(brand, type, engineType, color)\n",
    "        self.hybridType = hybridType\n",
    "        self.AIenabled = AIenabled\n",
    "        self.selfDrive = selfDrive\n",
    "    def drive(self):\n",
    "        return \"Also this car can run on {} and it has AI-functionality {} with self-driving {}\".format(\n",
    "            self.hybridType, self.AIenabled, self.selfDrive)"
   ]
  },
  {
   "cell_type": "code",
   "execution_count": 76,
   "id": "bc99e107-edbe-4d56-9c22-22b3205e7e16",
   "metadata": {},
   "outputs": [],
   "source": [
    "car2 = ev_car(\"Mercedes\", \"SUV\", \"Battery\", \"White\", \"Diesel\", \"available\", \"enabled\")"
   ]
  },
  {
   "cell_type": "code",
   "execution_count": 77,
   "id": "bee04826-4603-450c-a0ea-40a416ccb52d",
   "metadata": {},
   "outputs": [
    {
     "data": {
      "text/plain": [
       "'Mercedes'"
      ]
     },
     "execution_count": 77,
     "metadata": {},
     "output_type": "execute_result"
    }
   ],
   "source": [
    "car2.brand"
   ]
  },
  {
   "cell_type": "code",
   "execution_count": 79,
   "id": "a1cbcd39-8a7c-490f-a692-30201bb77cae",
   "metadata": {},
   "outputs": [
    {
     "data": {
      "text/plain": [
       "'SUV'"
      ]
     },
     "execution_count": 79,
     "metadata": {},
     "output_type": "execute_result"
    }
   ],
   "source": [
    "car2.type"
   ]
  },
  {
   "cell_type": "code",
   "execution_count": 80,
   "id": "0dbfca88-fde5-4c78-97f0-bd60491d8fcc",
   "metadata": {},
   "outputs": [
    {
     "data": {
      "text/plain": [
       "'Battery'"
      ]
     },
     "execution_count": 80,
     "metadata": {},
     "output_type": "execute_result"
    }
   ],
   "source": [
    "car2.engineType"
   ]
  },
  {
   "cell_type": "code",
   "execution_count": 81,
   "id": "df015c6a-6036-42e2-9f86-c296d57c07b5",
   "metadata": {},
   "outputs": [
    {
     "data": {
      "text/plain": [
       "'White'"
      ]
     },
     "execution_count": 81,
     "metadata": {},
     "output_type": "execute_result"
    }
   ],
   "source": [
    "car2.color"
   ]
  },
  {
   "cell_type": "code",
   "execution_count": 82,
   "id": "62f132e3-5793-4d1d-bfed-f0c3020e3ee7",
   "metadata": {},
   "outputs": [
    {
     "data": {
      "text/plain": [
       "'Diesel'"
      ]
     },
     "execution_count": 82,
     "metadata": {},
     "output_type": "execute_result"
    }
   ],
   "source": [
    "car2.hybridType"
   ]
  },
  {
   "cell_type": "code",
   "execution_count": 83,
   "id": "093c948f-53a5-4b1e-9a0e-a2f162fef6b9",
   "metadata": {},
   "outputs": [
    {
     "data": {
      "text/plain": [
       "'available'"
      ]
     },
     "execution_count": 83,
     "metadata": {},
     "output_type": "execute_result"
    }
   ],
   "source": [
    "car2.AIenabled"
   ]
  },
  {
   "cell_type": "code",
   "execution_count": 84,
   "id": "2e364754-2ab0-4fb7-b319-320a48c6afcb",
   "metadata": {},
   "outputs": [
    {
     "data": {
      "text/plain": [
       "'enabled'"
      ]
     },
     "execution_count": 84,
     "metadata": {},
     "output_type": "execute_result"
    }
   ],
   "source": [
    "car2.selfDrive"
   ]
  },
  {
   "cell_type": "code",
   "execution_count": 85,
   "id": "51a8acc0-7f0f-46d8-825a-3cdfb0bf058c",
   "metadata": {},
   "outputs": [
    {
     "data": {
      "text/plain": [
       "'You have selected car - Mercedes which is a SUV having a Battery engine and a vibrant White color'"
      ]
     },
     "execution_count": 85,
     "metadata": {},
     "output_type": "execute_result"
    }
   ],
   "source": [
    "car2.info()"
   ]
  },
  {
   "cell_type": "code",
   "execution_count": 86,
   "id": "64dd1263-32e4-45a5-934d-9281e19971a2",
   "metadata": {},
   "outputs": [
    {
     "data": {
      "text/plain": [
       "'Also this car can run on Diesel and it has AI-functionality available with self-driving enabled'"
      ]
     },
     "execution_count": 86,
     "metadata": {},
     "output_type": "execute_result"
    }
   ],
   "source": [
    "car2.drive()"
   ]
  }
 ],
 "metadata": {
  "kernelspec": {
   "display_name": "Python 3 (ipykernel)",
   "language": "python",
   "name": "python3"
  },
  "language_info": {
   "codemirror_mode": {
    "name": "ipython",
    "version": 3
   },
   "file_extension": ".py",
   "mimetype": "text/x-python",
   "name": "python",
   "nbconvert_exporter": "python",
   "pygments_lexer": "ipython3",
   "version": "3.9.18"
  }
 },
 "nbformat": 4,
 "nbformat_minor": 5
}
