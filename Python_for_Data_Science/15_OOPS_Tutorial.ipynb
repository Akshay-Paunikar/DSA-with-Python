{
 "cells": [
  {
   "cell_type": "markdown",
   "id": "8dc38340-0b8e-447d-9fa7-869291d01cc6",
   "metadata": {},
   "source": [
    "### OOPS Tutorial\n",
    "\n",
    "In Python, object-oriented Programming (OOPs) is a programming paradigm that uses objects and classes in programming. It aims to implement real-world entities like inheritance, polymorphisms, encapsulation, etc. in the programming. The main concept of OOPs is to bind the data and the functions that work on that together as a single unit so that no other part of the code can access this data.action"
   ]
  },
  {
   "cell_type": "markdown",
   "id": "016ab792-25fe-40d9-9049-c838c004ab4c",
   "metadata": {},
   "source": [
    "#### OOPs Concepts in Python\n",
    "\n",
    " - Class\n",
    " - Objects\n",
    " - Polymorphism\n",
    " - Encapsulation\n",
    " - Inheritance\n",
    " - Data Abstraction"
   ]
  },
  {
   "cell_type": "markdown",
   "id": "a73e0510-c286-4847-9ce8-22d8a8c2319c",
   "metadata": {},
   "source": [
    "#### Class:\n",
    "\n",
    "A class is a collection of objects. A class contains the blueprints or the prototype from which the objects are being created. It is a logical entity that contains some attributes and methods. \r\n",
    "\r\n",
    "To understand the need for creating a class let’s consider an example, let’s say you wanted to track the number of dogs that may have different attributes like breed, and age. If a list is used, the first element could be the dog’s breed while the second element could represent its age. Let’s suppose there are 100 different dogs, then how would you know which element is supposed to be which? What if you wanted to add other properties to these dogs? This lacks organization and it’s the exact need for classesibute. "
   ]
  },
  {
   "cell_type": "markdown",
   "id": "96fc7798-f889-4a31-880a-dd20396f640f",
   "metadata": {},
   "source": [
    "Some points on Python class:  \n",
    "\n",
    " - Classes are created by keyword class.\n",
    " - Attributes are the variables that belong to a class.\n",
    " - Attributes are always public and can be accessed using the dot (.) operator. Eg.: Myclass.Myattribute"
   ]
  },
  {
   "cell_type": "markdown",
   "id": "3b89056b-23eb-405f-8317-f126e36e2cb8",
   "metadata": {},
   "source": [
    "#### Objects:\n",
    "\n",
    "The object is an entity that has a state and behavior associated with it. It may be any real-world object like a mouse, keyboard, chair, table, pen, etc. Integers, strings, floating-point numbers, even arrays, and dictionaries, are all objects. More specifically, any single integer or any single string is an object. The number 12 is an object, the string “Hello, world” is an object, a list is an object that can hold other objects, and so on. You’ve been using objects all along and may not even realize it."
   ]
  },
  {
   "cell_type": "code",
   "execution_count": 3,
   "id": "1f0c656f-e177-450b-84b8-ee639ba7f664",
   "metadata": {},
   "outputs": [],
   "source": [
    "class car:\n",
    "    def __init__(self, window, door, engineType):\n",
    "        self.windows = window\n",
    "        self.doors = door\n",
    "        self.engineType = engineType"
   ]
  },
  {
   "cell_type": "code",
   "execution_count": 4,
   "id": "b3f21bb7-1b68-4699-bc5d-a4b5874f782d",
   "metadata": {},
   "outputs": [],
   "source": [
    "car1 = car(6, 5, \"petrol\")"
   ]
  },
  {
   "cell_type": "code",
   "execution_count": 5,
   "id": "f558e356-7a27-4d0b-8456-fdabb4fe9cfd",
   "metadata": {},
   "outputs": [],
   "source": [
    "car2 = car(4, 3, \"diesel\")"
   ]
  },
  {
   "cell_type": "code",
   "execution_count": 6,
   "id": "5ca4e5de-6ed6-4696-972a-146042b0be34",
   "metadata": {},
   "outputs": [
    {
     "data": {
      "text/plain": [
       "6"
      ]
     },
     "execution_count": 6,
     "metadata": {},
     "output_type": "execute_result"
    }
   ],
   "source": [
    "car1.windows"
   ]
  },
  {
   "cell_type": "code",
   "execution_count": 7,
   "id": "b2a9d9ac-6fef-494c-a464-7704e7713294",
   "metadata": {},
   "outputs": [
    {
     "data": {
      "text/plain": [
       "'petrol'"
      ]
     },
     "execution_count": 7,
     "metadata": {},
     "output_type": "execute_result"
    }
   ],
   "source": [
    "car1.engineType"
   ]
  },
  {
   "cell_type": "code",
   "execution_count": 8,
   "id": "9ab2975d-1d3f-4051-99f5-e303a7465fa2",
   "metadata": {},
   "outputs": [
    {
     "data": {
      "text/plain": [
       "3"
      ]
     },
     "execution_count": 8,
     "metadata": {},
     "output_type": "execute_result"
    }
   ],
   "source": [
    "car2.doors"
   ]
  },
  {
   "cell_type": "code",
   "execution_count": 9,
   "id": "82e0a29f-7452-4b05-a49b-ddcd9572405a",
   "metadata": {},
   "outputs": [
    {
     "data": {
      "text/plain": [
       "'diesel'"
      ]
     },
     "execution_count": 9,
     "metadata": {},
     "output_type": "execute_result"
    }
   ],
   "source": [
    "car2.engineType"
   ]
  },
  {
   "cell_type": "code",
   "execution_count": 13,
   "id": "7587c0ef-513b-4d2d-8cf8-447ea2c99b64",
   "metadata": {},
   "outputs": [
    {
     "data": {
      "text/plain": [
       "<__main__.car at 0x1e676fcb700>"
      ]
     },
     "execution_count": 13,
     "metadata": {},
     "output_type": "execute_result"
    }
   ],
   "source": [
    "car1"
   ]
  },
  {
   "cell_type": "code",
   "execution_count": 11,
   "id": "55f33ae8-fd92-4455-9635-0ec5568e0afb",
   "metadata": {},
   "outputs": [
    {
     "data": {
      "text/plain": [
       "<__main__.car at 0x1e6769a5fa0>"
      ]
     },
     "execution_count": 11,
     "metadata": {},
     "output_type": "execute_result"
    }
   ],
   "source": [
    "car2"
   ]
  },
  {
   "cell_type": "code",
   "execution_count": 2,
   "id": "2d8c8524-5e7a-4d44-bc33-7fb3e8622680",
   "metadata": {},
   "outputs": [
    {
     "data": {
      "text/plain": [
       "['__class__',\n",
       " '__delattr__',\n",
       " '__dict__',\n",
       " '__dir__',\n",
       " '__doc__',\n",
       " '__eq__',\n",
       " '__format__',\n",
       " '__ge__',\n",
       " '__getattribute__',\n",
       " '__gt__',\n",
       " '__hash__',\n",
       " '__init__',\n",
       " '__init_subclass__',\n",
       " '__le__',\n",
       " '__lt__',\n",
       " '__module__',\n",
       " '__ne__',\n",
       " '__new__',\n",
       " '__reduce__',\n",
       " '__reduce_ex__',\n",
       " '__repr__',\n",
       " '__setattr__',\n",
       " '__sizeof__',\n",
       " '__str__',\n",
       " '__subclasshook__',\n",
       " '__weakref__']"
      ]
     },
     "execution_count": 2,
     "metadata": {},
     "output_type": "execute_result"
    }
   ],
   "source": [
    "dir(car)"
   ]
  },
  {
   "cell_type": "code",
   "execution_count": 15,
   "id": "1e51ef31-b742-40d9-ab09-db32929d028a",
   "metadata": {},
   "outputs": [],
   "source": [
    "class suv:\n",
    "    def __init__(self, window, door, engineType):\n",
    "        self.windows = window\n",
    "        self.doors = door\n",
    "        self.engineType = engineType\n",
    "    def self_driving(self):\n",
    "        return \"This is a {} car\".format(self.engineType)"
   ]
  },
  {
   "cell_type": "code",
   "execution_count": 16,
   "id": "5a52fdd8-34b0-4721-b08f-aba6ae6ca2e2",
   "metadata": {},
   "outputs": [],
   "source": [
    "mahindra = suv(6, 5, \"diesel\")"
   ]
  },
  {
   "cell_type": "code",
   "execution_count": 20,
   "id": "e8eae830-0352-4c3c-a4c3-a2aa1c08793f",
   "metadata": {},
   "outputs": [
    {
     "data": {
      "text/plain": [
       "5"
      ]
     },
     "execution_count": 20,
     "metadata": {},
     "output_type": "execute_result"
    }
   ],
   "source": [
    "mahindra.doors"
   ]
  },
  {
   "cell_type": "code",
   "execution_count": 21,
   "id": "002cae08-7b87-4374-a3a2-dff3b4671bfe",
   "metadata": {},
   "outputs": [
    {
     "data": {
      "text/plain": [
       "6"
      ]
     },
     "execution_count": 21,
     "metadata": {},
     "output_type": "execute_result"
    }
   ],
   "source": [
    "mahindra.windows"
   ]
  },
  {
   "cell_type": "code",
   "execution_count": 17,
   "id": "831dfa6c-3eda-48bd-8e41-6d03649b4c8a",
   "metadata": {},
   "outputs": [
    {
     "data": {
      "text/plain": [
       "'This is a diesel car'"
      ]
     },
     "execution_count": 17,
     "metadata": {},
     "output_type": "execute_result"
    }
   ],
   "source": [
    "mahindra.self_driving()"
   ]
  },
  {
   "cell_type": "code",
   "execution_count": 19,
   "id": "98602b73-6102-4126-9700-d7528ad1b14b",
   "metadata": {},
   "outputs": [],
   "source": [
    "mercedes = suv(4, 3, 'EV')"
   ]
  },
  {
   "cell_type": "code",
   "execution_count": 22,
   "id": "28ffc6fc-1ac1-4404-8171-608ea4d48a08",
   "metadata": {},
   "outputs": [
    {
     "data": {
      "text/plain": [
       "3"
      ]
     },
     "execution_count": 22,
     "metadata": {},
     "output_type": "execute_result"
    }
   ],
   "source": [
    "mercedes.doors"
   ]
  },
  {
   "cell_type": "code",
   "execution_count": 23,
   "id": "596d2e8b-7d84-42cb-aac2-9e7d06e7e7c5",
   "metadata": {},
   "outputs": [
    {
     "data": {
      "text/plain": [
       "4"
      ]
     },
     "execution_count": 23,
     "metadata": {},
     "output_type": "execute_result"
    }
   ],
   "source": [
    "mercedes.windows"
   ]
  },
  {
   "cell_type": "code",
   "execution_count": 24,
   "id": "1bd0f234-9780-4eea-a39b-9c48e31f2401",
   "metadata": {},
   "outputs": [
    {
     "data": {
      "text/plain": [
       "'This is a EV car'"
      ]
     },
     "execution_count": 24,
     "metadata": {},
     "output_type": "execute_result"
    }
   ],
   "source": [
    "mercedes.self_driving()"
   ]
  }
 ],
 "metadata": {
  "kernelspec": {
   "display_name": "Python 3 (ipykernel)",
   "language": "python",
   "name": "python3"
  },
  "language_info": {
   "codemirror_mode": {
    "name": "ipython",
    "version": 3
   },
   "file_extension": ".py",
   "mimetype": "text/x-python",
   "name": "python",
   "nbconvert_exporter": "python",
   "pygments_lexer": "ipython3",
   "version": "3.9.18"
  }
 },
 "nbformat": 4,
 "nbformat_minor": 5
}
