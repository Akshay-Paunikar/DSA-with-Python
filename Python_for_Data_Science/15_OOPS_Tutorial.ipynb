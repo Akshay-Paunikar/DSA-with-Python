{
 "cells": [
  {
   "cell_type": "markdown",
   "id": "8dc38340-0b8e-447d-9fa7-869291d01cc6",
   "metadata": {},
   "source": [
    "### OOPS Tutorial\n",
    "\n",
    "In Python, object-oriented Programming (OOPs) is a programming paradigm that uses objects and classes in programming. It aims to implement real-world entities like inheritance, polymorphisms, encapsulation, etc. in the programming. The main concept of OOPs is to bind the data and the functions that work on that together as a single unit so that no other part of the code can access this data"
   ]
  },
  {
   "cell_type": "markdown",
   "id": "016ab792-25fe-40d9-9049-c838c004ab4c",
   "metadata": {},
   "source": [
    "#### OOPs Concepts in Python\n",
    "\n",
    " - Class\n",
    " - Objects\n",
    " - Polymorphism\n",
    " - Encapsulation\n",
    " - Inheritance\n",
    " - Data Abstraction"
   ]
  },
  {
   "cell_type": "markdown",
   "id": "a73e0510-c286-4847-9ce8-22d8a8c2319c",
   "metadata": {},
   "source": [
    "#### Class:\n",
    "\n",
    "A class is a collection of objects. A class contains the blueprints or the prototype from which the objects are being created. It is a logical entity that contains some attributes and methods. \n",
    "\n",
    "To understand the need for creating a class let’s consider an example, let’s say you wanted to track the number of dogs that may have different attributes like breed, and age. If a list is used, the first element could be the dog’s breed while the second element could represent its age. Let’s suppose there are 100 different dogs, then how would you know which element is supposed to be which? What if you wanted to add other properties to these dogs? This lacks organization and it’s the exact need for classes. "
   ]
  },
  {
   "cell_type": "markdown",
   "id": "96fc7798-f889-4a31-880a-dd20396f640f",
   "metadata": {},
   "source": [
    "Some points on Python class:  \n",
    "\n",
    " - Classes are created by keyword class.\n",
    " - Attributes are the variables that belong to a class.\n",
    " - Attributes are always public and can be accessed using the dot (.) operator. Eg.: Myclass.Myattribute"
   ]
  },
  {
   "cell_type": "markdown",
   "id": "3b89056b-23eb-405f-8317-f126e36e2cb8",
   "metadata": {},
   "source": [
    "#### Objects:\n",
    "\n",
    "The object is an entity that has a state and behavior associated with it. It may be any real-world object like a mouse, keyboard, chair, table, pen, etc. Integers, strings, floating-point numbers, even arrays, and dictionaries, are all objects. More specifically, any single integer or any single string is an object. The number 12 is an object, the string “Hello, world” is an object, a list is an object that can hold other objects, and so on. You’ve been using objects all along and may not even realize it."
   ]
  },
  {
   "cell_type": "code",
   "execution_count": 1,
   "id": "1f0c656f-e177-450b-84b8-ee639ba7f664",
   "metadata": {},
   "outputs": [],
   "source": [
    "class car:\n",
    "    def __init__(self, window, door, engineType):\n",
    "        self.windows = window\n",
    "        self.doors = door\n",
    "        self.engineType = engineType"
   ]
  },
  {
   "cell_type": "code",
   "execution_count": 2,
   "id": "b3f21bb7-1b68-4699-bc5d-a4b5874f782d",
   "metadata": {},
   "outputs": [],
   "source": [
    "car1 = car(6, 5, \"petrol\")"
   ]
  },
  {
   "cell_type": "code",
   "execution_count": 3,
   "id": "f558e356-7a27-4d0b-8456-fdabb4fe9cfd",
   "metadata": {},
   "outputs": [],
   "source": [
    "car2 = car(4, 3, \"diesel\")"
   ]
  },
  {
   "cell_type": "code",
   "execution_count": 4,
   "id": "5ca4e5de-6ed6-4696-972a-146042b0be34",
   "metadata": {},
   "outputs": [
    {
     "data": {
      "text/plain": [
       "6"
      ]
     },
     "execution_count": 4,
     "metadata": {},
     "output_type": "execute_result"
    }
   ],
   "source": [
    "car1.windows"
   ]
  },
  {
   "cell_type": "code",
   "execution_count": 5,
   "id": "b2a9d9ac-6fef-494c-a464-7704e7713294",
   "metadata": {},
   "outputs": [
    {
     "data": {
      "text/plain": [
       "'petrol'"
      ]
     },
     "execution_count": 5,
     "metadata": {},
     "output_type": "execute_result"
    }
   ],
   "source": [
    "car1.engineType"
   ]
  },
  {
   "cell_type": "code",
   "execution_count": 6,
   "id": "9ab2975d-1d3f-4051-99f5-e303a7465fa2",
   "metadata": {},
   "outputs": [
    {
     "data": {
      "text/plain": [
       "3"
      ]
     },
     "execution_count": 6,
     "metadata": {},
     "output_type": "execute_result"
    }
   ],
   "source": [
    "car2.doors"
   ]
  },
  {
   "cell_type": "code",
   "execution_count": 7,
   "id": "82e0a29f-7452-4b05-a49b-ddcd9572405a",
   "metadata": {},
   "outputs": [
    {
     "data": {
      "text/plain": [
       "'diesel'"
      ]
     },
     "execution_count": 7,
     "metadata": {},
     "output_type": "execute_result"
    }
   ],
   "source": [
    "car2.engineType"
   ]
  },
  {
   "cell_type": "code",
   "execution_count": 8,
   "id": "7587c0ef-513b-4d2d-8cf8-447ea2c99b64",
   "metadata": {},
   "outputs": [
    {
     "data": {
      "text/plain": [
       "<__main__.car at 0x2c1a1bdd4c0>"
      ]
     },
     "execution_count": 8,
     "metadata": {},
     "output_type": "execute_result"
    }
   ],
   "source": [
    "car1"
   ]
  },
  {
   "cell_type": "code",
   "execution_count": 9,
   "id": "55f33ae8-fd92-4455-9635-0ec5568e0afb",
   "metadata": {},
   "outputs": [
    {
     "data": {
      "text/plain": [
       "<__main__.car at 0x2c1a1bddaf0>"
      ]
     },
     "execution_count": 9,
     "metadata": {},
     "output_type": "execute_result"
    }
   ],
   "source": [
    "car2"
   ]
  },
  {
   "cell_type": "code",
   "execution_count": 10,
   "id": "2d8c8524-5e7a-4d44-bc33-7fb3e8622680",
   "metadata": {},
   "outputs": [
    {
     "data": {
      "text/plain": [
       "['__class__',\n",
       " '__delattr__',\n",
       " '__dict__',\n",
       " '__dir__',\n",
       " '__doc__',\n",
       " '__eq__',\n",
       " '__format__',\n",
       " '__ge__',\n",
       " '__getattribute__',\n",
       " '__gt__',\n",
       " '__hash__',\n",
       " '__init__',\n",
       " '__init_subclass__',\n",
       " '__le__',\n",
       " '__lt__',\n",
       " '__module__',\n",
       " '__ne__',\n",
       " '__new__',\n",
       " '__reduce__',\n",
       " '__reduce_ex__',\n",
       " '__repr__',\n",
       " '__setattr__',\n",
       " '__sizeof__',\n",
       " '__str__',\n",
       " '__subclasshook__',\n",
       " '__weakref__']"
      ]
     },
     "execution_count": 10,
     "metadata": {},
     "output_type": "execute_result"
    }
   ],
   "source": [
    "dir(car)"
   ]
  },
  {
   "cell_type": "code",
   "execution_count": 11,
   "id": "1e51ef31-b742-40d9-ab09-db32929d028a",
   "metadata": {},
   "outputs": [],
   "source": [
    "class suv:\n",
    "    def __init__(self, window, door, engineType):\n",
    "        self.windows = window\n",
    "        self.doors = door\n",
    "        self.engineType = engineType\n",
    "    def self_driving(self):\n",
    "        return \"This is a {} car\".format(self.engineType)"
   ]
  },
  {
   "cell_type": "code",
   "execution_count": 12,
   "id": "5a52fdd8-34b0-4721-b08f-aba6ae6ca2e2",
   "metadata": {},
   "outputs": [],
   "source": [
    "mahindra = suv(6, 5, \"diesel\")"
   ]
  },
  {
   "cell_type": "code",
   "execution_count": 13,
   "id": "e8eae830-0352-4c3c-a4c3-a2aa1c08793f",
   "metadata": {},
   "outputs": [
    {
     "data": {
      "text/plain": [
       "5"
      ]
     },
     "execution_count": 13,
     "metadata": {},
     "output_type": "execute_result"
    }
   ],
   "source": [
    "mahindra.doors"
   ]
  },
  {
   "cell_type": "code",
   "execution_count": 14,
   "id": "002cae08-7b87-4374-a3a2-dff3b4671bfe",
   "metadata": {},
   "outputs": [
    {
     "data": {
      "text/plain": [
       "6"
      ]
     },
     "execution_count": 14,
     "metadata": {},
     "output_type": "execute_result"
    }
   ],
   "source": [
    "mahindra.windows"
   ]
  },
  {
   "cell_type": "code",
   "execution_count": 15,
   "id": "831dfa6c-3eda-48bd-8e41-6d03649b4c8a",
   "metadata": {},
   "outputs": [
    {
     "data": {
      "text/plain": [
       "'This is a diesel car'"
      ]
     },
     "execution_count": 15,
     "metadata": {},
     "output_type": "execute_result"
    }
   ],
   "source": [
    "mahindra.self_driving()"
   ]
  },
  {
   "cell_type": "code",
   "execution_count": 16,
   "id": "98602b73-6102-4126-9700-d7528ad1b14b",
   "metadata": {},
   "outputs": [],
   "source": [
    "mercedes = suv(4, 3, 'EV')"
   ]
  },
  {
   "cell_type": "code",
   "execution_count": 17,
   "id": "28ffc6fc-1ac1-4404-8171-608ea4d48a08",
   "metadata": {},
   "outputs": [
    {
     "data": {
      "text/plain": [
       "3"
      ]
     },
     "execution_count": 17,
     "metadata": {},
     "output_type": "execute_result"
    }
   ],
   "source": [
    "mercedes.doors"
   ]
  },
  {
   "cell_type": "code",
   "execution_count": 18,
   "id": "596d2e8b-7d84-42cb-aac2-9e7d06e7e7c5",
   "metadata": {},
   "outputs": [
    {
     "data": {
      "text/plain": [
       "4"
      ]
     },
     "execution_count": 18,
     "metadata": {},
     "output_type": "execute_result"
    }
   ],
   "source": [
    "mercedes.windows"
   ]
  },
  {
   "cell_type": "code",
   "execution_count": 19,
   "id": "1bd0f234-9780-4eea-a39b-9c48e31f2401",
   "metadata": {},
   "outputs": [
    {
     "data": {
      "text/plain": [
       "'This is a EV car'"
      ]
     },
     "execution_count": 19,
     "metadata": {},
     "output_type": "execute_result"
    }
   ],
   "source": [
    "mercedes.self_driving()"
   ]
  },
  {
   "cell_type": "markdown",
   "id": "69c86c46-bb67-4840-beab-5ec9eaf0206b",
   "metadata": {},
   "source": [
    "#### SELF:\n",
    "\n",
    "Class methods must have an extra first parameter in the method definition. We do not give a value for this parameter when we call the method, Python provides it. \n",
    "If we have a method that takes no arguments, then we still have to have one argument. \n",
    "This is similar to this pointer in C++ and this reference in Java.\n",
    "When we call a method of this object as myobject.method(arg1, arg2), this is automatically converted by Python into MyClass.method(myobject, arg1, arg2) – this is all the special self is about."
   ]
  },
  {
   "cell_type": "markdown",
   "id": "bc58b366-a251-41cf-8d6a-b3f371a05f02",
   "metadata": {},
   "source": [
    "<h4>__init__:</h4>\n",
    "\n",
    "The__init___ method is similar to constructors in C++ and Java. It is run as soon as an object of a class is instantiated. The method is useful to do any initialization you want to do with your object\n",
    "\n",
    "The task of constructors is to initialize(assign values) to the data members of the class when an object of the class is created.\n",
    "\n",
    "Like methods, a constructor also contains a collection of statements(i.e. instructions) that are executed at the time of Object creation. It is run as soon as an object of a class is instantiated.."
   ]
  },
  {
   "cell_type": "markdown",
   "id": "c4d8411a-d566-4ef4-bf0c-c6524cc3e056",
   "metadata": {},
   "source": [
    "<h3>INHERITANCE:</h3>\n",
    "\n",
    "Inheritance is the capability of one class to derive or inherit the properties from another class. The class that derives properties is called the derived class or child class and the class from which the properties are being derived is called the base class or parent class."
   ]
  },
  {
   "cell_type": "markdown",
   "id": "74ca8f4f-6ec4-40de-8a04-d447e982846e",
   "metadata": {},
   "source": [
    "The benefits of inheritance are:\n",
    " - It represents real-world relationships well.\n",
    " - It provides the reusability of a code. We don’t have to write the same code again and again. Also, it allows us to add more features to a class without modifying it.\n",
    " - It is transitive in nature, which means that if class B inherits from another class A, then all the subclasses of B would automatically inherit from class A."
   ]
  },
  {
   "cell_type": "markdown",
   "id": "66a2c45c-f8be-4d94-8331-7c9bc4edd536",
   "metadata": {},
   "source": [
    "Types of Inheritance:\n",
    "\n",
    "<b>Single Inheritance:</b> Single-level inheritance enables a derived class to inherit characteristics from a single-parent class.\n",
    "\n",
    "<b>Multilevel Inheritance:</b> Multi-level inheritance enables a derived class to inherit properties from an immediate parent class which in turn inherits properties from his parent class. \n",
    "\n",
    "<b>Hierarchical Inheritance:</b> Hierarchical-level inheritance enables more than one derived class to inherit properties from a parent class.\n",
    "\n",
    "<b>Multiple Inheritance:</b> Multiple-level inheritance enables one derived class to inherit properties from more than one base class."
   ]
  },
  {
   "cell_type": "code",
   "execution_count": 20,
   "id": "45f12d74-0ea3-4d84-8c26-d0e73343e8ea",
   "metadata": {},
   "outputs": [],
   "source": [
    "# let's create a new class which will be a blueprint for class - car\n",
    "class car:\n",
    "    def __init__(self, brand, type, engineType, color):\n",
    "        self.brand = brand\n",
    "        self.type = type\n",
    "        self.engineType = engineType\n",
    "        self.color = color\n",
    "    def info(self):\n",
    "        return \"You have selected car - {} which is a {} having a {} engine and a vibrant {} color\".format(\n",
    "            self.brand, self.type, self.engineType, self.color)"
   ]
  },
  {
   "cell_type": "code",
   "execution_count": 21,
   "id": "b6743c15-564b-4c12-b523-f7d4607b3524",
   "metadata": {},
   "outputs": [],
   "source": [
    "car1 = car(\"Mercedes\", \"Sedan\", \"Petrol\", \"Red\")"
   ]
  },
  {
   "cell_type": "code",
   "execution_count": 22,
   "id": "b546c29b-705d-4b71-b866-38159954f232",
   "metadata": {},
   "outputs": [
    {
     "name": "stdout",
     "output_type": "stream",
     "text": [
      "Mercedes\n",
      "Sedan\n",
      "Petrol\n",
      "Red\n"
     ]
    }
   ],
   "source": [
    "print(car1.brand)\n",
    "print(car1.type)\n",
    "print(car1.engineType)\n",
    "print(car1.color)"
   ]
  },
  {
   "cell_type": "code",
   "execution_count": 23,
   "id": "377caf7f-509d-4247-b84a-c33f02f71a0c",
   "metadata": {},
   "outputs": [
    {
     "data": {
      "text/plain": [
       "'You have selected car - Mercedes which is a Sedan having a Petrol engine and a vibrant Red color'"
      ]
     },
     "execution_count": 23,
     "metadata": {},
     "output_type": "execute_result"
    }
   ],
   "source": [
    "car1.info()"
   ]
  },
  {
   "cell_type": "code",
   "execution_count": 24,
   "id": "e7478d19-be7b-49dc-93e3-1d08a61ba1c5",
   "metadata": {},
   "outputs": [],
   "source": [
    "# INHERITANCE\n",
    "class ev_car(car):\n",
    "    def __init__(self, brand, type, engineType, color, hybridType, AIenabled, selfDrive):\n",
    "        super().__init__(brand, type, engineType, color)\n",
    "        self.hybridType = hybridType\n",
    "        self.AIenabled = AIenabled\n",
    "        self.selfDrive = selfDrive\n",
    "    def drive(self):\n",
    "        return \"Also this car can run on {} and it has AI-functionality {} with self-driving {}\".format(\n",
    "            self.hybridType, self.AIenabled, self.selfDrive)"
   ]
  },
  {
   "cell_type": "code",
   "execution_count": 25,
   "id": "bc99e107-edbe-4d56-9c22-22b3205e7e16",
   "metadata": {},
   "outputs": [],
   "source": [
    "car2 = ev_car(\"Mercedes\", \"SUV\", \"Battery\", \"White\", \"Diesel\", \"available\", \"enabled\")"
   ]
  },
  {
   "cell_type": "code",
   "execution_count": 26,
   "id": "bee04826-4603-450c-a0ea-40a416ccb52d",
   "metadata": {},
   "outputs": [
    {
     "data": {
      "text/plain": [
       "'Mercedes'"
      ]
     },
     "execution_count": 26,
     "metadata": {},
     "output_type": "execute_result"
    }
   ],
   "source": [
    "car2.brand"
   ]
  },
  {
   "cell_type": "code",
   "execution_count": 27,
   "id": "a1cbcd39-8a7c-490f-a692-30201bb77cae",
   "metadata": {},
   "outputs": [
    {
     "data": {
      "text/plain": [
       "'SUV'"
      ]
     },
     "execution_count": 27,
     "metadata": {},
     "output_type": "execute_result"
    }
   ],
   "source": [
    "car2.type"
   ]
  },
  {
   "cell_type": "code",
   "execution_count": 28,
   "id": "0dbfca88-fde5-4c78-97f0-bd60491d8fcc",
   "metadata": {},
   "outputs": [
    {
     "data": {
      "text/plain": [
       "'Battery'"
      ]
     },
     "execution_count": 28,
     "metadata": {},
     "output_type": "execute_result"
    }
   ],
   "source": [
    "car2.engineType"
   ]
  },
  {
   "cell_type": "code",
   "execution_count": 29,
   "id": "df015c6a-6036-42e2-9f86-c296d57c07b5",
   "metadata": {},
   "outputs": [
    {
     "data": {
      "text/plain": [
       "'White'"
      ]
     },
     "execution_count": 29,
     "metadata": {},
     "output_type": "execute_result"
    }
   ],
   "source": [
    "car2.color"
   ]
  },
  {
   "cell_type": "code",
   "execution_count": 30,
   "id": "62f132e3-5793-4d1d-bfed-f0c3020e3ee7",
   "metadata": {},
   "outputs": [
    {
     "data": {
      "text/plain": [
       "'Diesel'"
      ]
     },
     "execution_count": 30,
     "metadata": {},
     "output_type": "execute_result"
    }
   ],
   "source": [
    "car2.hybridType"
   ]
  },
  {
   "cell_type": "code",
   "execution_count": 31,
   "id": "093c948f-53a5-4b1e-9a0e-a2f162fef6b9",
   "metadata": {},
   "outputs": [
    {
     "data": {
      "text/plain": [
       "'available'"
      ]
     },
     "execution_count": 31,
     "metadata": {},
     "output_type": "execute_result"
    }
   ],
   "source": [
    "car2.AIenabled"
   ]
  },
  {
   "cell_type": "code",
   "execution_count": 32,
   "id": "2e364754-2ab0-4fb7-b319-320a48c6afcb",
   "metadata": {},
   "outputs": [
    {
     "data": {
      "text/plain": [
       "'enabled'"
      ]
     },
     "execution_count": 32,
     "metadata": {},
     "output_type": "execute_result"
    }
   ],
   "source": [
    "car2.selfDrive"
   ]
  },
  {
   "cell_type": "code",
   "execution_count": 33,
   "id": "51a8acc0-7f0f-46d8-825a-3cdfb0bf058c",
   "metadata": {},
   "outputs": [
    {
     "data": {
      "text/plain": [
       "'You have selected car - Mercedes which is a SUV having a Battery engine and a vibrant White color'"
      ]
     },
     "execution_count": 33,
     "metadata": {},
     "output_type": "execute_result"
    }
   ],
   "source": [
    "car2.info()"
   ]
  },
  {
   "cell_type": "code",
   "execution_count": 34,
   "id": "64dd1263-32e4-45a5-934d-9281e19971a2",
   "metadata": {},
   "outputs": [
    {
     "data": {
      "text/plain": [
       "'Also this car can run on Diesel and it has AI-functionality available with self-driving enabled'"
      ]
     },
     "execution_count": 34,
     "metadata": {},
     "output_type": "execute_result"
    }
   ],
   "source": [
    "car2.drive()"
   ]
  },
  {
   "cell_type": "markdown",
   "id": "cb9c54b7-ebf3-4b4e-b665-620f682ae2ff",
   "metadata": {},
   "source": [
    "Above examle show a Single Inheritance. let's look at other types of Inheritance."
   ]
  },
  {
   "cell_type": "markdown",
   "id": "7626f54a-3af3-4d3f-9c31-65fbec5b11c2",
   "metadata": {},
   "source": [
    "<h4>Multilevel Inheritance:</h4>"
   ]
  },
  {
   "cell_type": "code",
   "execution_count": 35,
   "id": "bc167929-b050-41c2-90c1-e9dce8328327",
   "metadata": {},
   "outputs": [],
   "source": [
    "class GrandFather:\n",
    "    def __init__(self, GrandFatherName):\n",
    "        self.GrandFatherName = GrandFatherName\n",
    "class Father(GrandFather):\n",
    "    def __init__(self, GrandFatherName, FatherName):\n",
    "        super().__init__(GrandFatherName)\n",
    "        self.FatherName = FatherName\n",
    "class Son(Father):\n",
    "    def __init__(self, GrandFatherName, FatherName, SonName):\n",
    "        super().__init__(GrandFatherName, FatherName)\n",
    "        self.SonName = SonName\n",
    "    def Introduction(self):\n",
    "        print(\"Hello! My name is {}. My father's name is {}. My grand father's name is {}\".format(\n",
    "            self.SonName, self.FatherName, self.GrandFatherName))"
   ]
  },
  {
   "cell_type": "code",
   "execution_count": 36,
   "id": "ff5c7be8-a06c-4678-945b-6f534152ec64",
   "metadata": {},
   "outputs": [],
   "source": [
    "student1 = Son(\"Ram\", \"Suresh\", \"Sachin\")"
   ]
  },
  {
   "cell_type": "code",
   "execution_count": 37,
   "id": "40589123-d1fb-4e67-bc62-d724871acc52",
   "metadata": {},
   "outputs": [
    {
     "data": {
      "text/plain": [
       "'Ram'"
      ]
     },
     "execution_count": 37,
     "metadata": {},
     "output_type": "execute_result"
    }
   ],
   "source": [
    "student1.GrandFatherName"
   ]
  },
  {
   "cell_type": "code",
   "execution_count": 38,
   "id": "9f29b938-d70e-46dd-8d75-e870ca85039d",
   "metadata": {},
   "outputs": [
    {
     "data": {
      "text/plain": [
       "'Suresh'"
      ]
     },
     "execution_count": 38,
     "metadata": {},
     "output_type": "execute_result"
    }
   ],
   "source": [
    "student1.FatherName"
   ]
  },
  {
   "cell_type": "code",
   "execution_count": 39,
   "id": "d98ba35a-fc22-446f-a2e6-2e55c6298af6",
   "metadata": {},
   "outputs": [
    {
     "data": {
      "text/plain": [
       "'Sachin'"
      ]
     },
     "execution_count": 39,
     "metadata": {},
     "output_type": "execute_result"
    }
   ],
   "source": [
    "student1.SonName"
   ]
  },
  {
   "cell_type": "code",
   "execution_count": 40,
   "id": "1192c24c-5fd5-42d2-9276-74d4bea07185",
   "metadata": {},
   "outputs": [
    {
     "name": "stdout",
     "output_type": "stream",
     "text": [
      "Hello! My name is Sachin. My father's name is Suresh. My grand father's name is Ram\n"
     ]
    }
   ],
   "source": [
    "student1.Introduction()"
   ]
  },
  {
   "cell_type": "markdown",
   "id": "5a71f0a4-d28a-4500-ad21-57d7e5c849c6",
   "metadata": {},
   "source": [
    "<h4>Hierarchical Inheritance:</h4>"
   ]
  },
  {
   "cell_type": "code",
   "execution_count": 41,
   "id": "753df9ea-ab8b-4315-9a1e-460431021336",
   "metadata": {},
   "outputs": [],
   "source": [
    "class PersonalInfo:\n",
    "    def __init__(self, Name, Age, City, ZipCode):\n",
    "        self.Name = Name\n",
    "        self.Age = Age\n",
    "        self.City = City\n",
    "        self.ZipCode = ZipCode\n",
    "class Student(PersonalInfo):\n",
    "    def __init__(self, Name, Age, City, ZipCode, School):\n",
    "        super().__init__(Name, Age, City, ZipCode)\n",
    "        self.School = School\n",
    "    def StudentInfo(self):\n",
    "        print(\"Name: {}, Age: {}, City: {}, ZipCode: {}, School: {}\".format(\n",
    "            self.Name, self.Age, self.City, self.ZipCode, self.School))\n",
    "class Employee(PersonalInfo):\n",
    "    def __init__(self, Name, Age, City, ZipCode, Company):\n",
    "        super().__init__(Name, Age, City, ZipCode)\n",
    "        self.Company = Company\n",
    "    def EmployeeInfo(self):\n",
    "        print(\"Name: {}, Age: {}, City: {}, ZipCode: {}, Company: {}\".format(\n",
    "            self.Name, self.Age, self.City, self.ZipCode, self.Company))"
   ]
  },
  {
   "cell_type": "code",
   "execution_count": 42,
   "id": "ec7d0bb3-f5c2-43ad-ac76-c93cc8053c0d",
   "metadata": {},
   "outputs": [],
   "source": [
    "student1 = Student(\"Akshay\", 15, \"Nagpur\", 444444, \"Private School\")"
   ]
  },
  {
   "cell_type": "code",
   "execution_count": 43,
   "id": "ab562ff1-b4e5-4805-b6bf-228c012ae2e9",
   "metadata": {},
   "outputs": [
    {
     "data": {
      "text/plain": [
       "'Akshay'"
      ]
     },
     "execution_count": 43,
     "metadata": {},
     "output_type": "execute_result"
    }
   ],
   "source": [
    "student1.Name"
   ]
  },
  {
   "cell_type": "code",
   "execution_count": 44,
   "id": "7848fb27-4714-4526-be9f-ee4ae46f3a19",
   "metadata": {},
   "outputs": [
    {
     "data": {
      "text/plain": [
       "15"
      ]
     },
     "execution_count": 44,
     "metadata": {},
     "output_type": "execute_result"
    }
   ],
   "source": [
    "student1.Age"
   ]
  },
  {
   "cell_type": "code",
   "execution_count": 45,
   "id": "890b58dc-3967-457b-bfe6-b33cf3f3f76c",
   "metadata": {},
   "outputs": [
    {
     "data": {
      "text/plain": [
       "'Nagpur'"
      ]
     },
     "execution_count": 45,
     "metadata": {},
     "output_type": "execute_result"
    }
   ],
   "source": [
    "student1.City"
   ]
  },
  {
   "cell_type": "code",
   "execution_count": 46,
   "id": "a6d5c037-a429-4def-a51b-506df82c21b0",
   "metadata": {},
   "outputs": [
    {
     "data": {
      "text/plain": [
       "444444"
      ]
     },
     "execution_count": 46,
     "metadata": {},
     "output_type": "execute_result"
    }
   ],
   "source": [
    "student1.ZipCode"
   ]
  },
  {
   "cell_type": "code",
   "execution_count": 47,
   "id": "1f899a4d-bc75-40bf-ae2a-b575752e9a19",
   "metadata": {},
   "outputs": [
    {
     "data": {
      "text/plain": [
       "'Private School'"
      ]
     },
     "execution_count": 47,
     "metadata": {},
     "output_type": "execute_result"
    }
   ],
   "source": [
    "student1.School"
   ]
  },
  {
   "cell_type": "code",
   "execution_count": 48,
   "id": "068a651e-75fb-4816-bd0a-3926453ad01f",
   "metadata": {},
   "outputs": [
    {
     "name": "stdout",
     "output_type": "stream",
     "text": [
      "Name: Akshay, Age: 15, City: Nagpur, ZipCode: 444444, School: Private School\n"
     ]
    }
   ],
   "source": [
    "student1.StudentInfo()"
   ]
  },
  {
   "cell_type": "code",
   "execution_count": 49,
   "id": "a3964280-743c-444c-836e-f18b88bd73ca",
   "metadata": {},
   "outputs": [],
   "source": [
    "employee1 = Employee(\"Akshay\", 35, \"Bangalore\", 111111, \"AI Technologies PVT LTD\")"
   ]
  },
  {
   "cell_type": "code",
   "execution_count": 50,
   "id": "6824cf0c-ec7c-493f-b632-8979eb0a47ce",
   "metadata": {},
   "outputs": [
    {
     "data": {
      "text/plain": [
       "'Akshay'"
      ]
     },
     "execution_count": 50,
     "metadata": {},
     "output_type": "execute_result"
    }
   ],
   "source": [
    "employee1.Name"
   ]
  },
  {
   "cell_type": "code",
   "execution_count": 51,
   "id": "515e0ed2-91cc-48fa-ad6d-636637ea5554",
   "metadata": {},
   "outputs": [
    {
     "data": {
      "text/plain": [
       "35"
      ]
     },
     "execution_count": 51,
     "metadata": {},
     "output_type": "execute_result"
    }
   ],
   "source": [
    "employee1.Age"
   ]
  },
  {
   "cell_type": "code",
   "execution_count": 52,
   "id": "e8eff2d1-7fce-4e0c-8334-1fec8f89ceef",
   "metadata": {},
   "outputs": [
    {
     "data": {
      "text/plain": [
       "'Bangalore'"
      ]
     },
     "execution_count": 52,
     "metadata": {},
     "output_type": "execute_result"
    }
   ],
   "source": [
    "employee1.City"
   ]
  },
  {
   "cell_type": "code",
   "execution_count": 53,
   "id": "a93354ff-8675-4463-9818-00801a86284d",
   "metadata": {},
   "outputs": [
    {
     "data": {
      "text/plain": [
       "111111"
      ]
     },
     "execution_count": 53,
     "metadata": {},
     "output_type": "execute_result"
    }
   ],
   "source": [
    "employee1.ZipCode"
   ]
  },
  {
   "cell_type": "code",
   "execution_count": 54,
   "id": "f7bdd11b-a701-4620-a433-4987c2d248d3",
   "metadata": {},
   "outputs": [
    {
     "data": {
      "text/plain": [
       "'AI Technologies PVT LTD'"
      ]
     },
     "execution_count": 54,
     "metadata": {},
     "output_type": "execute_result"
    }
   ],
   "source": [
    "employee1.Company"
   ]
  },
  {
   "cell_type": "code",
   "execution_count": 55,
   "id": "f98a96d0-24dd-40d7-ab02-fa20578f7878",
   "metadata": {},
   "outputs": [
    {
     "name": "stdout",
     "output_type": "stream",
     "text": [
      "Name: Akshay, Age: 35, City: Bangalore, ZipCode: 111111, Company: AI Technologies PVT LTD\n"
     ]
    }
   ],
   "source": [
    "employee1.EmployeeInfo()"
   ]
  },
  {
   "cell_type": "markdown",
   "id": "a694807a-68ef-4cf9-92c1-ed571cbfa57e",
   "metadata": {},
   "source": [
    "<h4>Multiple Inheritance:</h4>"
   ]
  },
  {
   "cell_type": "code",
   "execution_count": 56,
   "id": "3c874c70-fac1-484d-a00f-a96594366cf8",
   "metadata": {},
   "outputs": [],
   "source": [
    "class GrandFather:\n",
    "    def __init__(self, GrandFatherName):\n",
    "        self.GrandFatherName = GrandFatherName\n",
    "class Father:\n",
    "    def __init__(self, FatherName):\n",
    "        self.FatherName = FatherName\n",
    "class Son(GrandFather, Father):\n",
    "    def __init__(self, GrandFatherName, FatherName, SonName):\n",
    "        GrandFather.__init__(self, GrandFatherName)\n",
    "        Father.__init__(self, FatherName)\n",
    "        self.SonName = SonName\n",
    "    def Introduction(self):\n",
    "        print(\"Hello! My name is {}. My father's name is {}. My grand father's name is {}\".format(\n",
    "            self.SonName, self.FatherName, self.GrandFatherName))"
   ]
  },
  {
   "cell_type": "code",
   "execution_count": 57,
   "id": "fb9b8701-b160-4b2e-88fc-01ce4fda7eef",
   "metadata": {},
   "outputs": [],
   "source": [
    "student1 = Son(\"Ram\", \"Suresh\", \"Sachin\")"
   ]
  },
  {
   "cell_type": "code",
   "execution_count": 58,
   "id": "a3cc69bb-5bae-4e07-b50e-3df41f877078",
   "metadata": {},
   "outputs": [
    {
     "data": {
      "text/plain": [
       "'Ram'"
      ]
     },
     "execution_count": 58,
     "metadata": {},
     "output_type": "execute_result"
    }
   ],
   "source": [
    "student1.GrandFatherName"
   ]
  },
  {
   "cell_type": "code",
   "execution_count": 59,
   "id": "3abdab95-89e9-401c-867e-b3e3eee34f88",
   "metadata": {},
   "outputs": [
    {
     "data": {
      "text/plain": [
       "'Suresh'"
      ]
     },
     "execution_count": 59,
     "metadata": {},
     "output_type": "execute_result"
    }
   ],
   "source": [
    "student1.FatherName"
   ]
  },
  {
   "cell_type": "code",
   "execution_count": 60,
   "id": "eb650f7b-cff7-4a33-b3ca-f95bda641b28",
   "metadata": {},
   "outputs": [
    {
     "data": {
      "text/plain": [
       "'Sachin'"
      ]
     },
     "execution_count": 60,
     "metadata": {},
     "output_type": "execute_result"
    }
   ],
   "source": [
    "student1.SonName"
   ]
  },
  {
   "cell_type": "code",
   "execution_count": 61,
   "id": "e23f36cc-b293-4004-945c-2073633b5279",
   "metadata": {},
   "outputs": [
    {
     "name": "stdout",
     "output_type": "stream",
     "text": [
      "Hello! My name is Sachin. My father's name is Suresh. My grand father's name is Ram\n"
     ]
    }
   ],
   "source": [
    "student1.Introduction()"
   ]
  },
  {
   "cell_type": "markdown",
   "id": "ab164637-ed23-4c0d-b1be-6840c94720e0",
   "metadata": {},
   "source": [
    "<h3>Polymorphism:</h3>"
   ]
  },
  {
   "cell_type": "markdown",
   "id": "5763c4fd-dbf6-47db-825d-c8b7974755b0",
   "metadata": {},
   "source": [
    "The word polymorphism means having many forms. In programming, polymorphism means the same function name (but different signatures) being used for different types. The key difference is the data types and number of arguments used in function."
   ]
  },
  {
   "cell_type": "code",
   "execution_count": 62,
   "id": "f0a27d96-5485-49fc-bc36-c28d5a06314b",
   "metadata": {},
   "outputs": [],
   "source": [
    "class car:\n",
    "    def __init__(self, brand, model):\n",
    "        self.brand = brand\n",
    "        self.model = model\n",
    "    def transport(self):\n",
    "        print(\"The car with brand: {} and model: {} is used for on-road transportation\".format(self.brand, self.model))\n",
    "class boat:\n",
    "    def __init__(self, brand, model):\n",
    "        self.brand = brand\n",
    "        self.model = model\n",
    "    def transport(self):\n",
    "        print(\"The boat with brand: {} and model: {} is used for on-water transportation\".format(self.brand, self.model))\n",
    "class plane:\n",
    "    def __init__(self, brand, model):\n",
    "        self.brand = brand\n",
    "        self.model = model\n",
    "    def transport(self):\n",
    "        print(\"The plane with brand: {} and model: {} is used for in-air transportation\".format(self.brand, self.model))      "
   ]
  },
  {
   "cell_type": "code",
   "execution_count": 63,
   "id": "996aa6c5-643e-4efb-9019-bec45e9d0c29",
   "metadata": {},
   "outputs": [],
   "source": [
    "car1 = car(\"Mercedes\", \"Maybach\")\n",
    "boat1 = boat(\"Ibiza\", \"Touring1\")\n",
    "plane1 = plane(\"airbus\", \"A380\")"
   ]
  },
  {
   "cell_type": "code",
   "execution_count": 64,
   "id": "b764bc54-0157-4a56-b336-14878e792bfe",
   "metadata": {},
   "outputs": [
    {
     "name": "stdout",
     "output_type": "stream",
     "text": [
      "Mercedes\n",
      "Maybach\n",
      "The car with brand: Mercedes and model: Maybach is used for on-road transportation\n",
      "Ibiza\n",
      "Touring1\n",
      "The boat with brand: Ibiza and model: Touring1 is used for on-water transportation\n",
      "airbus\n",
      "A380\n",
      "The plane with brand: airbus and model: A380 is used for in-air transportation\n"
     ]
    }
   ],
   "source": [
    "for i in (car1, boat1, plane1):\n",
    "    print(i.brand)\n",
    "    print(i.model)\n",
    "    i.transport()"
   ]
  },
  {
   "cell_type": "code",
   "execution_count": 65,
   "id": "6714c142-921b-444d-9bfa-36e616b1ff43",
   "metadata": {},
   "outputs": [],
   "source": [
    "# with inheritance\n",
    "class TransportType:\n",
    "    def __init__(self, vehicleType):\n",
    "        self.vehicleType = vehicleType\n",
    "class car(TransportType):\n",
    "    def __init__(self, vehicleType, brand, model):\n",
    "        super().__init__(vehicleType)\n",
    "        self.brand = brand\n",
    "        self.model = model\n",
    "    def transport(self):\n",
    "        print(\"The vehicle with vehicle type: {} with brand: {} and model: {} is used for on-road transportation\".format(\n",
    "            self.vehicleType, self.brand, self.model))\n",
    "class boat(TransportType):\n",
    "    def __init__(self, vehicleType, brand, model):\n",
    "        super().__init__(vehicleType)\n",
    "        self.brand = brand\n",
    "        self.model = model\n",
    "    def transport(self):\n",
    "        print(\"The vehicle with vehicle type: {} with brand: {} and model: {} is used for on-water transportation\".format(\n",
    "            self.vehicleType, self.brand, self.model))\n",
    "class plane(TransportType):\n",
    "    def __init__(self, vehicleType, brand, model):\n",
    "        super().__init__(vehicleType)\n",
    "        self.brand = brand\n",
    "        self.model = model\n",
    "    def transport(self):\n",
    "        print(\"The vehicle with vehicle type: {} with brand: {} and model: {} is used for on-air transportation\".format(\n",
    "            self.vehicleType, self.brand, self.model))  "
   ]
  },
  {
   "cell_type": "code",
   "execution_count": 66,
   "id": "b6155749-05bb-442c-b103-ee1b137deb4a",
   "metadata": {},
   "outputs": [],
   "source": [
    "car1 = car(\"Car\", \"Mercedes\", \"Maybach\")\n",
    "boat1 = boat(\"Boat\", \"Ibiza\", \"Touring1\")\n",
    "plane1 = plane(\"Airplane\", \"airbus\", \"A380\")"
   ]
  },
  {
   "cell_type": "code",
   "execution_count": 67,
   "id": "8b3f6ca2-da9a-4d68-a6de-c5e11bd82fea",
   "metadata": {},
   "outputs": [
    {
     "name": "stdout",
     "output_type": "stream",
     "text": [
      "Car\n",
      "Mercedes\n",
      "Maybach\n",
      "The vehicle with vehicle type: Car with brand: Mercedes and model: Maybach is used for on-road transportation\n",
      "Boat\n",
      "Ibiza\n",
      "Touring1\n",
      "The vehicle with vehicle type: Boat with brand: Ibiza and model: Touring1 is used for on-water transportation\n",
      "Airplane\n",
      "airbus\n",
      "A380\n",
      "The vehicle with vehicle type: Airplane with brand: airbus and model: A380 is used for on-air transportation\n"
     ]
    }
   ],
   "source": [
    "for i in (car1, boat1, plane1):\n",
    "    print(i.vehicleType)\n",
    "    print(i.brand)\n",
    "    print(i.model)\n",
    "    i.transport()"
   ]
  },
  {
   "cell_type": "markdown",
   "id": "703e1b9e-eca3-45b3-af39-546098a77c35",
   "metadata": {},
   "source": [
    "<h3>Encapsulation:</h3> \n",
    "\n",
    "Encapsulation is one of the fundamental concepts in object-oriented programming (OOP). It describes the idea of wrapping data and the methods that work on data within one unit. This puts restrictions on accessing variables and methods directly and can prevent the accidental modification of data. To prevent accidental change, an object’s variable can only be changed by an object’s method. Those types of variables are known as private variables.\n",
    "\n",
    "A class is an example of encapsulation as it encapsulates all the data that is member functions, variables, etc. The goal of information hiding is to ensure that an object’s state is always valid by controlling access to attributes that are hidden from the outside world."
   ]
  },
  {
   "cell_type": "markdown",
   "id": "9fa9bbe4-01eb-41cf-b40e-6f21fd7885ed",
   "metadata": {},
   "source": [
    "<h4>Protected members:</h4>\n",
    "\n",
    "Protected members are those members of the class that cannot be accessed outside the class but can be accessed from within the class and its subclasses. To accomplish this in Python, just follow the convention by prefixing the name of the member by a single underscore “_”.\n",
    "\n",
    "Although the protected variable can be accessed out of the class as well as in the derived class (modified too in derived class), it is customary(convention not a rule) to not access the protected out of the class body."
   ]
  },
  {
   "cell_type": "markdown",
   "id": "b1e89aeb-86d1-450b-bd9e-13e4ed2b2ee5",
   "metadata": {},
   "source": [
    "<h4>Private members:</h4>\n",
    "\n",
    "Private members are similar to protected members, the difference is that the class members declared private should neither be accessed outside the class nor by any base class. In Python, there is no existence of Private instance variables that cannot be accessed except inside a class.\n",
    "\n",
    "However, to define a private member prefix the member name with double underscore “__”."
   ]
  },
  {
   "cell_type": "code",
   "execution_count": 68,
   "id": "98d89405-34e3-4e66-b5cd-bda6bbada5f8",
   "metadata": {},
   "outputs": [],
   "source": [
    "# Public Class\n",
    "class car:\n",
    "    def __init__(self, window, door, engineType):\n",
    "        self.windows = window\n",
    "        self.doors = door\n",
    "        self.engineType = engineType"
   ]
  },
  {
   "cell_type": "code",
   "execution_count": 69,
   "id": "1c65325d-4b78-4dcc-a8b3-bf0d93590ffa",
   "metadata": {},
   "outputs": [],
   "source": [
    "audi = car(5, 4, \"diesel\")"
   ]
  },
  {
   "cell_type": "code",
   "execution_count": 70,
   "id": "e98a43c6-ae0a-4f78-bde6-a2684d3c5e6f",
   "metadata": {},
   "outputs": [
    {
     "data": {
      "text/plain": [
       "5"
      ]
     },
     "execution_count": 70,
     "metadata": {},
     "output_type": "execute_result"
    }
   ],
   "source": [
    "audi.windows"
   ]
  },
  {
   "cell_type": "code",
   "execution_count": 71,
   "id": "1fc3f082-ea59-47eb-9522-4890a42d7e4b",
   "metadata": {},
   "outputs": [
    {
     "data": {
      "text/plain": [
       "4"
      ]
     },
     "execution_count": 71,
     "metadata": {},
     "output_type": "execute_result"
    }
   ],
   "source": [
    "audi.doors"
   ]
  },
  {
   "cell_type": "code",
   "execution_count": 72,
   "id": "c096663d-12fb-4e94-a886-233d5493e496",
   "metadata": {},
   "outputs": [
    {
     "data": {
      "text/plain": [
       "'diesel'"
      ]
     },
     "execution_count": 72,
     "metadata": {},
     "output_type": "execute_result"
    }
   ],
   "source": [
    "audi.engineType"
   ]
  },
  {
   "cell_type": "code",
   "execution_count": 73,
   "id": "f92e1c79-b160-4568-a477-8bc41e76cdb1",
   "metadata": {},
   "outputs": [
    {
     "data": {
      "text/plain": [
       "1"
      ]
     },
     "execution_count": 73,
     "metadata": {},
     "output_type": "execute_result"
    }
   ],
   "source": [
    "audi.windows = 1\n",
    "audi.windows"
   ]
  },
  {
   "cell_type": "code",
   "execution_count": 74,
   "id": "e38c26fa-b324-4e41-810d-b2af4ec777ef",
   "metadata": {},
   "outputs": [
    {
     "data": {
      "text/plain": [
       "1"
      ]
     },
     "execution_count": 74,
     "metadata": {},
     "output_type": "execute_result"
    }
   ],
   "source": [
    "audi.doors = 1\n",
    "audi.doors"
   ]
  },
  {
   "cell_type": "code",
   "execution_count": 75,
   "id": "41215db7-505c-48b3-af3b-ff385eea2ae0",
   "metadata": {},
   "outputs": [
    {
     "data": {
      "text/plain": [
       "'battery'"
      ]
     },
     "execution_count": 75,
     "metadata": {},
     "output_type": "execute_result"
    }
   ],
   "source": [
    "audi.engineType = \"battery\"\n",
    "audi.engineType"
   ]
  },
  {
   "cell_type": "code",
   "execution_count": 76,
   "id": "d8596f25-ee9f-4edd-883c-875b09c2a1d5",
   "metadata": {},
   "outputs": [
    {
     "data": {
      "text/plain": [
       "['__class__',\n",
       " '__delattr__',\n",
       " '__dict__',\n",
       " '__dir__',\n",
       " '__doc__',\n",
       " '__eq__',\n",
       " '__format__',\n",
       " '__ge__',\n",
       " '__getattribute__',\n",
       " '__gt__',\n",
       " '__hash__',\n",
       " '__init__',\n",
       " '__init_subclass__',\n",
       " '__le__',\n",
       " '__lt__',\n",
       " '__module__',\n",
       " '__ne__',\n",
       " '__new__',\n",
       " '__reduce__',\n",
       " '__reduce_ex__',\n",
       " '__repr__',\n",
       " '__setattr__',\n",
       " '__sizeof__',\n",
       " '__str__',\n",
       " '__subclasshook__',\n",
       " '__weakref__',\n",
       " 'doors',\n",
       " 'engineType',\n",
       " 'windows']"
      ]
     },
     "execution_count": 76,
     "metadata": {},
     "output_type": "execute_result"
    }
   ],
   "source": [
    "dir(audi)"
   ]
  },
  {
   "cell_type": "code",
   "execution_count": 77,
   "id": "99b4851f-5f63-4b4d-b989-c27b329a154c",
   "metadata": {},
   "outputs": [],
   "source": [
    "# Protected Class\n",
    "class car:\n",
    "    def __init__(self, window, door, engineType):\n",
    "        self._windows = window\n",
    "        self._doors = door\n",
    "        self._engineType = engineType"
   ]
  },
  {
   "cell_type": "code",
   "execution_count": 78,
   "id": "98f66d9e-43bd-49a6-b757-db37041d8e6a",
   "metadata": {},
   "outputs": [],
   "source": [
    "mercedes = car(5,4,'petrol')"
   ]
  },
  {
   "cell_type": "code",
   "execution_count": 79,
   "id": "6a4a32fb-63a7-49ce-b2f1-17089e1e26b4",
   "metadata": {},
   "outputs": [
    {
     "data": {
      "text/plain": [
       "4"
      ]
     },
     "execution_count": 79,
     "metadata": {},
     "output_type": "execute_result"
    }
   ],
   "source": [
    "mercedes._doors"
   ]
  },
  {
   "cell_type": "code",
   "execution_count": 80,
   "id": "cf7e83f4-e39c-425d-89a9-92c131ddd658",
   "metadata": {},
   "outputs": [
    {
     "data": {
      "text/plain": [
       "5"
      ]
     },
     "execution_count": 80,
     "metadata": {},
     "output_type": "execute_result"
    }
   ],
   "source": [
    "mercedes._windows"
   ]
  },
  {
   "cell_type": "code",
   "execution_count": 81,
   "id": "ba374ab9-1e94-43fe-924d-bcf9c16bdfa6",
   "metadata": {},
   "outputs": [
    {
     "data": {
      "text/plain": [
       "'petrol'"
      ]
     },
     "execution_count": 81,
     "metadata": {},
     "output_type": "execute_result"
    }
   ],
   "source": [
    "mercedes._engineType"
   ]
  },
  {
   "cell_type": "code",
   "execution_count": 82,
   "id": "c10ccf50-d6c3-4055-8c84-36f185516471",
   "metadata": {},
   "outputs": [
    {
     "data": {
      "text/plain": [
       "1"
      ]
     },
     "execution_count": 82,
     "metadata": {},
     "output_type": "execute_result"
    }
   ],
   "source": [
    "mercedes._doors = 1\n",
    "mercedes._doors"
   ]
  },
  {
   "cell_type": "code",
   "execution_count": 83,
   "id": "d61e1c19-38f7-4ee6-a710-0c221f6a643e",
   "metadata": {},
   "outputs": [
    {
     "data": {
      "text/plain": [
       "1"
      ]
     },
     "execution_count": 83,
     "metadata": {},
     "output_type": "execute_result"
    }
   ],
   "source": [
    "mercedes._windows = 1\n",
    "mercedes._windows"
   ]
  },
  {
   "cell_type": "code",
   "execution_count": 84,
   "id": "7d27a068-375e-4893-a1e2-7fdd5a8ce07f",
   "metadata": {},
   "outputs": [
    {
     "data": {
      "text/plain": [
       "'battery'"
      ]
     },
     "execution_count": 84,
     "metadata": {},
     "output_type": "execute_result"
    }
   ],
   "source": [
    "mercedes._engineType = \"battery\"\n",
    "mercedes._engineType"
   ]
  },
  {
   "cell_type": "code",
   "execution_count": 85,
   "id": "4333a37e-6e19-4c72-afba-9c8ef01a68b9",
   "metadata": {},
   "outputs": [
    {
     "data": {
      "text/plain": [
       "['__class__',\n",
       " '__delattr__',\n",
       " '__dict__',\n",
       " '__dir__',\n",
       " '__doc__',\n",
       " '__eq__',\n",
       " '__format__',\n",
       " '__ge__',\n",
       " '__getattribute__',\n",
       " '__gt__',\n",
       " '__hash__',\n",
       " '__init__',\n",
       " '__init_subclass__',\n",
       " '__le__',\n",
       " '__lt__',\n",
       " '__module__',\n",
       " '__ne__',\n",
       " '__new__',\n",
       " '__reduce__',\n",
       " '__reduce_ex__',\n",
       " '__repr__',\n",
       " '__setattr__',\n",
       " '__sizeof__',\n",
       " '__str__',\n",
       " '__subclasshook__',\n",
       " '__weakref__',\n",
       " '_doors',\n",
       " '_engineType',\n",
       " '_windows']"
      ]
     },
     "execution_count": 85,
     "metadata": {},
     "output_type": "execute_result"
    }
   ],
   "source": [
    "dir(mercedes)"
   ]
  },
  {
   "cell_type": "code",
   "execution_count": 86,
   "id": "fb03937c-d5f1-4ce5-98d5-9de6e427145a",
   "metadata": {},
   "outputs": [],
   "source": [
    "# Protected Class\n",
    "class car:\n",
    "    def __init__(self, window, door, engineType):\n",
    "        self._windows = window\n",
    "        self._doors = door\n",
    "        self._engineType = engineType"
   ]
  },
  {
   "cell_type": "code",
   "execution_count": 87,
   "id": "497926bc-df80-4295-a752-89844e83725f",
   "metadata": {},
   "outputs": [],
   "source": [
    "class truck(car):\n",
    "    def __init__(self, window, door, engineType, model):\n",
    "        super().__init__(window, door, engineType)\n",
    "        self._model = model"
   ]
  },
  {
   "cell_type": "code",
   "execution_count": 88,
   "id": "a45909b4-3d91-462a-9372-1885a9acdd35",
   "metadata": {},
   "outputs": [],
   "source": [
    "truck1 = truck(4,4,\"diesel\",\"eicher\")"
   ]
  },
  {
   "cell_type": "code",
   "execution_count": 89,
   "id": "621b62a9-1658-4840-bbe1-40f2e10115b8",
   "metadata": {},
   "outputs": [
    {
     "data": {
      "text/plain": [
       "4"
      ]
     },
     "execution_count": 89,
     "metadata": {},
     "output_type": "execute_result"
    }
   ],
   "source": [
    "truck1._doors"
   ]
  },
  {
   "cell_type": "code",
   "execution_count": 90,
   "id": "2ca24147-f7e1-4756-a9f5-60fa1ac5207f",
   "metadata": {},
   "outputs": [
    {
     "data": {
      "text/plain": [
       "4"
      ]
     },
     "execution_count": 90,
     "metadata": {},
     "output_type": "execute_result"
    }
   ],
   "source": [
    "truck1._windows"
   ]
  },
  {
   "cell_type": "code",
   "execution_count": 91,
   "id": "f9d4ab89-cefb-4ebd-80cc-30b91ca9fdcf",
   "metadata": {},
   "outputs": [
    {
     "data": {
      "text/plain": [
       "'diesel'"
      ]
     },
     "execution_count": 91,
     "metadata": {},
     "output_type": "execute_result"
    }
   ],
   "source": [
    "truck1._engineType"
   ]
  },
  {
   "cell_type": "code",
   "execution_count": 92,
   "id": "0a765a0a-0b50-4691-860d-0b9003011873",
   "metadata": {},
   "outputs": [
    {
     "data": {
      "text/plain": [
       "'eicher'"
      ]
     },
     "execution_count": 92,
     "metadata": {},
     "output_type": "execute_result"
    }
   ],
   "source": [
    "truck1._model"
   ]
  },
  {
   "cell_type": "code",
   "execution_count": 93,
   "id": "e464f2c5-0784-400b-8af7-eddd23d59478",
   "metadata": {},
   "outputs": [
    {
     "data": {
      "text/plain": [
       "1"
      ]
     },
     "execution_count": 93,
     "metadata": {},
     "output_type": "execute_result"
    }
   ],
   "source": [
    "truck1._doors = 1\n",
    "truck1._doors"
   ]
  },
  {
   "cell_type": "code",
   "execution_count": 94,
   "id": "c0890bc2-df3b-40f7-bba6-8b2e7f41b64d",
   "metadata": {},
   "outputs": [
    {
     "data": {
      "text/plain": [
       "1"
      ]
     },
     "execution_count": 94,
     "metadata": {},
     "output_type": "execute_result"
    }
   ],
   "source": [
    "truck1._windows = 1\n",
    "truck1._windows"
   ]
  },
  {
   "cell_type": "code",
   "execution_count": 95,
   "id": "d94d5427-f3ff-47f1-89ce-da24911a3954",
   "metadata": {},
   "outputs": [
    {
     "data": {
      "text/plain": [
       "'battery'"
      ]
     },
     "execution_count": 95,
     "metadata": {},
     "output_type": "execute_result"
    }
   ],
   "source": [
    "truck1._engineType = \"battery\"\n",
    "truck1._engineType"
   ]
  },
  {
   "cell_type": "code",
   "execution_count": 96,
   "id": "a7cb6dcc-7efd-4b3b-9c8d-05087d8604a0",
   "metadata": {},
   "outputs": [
    {
     "data": {
      "text/plain": [
       "'Ashok Leyland'"
      ]
     },
     "execution_count": 96,
     "metadata": {},
     "output_type": "execute_result"
    }
   ],
   "source": [
    "truck1._model = \"Ashok Leyland\"\n",
    "truck1._model"
   ]
  },
  {
   "cell_type": "code",
   "execution_count": 97,
   "id": "f3b5f9b2-9fbf-4f5e-82db-dec09d1f636d",
   "metadata": {},
   "outputs": [
    {
     "data": {
      "text/plain": [
       "['__class__',\n",
       " '__delattr__',\n",
       " '__dict__',\n",
       " '__dir__',\n",
       " '__doc__',\n",
       " '__eq__',\n",
       " '__format__',\n",
       " '__ge__',\n",
       " '__getattribute__',\n",
       " '__gt__',\n",
       " '__hash__',\n",
       " '__init__',\n",
       " '__init_subclass__',\n",
       " '__le__',\n",
       " '__lt__',\n",
       " '__module__',\n",
       " '__ne__',\n",
       " '__new__',\n",
       " '__reduce__',\n",
       " '__reduce_ex__',\n",
       " '__repr__',\n",
       " '__setattr__',\n",
       " '__sizeof__',\n",
       " '__str__',\n",
       " '__subclasshook__',\n",
       " '__weakref__',\n",
       " '_doors',\n",
       " '_engineType',\n",
       " '_model',\n",
       " '_windows']"
      ]
     },
     "execution_count": 97,
     "metadata": {},
     "output_type": "execute_result"
    }
   ],
   "source": [
    "dir(truck1)"
   ]
  },
  {
   "cell_type": "code",
   "execution_count": 101,
   "id": "ee0acd4c-6fd4-4519-9c6a-afa72aab9416",
   "metadata": {},
   "outputs": [],
   "source": [
    "# Private Class\n",
    "class car:\n",
    "    def __init__(self, window, door, engineType):\n",
    "        self.__windows = window\n",
    "        self.__doors = door\n",
    "        self.__engineType = engineType"
   ]
  },
  {
   "cell_type": "code",
   "execution_count": 102,
   "id": "0e807772-03bb-4daf-8256-8f64314c23f8",
   "metadata": {},
   "outputs": [],
   "source": [
    "bmw = car(4,4,\"petrol\")"
   ]
  },
  {
   "cell_type": "code",
   "execution_count": 103,
   "id": "8d8734e8-48a9-4608-9710-0f68cd6d1658",
   "metadata": {},
   "outputs": [
    {
     "ename": "AttributeError",
     "evalue": "'car' object has no attribute '__doors'",
     "output_type": "error",
     "traceback": [
      "\u001b[1;31m---------------------------------------------------------------------------\u001b[0m",
      "\u001b[1;31mAttributeError\u001b[0m                            Traceback (most recent call last)",
      "Cell \u001b[1;32mIn[103], line 1\u001b[0m\n\u001b[1;32m----> 1\u001b[0m \u001b[43mbmw\u001b[49m\u001b[38;5;241;43m.\u001b[39;49m\u001b[43m__doors\u001b[49m\n",
      "\u001b[1;31mAttributeError\u001b[0m: 'car' object has no attribute '__doors'"
     ]
    }
   ],
   "source": [
    "bmw.__doors"
   ]
  },
  {
   "cell_type": "code",
   "execution_count": 104,
   "id": "7472aa1a-b8dd-4934-98dc-891de4454212",
   "metadata": {},
   "outputs": [
    {
     "ename": "AttributeError",
     "evalue": "'car' object has no attribute '__windows'",
     "output_type": "error",
     "traceback": [
      "\u001b[1;31m---------------------------------------------------------------------------\u001b[0m",
      "\u001b[1;31mAttributeError\u001b[0m                            Traceback (most recent call last)",
      "Cell \u001b[1;32mIn[104], line 1\u001b[0m\n\u001b[1;32m----> 1\u001b[0m \u001b[43mbmw\u001b[49m\u001b[38;5;241;43m.\u001b[39;49m\u001b[43m__windows\u001b[49m\n",
      "\u001b[1;31mAttributeError\u001b[0m: 'car' object has no attribute '__windows'"
     ]
    }
   ],
   "source": [
    "bmw.__windows"
   ]
  },
  {
   "cell_type": "code",
   "execution_count": 105,
   "id": "42deb747-b77b-44a4-9e27-e4d33a450f6e",
   "metadata": {},
   "outputs": [
    {
     "ename": "AttributeError",
     "evalue": "'car' object has no attribute '__engineType'",
     "output_type": "error",
     "traceback": [
      "\u001b[1;31m---------------------------------------------------------------------------\u001b[0m",
      "\u001b[1;31mAttributeError\u001b[0m                            Traceback (most recent call last)",
      "Cell \u001b[1;32mIn[105], line 1\u001b[0m\n\u001b[1;32m----> 1\u001b[0m \u001b[43mbmw\u001b[49m\u001b[38;5;241;43m.\u001b[39;49m\u001b[43m__engineType\u001b[49m\n",
      "\u001b[1;31mAttributeError\u001b[0m: 'car' object has no attribute '__engineType'"
     ]
    }
   ],
   "source": [
    "bmw.__engineType"
   ]
  },
  {
   "cell_type": "code",
   "execution_count": 106,
   "id": "88514996-3bc2-41f6-886d-d2dbf198ad9b",
   "metadata": {},
   "outputs": [
    {
     "data": {
      "text/plain": [
       "['__class__',\n",
       " '__delattr__',\n",
       " '__dict__',\n",
       " '__dir__',\n",
       " '__doc__',\n",
       " '__eq__',\n",
       " '__format__',\n",
       " '__ge__',\n",
       " '__getattribute__',\n",
       " '__gt__',\n",
       " '__hash__',\n",
       " '__init__',\n",
       " '__init_subclass__',\n",
       " '__le__',\n",
       " '__lt__',\n",
       " '__module__',\n",
       " '__ne__',\n",
       " '__new__',\n",
       " '__reduce__',\n",
       " '__reduce_ex__',\n",
       " '__repr__',\n",
       " '__setattr__',\n",
       " '__sizeof__',\n",
       " '__str__',\n",
       " '__subclasshook__',\n",
       " '__weakref__',\n",
       " '_car__doors',\n",
       " '_car__engineType',\n",
       " '_car__windows']"
      ]
     },
     "execution_count": 106,
     "metadata": {},
     "output_type": "execute_result"
    }
   ],
   "source": [
    "dir(bmw)"
   ]
  },
  {
   "cell_type": "code",
   "execution_count": 107,
   "id": "f6d5b9e3-bd4d-4ee3-ae11-c3f390c38ffe",
   "metadata": {},
   "outputs": [
    {
     "data": {
      "text/plain": [
       "4"
      ]
     },
     "execution_count": 107,
     "metadata": {},
     "output_type": "execute_result"
    }
   ],
   "source": [
    "bmw._car__doors"
   ]
  },
  {
   "cell_type": "code",
   "execution_count": 108,
   "id": "b2b36283-ff36-4c91-aeb4-7339507ba1e6",
   "metadata": {},
   "outputs": [
    {
     "data": {
      "text/plain": [
       "4"
      ]
     },
     "execution_count": 108,
     "metadata": {},
     "output_type": "execute_result"
    }
   ],
   "source": [
    "bmw._car__windows"
   ]
  },
  {
   "cell_type": "code",
   "execution_count": 109,
   "id": "affd29fa-78b1-48d9-adc6-fe531d1c975c",
   "metadata": {},
   "outputs": [
    {
     "data": {
      "text/plain": [
       "'petrol'"
      ]
     },
     "execution_count": 109,
     "metadata": {},
     "output_type": "execute_result"
    }
   ],
   "source": [
    "bmw._car__engineType"
   ]
  },
  {
   "cell_type": "markdown",
   "id": "409dfe78-f781-4a8f-8486-5a0de5446994",
   "metadata": {},
   "source": [
    "<h3>Data Abstraction:</h3>\n",
    "\n",
    "Data abstraction is one of the most essential concepts of Python OOPs which is used to hide irrelevant details from the user and show the details that are relevant to the users.\n",
    "\n",
    "A simple example of this can be a car. A car has an accelerator, clutch, and break and we all know that pressing an accelerator will increase the speed of the car and applying the brake can stop the car but we don’t know the internal mechanism of the car and how these functionalities can work. This detail hiding is known as data abstraction."
   ]
  },
  {
   "cell_type": "markdown",
   "id": "6e445dfd-3a36-416a-bf49-9fd387bfc03f",
   "metadata": {},
   "source": [
    "<b>Importance of Data Abstraction:</b>\n",
    "\n",
    "It enables programmers to hide complex implementation details while just showing users the most crucial data and functions. This abstraction makes it easier to design modular and well-organized code, makes it simpler to understand and maintain, promotes code reuse, and improves developer collaboration."
   ]
  },
  {
   "cell_type": "markdown",
   "id": "b26e9502-4c69-4e4a-8b7d-24b1942ef31b",
   "metadata": {},
   "source": [
    "<b>Abstract Method:</b> In Python, abstract method feature is not a default feature. To create abstract method and abstract classes we have to import the “ABC” and “abstractmethod” classes from abc (Abstract Base Class) library. Abstract method of base class force its child class to write the implementation of the all abstract methods defined in base class. If we do not implement the abstract methods of base class in the child class then our code will give error.\n",
    "\n",
    "<b>Concrete Method:</b> Concrete methods are the methods defined in an abstract base class with their complete implementation. Concrete methods are required to avoid replication of code in subclasses. For example, in abstract base class there may be a method that implementation is to be same in all its subclasses, so we write the implementation of that method in abstract base class after which we do not need to write implementation of the concrete method again and again in every subclass. "
   ]
  },
  {
   "cell_type": "code",
   "execution_count": null,
   "id": "df01662f-8c11-4d1d-8cf0-63c24bd09fdc",
   "metadata": {},
   "outputs": [],
   "source": [
    "# import required modules\n",
    "from abc import ABC, abstractmethod"
   ]
  },
  {
   "cell_type": "code",
   "execution_count": null,
   "id": "e9e5d0e8-29f9-4629-8daa-abdfff1991bc",
   "metadata": {},
   "outputs": [],
   "source": [
    "# create abstract base class\n",
    "class car(ABC):\n",
    "    def __init__(self, brand, model, year):\n",
    "        self.brand = brand\n",
    "        self.model = model\n",
    "        self.year = year\n",
    "        \n",
    "    # create abstract method\n",
    "    @abstractmethod\n",
    "    def printDetails(self):\n",
    "        pass\n",
    "            \n",
    "    # create concrete method\n",
    "    def accelerate(self):\n",
    "        print(\"speed up...\")\n",
    "\n",
    "    def break_applied(self):\n",
    "        print(\"car stop.\")\n",
    "\n",
    "# create a child class\n",
    "class HatchBack(car):\n",
    "    def __init__(self, brand, model, year):\n",
    "        super().__init__(brand, model, year)\n",
    "    \n",
    "    def printDetails(self):\n",
    "        print(\"The car with brand: {} and model: {} was manufactured in the year: {}\".format(\n",
    "            self.brand, self.model, self.year))\n",
    "    def sunroof(self):\n",
    "        print(\"sunroof is not available\")\n",
    "\n",
    "# create a child class\n",
    "class SUV(car):\n",
    "    def __init__(self, brand, model, year):\n",
    "        super().__init__(brand, model, year)\n",
    "    \n",
    "    def printDetails(self):\n",
    "        print(\"The car with brand: {} and model: {} was manufactured in the year: {}\".format(\n",
    "            self.brand, self.model, self.year))\n",
    "    def sunroof(self):\n",
    "        print(\"sunroof is available\")"
   ]
  },
  {
   "cell_type": "code",
   "execution_count": null,
   "id": "9fe98018-9a38-49fe-a7fa-d774aeb20d9a",
   "metadata": {},
   "outputs": [],
   "source": [
    "car1 = HatchBack(\"Maruti\", \"Alto\", 2005);\n",
    "car2 = SUV(\"Mercedes\", \"4-Matic\", 2022)"
   ]
  },
  {
   "cell_type": "code",
   "execution_count": null,
   "id": "c29f0768-d89f-476a-9618-98ea66444cae",
   "metadata": {},
   "outputs": [
    {
     "name": "stdout",
     "output_type": "stream",
     "text": [
      "The car with brand: Maruti and model: Alto was manufactured in the year: 2005\n",
      "sunroof is not available\n",
      "speed up...\n",
      "car stop.\n"
     ]
    }
   ],
   "source": [
    "car1.printDetails()\n",
    "car1.sunroof()\n",
    "car1.accelerate()\n",
    "car1.break_applied()"
   ]
  },
  {
   "cell_type": "code",
   "execution_count": null,
   "id": "816f4707-efc3-43ab-b9af-c62c988fc3bc",
   "metadata": {},
   "outputs": [
    {
     "name": "stdout",
     "output_type": "stream",
     "text": [
      "The car with brand: Mercedes and model: 4-Matic was manufactured in the year: 2022\n",
      "sunroof is available\n",
      "speed up...\n",
      "car stop.\n"
     ]
    }
   ],
   "source": [
    "car2.printDetails()\n",
    "car2.sunroof()\n",
    "car2.accelerate()\n",
    "car2.break_applied()"
   ]
  },
  {
   "cell_type": "code",
   "execution_count": null,
   "id": "ff4de387-7a7d-4360-a6b3-064a5d768717",
   "metadata": {},
   "outputs": [],
   "source": [
    "car3 = HatchBack(\"TATA\", \"Indica\", 1999)"
   ]
  },
  {
   "cell_type": "code",
   "execution_count": null,
   "id": "bba5bad5-4d45-4418-b4eb-ae145ef16d1e",
   "metadata": {},
   "outputs": [
    {
     "name": "stdout",
     "output_type": "stream",
     "text": [
      "The car with brand: TATA and model: Indica was manufactured in the year: 1999\n",
      "sunroof is not available\n",
      "speed up...\n",
      "car stop.\n"
     ]
    }
   ],
   "source": [
    "car3.printDetails()\n",
    "car3.sunroof()\n",
    "car3.accelerate()\n",
    "car3.break_applied()"
   ]
  }
 ],
 "metadata": {
  "kernelspec": {
   "display_name": "Deep_Learning",
   "language": "python",
   "name": "python3"
  },
  "language_info": {
   "codemirror_mode": {
    "name": "ipython",
    "version": 3
   },
   "file_extension": ".py",
   "mimetype": "text/x-python",
   "name": "python",
   "nbconvert_exporter": "python",
   "pygments_lexer": "ipython3",
   "version": "3.9.18"
  }
 },
 "nbformat": 4,
 "nbformat_minor": 5
}
