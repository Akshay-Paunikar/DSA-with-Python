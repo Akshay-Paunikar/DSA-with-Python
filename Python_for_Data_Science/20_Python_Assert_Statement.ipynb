{
 "cells": [
  {
   "cell_type": "markdown",
   "id": "7a749985-f9d4-4441-8e07-65b7046e9335",
   "metadata": {},
   "source": [
    "<h3>Python Assert Statement:</h3>"
   ]
  },
  {
   "cell_type": "markdown",
   "id": "26c5d21e-ebe1-47b6-8493-9d372f777594",
   "metadata": {},
   "source": [
    "Python provides the Assert Statement to check if a given logical expression is True or False. Program execution proceeds only if the expression is True and raises the Assertion Error when it is False. The following code shows the usage of the Assert Statement."
   ]
  },
  {
   "cell_type": "code",
   "execution_count": 1,
   "id": "ea127f0a-1c39-4b4a-a298-97318f444162",
   "metadata": {},
   "outputs": [
    {
     "ename": "AssertionError",
     "evalue": "",
     "output_type": "error",
     "traceback": [
      "\u001b[1;31m---------------------------------------------------------------------------\u001b[0m",
      "\u001b[1;31mAssertionError\u001b[0m                            Traceback (most recent call last)",
      "Cell \u001b[1;32mIn[1], line 2\u001b[0m\n\u001b[0;32m      1\u001b[0m num \u001b[38;5;241m=\u001b[39m \u001b[38;5;241m10\u001b[39m\n\u001b[1;32m----> 2\u001b[0m \u001b[38;5;28;01massert\u001b[39;00m num \u001b[38;5;241m>\u001b[39m \u001b[38;5;241m10\u001b[39m\n",
      "\u001b[1;31mAssertionError\u001b[0m: "
     ]
    }
   ],
   "source": [
    "num = 10\n",
    "assert num > 10"
   ]
  },
  {
   "cell_type": "code",
   "execution_count": 2,
   "id": "facd536d-a7f8-4cb4-aace-0ec251355d7a",
   "metadata": {},
   "outputs": [
    {
     "name": "stdout",
     "output_type": "stream",
     "text": [
      "ERROR !!! Please enter an even number\n"
     ]
    }
   ],
   "source": [
    "try:\n",
    "    num = int(input(\"Enter your number: \"))\n",
    "    assert num%2==0\n",
    "    print(\"Congratulations !!! The number is even\")\n",
    "except AssertionError:\n",
    "    print(\"ERROR !!! Please enter an even number\")"
   ]
  }
 ],
 "metadata": {
  "kernelspec": {
   "display_name": "Deep_Learning",
   "language": "python",
   "name": "python3"
  },
  "language_info": {
   "codemirror_mode": {
    "name": "ipython",
    "version": 3
   },
   "file_extension": ".py",
   "mimetype": "text/x-python",
   "name": "python",
   "nbconvert_exporter": "python",
   "pygments_lexer": "ipython3",
   "version": "3.9.18"
  }
 },
 "nbformat": 4,
 "nbformat_minor": 5
}
