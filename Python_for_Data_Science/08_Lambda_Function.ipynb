{
 "cells": [
  {
   "cell_type": "markdown",
   "id": "84dd67d6-a106-4e4a-8a01-880018125c2a",
   "metadata": {},
   "source": [
    "### Lambda Function\n",
    "\n",
    "Anonymous Function. A Function with no Name. \n",
    "A lambda function can take any number of arguments, but can only have one expression."
   ]
  },
  {
   "cell_type": "code",
   "execution_count": 1,
   "id": "cae5c4fc-a91d-44f9-ad7c-f7deb2ae2db0",
   "metadata": {},
   "outputs": [],
   "source": [
    "# addition function\n",
    "addition = lambda a,b: a+b"
   ]
  },
  {
   "cell_type": "code",
   "execution_count": 2,
   "id": "4136a6ff-6808-42a0-89c4-697d6086aba1",
   "metadata": {},
   "outputs": [
    {
     "data": {
      "text/plain": [
       "60"
      ]
     },
     "execution_count": 2,
     "metadata": {},
     "output_type": "execute_result"
    }
   ],
   "source": [
    "addition(20,40)"
   ]
  },
  {
   "cell_type": "code",
   "execution_count": 3,
   "id": "2f3aa1f8-64c1-4ef2-b630-70b8f368f6cb",
   "metadata": {},
   "outputs": [],
   "source": [
    "# even function\n",
    "even = lambda x: x%2==0"
   ]
  },
  {
   "cell_type": "code",
   "execution_count": 4,
   "id": "928d35d8-1842-43f5-89b8-78d6d8657a73",
   "metadata": {},
   "outputs": [
    {
     "data": {
      "text/plain": [
       "False"
      ]
     },
     "execution_count": 4,
     "metadata": {},
     "output_type": "execute_result"
    }
   ],
   "source": [
    "even(9)"
   ]
  },
  {
   "cell_type": "code",
   "execution_count": 5,
   "id": "8e6c71c1-04fb-4cb0-ac3a-cb71af870209",
   "metadata": {},
   "outputs": [
    {
     "data": {
      "text/plain": [
       "True"
      ]
     },
     "execution_count": 5,
     "metadata": {},
     "output_type": "execute_result"
    }
   ],
   "source": [
    "even(8)"
   ]
  },
  {
   "cell_type": "code",
   "execution_count": 6,
   "id": "74d48810-817d-401b-8768-b50c7c9111f0",
   "metadata": {},
   "outputs": [],
   "source": [
    "# multiplication function\n",
    "mult = lambda x,y,z: x*y*z"
   ]
  },
  {
   "cell_type": "code",
   "execution_count": 7,
   "id": "56605936-0ca7-4db5-9e81-b57859f9ad4f",
   "metadata": {},
   "outputs": [
    {
     "data": {
      "text/plain": [
       "8"
      ]
     },
     "execution_count": 7,
     "metadata": {},
     "output_type": "execute_result"
    }
   ],
   "source": [
    "mult(2,2,2)"
   ]
  },
  {
   "cell_type": "code",
   "execution_count": 8,
   "id": "c897f19f-d514-469a-b071-3761cf3f1b03",
   "metadata": {},
   "outputs": [],
   "source": [
    "# convert text to uppercase\n",
    "uppercase = lambda string: string.upper()"
   ]
  },
  {
   "cell_type": "code",
   "execution_count": 9,
   "id": "a2c3cf73-7356-45d6-b142-3d84df04924a",
   "metadata": {},
   "outputs": [
    {
     "data": {
      "text/plain": [
       "'MACHINE LEARNING'"
      ]
     },
     "execution_count": 9,
     "metadata": {},
     "output_type": "execute_result"
    }
   ],
   "source": [
    "uppercase(\"machine learning\")"
   ]
  },
  {
   "cell_type": "code",
   "execution_count": 10,
   "id": "64ba0653-edf4-4ed4-8803-a49072ba451a",
   "metadata": {},
   "outputs": [],
   "source": [
    "# lambda function with if-else\n",
    "maximum = lambda x,y: x if (x>y) else y "
   ]
  },
  {
   "cell_type": "code",
   "execution_count": 11,
   "id": "1136efa4-3a56-4062-9f86-99ba7725d947",
   "metadata": {},
   "outputs": [
    {
     "data": {
      "text/plain": [
       "101"
      ]
     },
     "execution_count": 11,
     "metadata": {},
     "output_type": "execute_result"
    }
   ],
   "source": [
    "maximum(100, 101)"
   ]
  }
 ],
 "metadata": {
  "kernelspec": {
   "display_name": "Deep_Learning",
   "language": "python",
   "name": "python3"
  },
  "language_info": {
   "codemirror_mode": {
    "name": "ipython",
    "version": 3
   },
   "file_extension": ".py",
   "mimetype": "text/x-python",
   "name": "python",
   "nbconvert_exporter": "python",
   "pygments_lexer": "ipython3",
   "version": "3.9.7"
  }
 },
 "nbformat": 4,
 "nbformat_minor": 5
}
