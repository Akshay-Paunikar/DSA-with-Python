{
 "cells": [
  {
   "cell_type": "markdown",
   "id": "97c10863-fdc2-48ca-be3f-724f95800099",
   "metadata": {},
   "source": [
    "<h3>Python \"IS\" vs \"==\"</h3>"
   ]
  },
  {
   "cell_type": "code",
   "execution_count": 1,
   "id": "c02b0a2d-a7b6-4a0f-94fa-305d62f12058",
   "metadata": {},
   "outputs": [
    {
     "data": {
      "text/plain": [
       "True"
      ]
     },
     "execution_count": 1,
     "metadata": {},
     "output_type": "execute_result"
    }
   ],
   "source": [
    "lst1 = ['a', 'b', 'c']\n",
    "lst2 = ['a', 'b', 'c']\n",
    "\n",
    "lst1 == lst2"
   ]
  },
  {
   "cell_type": "code",
   "execution_count": 2,
   "id": "1b55affa-e635-42dc-8637-e0763ee39f3a",
   "metadata": {},
   "outputs": [
    {
     "data": {
      "text/plain": [
       "False"
      ]
     },
     "execution_count": 2,
     "metadata": {},
     "output_type": "execute_result"
    }
   ],
   "source": [
    "lst1 is lst2"
   ]
  },
  {
   "cell_type": "code",
   "execution_count": 3,
   "id": "4b97c3ef-b456-4570-a856-63f21ae6eeb0",
   "metadata": {},
   "outputs": [
    {
     "data": {
      "text/plain": [
       "True"
      ]
     },
     "execution_count": 3,
     "metadata": {},
     "output_type": "execute_result"
    }
   ],
   "source": [
    "lst1 = ['a', 'b', 'c']\n",
    "lst2 = lst1\n",
    "lst1 is lst2"
   ]
  },
  {
   "cell_type": "code",
   "execution_count": 4,
   "id": "cb2bb11c-4a33-4acb-b35e-7e21f8b2e709",
   "metadata": {},
   "outputs": [
    {
     "data": {
      "text/plain": [
       "True"
      ]
     },
     "execution_count": 4,
     "metadata": {},
     "output_type": "execute_result"
    }
   ],
   "source": [
    "lst2 is lst1"
   ]
  },
  {
   "cell_type": "markdown",
   "id": "1e8fb904-54c7-496f-84b2-5f488324a016",
   "metadata": {},
   "source": [
    "The \"==\" operator compares the value or equality of two objects, whereas the Python \"IS\" operator checks whether two variables point to the same object in memory. If two variables point to the same object in memory, then if we change value in one variable it will also reflect in the other. Below is the example:"
   ]
  },
  {
   "cell_type": "code",
   "execution_count": 11,
   "id": "a2852d7c-1f20-419c-8757-1afd52a8e455",
   "metadata": {},
   "outputs": [],
   "source": [
    "names1 = ['David', 'Ronaldo', 'Messi', 'Pele']\n",
    "names2 = names1"
   ]
  },
  {
   "cell_type": "code",
   "execution_count": 12,
   "id": "02b13820-982a-4a73-a53e-5313ed333707",
   "metadata": {},
   "outputs": [
    {
     "data": {
      "text/plain": [
       "['David', 'Ronaldo', 'Messi', 'Pele']"
      ]
     },
     "execution_count": 12,
     "metadata": {},
     "output_type": "execute_result"
    }
   ],
   "source": [
    "names1"
   ]
  },
  {
   "cell_type": "code",
   "execution_count": 13,
   "id": "e349417a-cdbb-48b6-9452-0d5895026717",
   "metadata": {},
   "outputs": [
    {
     "data": {
      "text/plain": [
       "['David', 'Ronaldo', 'Messi', 'Pele']"
      ]
     },
     "execution_count": 13,
     "metadata": {},
     "output_type": "execute_result"
    }
   ],
   "source": [
    "names2"
   ]
  },
  {
   "cell_type": "code",
   "execution_count": 14,
   "id": "cc883f32-4e60-47fe-9e01-3fdaade11837",
   "metadata": {},
   "outputs": [],
   "source": [
    "names2[3] = 'Mbappe'"
   ]
  },
  {
   "cell_type": "code",
   "execution_count": 15,
   "id": "bd007d02-24ba-426f-ab2f-2702c4b26228",
   "metadata": {},
   "outputs": [
    {
     "data": {
      "text/plain": [
       "['David', 'Ronaldo', 'Messi', 'Mbappe']"
      ]
     },
     "execution_count": 15,
     "metadata": {},
     "output_type": "execute_result"
    }
   ],
   "source": [
    "names2"
   ]
  },
  {
   "cell_type": "code",
   "execution_count": 16,
   "id": "2cea5af0-51b7-42e0-ab66-f2477b3d8c45",
   "metadata": {},
   "outputs": [
    {
     "data": {
      "text/plain": [
       "['David', 'Ronaldo', 'Messi', 'Mbappe']"
      ]
     },
     "execution_count": 16,
     "metadata": {},
     "output_type": "execute_result"
    }
   ],
   "source": [
    "names1"
   ]
  }
 ],
 "metadata": {
  "kernelspec": {
   "display_name": "Python 3 (ipykernel)",
   "language": "python",
   "name": "python3"
  },
  "language_info": {
   "codemirror_mode": {
    "name": "ipython",
    "version": 3
   },
   "file_extension": ".py",
   "mimetype": "text/x-python",
   "name": "python",
   "nbconvert_exporter": "python",
   "pygments_lexer": "ipython3",
   "version": "3.9.18"
  }
 },
 "nbformat": 4,
 "nbformat_minor": 5
}
