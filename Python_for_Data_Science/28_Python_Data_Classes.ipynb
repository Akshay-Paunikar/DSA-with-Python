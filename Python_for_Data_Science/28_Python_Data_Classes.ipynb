{
 "cells": [
  {
   "cell_type": "markdown",
   "id": "accf55a4-fa56-42c6-911d-d9423660bcc1",
   "metadata": {},
   "source": [
    "<h3>Python Data Classes:</h3>"
   ]
  },
  {
   "cell_type": "markdown",
   "id": "0a5e1246-0882-49f5-afda-ee843628914b",
   "metadata": {},
   "source": [
    "In Python, the dataclass decorator is a feature introduced in Python 3.7 that provides a concise way to define classes primarily intended to store data. It automatically generates several special methods, such as init, repr and eq, based on the class attributes you define. This simplifies the process of creating and working with data focussed classes."
   ]
  },
  {
   "cell_type": "markdown",
   "id": "d724411f-4afc-44be-a052-31ffe14b0e3e",
   "metadata": {},
   "source": [
    "The @dataclass decorator automatically generates the following methods for you:\n",
    " - init(): Initialises the object and assigns the provided values to the attributes.\n",
    " - repr(): Provides a string representation of the object.\n",
    " - eq(): Implements equality comparison between two objects of the class based on their attributes."
   ]
  },
  {
   "cell_type": "code",
   "execution_count": 1,
   "id": "a3c44610-7268-4590-95b4-0fcf1b92f252",
   "metadata": {},
   "outputs": [],
   "source": [
    "from dataclasses import dataclass"
   ]
  },
  {
   "cell_type": "code",
   "execution_count": 2,
   "id": "cc8e65cb-ee78-43e6-97e9-4b8a2d27fd6e",
   "metadata": {},
   "outputs": [],
   "source": [
    "@dataclass\n",
    "class Person:\n",
    "    name: str\n",
    "    age: int\n",
    "    profession: str"
   ]
  },
  {
   "cell_type": "code",
   "execution_count": 3,
   "id": "190d6f65-1b3c-42c0-81d8-e1e7ef031293",
   "metadata": {},
   "outputs": [],
   "source": [
    "person1 = Person(\"Akshay\", 30, 'AI')"
   ]
  },
  {
   "cell_type": "code",
   "execution_count": 4,
   "id": "1b3ac4cd-483f-4cd6-ab01-52eebef0c9fd",
   "metadata": {},
   "outputs": [
    {
     "data": {
      "text/plain": [
       "Person(name='Akshay', age=30, profession='AI')"
      ]
     },
     "execution_count": 4,
     "metadata": {},
     "output_type": "execute_result"
    }
   ],
   "source": [
    "person1"
   ]
  },
  {
   "cell_type": "code",
   "execution_count": 5,
   "id": "58dba278-a093-4c2d-a55f-af20b8ec02a0",
   "metadata": {},
   "outputs": [
    {
     "data": {
      "text/plain": [
       "'Akshay'"
      ]
     },
     "execution_count": 5,
     "metadata": {},
     "output_type": "execute_result"
    }
   ],
   "source": [
    "person1.name"
   ]
  },
  {
   "cell_type": "code",
   "execution_count": 6,
   "id": "8bc1d356-e506-45c9-9213-158095ebafb1",
   "metadata": {},
   "outputs": [
    {
     "data": {
      "text/plain": [
       "30"
      ]
     },
     "execution_count": 6,
     "metadata": {},
     "output_type": "execute_result"
    }
   ],
   "source": [
    "person1.age"
   ]
  },
  {
   "cell_type": "code",
   "execution_count": 7,
   "id": "c7326446-3c1d-40e9-b304-d3fdfae4f72c",
   "metadata": {},
   "outputs": [
    {
     "data": {
      "text/plain": [
       "'AI'"
      ]
     },
     "execution_count": 7,
     "metadata": {},
     "output_type": "execute_result"
    }
   ],
   "source": [
    "person1.profession"
   ]
  },
  {
   "cell_type": "code",
   "execution_count": 8,
   "id": "e3210f01-3eba-43b4-bdf9-577ecb23b2b4",
   "metadata": {},
   "outputs": [],
   "source": [
    "person1.profession = 'Data Analyst'"
   ]
  },
  {
   "cell_type": "code",
   "execution_count": 9,
   "id": "4faa6f36-99fa-462b-9cae-b100e1cb35e7",
   "metadata": {},
   "outputs": [
    {
     "data": {
      "text/plain": [
       "Person(name='Akshay', age=30, profession='Data Analyst')"
      ]
     },
     "execution_count": 9,
     "metadata": {},
     "output_type": "execute_result"
    }
   ],
   "source": [
    "person1"
   ]
  },
  {
   "cell_type": "code",
   "execution_count": 10,
   "id": "f4b587d4-c60e-4029-bdec-d10fb3f3d0f6",
   "metadata": {},
   "outputs": [],
   "source": [
    "# Immutable Class\n",
    "@dataclass(frozen=True)\n",
    "class numbers:\n",
    "    x: int\n",
    "    y: int"
   ]
  },
  {
   "cell_type": "code",
   "execution_count": 11,
   "id": "f75cca65-04de-4d58-816f-23c771ccd515",
   "metadata": {},
   "outputs": [
    {
     "data": {
      "text/plain": [
       "numbers(x=9, y=4)"
      ]
     },
     "execution_count": 11,
     "metadata": {},
     "output_type": "execute_result"
    }
   ],
   "source": [
    "number1 = numbers(9, 4)\n",
    "number1"
   ]
  },
  {
   "cell_type": "code",
   "execution_count": 12,
   "id": "3d21ff30-9734-4bde-8339-adf34926ec34",
   "metadata": {},
   "outputs": [
    {
     "data": {
      "text/plain": [
       "9"
      ]
     },
     "execution_count": 12,
     "metadata": {},
     "output_type": "execute_result"
    }
   ],
   "source": [
    "number1.x"
   ]
  },
  {
   "cell_type": "code",
   "execution_count": 13,
   "id": "c5b2432d-b5d8-48df-9298-476d6fc2ab45",
   "metadata": {},
   "outputs": [
    {
     "data": {
      "text/plain": [
       "4"
      ]
     },
     "execution_count": 13,
     "metadata": {},
     "output_type": "execute_result"
    }
   ],
   "source": [
    "number1.y"
   ]
  },
  {
   "cell_type": "code",
   "execution_count": 14,
   "id": "48ef9663-9894-4bdf-868e-b79c84982b36",
   "metadata": {},
   "outputs": [
    {
     "ename": "FrozenInstanceError",
     "evalue": "cannot assign to field 'x'",
     "output_type": "error",
     "traceback": [
      "\u001b[1;31m---------------------------------------------------------------------------\u001b[0m",
      "\u001b[1;31mFrozenInstanceError\u001b[0m                       Traceback (most recent call last)",
      "Cell \u001b[1;32mIn[14], line 1\u001b[0m\n\u001b[1;32m----> 1\u001b[0m number1\u001b[38;5;241m.\u001b[39mx \u001b[38;5;241m=\u001b[39m \u001b[38;5;241m10\u001b[39m\n",
      "File \u001b[1;32m<string>:4\u001b[0m, in \u001b[0;36m__setattr__\u001b[1;34m(self, name, value)\u001b[0m\n",
      "\u001b[1;31mFrozenInstanceError\u001b[0m: cannot assign to field 'x'"
     ]
    }
   ],
   "source": [
    "number1.x = 10"
   ]
  },
  {
   "cell_type": "code",
   "execution_count": 15,
   "id": "e50229ea-5c56-4808-8883-532bed5db22b",
   "metadata": {},
   "outputs": [],
   "source": [
    "# Inheritance\n",
    "@dataclass\n",
    "class personal_info:\n",
    "    name: str\n",
    "    age: int\n",
    "    address: str\n",
    "\n",
    "@dataclass\n",
    "class student(personal_info):\n",
    "    roll_no: int\n",
    "    grade: str\n",
    "\n",
    "@dataclass\n",
    "class employee(personal_info):\n",
    "    id: 'str'\n",
    "    department: 'str'"
   ]
  },
  {
   "cell_type": "code",
   "execution_count": 16,
   "id": "78098fef-6462-41e6-8b8a-d409c10227a9",
   "metadata": {},
   "outputs": [],
   "source": [
    "employee1 = employee(\"akshay\", 30, 'Nagpur', '0110', 'data science')"
   ]
  },
  {
   "cell_type": "code",
   "execution_count": 17,
   "id": "4e3d0f35-bd1c-4a77-91c7-e51bd1302342",
   "metadata": {},
   "outputs": [
    {
     "data": {
      "text/plain": [
       "employee(name='akshay', age=30, address='Nagpur', id='0110', department='data science')"
      ]
     },
     "execution_count": 17,
     "metadata": {},
     "output_type": "execute_result"
    }
   ],
   "source": [
    "employee1"
   ]
  },
  {
   "cell_type": "code",
   "execution_count": 18,
   "id": "e869b168-b07a-45a0-afc9-de3120dff876",
   "metadata": {},
   "outputs": [
    {
     "data": {
      "text/plain": [
       "student(name='akshay', age=30, address='Nagpur', roll_no=51, grade='10 th')"
      ]
     },
     "execution_count": 18,
     "metadata": {},
     "output_type": "execute_result"
    }
   ],
   "source": [
    "student1 = student(\"akshay\", 30, 'Nagpur', 51, '10 th')\n",
    "student1"
   ]
  }
 ],
 "metadata": {
  "kernelspec": {
   "display_name": "Python 3 (ipykernel)",
   "language": "python",
   "name": "python3"
  },
  "language_info": {
   "codemirror_mode": {
    "name": "ipython",
    "version": 3
   },
   "file_extension": ".py",
   "mimetype": "text/x-python",
   "name": "python",
   "nbconvert_exporter": "python",
   "pygments_lexer": "ipython3",
   "version": "3.9.18"
  }
 },
 "nbformat": 4,
 "nbformat_minor": 5
}
