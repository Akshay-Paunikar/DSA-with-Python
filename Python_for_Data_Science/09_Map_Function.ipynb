{
 "cells": [
  {
   "cell_type": "markdown",
   "id": "d296d127-1b56-4f63-821a-36a63725bb92",
   "metadata": {},
   "source": [
    "### Map Function\n",
    "\n",
    "The map() function executes a specified function for each item in an iterable. The item is sent to the function as a parameter. The map() function returns a map object, which can be easily converted to lists, tuples, etc."
   ]
  },
  {
   "cell_type": "code",
   "execution_count": 1,
   "id": "802d2ac2-3721-4ad3-aaea-174d4e859310",
   "metadata": {},
   "outputs": [],
   "source": [
    "def even_or_odd(num):\n",
    "    if num%2==0:\n",
    "        return \"The number {} is Even\".format(num)\n",
    "    else:\n",
    "        return \"The number {} is Odd\".format(num)"
   ]
  },
  {
   "cell_type": "code",
   "execution_count": 2,
   "id": "40d4df35-bfc8-45d6-a5a0-27836e04b3b8",
   "metadata": {},
   "outputs": [
    {
     "data": {
      "text/plain": [
       "'The number 7 is Odd'"
      ]
     },
     "execution_count": 2,
     "metadata": {},
     "output_type": "execute_result"
    }
   ],
   "source": [
    "even_or_odd(7)"
   ]
  },
  {
   "cell_type": "code",
   "execution_count": 3,
   "id": "a7882746-79b8-4ace-a532-24037591f07e",
   "metadata": {},
   "outputs": [],
   "source": [
    "lst = [1,2,3,4,5,6,7,8,9,10]"
   ]
  },
  {
   "cell_type": "code",
   "execution_count": 4,
   "id": "69a7073d-39e6-420b-9979-3b04036407a7",
   "metadata": {},
   "outputs": [
    {
     "data": {
      "text/plain": [
       "['The number 1 is Odd',\n",
       " 'The number 2 is Even',\n",
       " 'The number 3 is Odd',\n",
       " 'The number 4 is Even',\n",
       " 'The number 5 is Odd',\n",
       " 'The number 6 is Even',\n",
       " 'The number 7 is Odd',\n",
       " 'The number 8 is Even',\n",
       " 'The number 9 is Odd',\n",
       " 'The number 10 is Even']"
      ]
     },
     "execution_count": 4,
     "metadata": {},
     "output_type": "execute_result"
    }
   ],
   "source": [
    "list(map(even_or_odd, lst))"
   ]
  },
  {
   "cell_type": "code",
   "execution_count": 5,
   "id": "4a17dc05-896a-43bc-84c2-4931900c68b7",
   "metadata": {},
   "outputs": [],
   "source": [
    "# cube of certain numbers in the list\n",
    "def cube_of_even(num):\n",
    "    if num%2==0:\n",
    "        return num, num**3\n",
    "    else:\n",
    "        return num, num*0"
   ]
  },
  {
   "cell_type": "code",
   "execution_count": 6,
   "id": "472bfd21-d76b-4171-bb4f-a38fd14b7213",
   "metadata": {},
   "outputs": [
    {
     "data": {
      "text/plain": [
       "[(1, 0),\n",
       " (2, 8),\n",
       " (3, 0),\n",
       " (4, 64),\n",
       " (5, 0),\n",
       " (6, 216),\n",
       " (7, 0),\n",
       " (8, 512),\n",
       " (9, 0),\n",
       " (10, 1000)]"
      ]
     },
     "execution_count": 6,
     "metadata": {},
     "output_type": "execute_result"
    }
   ],
   "source": [
    "list(map(cube_of_even, lst))"
   ]
  }
 ],
 "metadata": {
  "kernelspec": {
   "display_name": "Deep_Learning",
   "language": "python",
   "name": "python3"
  },
  "language_info": {
   "codemirror_mode": {
    "name": "ipython",
    "version": 3
   },
   "file_extension": ".py",
   "mimetype": "text/x-python",
   "name": "python",
   "nbconvert_exporter": "python",
   "pygments_lexer": "ipython3",
   "version": "3.9.18"
  }
 },
 "nbformat": 4,
 "nbformat_minor": 5
}
