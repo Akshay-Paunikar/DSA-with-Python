{
 "cells": [
  {
   "cell_type": "markdown",
   "id": "1c3889a4-6f68-43a4-8450-8c3440bac770",
   "metadata": {},
   "source": [
    "<h2>Python Exception Handling</h2>"
   ]
  },
  {
   "cell_type": "markdown",
   "id": "43b6a374-c7e7-4f82-9020-e508074844f7",
   "metadata": {},
   "source": [
    "<b>What is the difference between an error and an exception in python?</b>\n",
    "\n",
    "<b>Answer:</b> An error is an issue in a program that prevents the program from completing its task. In comparison, an exception is a condition that interrupts the normal flow of the program. Both errors and exceptions are a type of runtime error, which means they occur during the execution of a program."
   ]
  },
  {
   "cell_type": "code",
   "execution_count": 1,
   "id": "4caa4ba5-eb9d-43c2-9baa-2eeda57e0f04",
   "metadata": {},
   "outputs": [
    {
     "ename": "SyntaxError",
     "evalue": "invalid syntax (2418906100.py, line 2)",
     "output_type": "error",
     "traceback": [
      "\u001b[1;36m  Cell \u001b[1;32mIn[1], line 2\u001b[1;36m\u001b[0m\n\u001b[1;33m    def add(a,b)\u001b[0m\n\u001b[1;37m                ^\u001b[0m\n\u001b[1;31mSyntaxError\u001b[0m\u001b[1;31m:\u001b[0m invalid syntax\n"
     ]
    }
   ],
   "source": [
    "# let's see some examples\n",
    "def add(a,b)\n",
    "    return a+b"
   ]
  },
  {
   "cell_type": "code",
   "execution_count": 2,
   "id": "92c0e24f-d7e7-4350-a9b0-43853d66a448",
   "metadata": {},
   "outputs": [
    {
     "ename": "ZeroDivisionError",
     "evalue": "division by zero",
     "output_type": "error",
     "traceback": [
      "\u001b[1;31m---------------------------------------------------------------------------\u001b[0m",
      "\u001b[1;31mZeroDivisionError\u001b[0m                         Traceback (most recent call last)",
      "Cell \u001b[1;32mIn[2], line 1\u001b[0m\n\u001b[1;32m----> 1\u001b[0m marks \u001b[38;5;241m=\u001b[39m \u001b[38;5;241;43m2\u001b[39;49m\u001b[38;5;241;43m/\u001b[39;49m\u001b[38;5;241;43m0\u001b[39;49m\n",
      "\u001b[1;31mZeroDivisionError\u001b[0m: division by zero"
     ]
    }
   ],
   "source": [
    "marks = 2/0"
   ]
  },
  {
   "cell_type": "code",
   "execution_count": 3,
   "id": "3c4fd33d-0fae-4226-beee-2325da5074ab",
   "metadata": {},
   "outputs": [
    {
     "ename": "IndentationError",
     "evalue": "expected an indented block (2905696862.py, line 2)",
     "output_type": "error",
     "traceback": [
      "\u001b[1;36m  Cell \u001b[1;32mIn[3], line 2\u001b[1;36m\u001b[0m\n\u001b[1;33m    return \"hello\"\u001b[0m\n\u001b[1;37m    ^\u001b[0m\n\u001b[1;31mIndentationError\u001b[0m\u001b[1;31m:\u001b[0m expected an indented block\n"
     ]
    }
   ],
   "source": [
    "if i>3:\n",
    "return \"hello\""
   ]
  },
  {
   "cell_type": "code",
   "execution_count": 4,
   "id": "158ec09c-4aa4-4ffb-9b05-f7c0ec6e0238",
   "metadata": {},
   "outputs": [
    {
     "ename": "NameError",
     "evalue": "name 'z' is not defined",
     "output_type": "error",
     "traceback": [
      "\u001b[1;31m---------------------------------------------------------------------------\u001b[0m",
      "\u001b[1;31mNameError\u001b[0m                                 Traceback (most recent call last)",
      "Cell \u001b[1;32mIn[4], line 1\u001b[0m\n\u001b[1;32m----> 1\u001b[0m y \u001b[38;5;241m=\u001b[39m \u001b[43mz\u001b[49m\n",
      "\u001b[1;31mNameError\u001b[0m: name 'z' is not defined"
     ]
    }
   ],
   "source": [
    "y = z"
   ]
  },
  {
   "cell_type": "code",
   "execution_count": 5,
   "id": "44950ee3-645d-4094-8277-4c23424fd866",
   "metadata": {},
   "outputs": [
    {
     "ename": "TypeError",
     "evalue": "unsupported operand type(s) for +: 'int' and 'str'",
     "output_type": "error",
     "traceback": [
      "\u001b[1;31m---------------------------------------------------------------------------\u001b[0m",
      "\u001b[1;31mTypeError\u001b[0m                                 Traceback (most recent call last)",
      "Cell \u001b[1;32mIn[5], line 3\u001b[0m\n\u001b[0;32m      1\u001b[0m a \u001b[38;5;241m=\u001b[39m \u001b[38;5;241m1\u001b[39m\n\u001b[0;32m      2\u001b[0m b \u001b[38;5;241m=\u001b[39m \u001b[38;5;124m'\u001b[39m\u001b[38;5;124mHello\u001b[39m\u001b[38;5;124m'\u001b[39m\n\u001b[1;32m----> 3\u001b[0m c \u001b[38;5;241m=\u001b[39m \u001b[43ma\u001b[49m\u001b[43m \u001b[49m\u001b[38;5;241;43m+\u001b[39;49m\u001b[43m \u001b[49m\u001b[43mb\u001b[49m\n",
      "\u001b[1;31mTypeError\u001b[0m: unsupported operand type(s) for +: 'int' and 'str'"
     ]
    }
   ],
   "source": [
    "a = 1\n",
    "b = 'Hello'\n",
    "c = a + b"
   ]
  },
  {
   "cell_type": "markdown",
   "id": "fef4d97b-4d0c-4ee1-b75f-fb82c7fc557e",
   "metadata": {},
   "source": [
    "<h4>Built-in Python Exceptions:</h4>"
   ]
  },
  {
   "cell_type": "markdown",
   "id": "f2f9a31c-a3a4-4203-867a-c70fdc1b7516",
   "metadata": {},
   "source": [
    " - <b>AssertionError:</b> raised when the assert statement fails.\n",
    " - <b>EOFError:</b> raised when the input() function meets the end-of-file condition.\n",
    " - <b>AttributeError:</b> raised when the attribute assignment or reference fails.\n",
    " - <b>TabError:</b> raised when the indentations consist of inconsistent tabs or spaces. \n",
    " - <b>ImportError:</b> raised when importing the module fails. \n",
    " - <b>IndexError:</b> occurs when the index of a sequence is out of range\n",
    " - <b>KeyboardInterrupt:</b> raised when the user inputs interrupt keys (Ctrl + C or Delete).\n",
    " - <b>RuntimeError:</b> occurs when an error does not fall into any category. \n",
    " - <b>NameError:</b> raised when a variable is not found in the local or global scope. \n",
    " - <b>MemoryError:</b> raised when programs run out of memory. \n",
    " - <b>ValueError:</b> occurs when the operation or function receives an argument with the right type but the wrong value. \n",
    " - <b>ZeroDivisionError:</b> raised when you divide a value or variable with zero. \n",
    " - <b>SyntaxError:</b> raised by the parser when the Python syntax is wrong. \n",
    " - <b>IndentationError:</b> occurs when there is a wrong indentation.\n",
    " - <b>SystemError:</b> raised when the interpreter detects an internal error.\n",
    "\n",
    "You can find a complete list of errors and exceptions in Python by reading the documentation: https://docs.python.org/3/library/exceptions.html"
   ]
  },
  {
   "cell_type": "markdown",
   "id": "9c12b988-e9b9-46cd-9883-fbfde6d96aff",
   "metadata": {},
   "source": [
    "We handle the exceptions using try-except block. See below codes for examples:"
   ]
  },
  {
   "cell_type": "code",
   "execution_count": 48,
   "id": "492835b3-cd96-45d4-86d7-84c1c3c1f26b",
   "metadata": {},
   "outputs": [
    {
     "ename": "SyntaxError",
     "evalue": "invalid syntax (234969440.py, line 3)",
     "output_type": "error",
     "traceback": [
      "\u001b[1;36m  Cell \u001b[1;32mIn[48], line 3\u001b[1;36m\u001b[0m\n\u001b[1;33m    def add(a,b)\u001b[0m\n\u001b[1;37m                ^\u001b[0m\n\u001b[1;31mSyntaxError\u001b[0m\u001b[1;31m:\u001b[0m invalid syntax\n"
     ]
    }
   ],
   "source": [
    "# syntax error (error)\n",
    "try:\n",
    "    def add(a,b)\n",
    "        return a+b\n",
    "except SyntaxError:\n",
    "    print(\"The user has given an invalid syntax in the function\")\n",
    "except Exception as e:\n",
    "    print(e)"
   ]
  },
  {
   "cell_type": "markdown",
   "id": "c3d6a545-f2e6-4afc-98fc-a4cd91f6fc2b",
   "metadata": {},
   "source": [
    "since this is an error, we are not able to handle it using custom messages. See below example on how we can create a custom message for an exception."
   ]
  },
  {
   "cell_type": "code",
   "execution_count": 49,
   "id": "0dcafdeb-e2df-4998-bcb2-bb887ec6e08c",
   "metadata": {},
   "outputs": [
    {
     "name": "stdout",
     "output_type": "stream",
     "text": [
      "division by zero is not allowed\n"
     ]
    }
   ],
   "source": [
    "# zero division error (exception)\n",
    "try:\n",
    "    test = 200/0\n",
    "except ZeroDivisionError:\n",
    "    print(\"division by zero is not allowed\")\n",
    "# below code block is the default from which all the exceptions are derived\n",
    "except Exception as e: \n",
    "    print(e)"
   ]
  },
  {
   "cell_type": "code",
   "execution_count": 50,
   "id": "b8b02b5e-1394-458d-a40e-bb1cd4ebf111",
   "metadata": {},
   "outputs": [
    {
     "ename": "IndentationError",
     "evalue": "expected an indented block (1637898974.py, line 4)",
     "output_type": "error",
     "traceback": [
      "\u001b[1;36m  Cell \u001b[1;32mIn[50], line 4\u001b[1;36m\u001b[0m\n\u001b[1;33m    return a+b\u001b[0m\n\u001b[1;37m    ^\u001b[0m\n\u001b[1;31mIndentationError\u001b[0m\u001b[1;31m:\u001b[0m expected an indented block\n"
     ]
    }
   ],
   "source": [
    "# IndentationError (error)\n",
    "try:\n",
    "    def add(a,b):\n",
    "    return a+b\n",
    "except IndentationError:\n",
    "    print(\"The user has given an invalid Indentation in the function\")\n",
    "except Exception as e:\n",
    "    print(e)"
   ]
  },
  {
   "cell_type": "code",
   "execution_count": 53,
   "id": "6c56c984-3f14-429c-a523-914e6e2543b2",
   "metadata": {},
   "outputs": [
    {
     "name": "stdout",
     "output_type": "stream",
     "text": [
      "The user has not defined a variable which is throwing an error\n"
     ]
    }
   ],
   "source": [
    "# NameError (exception)\n",
    "try:\n",
    "    y=z\n",
    "except NameError:\n",
    "    print(\"The user has not defined a variable which is throwing an error\")\n",
    "except Exception as e: \n",
    "    print(e)"
   ]
  },
  {
   "cell_type": "code",
   "execution_count": 54,
   "id": "67c244cd-48fa-43e0-9654-488cc8ea4211",
   "metadata": {},
   "outputs": [
    {
     "name": "stdout",
     "output_type": "stream",
     "text": [
      "The two variables have different datatypes. Hence we cannot do operations on them resulting in an error in code\n"
     ]
    }
   ],
   "source": [
    "# TypeError (exception)\n",
    "try:\n",
    "    a = 10\n",
    "    b = \"Hello\"\n",
    "    c = a + b\n",
    "except TypeError:\n",
    "    print(\"The two variables have different datatypes. Hence we cannot do operations on them resulting in an error in code\")\n",
    "except Exception as e: \n",
    "    print(e)"
   ]
  },
  {
   "cell_type": "markdown",
   "id": "72fff777-5823-4743-a1fa-a187e9b9bf55",
   "metadata": {},
   "source": [
    "<h4>try-except-else:</h4>\n",
    "\n",
    "we can use try-except-else if our code works and we need to print our output after it has successfully passed or not gave any error during execution. This is an optional code block as we can use a print statement in try and still get the output printed."
   ]
  },
  {
   "cell_type": "code",
   "execution_count": 55,
   "id": "7891300a-df41-4e48-8aef-ed275d8caadf",
   "metadata": {},
   "outputs": [
    {
     "name": "stdout",
     "output_type": "stream",
     "text": [
      "Enter the number 1  10\n",
      "Enter the number 2  10\n"
     ]
    },
    {
     "name": "stdout",
     "output_type": "stream",
     "text": [
      "1.0\n",
      "100\n",
      "20\n"
     ]
    }
   ],
   "source": [
    "### try else\n",
    "try:\n",
    "    ##code block where exception can occur\n",
    "    a=int(input(\"Enter the number 1 \"))\n",
    "    b=int(input(\"Enter the number 2 \"))\n",
    "    c=a/b \n",
    "    d=a*b\n",
    "    e=a+b\n",
    "    \n",
    "except NameError:\n",
    "    print(\"The user have not defined the variable\")\n",
    "except ZeroDivisionError:\n",
    "    print(\"Please provide number greater than 0\")\n",
    "except TypeError:\n",
    "    print(\"Try to make the datatype similar\")\n",
    "except Exception as ex:\n",
    "    print(ex)\n",
    "else:\n",
    "    print(c)\n",
    "    print(d)\n",
    "    print(e)"
   ]
  },
  {
   "cell_type": "markdown",
   "id": "b675e8a7-b3e6-4552-816d-693cc2fc3f75",
   "metadata": {},
   "source": [
    "<h4>try-except-else-finally:</h4>\n",
    "\n",
    "we can use try-except-else-finally if we are using multiple data sources and if the connection is establised to the database, but there is an error in operation. Here we can use finally which will run even if there is an error and we can close the database connection in this block"
   ]
  },
  {
   "cell_type": "code",
   "execution_count": 51,
   "id": "5f545a13-60a3-4e8c-8d88-21498d30b323",
   "metadata": {},
   "outputs": [
    {
     "name": "stdout",
     "output_type": "stream",
     "text": [
      "Enter the number 1  10\n",
      "Enter the number 2  4\n"
     ]
    },
    {
     "name": "stdout",
     "output_type": "stream",
     "text": [
      "2.5\n",
      "The connection to the database is established and data is imported now closing the connection\n"
     ]
    }
   ],
   "source": [
    "try:\n",
    "    ##code block where exception can occur\n",
    "    a=int(input(\"Enter the number 1 \"))\n",
    "    b=int(input(\"Enter the number 2 \"))\n",
    "    c=a/b\n",
    "    \n",
    "except NameError:\n",
    "    print(\"The user have not defined the variable\")\n",
    "except ZeroDivisionError:\n",
    "    print(\"Please provide number greater than 0\")\n",
    "except TypeError:\n",
    "    print(\"Try to make the datatype similar\")\n",
    "except Exception as ex:\n",
    "    print(ex)\n",
    "else:\n",
    "    print(c)\n",
    "finally:\n",
    "    print(\"The connection to the database is established and data is imported now closing the connection\")"
   ]
  },
  {
   "cell_type": "code",
   "execution_count": 52,
   "id": "df250284-a096-4089-b41b-34f4bd4ba3c6",
   "metadata": {},
   "outputs": [
    {
     "name": "stdout",
     "output_type": "stream",
     "text": [
      "Enter the number 1  10\n",
      "Enter the number 2  0\n"
     ]
    },
    {
     "name": "stdout",
     "output_type": "stream",
     "text": [
      "Please provide number greater than 0\n",
      "The connection to the database is established and data is imported now closing the connection\n"
     ]
    }
   ],
   "source": [
    "try:\n",
    "    ##code block where exception can occur\n",
    "    a=int(input(\"Enter the number 1 \"))\n",
    "    b=int(input(\"Enter the number 2 \"))\n",
    "    c=a/b\n",
    "    \n",
    "except NameError:\n",
    "    print(\"The user have not defined the variable\")\n",
    "except ZeroDivisionError:\n",
    "    print(\"Please provide number greater than 0\")\n",
    "except TypeError:\n",
    "    print(\"Try to make the datatype similar\")\n",
    "except Exception as ex:\n",
    "    print(ex)\n",
    "else:\n",
    "    print(c)\n",
    "finally:\n",
    "    print(\"The connection to the database is established and data is imported now closing the connection\")"
   ]
  },
  {
   "cell_type": "markdown",
   "id": "4770e002-7d43-4a98-b3b6-d5fd6b4483e3",
   "metadata": {},
   "source": [
    "<h3>Custom Exception:</h3>"
   ]
  },
  {
   "cell_type": "code",
   "execution_count": 10,
   "id": "020741d6-00b2-433b-ae4e-5efbb998de68",
   "metadata": {},
   "outputs": [],
   "source": [
    "class CustomException(Exception):\n",
    "    pass\n",
    "\n",
    "class age_countryException(CustomException):\n",
    "    pass"
   ]
  },
  {
   "cell_type": "code",
   "execution_count": 11,
   "id": "dd756584-e46d-4e43-b86a-9770748dd5c1",
   "metadata": {},
   "outputs": [
    {
     "name": "stdout",
     "output_type": "stream",
     "text": [
      "Congratulations!!! You're eligible to appear in Government Exams\n"
     ]
    }
   ],
   "source": [
    "age = int(input(\"Please enter your age as of today:\"))\n",
    "country = int(input(\"Please enter your country code:\"))\n",
    "\n",
    "try:\n",
    "    if age < 30 and country == 91:\n",
    "        print(\"Congratulations!!! You're eligible to appear in Government Exams\")\n",
    "    else:\n",
    "        raise age_countryException\n",
    "except age_countryException:\n",
    "    print(\"Either your age is above 30 or you are not INDIAN. Therefore you cannot appear for Government Exams\")"
   ]
  },
  {
   "cell_type": "code",
   "execution_count": 12,
   "id": "d1dbd9e2-4e1a-4a1b-b8d5-db6f0b39c6e8",
   "metadata": {},
   "outputs": [],
   "source": [
    "def GovtExams():\n",
    "    age = int(input(\"Please enter your age as of today:\"))\n",
    "    country = int(input(\"Please enter your country code:\"))\n",
    "\n",
    "    try:\n",
    "        if age <= 30 and country == 91:\n",
    "            print(\"Congratulations!!! You're eligible to appear in Government Exams\")\n",
    "        else:\n",
    "            raise age_countryException\n",
    "    except age_countryException:\n",
    "        print(\"Either your age is above 30 or you are not INDIAN. Therefore you cannot appear for Government Exams\")   "
   ]
  },
  {
   "cell_type": "code",
   "execution_count": 13,
   "id": "27fc85d7-66a5-4ad2-a79d-eae87844540e",
   "metadata": {},
   "outputs": [
    {
     "name": "stdout",
     "output_type": "stream",
     "text": [
      "Congratulations!!! You're eligible to appear in Government Exams\n"
     ]
    }
   ],
   "source": [
    "student1 = GovtExams()"
   ]
  },
  {
   "cell_type": "code",
   "execution_count": 14,
   "id": "425e39da-5540-4dc8-bf3c-2011067c9c3f",
   "metadata": {},
   "outputs": [
    {
     "name": "stdout",
     "output_type": "stream",
     "text": [
      "Either your age is above 30 or you are not INDIAN. Therefore you cannot appear for Government Exams\n"
     ]
    }
   ],
   "source": [
    "student2 = GovtExams()"
   ]
  }
 ],
 "metadata": {
  "kernelspec": {
   "display_name": "Deep_Learning",
   "language": "python",
   "name": "python3"
  },
  "language_info": {
   "codemirror_mode": {
    "name": "ipython",
    "version": 3
   },
   "file_extension": ".py",
   "mimetype": "text/x-python",
   "name": "python",
   "nbconvert_exporter": "python",
   "pygments_lexer": "ipython3",
   "version": "3.9.18"
  }
 },
 "nbformat": 4,
 "nbformat_minor": 5
}
