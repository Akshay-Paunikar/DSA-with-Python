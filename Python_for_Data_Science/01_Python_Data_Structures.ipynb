{
 "cells": [
  {
   "cell_type": "markdown",
   "metadata": {},
   "source": [
    "### Python Data Structures and Boolean\n",
    "\n",
    " - Boolean\n",
    " - Boolean and Logical Operators\n",
    " - Lists\n",
    " - Comparison operators\n",
    " - Dictionaries\n",
    " - Tuples\n",
    " - Sets"
   ]
  },
  {
   "cell_type": "markdown",
   "metadata": {},
   "source": [
    "### Boolean Variables\n",
    "\n",
    "Boolean values are the two constant objects False and True.\n",
    "\n",
    "They are used to represent truth values (other values can also be considered false or true).\n",
    "\n",
    "In numeric contexts (for example, when used as the argument to an arithmetic operator), they behave like the integers 0 and 1, respectively.\n",
    "\n",
    "The built-in function bool() can be used to cast any value to a Boolean, if the value can be interpreted as a truth value\n",
    "\n",
    "They are written as False and True, respectively."
   ]
  },
  {
   "cell_type": "code",
   "execution_count": 89,
   "metadata": {},
   "outputs": [
    {
     "name": "stdout",
     "output_type": "stream",
     "text": [
      "True False\n"
     ]
    }
   ],
   "source": [
    "print(True,False)"
   ]
  },
  {
   "cell_type": "code",
   "execution_count": 90,
   "metadata": {},
   "outputs": [
    {
     "data": {
      "text/plain": [
       "bool"
      ]
     },
     "execution_count": 90,
     "metadata": {},
     "output_type": "execute_result"
    }
   ],
   "source": [
    "type(True)"
   ]
  },
  {
   "cell_type": "code",
   "execution_count": 91,
   "metadata": {},
   "outputs": [
    {
     "data": {
      "text/plain": [
       "bool"
      ]
     },
     "execution_count": 91,
     "metadata": {},
     "output_type": "execute_result"
    }
   ],
   "source": [
    "type(False)"
   ]
  },
  {
   "cell_type": "code",
   "execution_count": 92,
   "metadata": {},
   "outputs": [],
   "source": [
    "my_str='Akshay1234'"
   ]
  },
  {
   "cell_type": "code",
   "execution_count": 93,
   "metadata": {},
   "outputs": [
    {
     "data": {
      "text/plain": [
       "True"
      ]
     },
     "execution_count": 93,
     "metadata": {},
     "output_type": "execute_result"
    }
   ],
   "source": [
    "my_str.istitle()"
   ]
  },
  {
   "cell_type": "code",
   "execution_count": 94,
   "metadata": {},
   "outputs": [
    {
     "name": "stdout",
     "output_type": "stream",
     "text": [
      "True\n",
      "False\n",
      "False\n",
      "True\n",
      "False\n",
      "False\n",
      "False\n",
      "False\n",
      "True\n"
     ]
    }
   ],
   "source": [
    "print(my_str.isalnum()) #check if all characters are alphanumeric, meaning alphabet letter (a-z) and numbers (0-9).\n",
    "print(my_str.isalpha()) #check if all characters in the string are alphabetic\n",
    "print(my_str.isdigit()) #test if string characters are digits, otherwise False.\n",
    "print(my_str.istitle()) #test if all words in a text start with a upper case letter, AND the rest of the word are lower case letters, otherwise False.\n",
    "print(my_str.isupper()) #test if all the characters are in upper case, otherwise False. \n",
    "print(my_str.islower()) #test if if all the characters are in lower case, otherwise False.\n",
    "print(my_str.isspace()) #test if all the characters in a string are whitespaces, otherwise False.\n",
    "print(my_str.endswith('A')) #test if the string ends with the specified value, otherwise False.\n",
    "print(my_str.startswith('A')) #test if the string starts with the specified value, otherwise False."
   ]
  },
  {
   "cell_type": "markdown",
   "metadata": {},
   "source": [
    "### Boolean and Logical Operators\n",
    "\n",
    "As you all know that if all the inputs to \"AND\" are TRUE then the output is TRUE and if all the inputs to \"OR\" are FALSE then output is FALSE. See examples below:"
   ]
  },
  {
   "cell_type": "code",
   "execution_count": 95,
   "metadata": {},
   "outputs": [
    {
     "data": {
      "text/plain": [
       "True"
      ]
     },
     "execution_count": 95,
     "metadata": {},
     "output_type": "execute_result"
    }
   ],
   "source": [
    "True and True"
   ]
  },
  {
   "cell_type": "code",
   "execution_count": 96,
   "metadata": {},
   "outputs": [
    {
     "data": {
      "text/plain": [
       "False"
      ]
     },
     "execution_count": 96,
     "metadata": {},
     "output_type": "execute_result"
    }
   ],
   "source": [
    "True and False"
   ]
  },
  {
   "cell_type": "code",
   "execution_count": 97,
   "metadata": {},
   "outputs": [
    {
     "data": {
      "text/plain": [
       "False"
      ]
     },
     "execution_count": 97,
     "metadata": {},
     "output_type": "execute_result"
    }
   ],
   "source": [
    "False and True"
   ]
  },
  {
   "cell_type": "code",
   "execution_count": 98,
   "metadata": {},
   "outputs": [
    {
     "data": {
      "text/plain": [
       "False"
      ]
     },
     "execution_count": 98,
     "metadata": {},
     "output_type": "execute_result"
    }
   ],
   "source": [
    "False and False"
   ]
  },
  {
   "cell_type": "code",
   "execution_count": 99,
   "metadata": {},
   "outputs": [
    {
     "data": {
      "text/plain": [
       "True"
      ]
     },
     "execution_count": 99,
     "metadata": {},
     "output_type": "execute_result"
    }
   ],
   "source": [
    "True or True"
   ]
  },
  {
   "cell_type": "code",
   "execution_count": 100,
   "metadata": {},
   "outputs": [
    {
     "data": {
      "text/plain": [
       "True"
      ]
     },
     "execution_count": 100,
     "metadata": {},
     "output_type": "execute_result"
    }
   ],
   "source": [
    "True or False"
   ]
  },
  {
   "cell_type": "code",
   "execution_count": 101,
   "metadata": {},
   "outputs": [
    {
     "data": {
      "text/plain": [
       "True"
      ]
     },
     "execution_count": 101,
     "metadata": {},
     "output_type": "execute_result"
    }
   ],
   "source": [
    "False or True"
   ]
  },
  {
   "cell_type": "code",
   "execution_count": 102,
   "metadata": {},
   "outputs": [
    {
     "data": {
      "text/plain": [
       "False"
      ]
     },
     "execution_count": 102,
     "metadata": {},
     "output_type": "execute_result"
    }
   ],
   "source": [
    "False or False"
   ]
  },
  {
   "cell_type": "markdown",
   "metadata": {},
   "source": [
    "### Lists\n",
    "A list is a data structure in Python that is a mutable, or changeable, ordered sequence of elements. Each element or value that is inside of a list is called an item. Just as strings are defined as characters between quotes, lists are defined by having values between square brackets [ ]. Lists are used to store multiple items in a single variable."
   ]
  },
  {
   "cell_type": "code",
   "execution_count": 103,
   "metadata": {},
   "outputs": [
    {
     "data": {
      "text/plain": [
       "list"
      ]
     },
     "execution_count": 103,
     "metadata": {},
     "output_type": "execute_result"
    }
   ],
   "source": [
    "type([])"
   ]
  },
  {
   "cell_type": "code",
   "execution_count": 104,
   "metadata": {},
   "outputs": [],
   "source": [
    "lst_example=[]"
   ]
  },
  {
   "cell_type": "code",
   "execution_count": 105,
   "metadata": {},
   "outputs": [
    {
     "data": {
      "text/plain": [
       "list"
      ]
     },
     "execution_count": 105,
     "metadata": {},
     "output_type": "execute_result"
    }
   ],
   "source": [
    "type(lst_example)"
   ]
  },
  {
   "cell_type": "code",
   "execution_count": 106,
   "metadata": {},
   "outputs": [],
   "source": [
    "lst=list()"
   ]
  },
  {
   "cell_type": "code",
   "execution_count": 107,
   "metadata": {},
   "outputs": [
    {
     "data": {
      "text/plain": [
       "list"
      ]
     },
     "execution_count": 107,
     "metadata": {},
     "output_type": "execute_result"
    }
   ],
   "source": [
    "type(lst)"
   ]
  },
  {
   "cell_type": "code",
   "execution_count": 108,
   "metadata": {},
   "outputs": [],
   "source": [
    "lst=['Mathematics', 'chemistry', 100, 200, 300, 204]"
   ]
  },
  {
   "cell_type": "code",
   "execution_count": 109,
   "metadata": {},
   "outputs": [
    {
     "data": {
      "text/plain": [
       "6"
      ]
     },
     "execution_count": 109,
     "metadata": {},
     "output_type": "execute_result"
    }
   ],
   "source": [
    "len(lst)"
   ]
  },
  {
   "cell_type": "code",
   "execution_count": 110,
   "metadata": {},
   "outputs": [
    {
     "data": {
      "text/plain": [
       "list"
      ]
     },
     "execution_count": 110,
     "metadata": {},
     "output_type": "execute_result"
    }
   ],
   "source": [
    "type(lst)"
   ]
  },
  {
   "cell_type": "markdown",
   "metadata": {},
   "source": [
    "#### Append: .append is used to add elements in the list"
   ]
  },
  {
   "cell_type": "code",
   "execution_count": 111,
   "metadata": {},
   "outputs": [],
   "source": [
    "lst.append(\"Akshay\")"
   ]
  },
  {
   "cell_type": "code",
   "execution_count": 112,
   "metadata": {},
   "outputs": [],
   "source": [
    "lst.append([\"John\",\"Bala\"])"
   ]
  },
  {
   "cell_type": "code",
   "execution_count": 113,
   "metadata": {},
   "outputs": [
    {
     "data": {
      "text/plain": [
       "['Mathematics', 'chemistry', 100, 200, 300, 204, 'Akshay', ['John', 'Bala']]"
      ]
     },
     "execution_count": 113,
     "metadata": {},
     "output_type": "execute_result"
    }
   ],
   "source": [
    "lst"
   ]
  },
  {
   "cell_type": "markdown",
   "metadata": {},
   "source": [
    "#### Indexing"
   ]
  },
  {
   "cell_type": "code",
   "execution_count": 114,
   "metadata": {},
   "outputs": [
    {
     "data": {
      "text/plain": [
       "'Akshay'"
      ]
     },
     "execution_count": 114,
     "metadata": {},
     "output_type": "execute_result"
    }
   ],
   "source": [
    "lst[6]"
   ]
  },
  {
   "cell_type": "code",
   "execution_count": 115,
   "metadata": {},
   "outputs": [
    {
     "data": {
      "text/plain": [
       "['chemistry', 100, 200, 300, 204]"
      ]
     },
     "execution_count": 115,
     "metadata": {},
     "output_type": "execute_result"
    }
   ],
   "source": [
    "lst[1:6]"
   ]
  },
  {
   "cell_type": "markdown",
   "metadata": {},
   "source": [
    "#### Insert: insert in a specific order"
   ]
  },
  {
   "cell_type": "code",
   "execution_count": 116,
   "metadata": {},
   "outputs": [],
   "source": [
    "lst.insert(2,\"Paunikar\")"
   ]
  },
  {
   "cell_type": "code",
   "execution_count": 117,
   "metadata": {},
   "outputs": [
    {
     "data": {
      "text/plain": [
       "['Mathematics',\n",
       " 'chemistry',\n",
       " 'Paunikar',\n",
       " 100,\n",
       " 200,\n",
       " 300,\n",
       " 204,\n",
       " 'Akshay',\n",
       " ['John', 'Bala']]"
      ]
     },
     "execution_count": 117,
     "metadata": {},
     "output_type": "execute_result"
    }
   ],
   "source": [
    "lst"
   ]
  },
  {
   "cell_type": "code",
   "execution_count": 118,
   "metadata": {},
   "outputs": [],
   "source": [
    "lst.append([\"Hello\",\"World\"])"
   ]
  },
  {
   "cell_type": "code",
   "execution_count": 119,
   "metadata": {},
   "outputs": [
    {
     "data": {
      "text/plain": [
       "['Mathematics',\n",
       " 'chemistry',\n",
       " 'Paunikar',\n",
       " 100,\n",
       " 200,\n",
       " 300,\n",
       " 204,\n",
       " 'Akshay',\n",
       " ['John', 'Bala'],\n",
       " ['Hello', 'World']]"
      ]
     },
     "execution_count": 119,
     "metadata": {},
     "output_type": "execute_result"
    }
   ],
   "source": [
    "lst"
   ]
  },
  {
   "cell_type": "code",
   "execution_count": 120,
   "metadata": {},
   "outputs": [],
   "source": [
    "lst=[1,2,3]"
   ]
  },
  {
   "cell_type": "code",
   "execution_count": 121,
   "metadata": {},
   "outputs": [],
   "source": [
    "lst.append([4,5])"
   ]
  },
  {
   "cell_type": "code",
   "execution_count": 122,
   "metadata": {},
   "outputs": [
    {
     "data": {
      "text/plain": [
       "[1, 2, 3, [4, 5]]"
      ]
     },
     "execution_count": 122,
     "metadata": {},
     "output_type": "execute_result"
    }
   ],
   "source": [
    "lst"
   ]
  },
  {
   "cell_type": "markdown",
   "metadata": {},
   "source": [
    "#### Extend Method"
   ]
  },
  {
   "cell_type": "code",
   "execution_count": 123,
   "metadata": {},
   "outputs": [],
   "source": [
    "lst=[1,2,3,4,5,6]"
   ]
  },
  {
   "cell_type": "code",
   "execution_count": 124,
   "metadata": {},
   "outputs": [],
   "source": [
    "lst.extend([8,9])"
   ]
  },
  {
   "cell_type": "code",
   "execution_count": 125,
   "metadata": {},
   "outputs": [
    {
     "data": {
      "text/plain": [
       "[1, 2, 3, 4, 5, 6, 8, 9]"
      ]
     },
     "execution_count": 125,
     "metadata": {},
     "output_type": "execute_result"
    }
   ],
   "source": [
    "lst"
   ]
  },
  {
   "cell_type": "markdown",
   "metadata": {},
   "source": [
    "#### Various Operations that we can perform in List"
   ]
  },
  {
   "cell_type": "code",
   "execution_count": 126,
   "metadata": {},
   "outputs": [],
   "source": [
    "lst=[1,2,3,4,5]"
   ]
  },
  {
   "cell_type": "code",
   "execution_count": 127,
   "metadata": {},
   "outputs": [
    {
     "data": {
      "text/plain": [
       "15"
      ]
     },
     "execution_count": 127,
     "metadata": {},
     "output_type": "execute_result"
    }
   ],
   "source": [
    "sum(lst)"
   ]
  },
  {
   "cell_type": "code",
   "execution_count": 128,
   "metadata": {},
   "outputs": [
    {
     "data": {
      "text/plain": [
       "[1, 2, 3, 4, 5, 1, 2, 3, 4, 5, 1, 2, 3, 4, 5, 1, 2, 3, 4, 5, 1, 2, 3, 4, 5]"
      ]
     },
     "execution_count": 128,
     "metadata": {},
     "output_type": "execute_result"
    }
   ],
   "source": [
    "lst*5"
   ]
  },
  {
   "cell_type": "markdown",
   "metadata": {},
   "source": [
    "#### Pop() Method"
   ]
  },
  {
   "cell_type": "code",
   "execution_count": 129,
   "metadata": {},
   "outputs": [
    {
     "data": {
      "text/plain": [
       "5"
      ]
     },
     "execution_count": 129,
     "metadata": {},
     "output_type": "execute_result"
    }
   ],
   "source": [
    "lst.pop()"
   ]
  },
  {
   "cell_type": "code",
   "execution_count": 130,
   "metadata": {},
   "outputs": [
    {
     "data": {
      "text/plain": [
       "[1, 2, 3, 4]"
      ]
     },
     "execution_count": 130,
     "metadata": {},
     "output_type": "execute_result"
    }
   ],
   "source": [
    "lst"
   ]
  },
  {
   "cell_type": "code",
   "execution_count": 131,
   "metadata": {},
   "outputs": [
    {
     "data": {
      "text/plain": [
       "1"
      ]
     },
     "execution_count": 131,
     "metadata": {},
     "output_type": "execute_result"
    }
   ],
   "source": [
    "lst.pop(0)"
   ]
  },
  {
   "cell_type": "code",
   "execution_count": 132,
   "metadata": {},
   "outputs": [
    {
     "data": {
      "text/plain": [
       "[2, 3, 4]"
      ]
     },
     "execution_count": 132,
     "metadata": {},
     "output_type": "execute_result"
    }
   ],
   "source": [
    "lst"
   ]
  },
  {
   "cell_type": "markdown",
   "metadata": {},
   "source": [
    "#### count(): Calculates total occurrence of given element of List"
   ]
  },
  {
   "cell_type": "code",
   "execution_count": 133,
   "metadata": {},
   "outputs": [
    {
     "data": {
      "text/plain": [
       "2"
      ]
     },
     "execution_count": 133,
     "metadata": {},
     "output_type": "execute_result"
    }
   ],
   "source": [
    "lst=[1,1,2,3,4,5]\n",
    "lst.count(1)"
   ]
  },
  {
   "cell_type": "code",
   "execution_count": 134,
   "metadata": {},
   "outputs": [
    {
     "data": {
      "text/plain": [
       "6"
      ]
     },
     "execution_count": 134,
     "metadata": {},
     "output_type": "execute_result"
    }
   ],
   "source": [
    "#length:Calculates total length of List\n",
    "len(lst)"
   ]
  },
  {
   "cell_type": "code",
   "execution_count": 135,
   "metadata": {},
   "outputs": [
    {
     "data": {
      "text/plain": [
       "1"
      ]
     },
     "execution_count": 135,
     "metadata": {},
     "output_type": "execute_result"
    }
   ],
   "source": [
    "# index(): Returns the index of first occurrence. Start and End index are not necessary parameters\n",
    "lst.index(1,1,4)"
   ]
  },
  {
   "cell_type": "code",
   "execution_count": 136,
   "metadata": {},
   "outputs": [
    {
     "name": "stdout",
     "output_type": "stream",
     "text": [
      "1\n",
      "5\n"
     ]
    }
   ],
   "source": [
    "# Min and Max\n",
    "print(min(lst))\n",
    "print(max(lst))"
   ]
  },
  {
   "cell_type": "markdown",
   "metadata": {},
   "source": [
    "### SETS\n",
    "\n",
    "A Set is an unordered collection data type that is iterable, mutable, and has no duplicate elements. Python's set class represents the mathematical notion of a set. This is based on a data structure known as a hash table. It is used to convert any of the iterable to a sequence of iterable elements with distinct elements. It is a collection that is written with curly brackets and is both unindexed and unordered."
   ]
  },
  {
   "cell_type": "code",
   "execution_count": 137,
   "metadata": {},
   "outputs": [
    {
     "name": "stdout",
     "output_type": "stream",
     "text": [
      "set()\n",
      "<class 'set'>\n"
     ]
    }
   ],
   "source": [
    "# Defining an empy set\n",
    "\n",
    "set_var= set()\n",
    "print(set_var)\n",
    "print(type(set_var))"
   ]
  },
  {
   "cell_type": "code",
   "execution_count": 138,
   "metadata": {},
   "outputs": [],
   "source": [
    "set_var={1,2,3,4,3}"
   ]
  },
  {
   "cell_type": "code",
   "execution_count": 139,
   "metadata": {},
   "outputs": [
    {
     "data": {
      "text/plain": [
       "{1, 2, 3, 4}"
      ]
     },
     "execution_count": 139,
     "metadata": {},
     "output_type": "execute_result"
    }
   ],
   "source": [
    "set_var"
   ]
  },
  {
   "cell_type": "code",
   "execution_count": 140,
   "metadata": {},
   "outputs": [
    {
     "name": "stdout",
     "output_type": "stream",
     "text": [
      "{'Avengers', 'IronMan', 'Hitman'}\n"
     ]
    },
    {
     "data": {
      "text/plain": [
       "set"
      ]
     },
     "execution_count": 140,
     "metadata": {},
     "output_type": "execute_result"
    }
   ],
   "source": [
    "set_var={\"Avengers\",\"IronMan\",'Hitman'}\n",
    "print(set_var)\n",
    "type(set_var)\n"
   ]
  },
  {
   "cell_type": "code",
   "execution_count": 141,
   "metadata": {},
   "outputs": [],
   "source": [
    "# Inbuilt function in sets\n",
    "\n",
    "set_var.add(\"Hulk\")"
   ]
  },
  {
   "cell_type": "code",
   "execution_count": 142,
   "metadata": {},
   "outputs": [
    {
     "name": "stdout",
     "output_type": "stream",
     "text": [
      "{'Avengers', 'IronMan', 'Hitman', 'Hulk'}\n"
     ]
    }
   ],
   "source": [
    "print(set_var)"
   ]
  },
  {
   "cell_type": "code",
   "execution_count": 143,
   "metadata": {},
   "outputs": [],
   "source": [
    "set1={\"Avengers\",\"IronMan\",'Hitman'}\n",
    "set2={\"Avengers\",\"IronMan\",'Hitman','Hulk2'}"
   ]
  },
  {
   "cell_type": "code",
   "execution_count": 144,
   "metadata": {},
   "outputs": [
    {
     "data": {
      "text/plain": [
       "{'Hulk2'}"
      ]
     },
     "execution_count": 144,
     "metadata": {},
     "output_type": "execute_result"
    }
   ],
   "source": [
    "# Difference \n",
    "set2.difference(set1)"
   ]
  },
  {
   "cell_type": "code",
   "execution_count": 145,
   "metadata": {},
   "outputs": [
    {
     "data": {
      "text/plain": [
       "{'Avengers', 'Hitman', 'Hulk2', 'IronMan'}"
      ]
     },
     "execution_count": 145,
     "metadata": {},
     "output_type": "execute_result"
    }
   ],
   "source": [
    "set2"
   ]
  },
  {
   "cell_type": "code",
   "execution_count": 146,
   "metadata": {},
   "outputs": [],
   "source": [
    "set2.intersection_update(set1)"
   ]
  },
  {
   "cell_type": "code",
   "execution_count": 147,
   "metadata": {},
   "outputs": [
    {
     "data": {
      "text/plain": [
       "{'Avengers', 'Hitman', 'IronMan'}"
      ]
     },
     "execution_count": 147,
     "metadata": {},
     "output_type": "execute_result"
    }
   ],
   "source": [
    "set2"
   ]
  },
  {
   "cell_type": "code",
   "execution_count": 148,
   "metadata": {},
   "outputs": [],
   "source": [
    "# Difference update\n",
    "\n",
    "set2.difference_update(set1)"
   ]
  },
  {
   "cell_type": "code",
   "execution_count": 149,
   "metadata": {},
   "outputs": [
    {
     "name": "stdout",
     "output_type": "stream",
     "text": [
      "set()\n"
     ]
    }
   ],
   "source": [
    "print(set2)"
   ]
  },
  {
   "cell_type": "markdown",
   "metadata": {},
   "source": [
    "### Dictionaries:\n",
    "\n",
    "A dictionary is a collection which is unordered, changeable and indexed. In Python dictionaries are written with curly brackets, and they have keys and values. A dictionary is a kind of data structure that stores items in key-value pairs. A key is a unique identifier for an item, and a value is the data associated with that key. Dictionaries often store information such as words and definitions, but they can be used for much more."
   ]
  },
  {
   "cell_type": "code",
   "execution_count": 150,
   "metadata": {},
   "outputs": [],
   "source": [
    "dic={}"
   ]
  },
  {
   "cell_type": "code",
   "execution_count": 151,
   "metadata": {},
   "outputs": [
    {
     "data": {
      "text/plain": [
       "dict"
      ]
     },
     "execution_count": 151,
     "metadata": {},
     "output_type": "execute_result"
    }
   ],
   "source": [
    "type(dic)"
   ]
  },
  {
   "cell_type": "code",
   "execution_count": 152,
   "metadata": {},
   "outputs": [
    {
     "data": {
      "text/plain": [
       "dict"
      ]
     },
     "execution_count": 152,
     "metadata": {},
     "output_type": "execute_result"
    }
   ],
   "source": [
    "type(dict())"
   ]
  },
  {
   "cell_type": "code",
   "execution_count": 153,
   "metadata": {},
   "outputs": [],
   "source": [
    "set_ex={1,2,3,4,5}"
   ]
  },
  {
   "cell_type": "code",
   "execution_count": 154,
   "metadata": {},
   "outputs": [
    {
     "data": {
      "text/plain": [
       "set"
      ]
     },
     "execution_count": 154,
     "metadata": {},
     "output_type": "execute_result"
    }
   ],
   "source": [
    "type(set_ex)"
   ]
  },
  {
   "cell_type": "code",
   "execution_count": 155,
   "metadata": {},
   "outputs": [],
   "source": [
    "# Let's create a dictionary\n",
    "\n",
    "my_dict={\"Car1\": \"Audi\", \"Car2\":\"BMW\",\"Car3\":\"Mercedes Benz\"}"
   ]
  },
  {
   "cell_type": "code",
   "execution_count": 156,
   "metadata": {},
   "outputs": [
    {
     "data": {
      "text/plain": [
       "dict"
      ]
     },
     "execution_count": 156,
     "metadata": {},
     "output_type": "execute_result"
    }
   ],
   "source": [
    "type(my_dict)"
   ]
  },
  {
   "cell_type": "code",
   "execution_count": 157,
   "metadata": {},
   "outputs": [
    {
     "data": {
      "text/plain": [
       "'Audi'"
      ]
     },
     "execution_count": 157,
     "metadata": {},
     "output_type": "execute_result"
    }
   ],
   "source": [
    "#Access the item values based on keys\n",
    "\n",
    "my_dict['Car1']"
   ]
  },
  {
   "cell_type": "code",
   "execution_count": 158,
   "metadata": {},
   "outputs": [
    {
     "name": "stdout",
     "output_type": "stream",
     "text": [
      "Car1\n",
      "Car2\n",
      "Car3\n"
     ]
    }
   ],
   "source": [
    "# We can even loop throught the dictionaries keys\n",
    "\n",
    "for x in my_dict:\n",
    "    print(x)"
   ]
  },
  {
   "cell_type": "code",
   "execution_count": 159,
   "metadata": {},
   "outputs": [
    {
     "name": "stdout",
     "output_type": "stream",
     "text": [
      "Audi\n",
      "BMW\n",
      "Mercedes Benz\n"
     ]
    }
   ],
   "source": [
    "# We can even loop throught the dictionaries values\n",
    "\n",
    "for x in my_dict.values():\n",
    "    print(x)"
   ]
  },
  {
   "cell_type": "code",
   "execution_count": 160,
   "metadata": {},
   "outputs": [
    {
     "name": "stdout",
     "output_type": "stream",
     "text": [
      "('Car1', 'Audi')\n",
      "('Car2', 'BMW')\n",
      "('Car3', 'Mercedes Benz')\n"
     ]
    }
   ],
   "source": [
    "# We can also check both keys and values\n",
    "for x in my_dict.items():\n",
    "    print(x)"
   ]
  },
  {
   "cell_type": "code",
   "execution_count": 161,
   "metadata": {},
   "outputs": [],
   "source": [
    "# Adding items in Dictionaries\n",
    "\n",
    "my_dict['car4']='Lamborghini'"
   ]
  },
  {
   "cell_type": "code",
   "execution_count": 162,
   "metadata": {},
   "outputs": [
    {
     "data": {
      "text/plain": [
       "{'Car1': 'Audi', 'Car2': 'BMW', 'Car3': 'Mercedes Benz', 'car4': 'Lamborghini'}"
      ]
     },
     "execution_count": 162,
     "metadata": {},
     "output_type": "execute_result"
    }
   ],
   "source": [
    "my_dict"
   ]
  },
  {
   "cell_type": "code",
   "execution_count": 163,
   "metadata": {},
   "outputs": [],
   "source": [
    "my_dict['Car1']='Aston Martin'"
   ]
  },
  {
   "cell_type": "code",
   "execution_count": 164,
   "metadata": {},
   "outputs": [
    {
     "data": {
      "text/plain": [
       "{'Car1': 'Aston Martin',\n",
       " 'Car2': 'BMW',\n",
       " 'Car3': 'Mercedes Benz',\n",
       " 'car4': 'Lamborghini'}"
      ]
     },
     "execution_count": 164,
     "metadata": {},
     "output_type": "execute_result"
    }
   ],
   "source": [
    "my_dict"
   ]
  },
  {
   "cell_type": "markdown",
   "metadata": {},
   "source": [
    "#### Nested Dictionary"
   ]
  },
  {
   "cell_type": "code",
   "execution_count": 165,
   "metadata": {},
   "outputs": [],
   "source": [
    "car1_model={'Mercedes':1960}\n",
    "car2_model={'Audi':1970}\n",
    "car3_model={'Ambassador':1980}\n",
    "\n",
    "car_type={'car1':car1_model,'car2':car2_model,'car3':car3_model}"
   ]
  },
  {
   "cell_type": "code",
   "execution_count": 166,
   "metadata": {},
   "outputs": [
    {
     "name": "stdout",
     "output_type": "stream",
     "text": [
      "{'car1': {'Mercedes': 1960}, 'car2': {'Audi': 1970}, 'car3': {'Ambassador': 1980}}\n"
     ]
    }
   ],
   "source": [
    "print(car_type)"
   ]
  },
  {
   "cell_type": "code",
   "execution_count": 167,
   "metadata": {},
   "outputs": [
    {
     "name": "stdout",
     "output_type": "stream",
     "text": [
      "{'Mercedes': 1960}\n"
     ]
    }
   ],
   "source": [
    "# Accessing the items in the dictionary\n",
    "\n",
    "print(car_type['car1'])"
   ]
  },
  {
   "cell_type": "code",
   "execution_count": 168,
   "metadata": {},
   "outputs": [
    {
     "name": "stdout",
     "output_type": "stream",
     "text": [
      "1960\n"
     ]
    }
   ],
   "source": [
    "print(car_type['car1']['Mercedes'])"
   ]
  },
  {
   "cell_type": "markdown",
   "metadata": {},
   "source": [
    "### Tuples:\n",
    "\n",
    "Python tuples are a type of data structure that is very similar to lists. The main difference between the two is that tuples are immutable, meaning they cannot be changed once they are created. This makes them ideal for storing data that should not be modified, such as database records. Tuples are written with round brackets."
   ]
  },
  {
   "cell_type": "code",
   "execution_count": 169,
   "metadata": {},
   "outputs": [],
   "source": [
    "# create an empty Tuples\n",
    "\n",
    "my_tuple=tuple()"
   ]
  },
  {
   "cell_type": "code",
   "execution_count": 170,
   "metadata": {},
   "outputs": [
    {
     "data": {
      "text/plain": [
       "tuple"
      ]
     },
     "execution_count": 170,
     "metadata": {},
     "output_type": "execute_result"
    }
   ],
   "source": [
    "type(my_tuple)"
   ]
  },
  {
   "cell_type": "code",
   "execution_count": 171,
   "metadata": {},
   "outputs": [],
   "source": [
    "my_tuple=()"
   ]
  },
  {
   "cell_type": "code",
   "execution_count": 172,
   "metadata": {},
   "outputs": [
    {
     "data": {
      "text/plain": [
       "tuple"
      ]
     },
     "execution_count": 172,
     "metadata": {},
     "output_type": "execute_result"
    }
   ],
   "source": [
    "type(my_tuple)"
   ]
  },
  {
   "cell_type": "code",
   "execution_count": 173,
   "metadata": {},
   "outputs": [],
   "source": [
    "my_tuple=(\"Akshay\",\"Ankur\",\"John\")"
   ]
  },
  {
   "cell_type": "code",
   "execution_count": 174,
   "metadata": {},
   "outputs": [
    {
     "name": "stdout",
     "output_type": "stream",
     "text": [
      "<class 'tuple'>\n",
      "('Akshay', 'Ankur', 'John')\n"
     ]
    }
   ],
   "source": [
    "print(type(my_tuple))\n",
    "print(my_tuple)"
   ]
  },
  {
   "cell_type": "code",
   "execution_count": 175,
   "metadata": {},
   "outputs": [
    {
     "data": {
      "text/plain": [
       "1"
      ]
     },
     "execution_count": 175,
     "metadata": {},
     "output_type": "execute_result"
    }
   ],
   "source": [
    "my_tuple.count('Akshay')"
   ]
  },
  {
   "cell_type": "code",
   "execution_count": 176,
   "metadata": {},
   "outputs": [
    {
     "data": {
      "text/plain": [
       "1"
      ]
     },
     "execution_count": 176,
     "metadata": {},
     "output_type": "execute_result"
    }
   ],
   "source": [
    "my_tuple.index('Ankur')"
   ]
  },
  {
   "cell_type": "markdown",
   "metadata": {},
   "source": [
    "### Python Variables and datatypes Revision"
   ]
  },
  {
   "cell_type": "code",
   "execution_count": 2,
   "metadata": {},
   "outputs": [
    {
     "name": "stdout",
     "output_type": "stream",
     "text": [
      "akshay 31\n"
     ]
    }
   ],
   "source": [
    "# Programming has two concepts: machine and code. We write code to instruct machine to perform or automate our tasks.\n",
    "# Translator works as a compiler or interpreter which transforms python code into machine readable format.\n",
    "# Variable: A variable is a name given to a memory location in a program.\n",
    "\n",
    "name = \"akshay\"\n",
    "age = 31\n",
    "\n",
    "print(name, age)"
   ]
  },
  {
   "cell_type": "code",
   "execution_count": 3,
   "metadata": {},
   "outputs": [
    {
     "name": "stdout",
     "output_type": "stream",
     "text": [
      "<class 'str'>\n",
      "<class 'int'>\n",
      "<class 'float'>\n",
      "<class 'bool'>\n",
      "<class 'NoneType'>\n"
     ]
    }
   ],
   "source": [
    "# Datatypes\n",
    "# Integers: +ve, -ve or 0.\n",
    "# Strings: text in single '' or double quotes \"\"\n",
    "# Float: decimal values\n",
    "# Boolean: True or False\n",
    "# None: No value stored.\n",
    "\n",
    "name = \"akshay\"\n",
    "age = 31\n",
    "height = 5.7\n",
    "male = True\n",
    "swim = None\n",
    "\n",
    "print(type(name))\n",
    "print(type(age))\n",
    "print(type(height))\n",
    "print(type(male))\n",
    "print(type(swim))"
   ]
  },
  {
   "cell_type": "code",
   "execution_count": 4,
   "metadata": {},
   "outputs": [
    {
     "name": "stdout",
     "output_type": "stream",
     "text": [
      "akshay 31 5.7\n"
     ]
    }
   ],
   "source": [
    "# Keywords are the reserved words in python which we cannot use as a variable.\n",
    "# Punctuators are symbols to organize sentence structure in programming.\n",
    "# Expression Execution:\n",
    "# Floor: floor gives closest integer which is less than or equal to the float value.\n",
    "# Remainder is negative when denominator is negative.\n",
    "# input() statement is used to accept values from user.\n",
    "\n",
    "# string input\n",
    "name = input(\"Enter name: \")\n",
    "\n",
    "# integer input\n",
    "age = int(input(\"Enter age: \"))\n",
    "\n",
    "# float input\n",
    "height = float(input(\"Enter height: \"))\n",
    "\n",
    "print(name, age, height)"
   ]
  },
  {
   "cell_type": "code",
   "execution_count": null,
   "metadata": {},
   "outputs": [],
   "source": [
    "# Types of Operators\n",
    "\n",
    "# Arithmetic Operators: (+, -, *, /, //, %, **)\n",
    "\n",
    "# Rational / Comparison Operator: (==, != , <, >, <=, >=)\n",
    "\n",
    "# Assignment Operators: (= , +=, -=, *=, /=, %=, **=)\n",
    "\n",
    "# Logical Operators: AND, OR, NOT\n",
    "\n"
   ]
  },
  {
   "cell_type": "code",
   "execution_count": 2,
   "metadata": {},
   "outputs": [
    {
     "name": "stdout",
     "output_type": "stream",
     "text": [
      "70\n"
     ]
    }
   ],
   "source": [
    "# Practice\n",
    "num1 = int(input(\"Enter first number: \"))\n",
    "num2 = int(input(\"Enter second number: \"))\n",
    "result = num1 + num2\n",
    "print(result)"
   ]
  },
  {
   "cell_type": "code",
   "execution_count": 3,
   "metadata": {},
   "outputs": [
    {
     "name": "stdout",
     "output_type": "stream",
     "text": [
      "2540.16\n"
     ]
    }
   ],
   "source": [
    "# Area of Square\n",
    "side = float(input(\"Enter the length of side: \"))\n",
    "area = side ** 2\n",
    "print(area)"
   ]
  },
  {
   "cell_type": "code",
   "execution_count": 5,
   "metadata": {},
   "outputs": [
    {
     "name": "stdout",
     "output_type": "stream",
     "text": [
      "True\n"
     ]
    }
   ],
   "source": [
    "num1 = int(input(\"Enter first number: \"))\n",
    "num2 = int(input(\"Enter second number: \"))\n",
    "\n",
    "if (num1 >= num2):\n",
    "    print(\"True\")\n",
    "else:\n",
    "    print(False)"
   ]
  },
  {
   "cell_type": "code",
   "execution_count": 6,
   "metadata": {},
   "outputs": [],
   "source": [
    "# Strings and conditional statements\n",
    "# string is a datatype that stores a sequence of characters\n",
    "# concatenation\n",
    "# len\n",
    "# indexing\n",
    "# slicing\n",
    "# string functions"
   ]
  },
  {
   "cell_type": "code",
   "execution_count": 12,
   "metadata": {},
   "outputs": [
    {
     "name": "stdout",
     "output_type": "stream",
     "text": [
      "!!! WARNING !!! Light is broken !!! Drive Carefully !!!\n"
     ]
    }
   ],
   "source": [
    "# Conditional Statements:\n",
    "# if-elif-else\n",
    "\n",
    "# Example of traffic lights\n",
    "\n",
    "color = input(\"What is the color of traffic light?: \")\n",
    "\n",
    "if (color == \"green\"):\n",
    "    print(\"Go...\")\n",
    "elif (color == \"red\"):\n",
    "    print(\"Stop !!!\")\n",
    "elif (color == \"yellow\"):\n",
    "    print(\"Slow Down...\")\n",
    "else:\n",
    "    print(\"!!! WARNING !!! Light is broken !!! Drive Carefully !!!\")"
   ]
  },
  {
   "cell_type": "code",
   "execution_count": 23,
   "metadata": {},
   "outputs": [
    {
     "name": "stdout",
     "output_type": "stream",
     "text": [
      "You cannot Vote, Drive and marry\n"
     ]
    }
   ],
   "source": [
    "# Another example: Voting Rights, Driving Licence, Marriage\n",
    "\n",
    "age = int(input(\"What is your age?: \"))  # Convert age input to an integer\n",
    "gender = input(\"Enter your Gender: \").lower()  # Normalize the gender input\n",
    "\n",
    "if age >= 18 and gender == \"female\":\n",
    "    print(\"You can Vote, Drive and can marry\")\n",
    "elif age >= 18 and age < 21 and gender == \"male\":\n",
    "    print(\"You can vote, drive but cannot marry\")\n",
    "elif age >= 21 and gender == \"male\":\n",
    "    print(\"You can Vote, Drive and can marry\")\n",
    "else:\n",
    "    print(\"You cannot Vote, Drive and marry\")"
   ]
  },
  {
   "cell_type": "code",
   "execution_count": 28,
   "metadata": {},
   "outputs": [
    {
     "name": "stdout",
     "output_type": "stream",
     "text": [
      "Hello AKSHAY PAUNIKAR. You failed in the exam.\n"
     ]
    }
   ],
   "source": [
    "# Another Example: Grade students based on marks\n",
    "marks = int(input(\"Enter the total marks: \"))\n",
    "name = input(\"Enter your full name: \").upper()\n",
    "\n",
    "if (marks >= 90):\n",
    "    print(\"Congratulations {} !!!. Your Grade is First Class with Distinction !!!\".format(name))\n",
    "    \n",
    "elif (marks >= 75 and marks < 90):\n",
    "    print(\"Congratulations {} !!!. Your Grade is First Class !!!\".format(name))\n",
    "    \n",
    "elif (marks >= 60 and marks < 75):\n",
    "    print(\"Congratulations {} !!!. Your Grade is Second Class !!!\".format(name))\n",
    "    \n",
    "elif (marks >= 40 and marks < 60):\n",
    "    print(\"Congratulations {} !!!. Your Grade is Third Class !!!\".format(name))\n",
    "    \n",
    "else:\n",
    "    print(\"Hello {}. You failed in the exam.\".format(name))"
   ]
  },
  {
   "cell_type": "code",
   "execution_count": null,
   "metadata": {},
   "outputs": [
    {
     "name": "stdout",
     "output_type": "stream",
     "text": [
      "['John', 5.5, 100, 'USA', 'Giraffe', 200, 53.9]\n",
      "<class 'list'>\n",
      "John\n",
      "['David', 5.5, 100, 'USA', 'Giraffe', 200, 53.9]\n"
     ]
    }
   ],
   "source": [
    "# Lists & Tuples\n",
    "\n",
    "# List is a built-in datatype that stores set of values. It can store elements of different types (integer, float, strings etc.).\n",
    "# Elements in the lists are enclosed with a Square Bracket [].\n",
    "# lists are mutable meaning the values can be changed using proper indexing.\n",
    "# slicing [start_idx, end_idx] #last index is not included.\n",
    "\n",
    "list1 = [\"John\", 5.5, 100, \"USA\", \"Giraffe\", 200, 53.9]\n",
    "print(list1)\n",
    "print(type(list1))\n",
    "print(list1[0])\n",
    "list1[0] = \"David\"\n",
    "print(list1)"
   ]
  },
  {
   "cell_type": "code",
   "execution_count": 4,
   "metadata": {},
   "outputs": [
    {
     "name": "stdout",
     "output_type": "stream",
     "text": [
      "[9, 8, 7, 4, 5, 6, 3]\n",
      "[3, 4, 5, 6, 7, 8, 9]\n",
      "[9, 8, 7, 6, 5, 4, 3]\n",
      "[3, 4, 5, 6, 7, 8, 9]\n",
      "[2, 3, 4, 5, 6, 7, 8, 9]\n"
     ]
    }
   ],
   "source": [
    "# list methods\n",
    "# append\n",
    "# reverse\n",
    "# sort\n",
    "# sort(reverse=True)\n",
    "# insert(idx, ele)\n",
    "\n",
    "list2 = [9, 8, 7, 4, 5, 6]\n",
    "list2.append(3)\n",
    "print(list2)\n",
    "list2.sort()\n",
    "print(list2)\n",
    "list2.sort(reverse=True)\n",
    "print(list2)\n",
    "list2.reverse()\n",
    "print(list2)\n",
    "list2.insert(0,2)\n",
    "print(list2)"
   ]
  },
  {
   "cell_type": "code",
   "execution_count": 5,
   "metadata": {},
   "outputs": [
    {
     "name": "stdout",
     "output_type": "stream",
     "text": [
      "(1, 2, 3, 4)\n",
      "<class 'tuple'>\n",
      "1\n"
     ]
    }
   ],
   "source": [
    "# Tuples in python\n",
    "# A built-in datatype that let's you create immutable sequence of values.\n",
    "# similar to lists but immutable and elements are enclosed within parenthesis ().\n",
    "# indexing and slicing is allowed but item assignment not allowed.\n",
    "tup = (1, 2, 3, 4)\n",
    "print(tup)\n",
    "print(type(tup))\n",
    "print(tup[0])"
   ]
  },
  {
   "cell_type": "code",
   "execution_count": 7,
   "metadata": {},
   "outputs": [],
   "source": [
    "# tup[0] = 3 # TypeError: 'tuple' object does not support item assignment"
   ]
  },
  {
   "cell_type": "code",
   "execution_count": 11,
   "metadata": {},
   "outputs": [
    {
     "name": "stdout",
     "output_type": "stream",
     "text": [
      "1\n",
      "1\n"
     ]
    }
   ],
   "source": [
    "# Tuple methods\n",
    "# index - find index of the given element\n",
    "print(tup.index(2))\n",
    "\n",
    "# count - count the occurence of the given element\n",
    "print(tup.count(2))"
   ]
  },
  {
   "cell_type": "code",
   "execution_count": 13,
   "metadata": {},
   "outputs": [
    {
     "name": "stdout",
     "output_type": "stream",
     "text": [
      "['Lord of the Rings', 'Hobbit', 'Pursuit of Happyness']\n"
     ]
    }
   ],
   "source": [
    "# Practice\n",
    "# Ask the user to input their 3 fav movies and append it to the list\n",
    "movies = []\n",
    "movies.append(input(\"Enter the 1st movie name:\"))\n",
    "movies.append(input(\"Enter the 2nd movie name:\"))\n",
    "movies.append(input(\"Enter the 3rd movie name:\"))\n",
    "print(movies)"
   ]
  },
  {
   "cell_type": "code",
   "execution_count": 15,
   "metadata": {},
   "outputs": [
    {
     "name": "stdout",
     "output_type": "stream",
     "text": [
      "Not a palindrome\n"
     ]
    }
   ],
   "source": [
    "# Practice\n",
    "# Check if the list is a palindrome (Hint: use copy() method)\n",
    "# lst1 = [1, 2, 3, 2, 1]\n",
    "lst1 = [1, 2, 3]\n",
    "lst2 = lst1.copy()\n",
    "lst2.reverse()\n",
    "\n",
    "if (lst2 == lst1):\n",
    "    print(\"This is palindrome\")\n",
    "else:\n",
    "    print(\"Not a palindrome\")"
   ]
  },
  {
   "cell_type": "code",
   "execution_count": 17,
   "metadata": {},
   "outputs": [
    {
     "name": "stdout",
     "output_type": "stream",
     "text": [
      "4\n"
     ]
    }
   ],
   "source": [
    "# Practice\n",
    "# Count the number of students with Grade \"A\" in the following tuple\n",
    "grade = ('A', 'B', 'C', 'B', 'D', 'A', 'C', 'A', 'D', 'A')\n",
    "print(grade.count('A'))"
   ]
  },
  {
   "cell_type": "code",
   "execution_count": 18,
   "metadata": {},
   "outputs": [
    {
     "name": "stdout",
     "output_type": "stream",
     "text": [
      "['A', 'A', 'A', 'A', 'B', 'B', 'C', 'C', 'D', 'D']\n"
     ]
    }
   ],
   "source": [
    "# Practice\n",
    "# store the above tuple in a list and sort from 'A' to 'D'.\n",
    "lst3 = ['A', 'B', 'C', 'B', 'D', 'A', 'C', 'A', 'D', 'A']\n",
    "lst3.sort()\n",
    "print(lst3)"
   ]
  },
  {
   "cell_type": "code",
   "execution_count": 4,
   "metadata": {},
   "outputs": [
    {
     "name": "stdout",
     "output_type": "stream",
     "text": [
      "{'name': 'akshay', 'grade': 12, 'subjects': ['Physics', 'Chemistry', 'Maths'], 'marks': (75, 85, 90, 70), 'cgpa': 7.6, 'pass': True}\n",
      "<class 'dict'>\n",
      "akshay\n",
      "7.6\n",
      "True\n"
     ]
    }
   ],
   "source": [
    "# Dictionaries & Sets\n",
    "# Dictionaries are used to store data values in key:value pairs\n",
    "# They are mutable, unordered, and don't allow duplicate keys\n",
    "\n",
    "dict1 = {\n",
    "    \"name\" : \"akshay\",\n",
    "    \"grade\": 12,\n",
    "    \"subjects\": [\"Physics\", \"Chemistry\", \"Maths\"],\n",
    "    \"marks\": (75, 85, 90, 70),\n",
    "    \"cgpa\": 7.6,\n",
    "    \"pass\": True\n",
    "}\n",
    "\n",
    "print(dict1)\n",
    "print(type(dict1))\n",
    "\n",
    "# accessing dictionaries\n",
    "print(dict1['name'])\n",
    "print(dict1[\"cgpa\"])\n",
    "print(dict1[\"pass\"])"
   ]
  },
  {
   "cell_type": "code",
   "execution_count": 5,
   "metadata": {},
   "outputs": [
    {
     "name": "stdout",
     "output_type": "stream",
     "text": [
      "90\n"
     ]
    }
   ],
   "source": [
    "# nested dictionaries\n",
    "student = {\n",
    "    \"name\": \"Anonymous\",\n",
    "    \"subjects\": {\n",
    "        \"A\": 80,\n",
    "        \"B\": 90,\n",
    "        \"C\": 95\n",
    "    }\n",
    "}\n",
    "\n",
    "print(student[\"subjects\"][\"B\"])"
   ]
  },
  {
   "cell_type": "code",
   "execution_count": 9,
   "metadata": {},
   "outputs": [
    {
     "name": "stdout",
     "output_type": "stream",
     "text": [
      "['name', 'subjects', 'city']\n",
      "['Anonymous', {'A': 80, 'B': 90, 'C': 95}, 'delhi']\n",
      "[('name', 'Anonymous'), ('subjects', {'A': 80, 'B': 90, 'C': 95}), ('city', 'delhi')]\n",
      "{'A': 80, 'B': 90, 'C': 95}\n",
      "{'name': 'Anonymous', 'subjects': {'A': 80, 'B': 90, 'C': 95}, 'city': 'delhi'}\n"
     ]
    }
   ],
   "source": [
    "# dictionary methods\n",
    "# keys() - returns all keys\n",
    "# values() - returns all values\n",
    "# items() - returns key, value pairs as tuple\n",
    "# get(\"key\") - returns the key according to values\n",
    "# update - insert specified items to dictionary\n",
    "\n",
    "print(list(student.keys()))\n",
    "print(list(student.values()))\n",
    "print(list(student.items()))\n",
    "print(student.get(\"subjects\"))\n",
    "student.update({\"city\": \"delhi\"})\n",
    "print(student)\n"
   ]
  },
  {
   "cell_type": "code",
   "execution_count": 13,
   "metadata": {},
   "outputs": [
    {
     "name": "stdout",
     "output_type": "stream",
     "text": [
      "{1, 2, 3, 'city', 5, 'world', 'hello'}\n",
      "<class 'set'>\n"
     ]
    }
   ],
   "source": [
    "# Set in python\n",
    "# Set is the collection of the unordered items\n",
    "# Each element in the set must be unique and immutable\n",
    "# repeated elements are stored only once.\n",
    "\n",
    "collection = {1, 2, 2, 2, 3, \"hello\", \"world\", \"hello\", \"city\", 5, 5}\n",
    "print(collection)\n",
    "print(type(collection))"
   ]
  },
  {
   "cell_type": "code",
   "execution_count": 21,
   "metadata": {},
   "outputs": [
    {
     "name": "stdout",
     "output_type": "stream",
     "text": [
      "{1, 'hello', 'welcome', 'akshay'}\n",
      "{1, 'hello', 'akshay'}\n",
      "{'hello', 'akshay'}\n",
      "set()\n"
     ]
    }
   ],
   "source": [
    "# set methods\n",
    "# add() - adds an element\n",
    "# remove() - removes an element\n",
    "# clear() - empties the set\n",
    "# pop() - removes random values\n",
    "\n",
    "set1 = set()\n",
    "set1.add(\"hello\")\n",
    "set1.add(\"welcome\")\n",
    "set1.add(1)\n",
    "set1.add(\"akshay\")\n",
    "print(set1) \n",
    "\n",
    "set1.remove(\"welcome\")\n",
    "print(set1)\n",
    "\n",
    "set1.pop()\n",
    "print(set1)\n",
    "\n",
    "set1.clear()\n",
    "print(set1)"
   ]
  },
  {
   "cell_type": "code",
   "execution_count": 22,
   "metadata": {},
   "outputs": [
    {
     "name": "stdout",
     "output_type": "stream",
     "text": [
      "{1, 2, 3, 4, 5}\n",
      "{3}\n"
     ]
    }
   ],
   "source": [
    "# union() - combines both set values and returns new \n",
    "# intersection() - combine common values and returns new\n",
    "\n",
    "set1 = {1, 2, 3}\n",
    "set2 = {3, 4, 5}\n",
    "\n",
    "print(set1.union(set2))\n",
    "print(set1.intersection(set2))"
   ]
  },
  {
   "cell_type": "code",
   "execution_count": 23,
   "metadata": {},
   "outputs": [
    {
     "data": {
      "text/plain": [
       "{'table': ['a piece of furniture', 'list of facts & figures'],\n",
       " 'cat': 'small animal'}"
      ]
     },
     "execution_count": 23,
     "metadata": {},
     "output_type": "execute_result"
    }
   ],
   "source": [
    "# Practice\n",
    "# store the word meanings in a python dictionary\n",
    "# \"table\": \"a piece of furniture\", \"list of facts & figures\"\n",
    "# \"cat\": \"small animal\"\n",
    "\n",
    "dict1 = {\n",
    "    \"table\": [\"a piece of furniture\", \"list of facts & figures\"],\n",
    "    \"cat\": \"small animal\"\n",
    "}\n",
    "\n",
    "dict1"
   ]
  },
  {
   "cell_type": "code",
   "execution_count": 24,
   "metadata": {},
   "outputs": [
    {
     "name": "stdout",
     "output_type": "stream",
     "text": [
      "{'java', 'C++', 'python', 'javascript', 'C'}\n",
      "5\n"
     ]
    }
   ],
   "source": [
    "# practice\n",
    "# You are given a list of subjects for students. Assume one classroom is required for 1 subject.\n",
    "# How many classrooms are needed by all students.\n",
    "# subjects: \"python\", \"java\", \"C++\", \"python\", \"javascript\", \"java\", \"python\", \"java\", \"C++\", \"C\".\n",
    "\n",
    "classrooms = {\"python\", \"java\", \"C++\", \"python\", \"javascript\", \"java\", \"python\", \"java\", \"C++\", \"C\"}\n",
    "print(classrooms)\n",
    "print(len(classrooms))"
   ]
  },
  {
   "cell_type": "code",
   "execution_count": 26,
   "metadata": {},
   "outputs": [
    {
     "name": "stdout",
     "output_type": "stream",
     "text": [
      "{'A': 90, 'B': 80, 'C': 70}\n"
     ]
    }
   ],
   "source": [
    "# practice\n",
    "# write a program to enter marks of 3 subjects from the user as a input and store them in a dictionary.\n",
    "# start with an empty dictionary and add one by one. use subject name as key and marks as value\n",
    "\n",
    "subjects = {}\n",
    "x = int(input(\"Enter marks for subject A: \"))\n",
    "subjects.update({\"A\": x})\n",
    "\n",
    "y = int(input(\"Enter marks for subject B: \"))\n",
    "subjects.update({\"B\": y})\n",
    "\n",
    "z = int(input(\"Enter marks for subject C: \"))\n",
    "subjects.update({\"C\": z})\n",
    "\n",
    "print(subjects)"
   ]
  },
  {
   "cell_type": "code",
   "execution_count": 1,
   "metadata": {},
   "outputs": [
    {
     "name": "stdout",
     "output_type": "stream",
     "text": [
      "{9, '9.0'}\n",
      "{9.0, '9'}\n",
      "{('float', 9.0), ('int', 9)}\n"
     ]
    }
   ],
   "source": [
    "# practice\n",
    "# figure out a way to store 9 & 9.0 as separate values in the set.\n",
    "value1 = {9, \"9.0\"}\n",
    "value2 = {\"9\", 9.0}\n",
    "\n",
    "print(value1)\n",
    "print(value2)\n",
    "\n",
    "value3 = {(\"int\", 9), (\"float\", 9.0)}\n",
    "print(value3)"
   ]
  },
  {
   "cell_type": "code",
   "execution_count": 2,
   "metadata": {},
   "outputs": [
    {
     "name": "stdout",
     "output_type": "stream",
     "text": [
      "Hello World !!!\n",
      "Hello World !!!\n",
      "Hello World !!!\n",
      "Hello World !!!\n",
      "Hello World !!!\n"
     ]
    }
   ],
   "source": [
    "# Loops\n",
    "# Loops ae used to repeat instruction\n",
    "\n",
    "# while loop\n",
    "# print Hello world 5 times\n",
    "count = 1\n",
    "while count <= 5:\n",
    "    print(\"Hello World !!!\")\n",
    "    count += 1"
   ]
  },
  {
   "cell_type": "code",
   "execution_count": 3,
   "metadata": {},
   "outputs": [
    {
     "name": "stdout",
     "output_type": "stream",
     "text": [
      "1\n",
      "2\n",
      "3\n",
      "4\n",
      "5\n",
      "6\n",
      "7\n",
      "8\n",
      "9\n",
      "10\n"
     ]
    }
   ],
   "source": [
    "# print numbers from 1 to 10\n",
    "i = 1\n",
    "while i <= 10:\n",
    "    print(i)\n",
    "    i += 1"
   ]
  },
  {
   "cell_type": "code",
   "execution_count": 5,
   "metadata": {},
   "outputs": [
    {
     "name": "stdout",
     "output_type": "stream",
     "text": [
      "10\n",
      "9\n",
      "8\n",
      "7\n",
      "6\n",
      "5\n",
      "4\n",
      "3\n",
      "2\n",
      "1\n"
     ]
    }
   ],
   "source": [
    "# reverse above i.e 10 to 1\n",
    "i = 10\n",
    "while i >= 1:\n",
    "    print(i)\n",
    "    i -= 1"
   ]
  },
  {
   "cell_type": "code",
   "execution_count": 6,
   "metadata": {},
   "outputs": [
    {
     "name": "stdout",
     "output_type": "stream",
     "text": [
      "8\n",
      "16\n",
      "24\n",
      "32\n",
      "40\n",
      "48\n",
      "56\n",
      "64\n",
      "72\n",
      "80\n"
     ]
    }
   ],
   "source": [
    "# print multiplication table of number n\n",
    "n = int(input(\"Enter a number: \"))\n",
    "i = 1\n",
    "while i <= 10:\n",
    "    print(n * i)\n",
    "    i += 1"
   ]
  },
  {
   "cell_type": "code",
   "execution_count": 10,
   "metadata": {},
   "outputs": [
    {
     "name": "stdout",
     "output_type": "stream",
     "text": [
      "1\n",
      "4\n",
      "9\n",
      "16\n",
      "25\n",
      "36\n",
      "49\n",
      "64\n",
      "81\n",
      "100\n"
     ]
    }
   ],
   "source": [
    "# print the elements of following list using loop\n",
    "lst = [1, 4, 9, 16, 25, 36, 49, 64, 81, 100]\n",
    "idx = 0\n",
    "while idx < len(lst):\n",
    "    print(lst[idx])\n",
    "    idx += 1"
   ]
  },
  {
   "cell_type": "code",
   "execution_count": 13,
   "metadata": {},
   "outputs": [
    {
     "name": "stdout",
     "output_type": "stream",
     "text": [
      "found at index: 5\n"
     ]
    }
   ],
   "source": [
    "# search for a number x in this tuple using loop\n",
    "tup = (1, 4, 9, 16, 25, 36, 49, 64, 81, 100)\n",
    "\n",
    "x = 36\n",
    "idx = 0\n",
    "\n",
    "while idx < len(tup):\n",
    "    if (tup[idx] == x):\n",
    "        print(\"found at index:\", idx)\n",
    "    idx += 1"
   ]
  },
  {
   "cell_type": "code",
   "execution_count": null,
   "metadata": {},
   "outputs": [
    {
     "name": "stdout",
     "output_type": "stream",
     "text": [
      "finding...\n",
      "finding...\n",
      "finding...\n",
      "finding...\n",
      "finding...\n",
      "found at index: 5\n"
     ]
    }
   ],
   "source": [
    "# break & continue\n",
    "# break : used to terminate the loop when encountered.\n",
    "\n",
    "tup = (1, 4, 9, 16, 25, 36, 49, 64, 81, 100)\n",
    "\n",
    "x = 36\n",
    "idx = 0\n",
    "\n",
    "while idx < len(tup):\n",
    "    if (tup[idx] == x):\n",
    "        print(\"found at index:\", idx)\n",
    "        break\n",
    "    else:\n",
    "        print(\"finding...\")\n",
    "    idx += 1"
   ]
  },
  {
   "cell_type": "code",
   "execution_count": 15,
   "metadata": {},
   "outputs": [
    {
     "name": "stdout",
     "output_type": "stream",
     "text": [
      "1\n",
      "3\n",
      "5\n",
      "7\n",
      "9\n"
     ]
    }
   ],
   "source": [
    "# continue : terminates the execution in the current iteration & continues execution of the loop with the next iteration.\n",
    "i = 1\n",
    "while i <= 10:\n",
    "    if (i % 2 == 0):\n",
    "        i += 1\n",
    "        continue\n",
    "    print(i)\n",
    "    i += 1"
   ]
  },
  {
   "cell_type": "code",
   "execution_count": 16,
   "metadata": {},
   "outputs": [
    {
     "name": "stdout",
     "output_type": "stream",
     "text": [
      "1\n",
      "4\n",
      "9\n",
      "16\n",
      "25\n",
      "36\n",
      "49\n",
      "64\n",
      "81\n",
      "100\n"
     ]
    }
   ],
   "source": [
    "# for loops\n",
    "# used for sequential traversal, traversing list, strings, tuples etc.\n",
    "tup = (1, 4, 9, 16, 25, 36, 49, 64, 81, 100)\n",
    "for i in tup:\n",
    "    print(i)"
   ]
  },
  {
   "cell_type": "code",
   "execution_count": 17,
   "metadata": {},
   "outputs": [
    {
     "name": "stdout",
     "output_type": "stream",
     "text": [
      "e\n",
      "n\n",
      "g\n",
      "i\n",
      "n\n",
      "e\n",
      "e\n",
      "r\n",
      "i\n",
      "n\n",
      "g\n"
     ]
    }
   ],
   "source": [
    "name = \"engineering\"\n",
    "for i in name:\n",
    "    print(i)"
   ]
  },
  {
   "cell_type": "code",
   "execution_count": 22,
   "metadata": {},
   "outputs": [
    {
     "name": "stdout",
     "output_type": "stream",
     "text": [
      "e\n",
      "n\n",
      "g\n",
      "i\n",
      "n\n",
      "e\n",
      "e\n",
      "r\n",
      "i\n",
      "n\n",
      "g\n",
      "End\n"
     ]
    }
   ],
   "source": [
    "# for loop with else\n",
    "name = \"engineering\"\n",
    "for i in name:\n",
    "    print(i)\n",
    "else:\n",
    "    print(\"End\")"
   ]
  },
  {
   "cell_type": "code",
   "execution_count": null,
   "metadata": {},
   "outputs": [
    {
     "name": "stdout",
     "output_type": "stream",
     "text": [
      "e\n",
      "n\n",
      "g\n",
      "i\n",
      "n\n",
      "e\n",
      "e\n",
      "r\n"
     ]
    }
   ],
   "source": [
    "name = \"engineering\"\n",
    "for i in name:\n",
    "    if (i == \"r\"):\n",
    "        print(i)\n",
    "        break\n",
    "    print(i)    \n",
    "else:\n",
    "    print(\"End\")"
   ]
  },
  {
   "cell_type": "code",
   "execution_count": 25,
   "metadata": {},
   "outputs": [
    {
     "name": "stdout",
     "output_type": "stream",
     "text": [
      "1\n",
      "4\n",
      "9\n",
      "16\n",
      "25\n",
      "36\n",
      "49\n",
      "64\n",
      "81\n",
      "100\n"
     ]
    }
   ],
   "source": [
    "# print the elements of following list using loop\n",
    "lst = [1, 4, 9, 16, 25, 36, 49, 64, 81, 100]\n",
    "\n",
    "for i in lst:\n",
    "    print(i)"
   ]
  },
  {
   "cell_type": "code",
   "execution_count": 29,
   "metadata": {},
   "outputs": [
    {
     "name": "stdout",
     "output_type": "stream",
     "text": [
      "found !!! 6\n"
     ]
    }
   ],
   "source": [
    "# search for a number x in this tuple using loop\n",
    "tup = (1, 4, 9, 16, 25, 36, 49, 64, 81, 100)\n",
    "x = 49\n",
    "idx = 0\n",
    "for i in tup:\n",
    "    if (i == 49):\n",
    "        print(\"found !!!\", idx)\n",
    "        break\n",
    "    idx += 1"
   ]
  },
  {
   "cell_type": "code",
   "execution_count": 31,
   "metadata": {},
   "outputs": [
    {
     "name": "stdout",
     "output_type": "stream",
     "text": [
      "0\n",
      "1\n",
      "2\n",
      "3\n",
      "4\n",
      "***************\n",
      "1\n",
      "2\n",
      "3\n",
      "4\n",
      "***************\n",
      "1\n",
      "3\n"
     ]
    }
   ],
   "source": [
    "# range()\n",
    "# range function returns a sequence of numbers, starting from 0 (by default) and increments by 1 (by default) and\n",
    "# stops before a specified number.\n",
    "\n",
    "for el in range(5):\n",
    "    print(el)\n",
    "\n",
    "print(\"***************\")\n",
    "    \n",
    "for el in range(1, 5):\n",
    "    print(el)\n",
    "    \n",
    "print(\"***************\")\n",
    "\n",
    "for el in range(1, 5, 2):\n",
    "    print(el)"
   ]
  },
  {
   "cell_type": "code",
   "execution_count": 32,
   "metadata": {},
   "outputs": [
    {
     "name": "stdout",
     "output_type": "stream",
     "text": [
      "1\n",
      "2\n",
      "3\n",
      "4\n",
      "5\n",
      "6\n",
      "7\n",
      "8\n",
      "9\n",
      "10\n"
     ]
    }
   ],
   "source": [
    "# practice\n",
    "# print values from 1 to 10 using range \n",
    "for i in range(1,11):\n",
    "    print(i)"
   ]
  },
  {
   "cell_type": "code",
   "execution_count": 34,
   "metadata": {},
   "outputs": [
    {
     "name": "stdout",
     "output_type": "stream",
     "text": [
      "10\n",
      "9\n",
      "8\n",
      "7\n",
      "6\n",
      "5\n",
      "4\n",
      "3\n",
      "2\n",
      "1\n"
     ]
    }
   ],
   "source": [
    "# practice\n",
    "# print values from 100 to 1 using range\n",
    "for i in range(10, 0, -1):\n",
    "    print(i)"
   ]
  },
  {
   "cell_type": "code",
   "execution_count": 35,
   "metadata": {},
   "outputs": [
    {
     "name": "stdout",
     "output_type": "stream",
     "text": [
      "9\n",
      "18\n",
      "27\n",
      "36\n",
      "45\n",
      "54\n",
      "63\n",
      "72\n",
      "81\n",
      "90\n"
     ]
    }
   ],
   "source": [
    "# practice\n",
    "# print multiplication table of number n\n",
    "n = int(input(\"Enter the number:\"))\n",
    "for i in range(1,11):\n",
    "    print(n * i)"
   ]
  },
  {
   "cell_type": "code",
   "execution_count": 42,
   "metadata": {},
   "outputs": [
    {
     "name": "stdout",
     "output_type": "stream",
     "text": [
      "functions created for future works...\n"
     ]
    }
   ],
   "source": [
    "# pass statement\n",
    "# pass is a null statement that does nothing. It is used as a placeholder for future codes.\n",
    "for i in range(5):\n",
    "    pass\n",
    "\n",
    "i = 0\n",
    "if (i <= 10):\n",
    "    pass\n",
    "\n",
    "print(\"functions created for future works...\")"
   ]
  },
  {
   "cell_type": "code",
   "execution_count": 45,
   "metadata": {},
   "outputs": [
    {
     "name": "stdout",
     "output_type": "stream",
     "text": [
      "total sum: 28\n"
     ]
    }
   ],
   "source": [
    "# practice\n",
    "# find the sum of first n natural numbers (using while).\n",
    "n = int(input(\"Enter the natural number:\"))\n",
    "sum = 0\n",
    "i = 1\n",
    "while i <= n:\n",
    "    sum += i\n",
    "    i += 1\n",
    "    \n",
    "print(\"total sum:\", sum)"
   ]
  },
  {
   "cell_type": "code",
   "execution_count": 48,
   "metadata": {},
   "outputs": [
    {
     "name": "stdout",
     "output_type": "stream",
     "text": [
      "factorial: 720\n"
     ]
    }
   ],
   "source": [
    "# practice\n",
    "# find the factorial of first n numbers (for loop).\n",
    "\n",
    "n = int(input(\"Enter your number:\"))\n",
    "factorial = 1\n",
    "\n",
    "for i in range(1, n+1):\n",
    "    factorial *= i\n",
    "    \n",
    "print(\"factorial:\", factorial)"
   ]
  },
  {
   "cell_type": "code",
   "execution_count": 51,
   "metadata": {},
   "outputs": [
    {
     "name": "stdout",
     "output_type": "stream",
     "text": [
      "factorial: 720\n"
     ]
    }
   ],
   "source": [
    "# using while loop\n",
    "n = int(input(\"Enter the natural number:\"))\n",
    "factorial = 1\n",
    "i = 1\n",
    "while i <= n:\n",
    "    factorial *= i\n",
    "    i += 1\n",
    "    \n",
    "print(\"factorial:\", factorial)"
   ]
  },
  {
   "cell_type": "code",
   "execution_count": 6,
   "metadata": {},
   "outputs": [
    {
     "name": "stdout",
     "output_type": "stream",
     "text": [
      "7\n"
     ]
    }
   ],
   "source": [
    "# Functions\n",
    "# a block of statements that perform a specific task\n",
    "# Built-in functions\n",
    "# print(), len(), type(), range()\n",
    "# User defined function\n",
    "\n",
    "# practice\n",
    "# write a function to print the length of the list\n",
    "\n",
    "def len_lst(lst):\n",
    "    print(len(lst))\n",
    "    \n",
    "mylist = [\"Akshay\", 31, \"Nagpur\", \"BE\", \"Electrical Engineering\", \"NMU Jalgaon\", \"64.73%\"]\n",
    "\n",
    "len_lst(mylist)"
   ]
  },
  {
   "cell_type": "code",
   "execution_count": 9,
   "metadata": {},
   "outputs": [
    {
     "name": "stdout",
     "output_type": "stream",
     "text": [
      "Akshay, 31, Nagpur, BE, Electrical Engineering, NMU Jalgaon, 64.73%, "
     ]
    }
   ],
   "source": [
    "# write a function to print the elements of the list in a single line\n",
    "\n",
    "def ele_lst(lst):\n",
    "    for i in lst:\n",
    "        print(i, end=\", \")\n",
    "        \n",
    "mylist = [\"Akshay\", 31, \"Nagpur\", \"BE\", \"Electrical Engineering\", \"NMU Jalgaon\", \"64.73%\"]\n",
    "ele_lst(mylist)"
   ]
  },
  {
   "cell_type": "code",
   "execution_count": 10,
   "metadata": {},
   "outputs": [
    {
     "name": "stdout",
     "output_type": "stream",
     "text": [
      "120\n"
     ]
    }
   ],
   "source": [
    "# write a function to find the factorial of number n\n",
    "\n",
    "def fact(num):\n",
    "    factorial = 1\n",
    "    for i in range(1, num + 1):\n",
    "        factorial *= i\n",
    "    print(factorial)\n",
    "    \n",
    "fact(5)"
   ]
  },
  {
   "cell_type": "code",
   "execution_count": 16,
   "metadata": {},
   "outputs": [
    {
     "name": "stdout",
     "output_type": "stream",
     "text": [
      "11 USD = 930.49 INR\n"
     ]
    }
   ],
   "source": [
    "# write a function to convert USD to INR (1 USD = 84.59 INR)\n",
    "\n",
    "def usd_inr(USD):\n",
    "    INR = round(USD * 84.59,2 )\n",
    "    print(USD, \"USD\", \"=\", INR, \"INR\")\n",
    "    \n",
    "usd_inr(11)"
   ]
  },
  {
   "cell_type": "code",
   "execution_count": 17,
   "metadata": {},
   "outputs": [
    {
     "name": "stdout",
     "output_type": "stream",
     "text": [
      "even\n"
     ]
    }
   ],
   "source": [
    "# write a function that checks even and odd numbers \n",
    "def checkNum(num):\n",
    "    if (num % 2 == 0):\n",
    "        print(\"even\")\n",
    "    else:\n",
    "        print(\"odd\")\n",
    "        \n",
    "checkNum(8)"
   ]
  },
  {
   "cell_type": "code",
   "execution_count": null,
   "metadata": {},
   "outputs": [
    {
     "name": "stdout",
     "output_type": "stream",
     "text": [
      "5\n",
      "4\n",
      "3\n",
      "2\n",
      "1\n"
     ]
    }
   ],
   "source": [
    "# Recursion - When a function calls itself repeatedly.\n",
    "def show(num):\n",
    "    if (num == 0): # base case\n",
    "        return\n",
    "    print(num)\n",
    "    show(num-1)\n",
    "    \n",
    "show(5)"
   ]
  },
  {
   "cell_type": "code",
   "execution_count": 20,
   "metadata": {},
   "outputs": [
    {
     "name": "stdout",
     "output_type": "stream",
     "text": [
      "120\n"
     ]
    }
   ],
   "source": [
    "# find factorial of a number using recursion\n",
    "def fact(num):\n",
    "    if (num == 0 or num == 1):\n",
    "        return 1\n",
    "    else:\n",
    "        return num * fact(num - 1)\n",
    "    \n",
    "output = fact(5)\n",
    "print(output)"
   ]
  },
  {
   "cell_type": "code",
   "execution_count": 28,
   "metadata": {},
   "outputs": [
    {
     "data": {
      "text/plain": [
       "15"
      ]
     },
     "execution_count": 28,
     "metadata": {},
     "output_type": "execute_result"
    }
   ],
   "source": [
    "# practice\n",
    "# write a recursive function to calculate the sum of first n natural numbers\n",
    "\n",
    "def cal_sum(num):\n",
    "    if (num == 0):\n",
    "        return 0\n",
    "    return cal_sum(num - 1) + num  \n",
    "    \n",
    "cal_sum(5)"
   ]
  },
  {
   "cell_type": "code",
   "execution_count": 30,
   "metadata": {},
   "outputs": [
    {
     "name": "stdout",
     "output_type": "stream",
     "text": [
      "Akshay\n",
      "31\n",
      "Nagpur\n",
      "BE\n",
      "Electrical Engineering\n",
      "NMU Jalgaon\n",
      "64.73%\n"
     ]
    }
   ],
   "source": [
    "# practice\n",
    "# write a recursive function to print the elements in a list\n",
    "# Hint: use list & index as parameter\n",
    "\n",
    "def print_list(lst, idx = 0):\n",
    "    if (idx == len(lst)):\n",
    "        return  \n",
    "    print(lst[idx])\n",
    "    print_list(lst, idx + 1)\n",
    "\n",
    "mylist = [\"Akshay\", 31, \"Nagpur\", \"BE\", \"Electrical Engineering\", \"NMU Jalgaon\", \"64.73%\"]\n",
    "print_list(mylist)"
   ]
  },
  {
   "cell_type": "code",
   "execution_count": 1,
   "metadata": {},
   "outputs": [],
   "source": [
    "# File I/O\n",
    "# Python can be used to perfrom operations on file. (read & write files)\n",
    "# Types of files\n",
    "# Text files : .txt, .docx, .log etc.\n",
    "# Binary files: .mp4, .mov, .png, .jpeg\n",
    "# Open, Read & Close file\n",
    "# we have to open a file before reading or writing"
   ]
  },
  {
   "cell_type": "markdown",
   "metadata": {},
   "source": [
    "<pre>\n",
    "\n",
    "f = open(\"file_name\", \"mode\")\n",
    "    \"file_name\" is the name of the file you wish to read or write.\n",
    "    \"mode\" specifies whether you want to read or write file where (r = read mode, w = write mode)\n",
    "data = f.read()\n",
    "f.close()\n",
    "\n",
    "</pre>"
   ]
  },
  {
   "cell_type": "markdown",
   "metadata": {},
   "source": [
    "<pre>\n",
    "Character & their meaning\n",
    "\"r\" - open for reading (default)\n",
    "\"w\" - open for writing, truncating the file first\n",
    "\"x\" - create a new file and open it for writing\n",
    "\"a\" - open for writing, appending to the end of the file if it exists\n",
    "\"b\" - binary mode\n",
    "\"t\" - text mode (default mode)\n",
    "\"+\" - open a disk file for updating (reading and writing)\n",
    "</pre>"
   ]
  },
  {
   "cell_type": "code",
   "execution_count": 13,
   "metadata": {},
   "outputs": [
    {
     "name": "stdout",
     "output_type": "stream",
     "text": [
      "Python is a versatile and powerful programming language known for its simplicity and readability. \n",
      "It supports multiple programming paradigms, including procedural, object-oriented, and functional programming. \n",
      "Python has a rich standard library and extensive third-party modules for various applications. \n",
      "It is widely used in web development, data science, artificial intelligence, and automation. \n",
      "Python's community is large and active, making it easy to find resources and support.\n"
     ]
    }
   ],
   "source": [
    "# Reading a file\n",
    "# open file in read mode\n",
    "f = open(\"textfile.txt\", \"r\")\n",
    "data = f.read() # read the entire file\n",
    "print(data) # print the data\n",
    "f.close() # close the file"
   ]
  },
  {
   "cell_type": "code",
   "execution_count": 14,
   "metadata": {},
   "outputs": [
    {
     "name": "stdout",
     "output_type": "stream",
     "text": [
      "Python is a versatile and powerful programming language known for its simplicity and readability. \n",
      "\n",
      "It supports multiple programming paradigms, including procedural, object-oriented, and functional programming. \n",
      "\n",
      "Python has a rich standard library and extensive third-party modules for various applications. \n",
      "\n",
      "It is widely used in web development, data science, artificial intelligence, and automation. \n",
      "\n",
      "Python's community is large and active, making it easy to find resources and support.\n"
     ]
    }
   ],
   "source": [
    "f = open(\"textfile.txt\", \"r\")\n",
    "line1 = f.readline()\n",
    "print(line1)\n",
    "line2 = f.readline()\n",
    "print(line2)\n",
    "line3 = f.readline()\n",
    "print(line3)\n",
    "line4 = f.readline()\n",
    "print(line4)\n",
    "line5 = f.readline()\n",
    "print(line5)\n",
    "f.close() # close the file"
   ]
  },
  {
   "cell_type": "code",
   "execution_count": 16,
   "metadata": {},
   "outputs": [],
   "source": [
    "# open file in write mode\n",
    "f = open(\"textfile.txt\", \"w\")\n",
    "f.write(\"\"\"\n",
    "MySQL is an open-source relational database management system.\n",
    "It is widely used for storing, managing, and retrieving data efficiently.\n",
    "MySQL supports SQL (Structured Query Language) for database operations.\n",
    "It is known for its speed, reliability, and ease of use.\n",
    "MySQL is commonly used in web applications, data warehousing, and e-commerce platforms.\"\"\") # write to the file\n",
    "f.close() # close the file"
   ]
  },
  {
   "cell_type": "code",
   "execution_count": 17,
   "metadata": {},
   "outputs": [],
   "source": [
    "# open file in append mode\n",
    "f = open(\"textfile.txt\", \"a\")\n",
    "f.write(\"\"\"\n",
    "Python is a versatile and powerful programming language known for its simplicity and readability. \n",
    "It supports multiple programming paradigms, including procedural, object-oriented, and functional programming. \n",
    "Python has a rich standard library and extensive third-party modules for various applications. \n",
    "It is widely used in web development, data science, artificial intelligence, and automation. \n",
    "Python's community is large and active, making it easy to find resources and support.\"\"\") # write to the file\n",
    "f.close() # close the file"
   ]
  },
  {
   "cell_type": "code",
   "execution_count": null,
   "metadata": {},
   "outputs": [
    {
     "name": "stdout",
     "output_type": "stream",
     "text": [
      "\n",
      "MySQL is an open-source relational database management system.\n",
      "It is widely used for storing, managing, and retrieving data efficiently.\n",
      "MySQL supports SQL (Structured Query Language) for database operations.\n",
      "It is known for its speed, reliability, and ease of use.\n",
      "MySQL is commonly used in web applications, data warehousing, and e-commerce platforms.\n",
      "Python is a versatile and powerful programming language known for its simplicity and readability. \n",
      "It supports multiple programming paradigms, including procedural, object-oriented, and functional programming. \n",
      "Python has a rich standard library and extensive third-party modules for various applications. \n",
      "It is widely used in web development, data science, artificial intelligence, and automation. \n",
      "Python's community is large and active, making it easy to find resources and support.\n"
     ]
    }
   ],
   "source": [
    "# with syntax\n",
    "with open(\"textfile.txt\", \"r\") as f:\n",
    "    data = f.read() # read the entire file\n",
    "    print(data) # print the data\n",
    "    f.close() # close the file"
   ]
  },
  {
   "cell_type": "code",
   "execution_count": 20,
   "metadata": {},
   "outputs": [],
   "source": [
    "# Deleting a file\n",
    "# using the os module\n",
    "# Module (like a code library) is a file written by another programmer that contains functions and variables.\n",
    "import os\n",
    "os.remove(\"textfile.txt\") # remove the file"
   ]
  },
  {
   "cell_type": "code",
   "execution_count": null,
   "metadata": {},
   "outputs": [],
   "source": []
  }
 ],
 "metadata": {
  "kernelspec": {
   "display_name": "Deep_Learning",
   "language": "python",
   "name": "python3"
  },
  "language_info": {
   "codemirror_mode": {
    "name": "ipython",
    "version": 3
   },
   "file_extension": ".py",
   "mimetype": "text/x-python",
   "name": "python",
   "nbconvert_exporter": "python",
   "pygments_lexer": "ipython3",
   "version": "3.9.18"
  }
 },
 "nbformat": 4,
 "nbformat_minor": 2
}
