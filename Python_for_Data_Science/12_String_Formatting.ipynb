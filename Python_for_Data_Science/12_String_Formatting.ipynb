{
 "cells": [
  {
   "cell_type": "markdown",
   "id": "f9ba5516-98b6-4cf9-bcf7-888c593dfaa1",
   "metadata": {},
   "source": [
    "### String Formatting"
   ]
  },
  {
   "cell_type": "code",
   "execution_count": 1,
   "id": "c1f8879c-9e25-4070-8f84-09327bf79502",
   "metadata": {},
   "outputs": [
    {
     "name": "stdout",
     "output_type": "stream",
     "text": [
      "Hello Everyone\n"
     ]
    }
   ],
   "source": [
    "print(\"Hello Everyone\")"
   ]
  },
  {
   "cell_type": "code",
   "execution_count": 2,
   "id": "55e0a879-eeed-469e-9be4-a60eeff92b19",
   "metadata": {},
   "outputs": [],
   "source": [
    "def greeting(name):\n",
    "    return \"Hello {}. Welcome to the python community\".format(name)"
   ]
  },
  {
   "cell_type": "code",
   "execution_count": 3,
   "id": "5519946d-d7b1-4c7e-a62e-0b86b8e8c798",
   "metadata": {},
   "outputs": [
    {
     "data": {
      "text/plain": [
       "'Hello Akshay. Welcome to the python community'"
      ]
     },
     "execution_count": 3,
     "metadata": {},
     "output_type": "execute_result"
    }
   ],
   "source": [
    "greeting(\"Akshay\")"
   ]
  },
  {
   "cell_type": "code",
   "execution_count": 4,
   "id": "45df36d4-2d65-4626-89d9-b127e2bb7f11",
   "metadata": {},
   "outputs": [],
   "source": [
    "def PersonalInfo(name, age, email):\n",
    "    return \"Welcome {}!!!. Your age is {} and your email id is {}\".format(name, age, email)"
   ]
  },
  {
   "cell_type": "code",
   "execution_count": 5,
   "id": "01ec3629-a853-493c-99bf-4434455f06de",
   "metadata": {},
   "outputs": [
    {
     "data": {
      "text/plain": [
       "'Welcome Akshay!!!. Your age is 30 and your email id is akshay@python.com'"
      ]
     },
     "execution_count": 5,
     "metadata": {},
     "output_type": "execute_result"
    }
   ],
   "source": [
    "PersonalInfo(\"Akshay\", 30, \"akshay@python.com\")"
   ]
  },
  {
   "cell_type": "code",
   "execution_count": 6,
   "id": "806530af-eba4-417f-bacd-f0ca916fbc92",
   "metadata": {},
   "outputs": [
    {
     "data": {
      "text/plain": [
       "'Welcome 30!!!. Your age is akshay@python.com and your email id is Akshay'"
      ]
     },
     "execution_count": 6,
     "metadata": {},
     "output_type": "execute_result"
    }
   ],
   "source": [
    "PersonalInfo(30, \"akshay@python.com\", \"Akshay\")"
   ]
  },
  {
   "cell_type": "code",
   "execution_count": 7,
   "id": "013be26e-b917-4920-8364-5a5dfa3b7c67",
   "metadata": {},
   "outputs": [],
   "source": [
    "# let's correct above formatting\n",
    "def PersonalInfo(name, age, email):\n",
    "    return \"Welcome {name}!!!. Your age is {age} and your email id is {email}\".format(name=name, age=age, email=email)"
   ]
  },
  {
   "cell_type": "code",
   "execution_count": 8,
   "id": "8e53e7c8-01d7-48fb-8ae8-f217ecc6097e",
   "metadata": {},
   "outputs": [
    {
     "data": {
      "text/plain": [
       "'Welcome Akshay!!!. Your age is 30 and your email id is akshay@python.com'"
      ]
     },
     "execution_count": 8,
     "metadata": {},
     "output_type": "execute_result"
    }
   ],
   "source": [
    "PersonalInfo(age=30, email=\"akshay@python.com\", name=\"Akshay\")"
   ]
  },
  {
   "cell_type": "code",
   "execution_count": 9,
   "id": "63b45da4-56a1-490a-aac5-d32018502966",
   "metadata": {},
   "outputs": [],
   "source": [
    "# f-string\n",
    "def PersonalInfo(name, age, email):\n",
    "    return f\"Welcome {name}!!!. Your age is {age} and your email id is {email}\""
   ]
  },
  {
   "cell_type": "code",
   "execution_count": 10,
   "id": "af0c4fc9-ef23-4fee-afd9-7c853a19f68b",
   "metadata": {},
   "outputs": [
    {
     "data": {
      "text/plain": [
       "'Welcome Akshay!!!. Your age is 30 and your email id is akshay@python.com'"
      ]
     },
     "execution_count": 10,
     "metadata": {},
     "output_type": "execute_result"
    }
   ],
   "source": [
    "PersonalInfo(age=30, email=\"akshay@python.com\", name=\"Akshay\")"
   ]
  },
  {
   "cell_type": "code",
   "execution_count": 11,
   "id": "c9189baf-6798-4883-8375-5db13e80b7ce",
   "metadata": {},
   "outputs": [
    {
     "name": "stdout",
     "output_type": "stream",
     "text": [
      "The total marks obtained out of 150 is 100 and in percentage 66.67\n"
     ]
    }
   ],
   "source": [
    "# evaluate an expression using f-string\n",
    "maths = 30\n",
    "physics = 45\n",
    "chemistry = 25\n",
    "print(f\"The total marks obtained out of 150 is {maths + physics + chemistry} and in percentage {round(((maths + physics + chemistry)/150)*100, 2)}\")"
   ]
  }
 ],
 "metadata": {
  "kernelspec": {
   "display_name": "DSA",
   "language": "python",
   "name": "python3"
  },
  "language_info": {
   "codemirror_mode": {
    "name": "ipython",
    "version": 3
   },
   "file_extension": ".py",
   "mimetype": "text/x-python",
   "name": "python",
   "nbconvert_exporter": "python",
   "pygments_lexer": "ipython3",
   "version": "3.13.5"
  }
 },
 "nbformat": 4,
 "nbformat_minor": 5
}
