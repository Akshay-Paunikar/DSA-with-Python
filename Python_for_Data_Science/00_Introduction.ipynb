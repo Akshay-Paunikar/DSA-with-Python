{
 "cells": [
  {
   "cell_type": "markdown",
   "metadata": {},
   "source": [
    "### What is Python?\n",
    "\n",
    "Python is a high-level, general-purpose, and very popular programming language. Python programming language (latest Python 3) is being used in web development, Machine Learning applications, along with all cutting-edge technology in Software Industry. Python language is being used by almost all tech-giant companies like – Google, Amazon, Facebook, Instagram, Dropbox, Uber… etc.\n",
    "\n",
    "The biggest strength of Python is huge collection of standard library which can be used for the following:\n",
    "\n",
    " - Machine Learning\n",
    " - GUI Applications (like Kivy, Tkinter, PyQt etc. )\n",
    " - Web frameworks like Django (used by YouTube, Instagram, Dropbox)\n",
    " - Image processing (like OpenCV, Pillow)\n",
    " - Web scraping (like Scrapy, BeautifulSoup, Selenium)\n",
    " - Test frameworks\n",
    " - Multimedia\n",
    " - Scientific computing\n",
    " - Text processing and many more.."
   ]
  },
  {
   "cell_type": "markdown",
   "metadata": {},
   "source": [
    "### Why Learn Python?\n",
    "\n",
    "Python is currently the most widely used multi-purpose, high-level programming language, which allows programming in Object-Oriented and Procedural paradigms. Python programs are generally smaller than other programming languages like Java. Programmers have to type relatively less and the indentation requirement of the language, makes them readable all the time."
   ]
  },
  {
   "cell_type": "markdown",
   "metadata": {},
   "source": [
    "#### Variable assignment"
   ]
  },
  {
   "cell_type": "code",
   "execution_count": 1,
   "metadata": {},
   "outputs": [],
   "source": [
    "a = 10\n",
    "b = 2.5\n",
    "c = \"Alex\""
   ]
  },
  {
   "cell_type": "markdown",
   "metadata": {},
   "source": [
    "<b>Note:</b>\n",
    "<pre>\n",
    "You can create a variable using numbers and alphabets and the only special character allowed is underscore \"_\".\n",
    "\n",
    "Also, a variable name must start with underscore \"_\" or an alphabet followed by numbers or alphabets or underscore \"_\". \n",
    "\n",
    "A variable name cannot start with a number. See below examples:</pre>"
   ]
  },
  {
   "cell_type": "code",
   "execution_count": 3,
   "metadata": {},
   "outputs": [
    {
     "name": "stdout",
     "output_type": "stream",
     "text": [
      "10\n",
      "20\n",
      "30\n"
     ]
    }
   ],
   "source": [
    "# valid method\n",
    "_a11 = 10 \n",
    "a_11 = 20\n",
    "a11_ = 30\n",
    "\n",
    "print(_a11)\n",
    "print(a_11)\n",
    "print(a11_)"
   ]
  },
  {
   "cell_type": "code",
   "execution_count": 12,
   "metadata": {},
   "outputs": [
    {
     "ename": "SyntaxError",
     "evalue": "invalid decimal literal (3023949064.py, line 2)",
     "output_type": "error",
     "traceback": [
      "\u001b[1;36m  Cell \u001b[1;32mIn[12], line 2\u001b[1;36m\u001b[0m\n\u001b[1;33m    11_a = 30\u001b[0m\n\u001b[1;37m      ^\u001b[0m\n\u001b[1;31mSyntaxError\u001b[0m\u001b[1;31m:\u001b[0m invalid decimal literal\n"
     ]
    }
   ],
   "source": [
    "# invalid method (will throw error)\n",
    "11_a = 30\n",
    "print(11_a)"
   ]
  },
  {
   "cell_type": "markdown",
   "metadata": {},
   "source": [
    "#### Various ways of printing your output"
   ]
  },
  {
   "cell_type": "code",
   "execution_count": 4,
   "metadata": {},
   "outputs": [
    {
     "data": {
      "text/plain": [
       "30"
      ]
     },
     "execution_count": 4,
     "metadata": {},
     "output_type": "execute_result"
    }
   ],
   "source": [
    "# simply mention the variable at last (will only output the variable mentioned at last)\n",
    "a_11\n",
    "_a11\n",
    "a11_"
   ]
  },
  {
   "cell_type": "code",
   "execution_count": 5,
   "metadata": {},
   "outputs": [
    {
     "name": "stdout",
     "output_type": "stream",
     "text": [
      "10\n",
      "20\n",
      "30\n"
     ]
    }
   ],
   "source": [
    "# use print function (everything will be printed if using print function)\n",
    "print(_a11)\n",
    "print(a_11)\n",
    "print(a11_)"
   ]
  },
  {
   "cell_type": "code",
   "execution_count": 6,
   "metadata": {},
   "outputs": [],
   "source": [
    "first_name = \"Akshay\"\n",
    "last_name = \"Paunikar\""
   ]
  },
  {
   "cell_type": "code",
   "execution_count": 7,
   "metadata": {},
   "outputs": [
    {
     "name": "stdout",
     "output_type": "stream",
     "text": [
      "My first name is Akshay and last name is Paunikar\n"
     ]
    }
   ],
   "source": [
    "print(f\"My first name is {first_name} and last name is {last_name}\")"
   ]
  },
  {
   "cell_type": "code",
   "execution_count": 8,
   "metadata": {},
   "outputs": [
    {
     "name": "stdout",
     "output_type": "stream",
     "text": [
      "My first name is Akshay and last name is Paunikar\n"
     ]
    }
   ],
   "source": [
    "print(\"My first name is {} and last name is {}\".format(first_name, last_name))"
   ]
  },
  {
   "cell_type": "code",
   "execution_count": 9,
   "metadata": {},
   "outputs": [
    {
     "name": "stdout",
     "output_type": "stream",
     "text": [
      "My first name is Akshay and last name is Paunikar\n"
     ]
    }
   ],
   "source": [
    "print(\"My first name is {first} and last name is {last}\".format(last = last_name, first = first_name))"
   ]
  }
 ],
 "metadata": {
  "kernelspec": {
   "display_name": "DSA",
   "language": "python",
   "name": "python3"
  },
  "language_info": {
   "codemirror_mode": {
    "name": "ipython",
    "version": 3
   },
   "file_extension": ".py",
   "mimetype": "text/x-python",
   "name": "python",
   "nbconvert_exporter": "python",
   "pygments_lexer": "ipython3",
   "version": "3.13.5"
  }
 },
 "nbformat": 4,
 "nbformat_minor": 2
}
