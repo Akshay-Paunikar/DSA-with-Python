{
 "cells": [
  {
   "cell_type": "markdown",
   "id": "a5911666-ae5b-4da5-9aff-9b31fed1a974",
   "metadata": {},
   "source": [
    "<h3>Q1. Check the Status</h3>"
   ]
  },
  {
   "cell_type": "markdown",
   "id": "3c2871ae-e23e-4dee-bc58-6970763dcfea",
   "metadata": {},
   "source": [
    "Given two integer variables a and b, and a boolean variable flag. The task is to check the status and return accordingly.\n",
    "\n",
    "Return True for the following cases:\n",
    "\n",
    " - Either a or b (not both) is non-negative and the flag is false.\n",
    " - Both a and b are negative and the flag is true.\n",
    "\n",
    "Otherwise, return false."
   ]
  },
  {
   "cell_type": "code",
   "execution_count": 1,
   "id": "3433aca8-dd95-4731-a988-299617805cf3",
   "metadata": {},
   "outputs": [],
   "source": [
    "def check_status(a, b, flag):\n",
    "    if (a >= 0 and b < 0 and not flag) or (a < 0 and b >= 0 and not flag):\n",
    "        return True\n",
    "    elif a < 0 and b < 0 and flag:\n",
    "        return True\n",
    "    else:\n",
    "        return False"
   ]
  },
  {
   "cell_type": "code",
   "execution_count": 3,
   "id": "96ef001e-59e2-41da-8fe2-1542f3580494",
   "metadata": {},
   "outputs": [
    {
     "data": {
      "text/plain": [
       "True"
      ]
     },
     "execution_count": 3,
     "metadata": {},
     "output_type": "execute_result"
    }
   ],
   "source": [
    "check_status(1, -1, False)"
   ]
  },
  {
   "cell_type": "code",
   "execution_count": 4,
   "id": "ec8783bf-aa2d-4371-80b5-bf8a7166ccb6",
   "metadata": {},
   "outputs": [
    {
     "data": {
      "text/plain": [
       "True"
      ]
     },
     "execution_count": 4,
     "metadata": {},
     "output_type": "execute_result"
    }
   ],
   "source": [
    "check_status(-1, -1, True)"
   ]
  },
  {
   "cell_type": "code",
   "execution_count": null,
   "id": "f2a89cf3-6b34-47cf-b868-091c32bef7c8",
   "metadata": {},
   "outputs": [],
   "source": []
  }
 ],
 "metadata": {
  "kernelspec": {
   "display_name": "Python 3 (ipykernel)",
   "language": "python",
   "name": "python3"
  },
  "language_info": {
   "codemirror_mode": {
    "name": "ipython",
    "version": 3
   },
   "file_extension": ".py",
   "mimetype": "text/x-python",
   "name": "python",
   "nbconvert_exporter": "python",
   "pygments_lexer": "ipython3",
   "version": "3.9.18"
  }
 },
 "nbformat": 4,
 "nbformat_minor": 5
}
