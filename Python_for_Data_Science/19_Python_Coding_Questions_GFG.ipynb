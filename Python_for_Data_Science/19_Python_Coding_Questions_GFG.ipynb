{
 "cells": [
  {
   "cell_type": "markdown",
   "id": "a5911666-ae5b-4da5-9aff-9b31fed1a974",
   "metadata": {},
   "source": [
    "<h3>Q1. Check the Status</h3>"
   ]
  },
  {
   "cell_type": "markdown",
   "id": "3c2871ae-e23e-4dee-bc58-6970763dcfea",
   "metadata": {},
   "source": [
    "Given two integer variables a and b, and a boolean variable flag. The task is to check the status and return accordingly.\n",
    "\n",
    "Return True for the following cases:\n",
    "\n",
    " - Either a or b (not both) is non-negative and the flag is false.\n",
    " - Both a and b are negative and the flag is true.\n",
    "\n",
    "Otherwise, return false."
   ]
  },
  {
   "cell_type": "code",
   "execution_count": 1,
   "id": "3433aca8-dd95-4731-a988-299617805cf3",
   "metadata": {},
   "outputs": [],
   "source": [
    "def check_status(a, b, flag):\n",
    "    if (a >= 0 and b < 0 and not flag) or (a < 0 and b >= 0 and not flag):\n",
    "        return True\n",
    "    elif a < 0 and b < 0 and flag:\n",
    "        return True\n",
    "    else:\n",
    "        return False"
   ]
  },
  {
   "cell_type": "code",
   "execution_count": 3,
   "id": "96ef001e-59e2-41da-8fe2-1542f3580494",
   "metadata": {},
   "outputs": [
    {
     "data": {
      "text/plain": [
       "True"
      ]
     },
     "execution_count": 3,
     "metadata": {},
     "output_type": "execute_result"
    }
   ],
   "source": [
    "check_status(1, -1, False)"
   ]
  },
  {
   "cell_type": "code",
   "execution_count": 4,
   "id": "ec8783bf-aa2d-4371-80b5-bf8a7166ccb6",
   "metadata": {},
   "outputs": [
    {
     "data": {
      "text/plain": [
       "True"
      ]
     },
     "execution_count": 4,
     "metadata": {},
     "output_type": "execute_result"
    }
   ],
   "source": [
    "check_status(-1, -1, True)"
   ]
  },
  {
   "cell_type": "markdown",
   "id": "72f5c712-6af9-466d-a3b5-141226c3acab",
   "metadata": {},
   "source": [
    "<h3>Q2. If conditional statement:</h3>"
   ]
  },
  {
   "cell_type": "markdown",
   "id": "af49f008-d8ec-43c6-b757-d8b0d4cd5bcb",
   "metadata": {},
   "source": [
    "There are two friends, John and Smith, and the parameters j_angry and s_angry to indicate if each is angry. You are in trouble if both of them are angry or no one of them is angry.\r\n",
    "\r\n",
    "Now, complete the function which returns true if you are in trouble, else return false"
   ]
  },
  {
   "cell_type": "code",
   "execution_count": 5,
   "id": "837c78f3-5050-46d5-b88f-3d28e514c28f",
   "metadata": {},
   "outputs": [],
   "source": [
    "def friends_in_trouble(j_angry, s_angry):\n",
    "    if (j_angry and s_angry) or (not j_angry and not s_angry):\n",
    "        return True\n",
    "    elif (j_angry and not s_angry) or (not j_angry and s_angry):\n",
    "        return False"
   ]
  },
  {
   "cell_type": "code",
   "execution_count": 6,
   "id": "ab286ce1-dfac-4fe4-9b0e-2267f666a485",
   "metadata": {},
   "outputs": [
    {
     "data": {
      "text/plain": [
       "True"
      ]
     },
     "execution_count": 6,
     "metadata": {},
     "output_type": "execute_result"
    }
   ],
   "source": [
    "friends_in_trouble(True, True)"
   ]
  },
  {
   "cell_type": "code",
   "execution_count": 7,
   "id": "a4c4bbe0-c516-405a-bca3-620e6ee3f0e7",
   "metadata": {},
   "outputs": [
    {
     "data": {
      "text/plain": [
       "True"
      ]
     },
     "execution_count": 7,
     "metadata": {},
     "output_type": "execute_result"
    }
   ],
   "source": [
    "friends_in_trouble(False, False)"
   ]
  },
  {
   "cell_type": "code",
   "execution_count": 8,
   "id": "1fc568c5-fc77-44da-86f5-a7d4b687c277",
   "metadata": {},
   "outputs": [
    {
     "data": {
      "text/plain": [
       "False"
      ]
     },
     "execution_count": 8,
     "metadata": {},
     "output_type": "execute_result"
    }
   ],
   "source": [
    "friends_in_trouble(True, False)"
   ]
  },
  {
   "cell_type": "code",
   "execution_count": 9,
   "id": "b6f07121-a3a6-47fd-8fb0-228cd339167c",
   "metadata": {},
   "outputs": [
    {
     "data": {
      "text/plain": [
       "False"
      ]
     },
     "execution_count": 9,
     "metadata": {},
     "output_type": "execute_result"
    }
   ],
   "source": [
    "friends_in_trouble(False, True)"
   ]
  },
  {
   "cell_type": "markdown",
   "id": "2a651721-fefc-46ef-b988-f6fdb7c0ede1",
   "metadata": {},
   "source": [
    "<h3>Q3. Mark Even and Odd:</h3>"
   ]
  },
  {
   "cell_type": "markdown",
   "id": "aafa769a-2d48-4348-9280-028eda504af3",
   "metadata": {},
   "source": [
    "Given a positive integer x. Your task is to check, if it is even or odd (Any number that gives zero as remainder when divided by 2 is an even number)"
   ]
  },
  {
   "cell_type": "code",
   "execution_count": 14,
   "id": "39bbda57-7c93-44a8-9e12-948e4b5af2a1",
   "metadata": {},
   "outputs": [],
   "source": [
    "def checkOddEven(x):\n",
    "    if(x % 2 == 0):\n",
    "      return \"Even\"\n",
    "    else:\n",
    "        return \"Odd\""
   ]
  },
  {
   "cell_type": "code",
   "execution_count": 15,
   "id": "e3772fb6-01cc-4536-acc9-5ec9bff4080d",
   "metadata": {},
   "outputs": [
    {
     "data": {
      "text/plain": [
       "'Odd'"
      ]
     },
     "execution_count": 15,
     "metadata": {},
     "output_type": "execute_result"
    }
   ],
   "source": [
    "checkOddEven(1)"
   ]
  },
  {
   "cell_type": "code",
   "execution_count": 16,
   "id": "f173638d-bd19-4aaf-bc3f-51385c5782c5",
   "metadata": {},
   "outputs": [
    {
     "data": {
      "text/plain": [
       "'Even'"
      ]
     },
     "execution_count": 16,
     "metadata": {},
     "output_type": "execute_result"
    }
   ],
   "source": [
    "checkOddEven(2)"
   ]
  },
  {
   "cell_type": "code",
   "execution_count": 17,
   "id": "f67de4d2-9964-4d2f-8b88-df3246bea207",
   "metadata": {},
   "outputs": [
    {
     "data": {
      "text/plain": [
       "'Even'"
      ]
     },
     "execution_count": 17,
     "metadata": {},
     "output_type": "execute_result"
    }
   ],
   "source": [
    "checkOddEven(0)"
   ]
  },
  {
   "cell_type": "markdown",
   "id": "784e61b5-702d-4253-83b7-a16b556b32e1",
   "metadata": {},
   "source": [
    "<h3>Zero Converter:</h3>"
   ]
  },
  {
   "cell_type": "markdown",
   "id": "bb18897c-c056-4c10-9806-4f2a7f0f9a74",
   "metadata": {},
   "source": [
    "You are given a number n. The number n can be negative or positive. If n is negative, print numbers from n to 0 by adding 1 to n in the neg function. If positive, print numbers from n-1 to 0 by subtracting 1 from n in the pos function.\r\n",
    "\r\n",
    "Note:- You don't have to return anything, you just have to print the array."
   ]
  },
  {
   "cell_type": "code",
   "execution_count": 18,
   "id": "4eb42007-e3aa-42ab-bbc9-09e42b232f7c",
   "metadata": {},
   "outputs": [],
   "source": [
    "def pos(n):\n",
    "    while n > 0:\n",
    "        n = n - 1\n",
    "        print(n, end=\" \")\n",
    "    \n",
    "def neg(n):\n",
    "    if n == 0:\n",
    "        return \"already Zero\"\n",
    "    while n <= 0:\n",
    "        print(n, end=\" \")\n",
    "        n += 1"
   ]
  },
  {
   "cell_type": "code",
   "execution_count": 19,
   "id": "e2e1fb07-cda8-4532-ac2e-d3a21efdc688",
   "metadata": {},
   "outputs": [
    {
     "name": "stdout",
     "output_type": "stream",
     "text": [
      "3 2 1 0 "
     ]
    }
   ],
   "source": [
    "pos(4)"
   ]
  },
  {
   "cell_type": "code",
   "execution_count": 20,
   "id": "59ae1a3a-2b4c-47c3-b31f-36814fa65bef",
   "metadata": {},
   "outputs": [
    {
     "name": "stdout",
     "output_type": "stream",
     "text": [
      "-4 -3 -2 -1 0 "
     ]
    }
   ],
   "source": [
    "neg(-4)"
   ]
  },
  {
   "cell_type": "code",
   "execution_count": null,
   "id": "41bd7969-406b-4e30-a178-1fa09e615147",
   "metadata": {},
   "outputs": [],
   "source": []
  }
 ],
 "metadata": {
  "kernelspec": {
   "display_name": "Python 3 (ipykernel)",
   "language": "python",
   "name": "python3"
  },
  "language_info": {
   "codemirror_mode": {
    "name": "ipython",
    "version": 3
   },
   "file_extension": ".py",
   "mimetype": "text/x-python",
   "name": "python",
   "nbconvert_exporter": "python",
   "pygments_lexer": "ipython3",
   "version": "3.9.18"
  }
 },
 "nbformat": 4,
 "nbformat_minor": 5
}
