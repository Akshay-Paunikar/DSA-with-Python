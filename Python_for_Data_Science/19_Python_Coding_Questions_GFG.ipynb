{
 "cells": [
  {
   "cell_type": "markdown",
   "id": "a5911666-ae5b-4da5-9aff-9b31fed1a974",
   "metadata": {},
   "source": [
    "<h3>Q1. Check the Status</h3>"
   ]
  },
  {
   "cell_type": "markdown",
   "id": "3c2871ae-e23e-4dee-bc58-6970763dcfea",
   "metadata": {},
   "source": [
    "Given two integer variables a and b, and a boolean variable flag. The task is to check the status and return accordingly.\n",
    "\n",
    "Return True for the following cases:\n",
    "\n",
    " - Either a or b (not both) is non-negative and the flag is false.\n",
    " - Both a and b are negative and the flag is true.\n",
    "\n",
    "Otherwise, return false."
   ]
  },
  {
   "cell_type": "code",
   "execution_count": 1,
   "id": "3433aca8-dd95-4731-a988-299617805cf3",
   "metadata": {},
   "outputs": [],
   "source": [
    "def check_status(a, b, flag):\n",
    "    if (a >= 0 and b < 0 and not flag) or (a < 0 and b >= 0 and not flag):\n",
    "        return True\n",
    "    elif a < 0 and b < 0 and flag:\n",
    "        return True\n",
    "    else:\n",
    "        return False"
   ]
  },
  {
   "cell_type": "code",
   "execution_count": 3,
   "id": "96ef001e-59e2-41da-8fe2-1542f3580494",
   "metadata": {},
   "outputs": [
    {
     "data": {
      "text/plain": [
       "True"
      ]
     },
     "execution_count": 3,
     "metadata": {},
     "output_type": "execute_result"
    }
   ],
   "source": [
    "check_status(1, -1, False)"
   ]
  },
  {
   "cell_type": "code",
   "execution_count": 4,
   "id": "ec8783bf-aa2d-4371-80b5-bf8a7166ccb6",
   "metadata": {},
   "outputs": [
    {
     "data": {
      "text/plain": [
       "True"
      ]
     },
     "execution_count": 4,
     "metadata": {},
     "output_type": "execute_result"
    }
   ],
   "source": [
    "check_status(-1, -1, True)"
   ]
  },
  {
   "cell_type": "markdown",
   "id": "72f5c712-6af9-466d-a3b5-141226c3acab",
   "metadata": {},
   "source": [
    "<h3>Q2. If conditional statement:</h3>"
   ]
  },
  {
   "cell_type": "markdown",
   "id": "af49f008-d8ec-43c6-b757-d8b0d4cd5bcb",
   "metadata": {},
   "source": [
    "There are two friends, John and Smith, and the parameters j_angry and s_angry to indicate if each is angry. You are in trouble if both of them are angry or no one of them is angry.\r\n",
    "\r\n",
    "Now, complete the function which returns true if you are in trouble, else return false"
   ]
  },
  {
   "cell_type": "code",
   "execution_count": 5,
   "id": "837c78f3-5050-46d5-b88f-3d28e514c28f",
   "metadata": {},
   "outputs": [],
   "source": [
    "def friends_in_trouble(j_angry, s_angry):\n",
    "    if (j_angry and s_angry) or (not j_angry and not s_angry):\n",
    "        return True\n",
    "    elif (j_angry and not s_angry) or (not j_angry and s_angry):\n",
    "        return False"
   ]
  },
  {
   "cell_type": "code",
   "execution_count": 6,
   "id": "ab286ce1-dfac-4fe4-9b0e-2267f666a485",
   "metadata": {},
   "outputs": [
    {
     "data": {
      "text/plain": [
       "True"
      ]
     },
     "execution_count": 6,
     "metadata": {},
     "output_type": "execute_result"
    }
   ],
   "source": [
    "friends_in_trouble(True, True)"
   ]
  },
  {
   "cell_type": "code",
   "execution_count": 7,
   "id": "a4c4bbe0-c516-405a-bca3-620e6ee3f0e7",
   "metadata": {},
   "outputs": [
    {
     "data": {
      "text/plain": [
       "True"
      ]
     },
     "execution_count": 7,
     "metadata": {},
     "output_type": "execute_result"
    }
   ],
   "source": [
    "friends_in_trouble(False, False)"
   ]
  },
  {
   "cell_type": "code",
   "execution_count": 8,
   "id": "1fc568c5-fc77-44da-86f5-a7d4b687c277",
   "metadata": {},
   "outputs": [
    {
     "data": {
      "text/plain": [
       "False"
      ]
     },
     "execution_count": 8,
     "metadata": {},
     "output_type": "execute_result"
    }
   ],
   "source": [
    "friends_in_trouble(True, False)"
   ]
  },
  {
   "cell_type": "code",
   "execution_count": 9,
   "id": "b6f07121-a3a6-47fd-8fb0-228cd339167c",
   "metadata": {},
   "outputs": [
    {
     "data": {
      "text/plain": [
       "False"
      ]
     },
     "execution_count": 9,
     "metadata": {},
     "output_type": "execute_result"
    }
   ],
   "source": [
    "friends_in_trouble(False, True)"
   ]
  },
  {
   "cell_type": "code",
   "execution_count": null,
   "id": "2d707181-70a5-480f-ba0c-3f91fa3d8511",
   "metadata": {},
   "outputs": [],
   "source": []
  }
 ],
 "metadata": {
  "kernelspec": {
   "display_name": "Python 3 (ipykernel)",
   "language": "python",
   "name": "python3"
  },
  "language_info": {
   "codemirror_mode": {
    "name": "ipython",
    "version": 3
   },
   "file_extension": ".py",
   "mimetype": "text/x-python",
   "name": "python",
   "nbconvert_exporter": "python",
   "pygments_lexer": "ipython3",
   "version": "3.9.18"
  }
 },
 "nbformat": 4,
 "nbformat_minor": 5
}
