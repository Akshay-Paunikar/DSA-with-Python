{
 "cells": [
  {
   "cell_type": "markdown",
   "id": "cc3f160f-e642-472b-b12f-de3a702468ad",
   "metadata": {},
   "source": [
    "<h3>Python Decorators:</h3>"
   ]
  },
  {
   "cell_type": "code",
   "execution_count": 5,
   "id": "3ffeb8cd-6707-4c17-8a1e-7b352f72c627",
   "metadata": {},
   "outputs": [],
   "source": [
    "# Function Copy\n",
    "def welcome():\n",
    "    print(\"Hello !!! welcome to my youtube channel\")"
   ]
  },
  {
   "cell_type": "code",
   "execution_count": 6,
   "id": "2eb22cf1-06f9-4ab8-978c-b8697baba7e3",
   "metadata": {},
   "outputs": [
    {
     "name": "stdout",
     "output_type": "stream",
     "text": [
      "Hello !!! welcome to my youtube channel\n"
     ]
    }
   ],
   "source": [
    "welcome()"
   ]
  },
  {
   "cell_type": "code",
   "execution_count": 7,
   "id": "69ca8f0d-75ff-4758-9117-981e5e1334be",
   "metadata": {},
   "outputs": [
    {
     "name": "stdout",
     "output_type": "stream",
     "text": [
      "Hello !!! welcome to my youtube channel\n"
     ]
    }
   ],
   "source": [
    "wel = welcome()"
   ]
  },
  {
   "cell_type": "code",
   "execution_count": 8,
   "id": "442f6ee2-d4d6-427e-aeb8-a171e16ecf45",
   "metadata": {},
   "outputs": [
    {
     "ename": "TypeError",
     "evalue": "'NoneType' object is not callable",
     "output_type": "error",
     "traceback": [
      "\u001b[1;31m---------------------------------------------------------------------------\u001b[0m",
      "\u001b[1;31mTypeError\u001b[0m                                 Traceback (most recent call last)",
      "Cell \u001b[1;32mIn[8], line 1\u001b[0m\n\u001b[1;32m----> 1\u001b[0m \u001b[43mwel\u001b[49m\u001b[43m(\u001b[49m\u001b[43m)\u001b[49m\n",
      "\u001b[1;31mTypeError\u001b[0m: 'NoneType' object is not callable"
     ]
    }
   ],
   "source": [
    "wel()"
   ]
  },
  {
   "cell_type": "code",
   "execution_count": 9,
   "id": "710630de-c997-49db-81cc-ead5865a59b4",
   "metadata": {},
   "outputs": [],
   "source": [
    "def welcome():\n",
    "    return \"Hello !!! welcome to my youtube channel\""
   ]
  },
  {
   "cell_type": "code",
   "execution_count": 10,
   "id": "f50f8c15-c700-4ee2-a3a0-da5e40a44be9",
   "metadata": {},
   "outputs": [],
   "source": [
    "wel = welcome()"
   ]
  },
  {
   "cell_type": "code",
   "execution_count": 11,
   "id": "819a6fd6-e0bd-455f-b2f3-956796ecd96e",
   "metadata": {},
   "outputs": [
    {
     "data": {
      "text/plain": [
       "'Hello !!! welcome to my youtube channel'"
      ]
     },
     "execution_count": 11,
     "metadata": {},
     "output_type": "execute_result"
    }
   ],
   "source": [
    "wel"
   ]
  },
  {
   "cell_type": "code",
   "execution_count": 12,
   "id": "78e1c2e0-7499-48fb-bbb2-b44528c7acfe",
   "metadata": {},
   "outputs": [],
   "source": [
    "wel = welcome()\n",
    "del welcome"
   ]
  },
  {
   "cell_type": "code",
   "execution_count": 13,
   "id": "5d3c61b8-bdce-4e17-bf2c-8ae1e35a11cf",
   "metadata": {},
   "outputs": [
    {
     "data": {
      "text/plain": [
       "'Hello !!! welcome to my youtube channel'"
      ]
     },
     "execution_count": 13,
     "metadata": {},
     "output_type": "execute_result"
    }
   ],
   "source": [
    "wel"
   ]
  },
  {
   "cell_type": "code",
   "execution_count": 14,
   "id": "bacb49ae-1d3a-493d-b9b5-d1078dac36a6",
   "metadata": {},
   "outputs": [
    {
     "ename": "NameError",
     "evalue": "name 'welcome' is not defined",
     "output_type": "error",
     "traceback": [
      "\u001b[1;31m---------------------------------------------------------------------------\u001b[0m",
      "\u001b[1;31mNameError\u001b[0m                                 Traceback (most recent call last)",
      "Cell \u001b[1;32mIn[14], line 1\u001b[0m\n\u001b[1;32m----> 1\u001b[0m \u001b[43mwelcome\u001b[49m()\n",
      "\u001b[1;31mNameError\u001b[0m: name 'welcome' is not defined"
     ]
    }
   ],
   "source": [
    "welcome()"
   ]
  },
  {
   "cell_type": "code",
   "execution_count": 15,
   "id": "28651799-b84d-40f0-a0c1-0392e6071c16",
   "metadata": {},
   "outputs": [],
   "source": [
    "# Closures\n",
    "def main_welcome(msg):\n",
    "    def sub_welcome():\n",
    "        print(msg)\n",
    "        print(\"Welcome to my Youtube Channel\")\n",
    "        print(\"Please subscribe also !!!\")\n",
    "    return sub_welcome()"
   ]
  },
  {
   "cell_type": "code",
   "execution_count": 16,
   "id": "6d396f78-947c-4a93-a7bd-5e98f2e722c0",
   "metadata": {},
   "outputs": [
    {
     "name": "stdout",
     "output_type": "stream",
     "text": [
      "Hello Everyone !!!\n",
      "Welcome to my Youtube Channel\n",
      "Please subscribe also !!!\n"
     ]
    }
   ],
   "source": [
    "main_welcome(\"Hello Everyone !!!\")"
   ]
  },
  {
   "cell_type": "code",
   "execution_count": 17,
   "id": "4ce3d4b8-f738-46d8-bcf4-66269b35b3da",
   "metadata": {},
   "outputs": [],
   "source": [
    "# Closures & initial Decorators\n",
    "def main_welcome(func):\n",
    "    def sub_welcome():\n",
    "        func(\"Hello Everyone !!!\")\n",
    "        print(\"Welcome to my Youtube Channel\")\n",
    "        print(\"Please subscribe also !!!\")\n",
    "    return sub_welcome()"
   ]
  },
  {
   "cell_type": "code",
   "execution_count": 18,
   "id": "3d0a634d-e54d-4fe6-b9a6-f36354f17468",
   "metadata": {},
   "outputs": [
    {
     "name": "stdout",
     "output_type": "stream",
     "text": [
      "Hello Everyone !!!\n",
      "Welcome to my Youtube Channel\n",
      "Please subscribe also !!!\n"
     ]
    }
   ],
   "source": [
    "main_welcome(print)"
   ]
  },
  {
   "cell_type": "code",
   "execution_count": 19,
   "id": "f8cbeec4-166d-4be0-97ed-83c4a6983faf",
   "metadata": {},
   "outputs": [],
   "source": [
    "# Decorators\n",
    "def main_welcome(func):\n",
    "    def sub_welcome():\n",
    "        func()\n",
    "        print(\"Welcome to my Youtube Channel\")\n",
    "        print(\"Please subscribe also !!!\")\n",
    "    return sub_welcome()"
   ]
  },
  {
   "cell_type": "code",
   "execution_count": 20,
   "id": "4f7ae0ce-37d9-4f68-9e40-14479ca85cd2",
   "metadata": {},
   "outputs": [],
   "source": [
    "def channel_name():\n",
    "    print(\"Hello Everyone !!!\")"
   ]
  },
  {
   "cell_type": "code",
   "execution_count": 21,
   "id": "d9824722-603d-4cec-abc1-b87e8c226c91",
   "metadata": {},
   "outputs": [
    {
     "name": "stdout",
     "output_type": "stream",
     "text": [
      "Hello Everyone !!!\n",
      "Welcome to my Youtube Channel\n",
      "Please subscribe also !!!\n"
     ]
    }
   ],
   "source": [
    "main_welcome(channel_name)"
   ]
  },
  {
   "cell_type": "code",
   "execution_count": 22,
   "id": "6651a53a-56b6-4a2a-a3b7-8e60e2a3f5d9",
   "metadata": {},
   "outputs": [
    {
     "name": "stdout",
     "output_type": "stream",
     "text": [
      "Hello Everyone !!!\n",
      "Welcome to my Youtube Channel\n",
      "Please subscribe also !!!\n"
     ]
    }
   ],
   "source": [
    "@main_welcome\n",
    "def channel_name():\n",
    "    print(\"Hello Everyone !!!\")"
   ]
  }
 ],
 "metadata": {
  "kernelspec": {
   "display_name": "Deep_Learning",
   "language": "python",
   "name": "python3"
  },
  "language_info": {
   "codemirror_mode": {
    "name": "ipython",
    "version": 3
   },
   "file_extension": ".py",
   "mimetype": "text/x-python",
   "name": "python",
   "nbconvert_exporter": "python",
   "pygments_lexer": "ipython3",
   "version": "3.9.18"
  }
 },
 "nbformat": 4,
 "nbformat_minor": 5
}
