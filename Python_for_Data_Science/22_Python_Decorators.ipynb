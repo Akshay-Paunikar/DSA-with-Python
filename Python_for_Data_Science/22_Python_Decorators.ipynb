{
 "cells": [
  {
   "cell_type": "markdown",
   "id": "cc3f160f-e642-472b-b12f-de3a702468ad",
   "metadata": {},
   "source": [
    "<h3>Python Decorators:</h3>"
   ]
  },
  {
   "cell_type": "code",
   "execution_count": 1,
   "id": "3ffeb8cd-6707-4c17-8a1e-7b352f72c627",
   "metadata": {},
   "outputs": [],
   "source": [
    "# Function Copy\n",
    "def welcome():\n",
    "    print(\"Hello !!! welcome to my youtube channel\")"
   ]
  },
  {
   "cell_type": "code",
   "execution_count": 2,
   "id": "2eb22cf1-06f9-4ab8-978c-b8697baba7e3",
   "metadata": {},
   "outputs": [
    {
     "name": "stdout",
     "output_type": "stream",
     "text": [
      "Hello !!! welcome to my youtube channel\n"
     ]
    }
   ],
   "source": [
    "welcome()"
   ]
  },
  {
   "cell_type": "code",
   "execution_count": 3,
   "id": "69ca8f0d-75ff-4758-9117-981e5e1334be",
   "metadata": {},
   "outputs": [
    {
     "name": "stdout",
     "output_type": "stream",
     "text": [
      "Hello !!! welcome to my youtube channel\n"
     ]
    }
   ],
   "source": [
    "wel = welcome()"
   ]
  },
  {
   "cell_type": "code",
   "execution_count": 5,
   "id": "442f6ee2-d4d6-427e-aeb8-a171e16ecf45",
   "metadata": {},
   "outputs": [
    {
     "ename": "TypeError",
     "evalue": "'NoneType' object is not callable",
     "output_type": "error",
     "traceback": [
      "\u001b[1;31m---------------------------------------------------------------------------\u001b[0m",
      "\u001b[1;31mTypeError\u001b[0m                                 Traceback (most recent call last)",
      "Cell \u001b[1;32mIn[5], line 1\u001b[0m\n\u001b[1;32m----> 1\u001b[0m \u001b[43mwel\u001b[49m\u001b[43m(\u001b[49m\u001b[43m)\u001b[49m\n",
      "\u001b[1;31mTypeError\u001b[0m: 'NoneType' object is not callable"
     ]
    }
   ],
   "source": [
    "wel()"
   ]
  },
  {
   "cell_type": "code",
   "execution_count": 6,
   "id": "710630de-c997-49db-81cc-ead5865a59b4",
   "metadata": {},
   "outputs": [],
   "source": [
    "def welcome():\n",
    "    return \"Hello !!! welcome to my youtube channel\""
   ]
  },
  {
   "cell_type": "code",
   "execution_count": 7,
   "id": "f50f8c15-c700-4ee2-a3a0-da5e40a44be9",
   "metadata": {},
   "outputs": [],
   "source": [
    "wel = welcome()"
   ]
  },
  {
   "cell_type": "code",
   "execution_count": 8,
   "id": "819a6fd6-e0bd-455f-b2f3-956796ecd96e",
   "metadata": {},
   "outputs": [
    {
     "data": {
      "text/plain": [
       "'Hello !!! welcome to my youtube channel'"
      ]
     },
     "execution_count": 8,
     "metadata": {},
     "output_type": "execute_result"
    }
   ],
   "source": [
    "wel"
   ]
  },
  {
   "cell_type": "code",
   "execution_count": 10,
   "id": "78e1c2e0-7499-48fb-bbb2-b44528c7acfe",
   "metadata": {},
   "outputs": [],
   "source": [
    "wel = welcome()\n",
    "del welcome"
   ]
  },
  {
   "cell_type": "code",
   "execution_count": 11,
   "id": "5d3c61b8-bdce-4e17-bf2c-8ae1e35a11cf",
   "metadata": {},
   "outputs": [
    {
     "data": {
      "text/plain": [
       "'Hello !!! welcome to my youtube channel'"
      ]
     },
     "execution_count": 11,
     "metadata": {},
     "output_type": "execute_result"
    }
   ],
   "source": [
    "wel"
   ]
  },
  {
   "cell_type": "code",
   "execution_count": null,
   "id": "bacb49ae-1d3a-493d-b9b5-d1078dac36a6",
   "metadata": {},
   "outputs": [],
   "source": []
  }
 ],
 "metadata": {
  "kernelspec": {
   "display_name": "Python 3 (ipykernel)",
   "language": "python",
   "name": "python3"
  },
  "language_info": {
   "codemirror_mode": {
    "name": "ipython",
    "version": 3
   },
   "file_extension": ".py",
   "mimetype": "text/x-python",
   "name": "python",
   "nbconvert_exporter": "python",
   "pygments_lexer": "ipython3",
   "version": "3.9.18"
  }
 },
 "nbformat": 4,
 "nbformat_minor": 5
}
