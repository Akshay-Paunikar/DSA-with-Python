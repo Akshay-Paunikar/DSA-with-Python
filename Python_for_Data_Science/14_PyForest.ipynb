{
 "cells": [
  {
   "cell_type": "markdown",
   "id": "62b4f0cb-39c5-4e7a-88ab-6fff231496f1",
   "metadata": {},
   "source": [
    "### Pyforest\n",
    "\n",
    "Lazy import of all popular python data science libraries so that they are always there when you need them. If you don't use a library, it won't be imported. When you are done with your script, you can export the python code for the import statements."
   ]
  },
  {
   "cell_type": "code",
   "execution_count": 10,
   "id": "80ef76a4-4cf5-492c-83f1-c43793cced46",
   "metadata": {},
   "outputs": [],
   "source": [
    "# !pip install Pyforest"
   ]
  },
  {
   "cell_type": "code",
   "execution_count": 11,
   "id": "082a5092-0729-49b8-bd69-138da4924338",
   "metadata": {},
   "outputs": [
    {
     "data": {
      "application/javascript": [
       "\n",
       "        if (window._pyforest_update_imports_cell) { window._pyforest_update_imports_cell('import pandas as pd'); }\n",
       "    "
      ],
      "text/plain": [
       "<IPython.core.display.Javascript object>"
      ]
     },
     "metadata": {},
     "output_type": "display_data"
    }
   ],
   "source": [
    "# let's see how it works \n",
    "df = pd.read_csv(\"medals.csv\")"
   ]
  },
  {
   "cell_type": "markdown",
   "id": "a71d0f19-2dcd-4272-ad9e-d2f3bf4f8f0b",
   "metadata": {},
   "source": [
    "As you can see from above line of code, even without importing pandas we were able to read the csv file."
   ]
  },
  {
   "cell_type": "code",
   "execution_count": 12,
   "id": "ca5ad2e5-2e68-4c46-a5ee-1227ca587e42",
   "metadata": {},
   "outputs": [
    {
     "data": {
      "text/html": [
       "<div>\n",
       "<style scoped>\n",
       "    .dataframe tbody tr th:only-of-type {\n",
       "        vertical-align: middle;\n",
       "    }\n",
       "\n",
       "    .dataframe tbody tr th {\n",
       "        vertical-align: top;\n",
       "    }\n",
       "\n",
       "    .dataframe thead th {\n",
       "        text-align: right;\n",
       "    }\n",
       "</style>\n",
       "<table border=\"1\" class=\"dataframe\">\n",
       "  <thead>\n",
       "    <tr style=\"text-align: right;\">\n",
       "      <th></th>\n",
       "      <th>Year</th>\n",
       "      <th>City</th>\n",
       "      <th>Sport</th>\n",
       "      <th>Discipline</th>\n",
       "      <th>NOC</th>\n",
       "      <th>Event</th>\n",
       "      <th>Event gender</th>\n",
       "      <th>Medal</th>\n",
       "    </tr>\n",
       "  </thead>\n",
       "  <tbody>\n",
       "    <tr>\n",
       "      <th>0</th>\n",
       "      <td>1924</td>\n",
       "      <td>Chamonix</td>\n",
       "      <td>Skating</td>\n",
       "      <td>Figure skating</td>\n",
       "      <td>AUT</td>\n",
       "      <td>individual</td>\n",
       "      <td>M</td>\n",
       "      <td>Silver</td>\n",
       "    </tr>\n",
       "    <tr>\n",
       "      <th>1</th>\n",
       "      <td>1924</td>\n",
       "      <td>Chamonix</td>\n",
       "      <td>Skating</td>\n",
       "      <td>Figure skating</td>\n",
       "      <td>AUT</td>\n",
       "      <td>individual</td>\n",
       "      <td>W</td>\n",
       "      <td>Gold</td>\n",
       "    </tr>\n",
       "    <tr>\n",
       "      <th>2</th>\n",
       "      <td>1924</td>\n",
       "      <td>Chamonix</td>\n",
       "      <td>Skating</td>\n",
       "      <td>Figure skating</td>\n",
       "      <td>AUT</td>\n",
       "      <td>pairs</td>\n",
       "      <td>X</td>\n",
       "      <td>Gold</td>\n",
       "    </tr>\n",
       "    <tr>\n",
       "      <th>3</th>\n",
       "      <td>1924</td>\n",
       "      <td>Chamonix</td>\n",
       "      <td>Bobsleigh</td>\n",
       "      <td>Bobsleigh</td>\n",
       "      <td>BEL</td>\n",
       "      <td>four-man</td>\n",
       "      <td>M</td>\n",
       "      <td>Bronze</td>\n",
       "    </tr>\n",
       "    <tr>\n",
       "      <th>4</th>\n",
       "      <td>1924</td>\n",
       "      <td>Chamonix</td>\n",
       "      <td>Ice Hockey</td>\n",
       "      <td>Ice Hockey</td>\n",
       "      <td>CAN</td>\n",
       "      <td>ice hockey</td>\n",
       "      <td>M</td>\n",
       "      <td>Gold</td>\n",
       "    </tr>\n",
       "  </tbody>\n",
       "</table>\n",
       "</div>"
      ],
      "text/plain": [
       "   Year      City       Sport      Discipline  NOC       Event Event gender  \\\n",
       "0  1924  Chamonix     Skating  Figure skating  AUT  individual            M   \n",
       "1  1924  Chamonix     Skating  Figure skating  AUT  individual            W   \n",
       "2  1924  Chamonix     Skating  Figure skating  AUT       pairs            X   \n",
       "3  1924  Chamonix   Bobsleigh       Bobsleigh  BEL    four-man            M   \n",
       "4  1924  Chamonix  Ice Hockey      Ice Hockey  CAN  ice hockey            M   \n",
       "\n",
       "    Medal  \n",
       "0  Silver  \n",
       "1    Gold  \n",
       "2    Gold  \n",
       "3  Bronze  \n",
       "4    Gold  "
      ]
     },
     "execution_count": 12,
     "metadata": {},
     "output_type": "execute_result"
    }
   ],
   "source": [
    "df.head()"
   ]
  },
  {
   "cell_type": "code",
   "execution_count": 13,
   "id": "186d4cbe-7663-4a4e-a586-94658d4675b0",
   "metadata": {},
   "outputs": [
    {
     "name": "stdout",
     "output_type": "stream",
     "text": [
      "import pandas as pd\n"
     ]
    },
    {
     "data": {
      "text/plain": [
       "['import pandas as pd']"
      ]
     },
     "execution_count": 13,
     "metadata": {},
     "output_type": "execute_result"
    }
   ],
   "source": [
    "# check the imports\n",
    "active_imports()"
   ]
  },
  {
   "cell_type": "code",
   "execution_count": 16,
   "id": "2cdeed35-a779-4921-a5a6-c89a8d1042a3",
   "metadata": {},
   "outputs": [],
   "source": [
    "# let's try for matplotlib\n",
    "lst1 = [1,2,3,4,5]\n",
    "lst2 = [5,4,3,2,1]"
   ]
  },
  {
   "cell_type": "code",
   "execution_count": 17,
   "id": "fabe4cb7-8517-4038-8621-b2b75684e740",
   "metadata": {},
   "outputs": [
    {
     "data": {
      "application/javascript": [
       "\n",
       "        if (window._pyforest_update_imports_cell) { window._pyforest_update_imports_cell('import matplotlib.pyplot as plt\\nimport pandas as pd'); }\n",
       "    "
      ],
      "text/plain": [
       "<IPython.core.display.Javascript object>"
      ]
     },
     "metadata": {},
     "output_type": "display_data"
    },
    {
     "data": {
      "application/javascript": [
       "\n",
       "        if (window._pyforest_update_imports_cell) { window._pyforest_update_imports_cell('import matplotlib.pyplot as plt\\nimport pandas as pd'); }\n",
       "    "
      ],
      "text/plain": [
       "<IPython.core.display.Javascript object>"
      ]
     },
     "metadata": {},
     "output_type": "display_data"
    },
    {
     "data": {
      "application/javascript": [
       "\n",
       "        if (window._pyforest_update_imports_cell) { window._pyforest_update_imports_cell('import matplotlib.pyplot as plt\\nimport pandas as pd'); }\n",
       "    "
      ],
      "text/plain": [
       "<IPython.core.display.Javascript object>"
      ]
     },
     "metadata": {},
     "output_type": "display_data"
    },
    {
     "data": {
      "application/javascript": [
       "\n",
       "        if (window._pyforest_update_imports_cell) { window._pyforest_update_imports_cell('import matplotlib.pyplot as plt\\nimport pandas as pd'); }\n",
       "    "
      ],
      "text/plain": [
       "<IPython.core.display.Javascript object>"
      ]
     },
     "metadata": {},
     "output_type": "display_data"
    },
    {
     "data": {
      "image/png": "[encoded data removed]",
      "text/plain": [
       "<Figure size 640x480 with 1 Axes>"
      ]
     },
     "metadata": {},
     "output_type": "display_data"
    }
   ],
   "source": [
    "plt.plot(lst1, lst2)\n",
    "plt.xlabel(\"X-axis\")\n",
    "plt.ylabel(\"Y-axis\")\n",
    "plt.show()"
   ]
  },
  {
   "cell_type": "markdown",
   "id": "89335395-f72e-4d02-925a-c91642d4e522",
   "metadata": {},
   "source": [
    "Here also even without importing the matplotlib library we were able to plot our visualization."
   ]
  },
  {
   "cell_type": "code",
   "execution_count": 18,
   "id": "66f9f086-041a-4d56-a7eb-9eafcd79b56d",
   "metadata": {},
   "outputs": [
    {
     "name": "stdout",
     "output_type": "stream",
     "text": [
      "import matplotlib.pyplot as plt\n",
      "import pandas as pd\n"
     ]
    },
    {
     "data": {
      "text/plain": [
       "['import matplotlib.pyplot as plt', 'import pandas as pd']"
      ]
     },
     "execution_count": 18,
     "metadata": {},
     "output_type": "execute_result"
    }
   ],
   "source": [
    "# check the imports\n",
    "active_imports()"
   ]
  },
  {
   "cell_type": "code",
   "execution_count": 19,
   "id": "6819ba9c-91f5-42f4-ac5e-3889cb3d8881",
   "metadata": {},
   "outputs": [
    {
     "data": {
      "application/javascript": [
       "\n",
       "        if (window._pyforest_update_imports_cell) { window._pyforest_update_imports_cell('import matplotlib.pyplot as plt\\nimport pandas as pd\\nimport numpy as np'); }\n",
       "    "
      ],
      "text/plain": [
       "<IPython.core.display.Javascript object>"
      ]
     },
     "metadata": {},
     "output_type": "display_data"
    },
    {
     "data": {
      "text/plain": [
       "array([[1, 2, 3, 4, 5],\n",
       "       [5, 4, 3, 2, 1]])"
      ]
     },
     "execution_count": 19,
     "metadata": {},
     "output_type": "execute_result"
    }
   ],
   "source": [
    "np.array([lst1,lst2])"
   ]
  },
  {
   "cell_type": "code",
   "execution_count": 20,
   "id": "b282d6b6-2e94-4c42-9830-0e904025c7a5",
   "metadata": {},
   "outputs": [
    {
     "name": "stdout",
     "output_type": "stream",
     "text": [
      "import matplotlib.pyplot as plt\n",
      "import pandas as pd\n",
      "import numpy as np\n"
     ]
    },
    {
     "data": {
      "text/plain": [
       "['import matplotlib.pyplot as plt',\n",
       " 'import pandas as pd',\n",
       " 'import numpy as np']"
      ]
     },
     "execution_count": 20,
     "metadata": {},
     "output_type": "execute_result"
    }
   ],
   "source": [
    "# check the imports\n",
    "active_imports()"
   ]
  },
  {
   "cell_type": "code",
   "execution_count": 25,
   "id": "65d0ed30-76d2-4a67-8dd3-48e1159983ff",
   "metadata": {},
   "outputs": [
    {
     "data": {
      "application/javascript": [
       "\n",
       "        if (window._pyforest_update_imports_cell) { window._pyforest_update_imports_cell('import matplotlib.pyplot as plt\\nimport pandas as pd\\nimport seaborn as sns\\nimport numpy as np'); }\n",
       "    "
      ],
      "text/plain": [
       "<IPython.core.display.Javascript object>"
      ]
     },
     "metadata": {},
     "output_type": "display_data"
    },
    {
     "data": {
      "text/plain": [
       "<AxesSubplot:xlabel='count', ylabel='Sport'>"
      ]
     },
     "execution_count": 25,
     "metadata": {},
     "output_type": "execute_result"
    },
    {
     "data": {
      "image/png": "[encoded data removed]",
      "text/plain": [
       "<Figure size 640x480 with 1 Axes>"
      ]
     },
     "metadata": {},
     "output_type": "display_data"
    }
   ],
   "source": [
    "sns.countplot(y=df['Sport'])"
   ]
  },
  {
   "cell_type": "code",
   "execution_count": 26,
   "id": "e55645a7-113d-440e-acaa-23c96583c2b9",
   "metadata": {},
   "outputs": [
    {
     "name": "stdout",
     "output_type": "stream",
     "text": [
      "import matplotlib.pyplot as plt\n",
      "import pandas as pd\n",
      "import seaborn as sns\n",
      "import numpy as np\n"
     ]
    },
    {
     "data": {
      "text/plain": [
       "['import matplotlib.pyplot as plt',\n",
       " 'import pandas as pd',\n",
       " 'import seaborn as sns',\n",
       " 'import numpy as np']"
      ]
     },
     "execution_count": 26,
     "metadata": {},
     "output_type": "execute_result"
    }
   ],
   "source": [
    "# check the imports\n",
    "active_imports()"
   ]
  },
  {
   "cell_type": "code",
   "execution_count": null,
   "id": "bc8acf36-a431-4a80-a852-3b749b25fb81",
   "metadata": {},
   "outputs": [],
   "source": []
  }
 ],
 "metadata": {
  "kernelspec": {
   "display_name": "Python 3 (ipykernel)",
   "language": "python",
   "name": "python3"
  },
  "language_info": {
   "codemirror_mode": {
    "name": "ipython",
    "version": 3
   },
   "file_extension": ".py",
   "mimetype": "text/x-python",
   "name": "python",
   "nbconvert_exporter": "python",
   "pygments_lexer": "ipython3",
   "version": "3.9.18"
  }
 },
 "nbformat": 4,
 "nbformat_minor": 5
}
