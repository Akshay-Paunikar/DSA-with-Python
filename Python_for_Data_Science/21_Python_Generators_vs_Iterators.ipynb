{
 "cells": [
  {
   "cell_type": "markdown",
   "id": "4bf0ca47-f67e-4c17-afac-49c5fc93eec9",
   "metadata": {},
   "source": [
    "<h3>Python Generators vs Iterators:</h3>"
   ]
  },
  {
   "cell_type": "code",
   "execution_count": 1,
   "id": "6e5735f1-33b6-46b7-8eee-99f9cd49c8bf",
   "metadata": {},
   "outputs": [
    {
     "name": "stdout",
     "output_type": "stream",
     "text": [
      "1\n",
      "2\n",
      "3\n",
      "4\n",
      "5\n"
     ]
    }
   ],
   "source": [
    "# Iterable\n",
    "lst = [1,2,3,4,5]\n",
    "\n",
    "for i in lst:\n",
    "    print(i)"
   ]
  },
  {
   "cell_type": "code",
   "execution_count": 8,
   "id": "d032933a-db1f-4587-bbe7-c1b08d05814a",
   "metadata": {},
   "outputs": [],
   "source": [
    "# Iterator\n",
    "iterable = iter(lst)"
   ]
  },
  {
   "cell_type": "code",
   "execution_count": 4,
   "id": "90c10c1a-24ac-40ce-872d-21725719dd50",
   "metadata": {},
   "outputs": [
    {
     "data": {
      "text/plain": [
       "list_iterator"
      ]
     },
     "execution_count": 4,
     "metadata": {},
     "output_type": "execute_result"
    }
   ],
   "source": [
    "type(iterable)"
   ]
  },
  {
   "cell_type": "code",
   "execution_count": 3,
   "id": "6b53b37b-4c35-4b8c-9568-7979bcbc040e",
   "metadata": {},
   "outputs": [
    {
     "name": "stdout",
     "output_type": "stream",
     "text": [
      "1\n",
      "2\n",
      "3\n",
      "4\n",
      "5\n"
     ]
    }
   ],
   "source": [
    "for i in iterable:\n",
    "    print(i)"
   ]
  },
  {
   "cell_type": "code",
   "execution_count": 5,
   "id": "914e4124-22c4-46d0-ab6a-372a254b910f",
   "metadata": {},
   "outputs": [
    {
     "data": {
      "text/plain": [
       "<list_iterator at 0x260d1c36a60>"
      ]
     },
     "execution_count": 5,
     "metadata": {},
     "output_type": "execute_result"
    }
   ],
   "source": [
    "iterable"
   ]
  },
  {
   "cell_type": "code",
   "execution_count": 14,
   "id": "69c5cbd9-689e-4e30-a813-558dbba94f4c",
   "metadata": {},
   "outputs": [
    {
     "name": "stdout",
     "output_type": "stream",
     "text": [
      "The iterator is empty\n"
     ]
    }
   ],
   "source": [
    "try:\n",
    "    print(next(iterable))\n",
    "except StopIteration:\n",
    "    print(\"The iterator is empty\")"
   ]
  },
  {
   "cell_type": "code",
   "execution_count": 15,
   "id": "5568a031-bab4-4f08-b42d-50b1ee19b213",
   "metadata": {},
   "outputs": [],
   "source": [
    "# Generator\n",
    "def square(n):\n",
    "    for i in range(n):\n",
    "        return i**2"
   ]
  },
  {
   "cell_type": "code",
   "execution_count": 16,
   "id": "81dd9c76-bf2c-426c-b981-73b60b977deb",
   "metadata": {},
   "outputs": [
    {
     "data": {
      "text/plain": [
       "0"
      ]
     },
     "execution_count": 16,
     "metadata": {},
     "output_type": "execute_result"
    }
   ],
   "source": [
    "square(3)"
   ]
  },
  {
   "cell_type": "code",
   "execution_count": 17,
   "id": "5b534e2b-e9d5-4f14-bf87-31419bde3072",
   "metadata": {},
   "outputs": [],
   "source": [
    "# Generator\n",
    "def square(n):\n",
    "    for i in range(n):\n",
    "        yield i**2"
   ]
  },
  {
   "cell_type": "code",
   "execution_count": 18,
   "id": "31873c86-abd3-4bfd-8e63-4f96a8f477c1",
   "metadata": {},
   "outputs": [
    {
     "data": {
      "text/plain": [
       "<generator object square at 0x00000260D1D6F430>"
      ]
     },
     "execution_count": 18,
     "metadata": {},
     "output_type": "execute_result"
    }
   ],
   "source": [
    "square(3)"
   ]
  },
  {
   "cell_type": "code",
   "execution_count": 19,
   "id": "68013c5a-0715-47d9-9ac1-0c65bbce4d57",
   "metadata": {},
   "outputs": [
    {
     "name": "stdout",
     "output_type": "stream",
     "text": [
      "0\n",
      "1\n",
      "4\n"
     ]
    }
   ],
   "source": [
    "for i in square(3):\n",
    "    print(i)"
   ]
  },
  {
   "cell_type": "code",
   "execution_count": 20,
   "id": "e2a618ca-5e74-4800-9764-e67e07f31c2e",
   "metadata": {},
   "outputs": [
    {
     "data": {
      "text/plain": [
       "<generator object square at 0x00000260D1D6F5F0>"
      ]
     },
     "execution_count": 20,
     "metadata": {},
     "output_type": "execute_result"
    }
   ],
   "source": [
    "a = square(3)\n",
    "a"
   ]
  },
  {
   "cell_type": "code",
   "execution_count": 21,
   "id": "c3041c38-814c-4402-9c51-2e6c5f1a9f2d",
   "metadata": {},
   "outputs": [
    {
     "data": {
      "text/plain": [
       "0"
      ]
     },
     "execution_count": 21,
     "metadata": {},
     "output_type": "execute_result"
    }
   ],
   "source": [
    "next(a)"
   ]
  },
  {
   "cell_type": "code",
   "execution_count": 22,
   "id": "0da76b3d-8281-4156-947c-5e95386299fa",
   "metadata": {},
   "outputs": [
    {
     "data": {
      "text/plain": [
       "1"
      ]
     },
     "execution_count": 22,
     "metadata": {},
     "output_type": "execute_result"
    }
   ],
   "source": [
    "next(a)"
   ]
  },
  {
   "cell_type": "code",
   "execution_count": 23,
   "id": "76ebc42e-951b-4290-8a16-a98a2507a920",
   "metadata": {},
   "outputs": [
    {
     "data": {
      "text/plain": [
       "4"
      ]
     },
     "execution_count": 23,
     "metadata": {},
     "output_type": "execute_result"
    }
   ],
   "source": [
    "next(a)"
   ]
  },
  {
   "cell_type": "code",
   "execution_count": 24,
   "id": "8771a853-d966-4a68-9318-5b7121f9e8f3",
   "metadata": {},
   "outputs": [
    {
     "ename": "StopIteration",
     "evalue": "",
     "output_type": "error",
     "traceback": [
      "\u001b[1;31m---------------------------------------------------------------------------\u001b[0m",
      "\u001b[1;31mStopIteration\u001b[0m                             Traceback (most recent call last)",
      "Cell \u001b[1;32mIn[24], line 1\u001b[0m\n\u001b[1;32m----> 1\u001b[0m \u001b[38;5;28;43mnext\u001b[39;49m\u001b[43m(\u001b[49m\u001b[43ma\u001b[49m\u001b[43m)\u001b[49m\n",
      "\u001b[1;31mStopIteration\u001b[0m: "
     ]
    }
   ],
   "source": [
    "next(a)"
   ]
  },
  {
   "cell_type": "markdown",
   "id": "1760bc72-e54f-4bcf-89ca-0636e58dc999",
   "metadata": {},
   "source": [
    "<b>Difference:</b>"
   ]
  },
  {
   "cell_type": "markdown",
   "id": "b6e4b41e-a8c4-41b1-993b-a68dd6beae80",
   "metadata": {},
   "source": [
    " - To create iterator we use iter() and for generator we use function along with yield keyword.\n",
    " - Generator uses the yield keyword. It saves the local variable.\n",
    " - Generator in python helps us to write fast and compact code.\n",
    " - Python iterator is much more memory efficient."
   ]
  },
  {
   "cell_type": "code",
   "execution_count": 27,
   "id": "dd7ec0d6-a1f3-4b24-a4d3-edbb9ca0117b",
   "metadata": {},
   "outputs": [],
   "source": [
    "import types, collections.abc"
   ]
  },
  {
   "cell_type": "code",
   "execution_count": 28,
   "id": "cc7d6419-a115-4562-9f66-7de2d35b904a",
   "metadata": {},
   "outputs": [
    {
     "data": {
      "text/plain": [
       "True"
      ]
     },
     "execution_count": 28,
     "metadata": {},
     "output_type": "execute_result"
    }
   ],
   "source": [
    "issubclass(types.GeneratorType, collections.Iterator)"
   ]
  }
 ],
 "metadata": {
  "kernelspec": {
   "display_name": "Python 3 (ipykernel)",
   "language": "python",
   "name": "python3"
  },
  "language_info": {
   "codemirror_mode": {
    "name": "ipython",
    "version": 3
   },
   "file_extension": ".py",
   "mimetype": "text/x-python",
   "name": "python",
   "nbconvert_exporter": "python",
   "pygments_lexer": "ipython3",
   "version": "3.9.18"
  }
 },
 "nbformat": 4,
 "nbformat_minor": 5
}
