{
 "cells": [
  {
   "cell_type": "markdown",
   "id": "7d45b88b-f6dc-4e94-9b0d-3858dcd91850",
   "metadata": {},
   "source": [
    "<h3>Python Eval Function - Evaluating Expression Dynamically</h3>"
   ]
  },
  {
   "cell_type": "markdown",
   "id": "8948b34e-7bac-470d-90dd-de496de904ca",
   "metadata": {},
   "source": [
    "The eval() function evaluates the specified expression, if the expression is a legal Python statement, it will be executed.\n",
    "\n",
    " - expression: A String, that will be evaluated as Python code\n",
    " - globals: Optional. A dictionary containing global parameters\n",
    " - locals: Optional. A dictionary containing local parameters"
   ]
  },
  {
   "cell_type": "code",
   "execution_count": 20,
   "id": "554b2313-0b59-45ce-a620-d6f1e159df34",
   "metadata": {},
   "outputs": [
    {
     "data": {
      "text/plain": [
       "81"
      ]
     },
     "execution_count": 20,
     "metadata": {},
     "output_type": "execute_result"
    }
   ],
   "source": [
    "num = 9\n",
    "eval('num ** 2')"
   ]
  },
  {
   "cell_type": "code",
   "execution_count": 21,
   "id": "7c49fc86-2aee-422a-ba42-a94ef57fcb16",
   "metadata": {},
   "outputs": [],
   "source": [
    "# Perimeter of Square\n",
    "def calculate_perimeter(l):\n",
    "    return 4*l\n",
    "\n",
    "# Area of Square\n",
    "def calculate_area(l):\n",
    "    return l*l"
   ]
  },
  {
   "cell_type": "code",
   "execution_count": 4,
   "id": "be2b340a-9813-4d33-ae8d-bdf27ccc9e77",
   "metadata": {},
   "outputs": [
    {
     "name": "stdout",
     "output_type": "stream",
     "text": [
      "Enter the value:  5\n",
      "Enter the expression to evaluate:  calculate_perimeter(l)\n"
     ]
    },
    {
     "name": "stdout",
     "output_type": "stream",
     "text": [
      "If length is 5, then Perimeter is 20\n"
     ]
    }
   ],
   "source": [
    "l = int(input(\"Enter the value: \"))\n",
    "expression = input(\"Enter the expression to evaluate: \")\n",
    "\n",
    "if (expression == 'calculate_perimeter(l)'):\n",
    "    print(\"If length is {}, then Perimeter is {}\".format(l, eval(expression)))\n",
    "elif (expression == 'calculate_area(l)'):\n",
    "    print(\"If length is {}, then Area is {}\".format(l, eval(expression)))\n",
    "else:\n",
    "    print(\"Wrong Function\")"
   ]
  },
  {
   "cell_type": "code",
   "execution_count": 36,
   "id": "631bfb17-1bfc-40dc-98f5-d84bf80fdad7",
   "metadata": {},
   "outputs": [],
   "source": [
    "class Square_Calculations():\n",
    "    def __init__(self,l):\n",
    "        self.l = l\n",
    "        expression = input(\"Enter the expression to evaluate: \")\n",
    "        if (expression == 'calculate_perimeter(l)'):\n",
    "            print(\"If length is {}, then Perimeter is {}\".format(self.l, eval(expression)))\n",
    "        elif (expression == 'calculate_area(l)'):\n",
    "            print(\"If length is {}, then Area is {}\".format(self.l, eval(expression)))\n",
    "        else:\n",
    "            print(\"Wrong Function\")"
   ]
  },
  {
   "cell_type": "code",
   "execution_count": 42,
   "id": "bf9f25a5-d3ef-4fa4-9483-17b3e7674a1c",
   "metadata": {},
   "outputs": [
    {
     "name": "stdout",
     "output_type": "stream",
     "text": [
      "Enter the expression to evaluate:  calculate_area(l)\n"
     ]
    },
    {
     "name": "stdout",
     "output_type": "stream",
     "text": [
      "If length is 5, then Area is 25\n"
     ]
    }
   ],
   "source": [
    "answer = Square_Calculations(5)"
   ]
  },
  {
   "cell_type": "code",
   "execution_count": 45,
   "id": "2427cb53-0a0e-4577-8f73-5b23654a7f88",
   "metadata": {},
   "outputs": [
    {
     "data": {
      "text/plain": [
       "160"
      ]
     },
     "execution_count": 45,
     "metadata": {},
     "output_type": "execute_result"
    }
   ],
   "source": [
    "# Use of Globlals\n",
    "eval(\"x+50+(x**2)\", {'x':10})"
   ]
  },
  {
   "cell_type": "code",
   "execution_count": 50,
   "id": "e5526cb3-9691-45df-8efc-7c0d271c09e2",
   "metadata": {},
   "outputs": [
    {
     "data": {
      "text/plain": [
       "200.0"
      ]
     },
     "execution_count": 50,
     "metadata": {},
     "output_type": "execute_result"
    }
   ],
   "source": [
    "x = 100\n",
    "y = 100\n",
    "eval(\"(x/y)*z\", {\"x\":x, \"y\":y, \"z\":200})"
   ]
  },
  {
   "cell_type": "code",
   "execution_count": 52,
   "id": "dc79df0b-130b-47f6-ae83-439b7caa87c6",
   "metadata": {},
   "outputs": [
    {
     "data": {
      "text/plain": [
       "200.0"
      ]
     },
     "execution_count": 52,
     "metadata": {},
     "output_type": "execute_result"
    }
   ],
   "source": [
    "# locals\n",
    "eval(\"(x/y)*z\", {}, {\"x\":100, \"y\":100, \"z\":200})"
   ]
  },
  {
   "cell_type": "code",
   "execution_count": 53,
   "id": "6b468825-d549-4f0b-b8ed-a3050a1a1f3f",
   "metadata": {},
   "outputs": [
    {
     "data": {
      "text/plain": [
       "True"
      ]
     },
     "execution_count": 53,
     "metadata": {},
     "output_type": "execute_result"
    }
   ],
   "source": [
    "a = 100\n",
    "b = 150\n",
    "eval(\"a<b\")"
   ]
  }
 ],
 "metadata": {
  "kernelspec": {
   "display_name": "Deep_Learning",
   "language": "python",
   "name": "python3"
  },
  "language_info": {
   "codemirror_mode": {
    "name": "ipython",
    "version": 3
   },
   "file_extension": ".py",
   "mimetype": "text/x-python",
   "name": "python",
   "nbconvert_exporter": "python",
   "pygments_lexer": "ipython3",
   "version": "3.9.18"
  }
 },
 "nbformat": 4,
 "nbformat_minor": 5
}
