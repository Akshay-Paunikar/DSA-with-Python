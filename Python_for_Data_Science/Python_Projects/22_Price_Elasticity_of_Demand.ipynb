{
 "cells": [
  {
   "cell_type": "markdown",
   "id": "369acb89-f793-47ed-a520-03636f0e1c33",
   "metadata": {},
   "source": [
    "<h3>Price Elasticity of Demand</h3>"
   ]
  },
  {
   "cell_type": "markdown",
   "id": "cbc4f8a2-2807-4501-8716-fb9e03f85c0b",
   "metadata": {},
   "source": [
    "Price is one of the most important factors influencing the demand for a product. Elasticity refers to the degree of response, and the price elasticity of demand refers to the degree of responsiveness of demand for a product due to the change in its price. We study the price elasticity of demand in economics. Simply put, it means the degree to which the demand for a product changes with an increase or decrease in its price. For example, the demand for a product increases by 20% due to a 10% decrease in its price. This is what it means to change in demand with the change in the price of a product. And when you calculate the degree to which demand changes, it’s called the price elasticity of demand.\n",
    "\n",
    "To calculate the price elasticity of demand, you have to use the formula mentioned below:\n",
    "\n",
    " - Percentage Change in Quantity Demanded / Percentage Change in the Price"
   ]
  },
  {
   "cell_type": "code",
   "execution_count": 1,
   "id": "f7ddf72f-b9b9-499a-bf41-ea1fcc59eebf",
   "metadata": {},
   "outputs": [],
   "source": [
    "import pandas as pd\n",
    "data = pd.DataFrame({\"Demand\": [20, 30, 31, 33, 30, 33, 35], \n",
    "                     \"Price\": [2000, 1800, 1850, 1700, 1800, 1700, 1600]})"
   ]
  },
  {
   "cell_type": "code",
   "execution_count": 2,
   "id": "72084efe-aeda-4f0b-a27b-584b0cf639a9",
   "metadata": {},
   "outputs": [
    {
     "data": {
      "text/html": [
       "<div>\n",
       "<style scoped>\n",
       "    .dataframe tbody tr th:only-of-type {\n",
       "        vertical-align: middle;\n",
       "    }\n",
       "\n",
       "    .dataframe tbody tr th {\n",
       "        vertical-align: top;\n",
       "    }\n",
       "\n",
       "    .dataframe thead th {\n",
       "        text-align: right;\n",
       "    }\n",
       "</style>\n",
       "<table border=\"1\" class=\"dataframe\">\n",
       "  <thead>\n",
       "    <tr style=\"text-align: right;\">\n",
       "      <th></th>\n",
       "      <th>Demand</th>\n",
       "      <th>Price</th>\n",
       "    </tr>\n",
       "  </thead>\n",
       "  <tbody>\n",
       "    <tr>\n",
       "      <th>0</th>\n",
       "      <td>20</td>\n",
       "      <td>2000</td>\n",
       "    </tr>\n",
       "    <tr>\n",
       "      <th>1</th>\n",
       "      <td>30</td>\n",
       "      <td>1800</td>\n",
       "    </tr>\n",
       "    <tr>\n",
       "      <th>2</th>\n",
       "      <td>31</td>\n",
       "      <td>1850</td>\n",
       "    </tr>\n",
       "    <tr>\n",
       "      <th>3</th>\n",
       "      <td>33</td>\n",
       "      <td>1700</td>\n",
       "    </tr>\n",
       "    <tr>\n",
       "      <th>4</th>\n",
       "      <td>30</td>\n",
       "      <td>1800</td>\n",
       "    </tr>\n",
       "  </tbody>\n",
       "</table>\n",
       "</div>"
      ],
      "text/plain": [
       "   Demand  Price\n",
       "0      20   2000\n",
       "1      30   1800\n",
       "2      31   1850\n",
       "3      33   1700\n",
       "4      30   1800"
      ]
     },
     "execution_count": 2,
     "metadata": {},
     "output_type": "execute_result"
    }
   ],
   "source": [
    "data.head()"
   ]
  },
  {
   "cell_type": "code",
   "execution_count": 3,
   "id": "a4d5b856-dc57-4cc3-a467-15fdbc6c0f3e",
   "metadata": {},
   "outputs": [],
   "source": [
    "data[\"% Change in Demand\"] = data[\"Demand\"].pct_change()\n",
    "data[\"% Change in Price\"] = data[\"Price\"].pct_change()"
   ]
  },
  {
   "cell_type": "code",
   "execution_count": 5,
   "id": "2d92f8b0-7e46-47bf-887d-bd77ae58bfad",
   "metadata": {},
   "outputs": [
    {
     "data": {
      "text/html": [
       "<div>\n",
       "<style scoped>\n",
       "    .dataframe tbody tr th:only-of-type {\n",
       "        vertical-align: middle;\n",
       "    }\n",
       "\n",
       "    .dataframe tbody tr th {\n",
       "        vertical-align: top;\n",
       "    }\n",
       "\n",
       "    .dataframe thead th {\n",
       "        text-align: right;\n",
       "    }\n",
       "</style>\n",
       "<table border=\"1\" class=\"dataframe\">\n",
       "  <thead>\n",
       "    <tr style=\"text-align: right;\">\n",
       "      <th></th>\n",
       "      <th>Demand</th>\n",
       "      <th>Price</th>\n",
       "      <th>% Change in Demand</th>\n",
       "      <th>% Change in Price</th>\n",
       "    </tr>\n",
       "  </thead>\n",
       "  <tbody>\n",
       "    <tr>\n",
       "      <th>0</th>\n",
       "      <td>20</td>\n",
       "      <td>2000</td>\n",
       "      <td>NaN</td>\n",
       "      <td>NaN</td>\n",
       "    </tr>\n",
       "    <tr>\n",
       "      <th>1</th>\n",
       "      <td>30</td>\n",
       "      <td>1800</td>\n",
       "      <td>0.500000</td>\n",
       "      <td>-0.100000</td>\n",
       "    </tr>\n",
       "    <tr>\n",
       "      <th>2</th>\n",
       "      <td>31</td>\n",
       "      <td>1850</td>\n",
       "      <td>0.033333</td>\n",
       "      <td>0.027778</td>\n",
       "    </tr>\n",
       "    <tr>\n",
       "      <th>3</th>\n",
       "      <td>33</td>\n",
       "      <td>1700</td>\n",
       "      <td>0.064516</td>\n",
       "      <td>-0.081081</td>\n",
       "    </tr>\n",
       "    <tr>\n",
       "      <th>4</th>\n",
       "      <td>30</td>\n",
       "      <td>1800</td>\n",
       "      <td>-0.090909</td>\n",
       "      <td>0.058824</td>\n",
       "    </tr>\n",
       "    <tr>\n",
       "      <th>5</th>\n",
       "      <td>33</td>\n",
       "      <td>1700</td>\n",
       "      <td>0.100000</td>\n",
       "      <td>-0.055556</td>\n",
       "    </tr>\n",
       "    <tr>\n",
       "      <th>6</th>\n",
       "      <td>35</td>\n",
       "      <td>1600</td>\n",
       "      <td>0.060606</td>\n",
       "      <td>-0.058824</td>\n",
       "    </tr>\n",
       "  </tbody>\n",
       "</table>\n",
       "</div>"
      ],
      "text/plain": [
       "   Demand  Price  % Change in Demand  % Change in Price\n",
       "0      20   2000                 NaN                NaN\n",
       "1      30   1800            0.500000          -0.100000\n",
       "2      31   1850            0.033333           0.027778\n",
       "3      33   1700            0.064516          -0.081081\n",
       "4      30   1800           -0.090909           0.058824\n",
       "5      33   1700            0.100000          -0.055556\n",
       "6      35   1600            0.060606          -0.058824"
      ]
     },
     "execution_count": 5,
     "metadata": {},
     "output_type": "execute_result"
    }
   ],
   "source": [
    "data"
   ]
  },
  {
   "cell_type": "code",
   "execution_count": 6,
   "id": "fe0ca5f8-0bd5-40c2-b4c1-4fbef2df881e",
   "metadata": {},
   "outputs": [],
   "source": [
    "data[\"Price Elasticity\"] = data['% Change in Demand'] / data['% Change in Price']"
   ]
  },
  {
   "cell_type": "code",
   "execution_count": 7,
   "id": "6bb853d4-c0a0-4aac-a922-f4d3b610d23f",
   "metadata": {},
   "outputs": [
    {
     "data": {
      "text/html": [
       "<div>\n",
       "<style scoped>\n",
       "    .dataframe tbody tr th:only-of-type {\n",
       "        vertical-align: middle;\n",
       "    }\n",
       "\n",
       "    .dataframe tbody tr th {\n",
       "        vertical-align: top;\n",
       "    }\n",
       "\n",
       "    .dataframe thead th {\n",
       "        text-align: right;\n",
       "    }\n",
       "</style>\n",
       "<table border=\"1\" class=\"dataframe\">\n",
       "  <thead>\n",
       "    <tr style=\"text-align: right;\">\n",
       "      <th></th>\n",
       "      <th>Demand</th>\n",
       "      <th>Price</th>\n",
       "      <th>% Change in Demand</th>\n",
       "      <th>% Change in Price</th>\n",
       "      <th>Price Elasticity</th>\n",
       "    </tr>\n",
       "  </thead>\n",
       "  <tbody>\n",
       "    <tr>\n",
       "      <th>0</th>\n",
       "      <td>20</td>\n",
       "      <td>2000</td>\n",
       "      <td>NaN</td>\n",
       "      <td>NaN</td>\n",
       "      <td>NaN</td>\n",
       "    </tr>\n",
       "    <tr>\n",
       "      <th>1</th>\n",
       "      <td>30</td>\n",
       "      <td>1800</td>\n",
       "      <td>0.500000</td>\n",
       "      <td>-0.100000</td>\n",
       "      <td>-5.000000</td>\n",
       "    </tr>\n",
       "    <tr>\n",
       "      <th>2</th>\n",
       "      <td>31</td>\n",
       "      <td>1850</td>\n",
       "      <td>0.033333</td>\n",
       "      <td>0.027778</td>\n",
       "      <td>1.200000</td>\n",
       "    </tr>\n",
       "    <tr>\n",
       "      <th>3</th>\n",
       "      <td>33</td>\n",
       "      <td>1700</td>\n",
       "      <td>0.064516</td>\n",
       "      <td>-0.081081</td>\n",
       "      <td>-0.795699</td>\n",
       "    </tr>\n",
       "    <tr>\n",
       "      <th>4</th>\n",
       "      <td>30</td>\n",
       "      <td>1800</td>\n",
       "      <td>-0.090909</td>\n",
       "      <td>0.058824</td>\n",
       "      <td>-1.545455</td>\n",
       "    </tr>\n",
       "    <tr>\n",
       "      <th>5</th>\n",
       "      <td>33</td>\n",
       "      <td>1700</td>\n",
       "      <td>0.100000</td>\n",
       "      <td>-0.055556</td>\n",
       "      <td>-1.800000</td>\n",
       "    </tr>\n",
       "    <tr>\n",
       "      <th>6</th>\n",
       "      <td>35</td>\n",
       "      <td>1600</td>\n",
       "      <td>0.060606</td>\n",
       "      <td>-0.058824</td>\n",
       "      <td>-1.030303</td>\n",
       "    </tr>\n",
       "  </tbody>\n",
       "</table>\n",
       "</div>"
      ],
      "text/plain": [
       "   Demand  Price  % Change in Demand  % Change in Price  Price Elasticity\n",
       "0      20   2000                 NaN                NaN               NaN\n",
       "1      30   1800            0.500000          -0.100000         -5.000000\n",
       "2      31   1850            0.033333           0.027778          1.200000\n",
       "3      33   1700            0.064516          -0.081081         -0.795699\n",
       "4      30   1800           -0.090909           0.058824         -1.545455\n",
       "5      33   1700            0.100000          -0.055556         -1.800000\n",
       "6      35   1600            0.060606          -0.058824         -1.030303"
      ]
     },
     "execution_count": 7,
     "metadata": {},
     "output_type": "execute_result"
    }
   ],
   "source": [
    "data"
   ]
  }
 ],
 "metadata": {
  "kernelspec": {
   "display_name": "Python 3 (ipykernel)",
   "language": "python",
   "name": "python3"
  },
  "language_info": {
   "codemirror_mode": {
    "name": "ipython",
    "version": 3
   },
   "file_extension": ".py",
   "mimetype": "text/x-python",
   "name": "python",
   "nbconvert_exporter": "python",
   "pygments_lexer": "ipython3",
   "version": "3.9.18"
  }
 },
 "nbformat": 4,
 "nbformat_minor": 5
}
