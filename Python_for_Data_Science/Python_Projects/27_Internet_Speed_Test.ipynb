{
 "cells": [
  {
   "cell_type": "markdown",
   "id": "6970ddc5-8c50-4f90-aba7-8fe5546ef78e",
   "metadata": {},
   "source": [
    "<h3>Internet Speed Test using Python</h3>"
   ]
  },
  {
   "cell_type": "markdown",
   "id": "46d4b6a6-855a-4a6d-970a-63de5b283696",
   "metadata": {},
   "source": [
    "You must have checked the speed of your internet connection once in your life using platforms like speedtest.net. Have you ever thought about doing the same with Python?\n",
    "\n",
    "When checking the speed of the Internet connection, the results are displayed as download speed and upload speed. Download speed refers to the speed at which your internet connection downloads data from the internet and upload speed refers to the speed at which your internet connection uploads data to the internet. So, calculating the download speed and the upload speed of an Internet connection sums up the Internet speed test."
   ]
  },
  {
   "cell_type": "markdown",
   "id": "9d4d003e-0ec4-4aee-9053-a159c237383a",
   "metadata": {},
   "source": [
    "To calculate the speed of your internet connection using Python, you have to install a Python library known as speedtest. If you have never used it before then you can easily install it on your system by using the pip command:\n",
    "\n",
    " - pip install speedtest-cli\n",
    "\n",
    "Now below is how you can perform an internet speed test using Python:"
   ]
  },
  {
   "cell_type": "code",
   "execution_count": 1,
   "id": "eb680942-4dca-443f-a262-1a23e0e9648e",
   "metadata": {},
   "outputs": [
    {
     "name": "stdout",
     "output_type": "stream",
     "text": [
      "Collecting speedtest-cli\n",
      "  Downloading speedtest_cli-2.1.3-py2.py3-none-any.whl.metadata (6.8 kB)\n",
      "Downloading speedtest_cli-2.1.3-py2.py3-none-any.whl (23 kB)\n",
      "Installing collected packages: speedtest-cli\n",
      "Successfully installed speedtest-cli-2.1.3\n"
     ]
    }
   ],
   "source": [
    "!pip install speedtest-cli"
   ]
  },
  {
   "cell_type": "code",
   "execution_count": 2,
   "id": "48209232-1e8b-4de3-9fb1-eb276a8a4b82",
   "metadata": {},
   "outputs": [
    {
     "name": "stdout",
     "output_type": "stream",
     "text": [
      "Wifi Download Speed is  36426248.3218211\n",
      "Wifi Upload Speed is  40954624.379062526\n"
     ]
    }
   ],
   "source": [
    "import speedtest\n",
    "wifi  = speedtest.Speedtest()\n",
    "print(\"Wifi Download Speed is \", wifi.download())\n",
    "print(\"Wifi Upload Speed is \", wifi.upload())"
   ]
  }
 ],
 "metadata": {
  "kernelspec": {
   "display_name": "Python 3 (ipykernel)",
   "language": "python",
   "name": "python3"
  },
  "language_info": {
   "codemirror_mode": {
    "name": "ipython",
    "version": 3
   },
   "file_extension": ".py",
   "mimetype": "text/x-python",
   "name": "python",
   "nbconvert_exporter": "python",
   "pygments_lexer": "ipython3",
   "version": "3.9.18"
  }
 },
 "nbformat": 4,
 "nbformat_minor": 5
}
