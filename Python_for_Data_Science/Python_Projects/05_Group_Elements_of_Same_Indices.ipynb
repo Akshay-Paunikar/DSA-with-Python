{
 "cells": [
  {
   "cell_type": "markdown",
   "id": "e0c077fd-dedd-408a-b6ba-b0deebb0a9d6",
   "metadata": {},
   "source": [
    "<h3>Group Elements of Same Indices:</h3>"
   ]
  },
  {
   "cell_type": "markdown",
   "id": "d42dfcf8-81c1-4195-ba3e-c89c558508b9",
   "metadata": {},
   "source": [
    "Grouping elements of the same indices means grouping elements of two or more data structures according to their indices. It is a tricky problem for beginners and can be asked in any coding interview.\n",
    "\n",
    "To group elements of the same index, you will initially have two or more lists inside a list like [[a, b], [c, d]]. To group the elements of these lists, you need to create two new lists where you will store the elements of both the lists at index 0 [a, c] and index 1 [b, d]. That is the meaning of grouping the elements of the same indices."
   ]
  },
  {
   "cell_type": "code",
   "execution_count": 37,
   "id": "416243d3-30c2-4a44-b162-9eb85d0b5483",
   "metadata": {},
   "outputs": [
    {
     "name": "stdout",
     "output_type": "stream",
     "text": [
      "[10, 40, 70] [20, 50, 80] [30, 60, 90]\n"
     ]
    }
   ],
   "source": [
    "inputLists = [[10, 20, 30], [40, 50, 60], [70, 80, 90]]\n",
    "outputLists = []\n",
    "index = 0\n",
    "\n",
    "for i in range(len(inputLists[0])):\n",
    "    outputLists.append([])\n",
    "    for j in range(len(inputLists)):\n",
    "        outputLists[index].append(inputLists[j][index])\n",
    "    index = index + 1\n",
    "a, b, c = outputLists[0], outputLists[1], outputLists[2]\n",
    "print(a, b, c)"
   ]
  },
  {
   "cell_type": "code",
   "execution_count": 38,
   "id": "e36eb8a5-478a-43f0-86cf-51e82f3bfef2",
   "metadata": {},
   "outputs": [
    {
     "data": {
      "text/plain": [
       "[[10, 40, 70], [20, 50, 80], [30, 60, 90]]"
      ]
     },
     "execution_count": 38,
     "metadata": {},
     "output_type": "execute_result"
    }
   ],
   "source": [
    "outputLists"
   ]
  }
 ],
 "metadata": {
  "kernelspec": {
   "display_name": "Python 3 (ipykernel)",
   "language": "python",
   "name": "python3"
  },
  "language_info": {
   "codemirror_mode": {
    "name": "ipython",
    "version": 3
   },
   "file_extension": ".py",
   "mimetype": "text/x-python",
   "name": "python",
   "nbconvert_exporter": "python",
   "pygments_lexer": "ipython3",
   "version": "3.9.18"
  }
 },
 "nbformat": 4,
 "nbformat_minor": 5
}
