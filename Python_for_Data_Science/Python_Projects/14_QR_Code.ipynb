{
 "cells": [
  {
   "cell_type": "markdown",
   "id": "51183b24-ebe1-4818-bb90-82fd42de8a5e",
   "metadata": {},
   "source": [
    "<h3>QR Code using Python</h3>"
   ]
  },
  {
   "cell_type": "markdown",
   "id": "22a499a6-6347-4631-8b57-34453205bc18",
   "metadata": {},
   "source": [
    "A QR Code is a scannable code used to store information. QR codes are used to redirect you to a specific page or to show you some information. You must have scanned QR codes once in your life when making payments.\n",
    "\n",
    "QR codes have a variety of uses; from creating a payment gateway to showing you the food menu of a restaurant, a QR code is being used in several ways. Over the past five years, several businesses have started that are only based on creating QR codes for a business. So if you know how to create a QR code, it will be helpful for you in many ways.\n",
    "\n",
    "So to create QR codes using the Python programming language, you first need to make sure that you have the PyQRCode and pypng modules installed in your Python virtual environment. You can easily install both of these modules by executing the commands mentioned below in your command prompt or terminal:\n",
    "\n",
    " - pip install PyQRCode\r",
    " - \n",
    "pip install pypng"
   ]
  },
  {
   "cell_type": "code",
   "execution_count": 1,
   "id": "c415fcd5-b63d-43e7-8e0b-07f7d215efe1",
   "metadata": {},
   "outputs": [
    {
     "name": "stdout",
     "output_type": "stream",
     "text": [
      "Collecting PyQRCode\n",
      "  Downloading PyQRCode-1.2.1.zip (41 kB)\n",
      "     ---------------------------------------- 0.0/41.9 kB ? eta -:--:--\n",
      "     ---------------------------------------  41.0/41.9 kB 1.9 MB/s eta 0:00:01\n",
      "     ---------------------------------------  41.0/41.9 kB 1.9 MB/s eta 0:00:01\n",
      "     ---------------------------------------  41.0/41.9 kB 1.9 MB/s eta 0:00:01\n",
      "     ---------------------------------------  41.0/41.9 kB 1.9 MB/s eta 0:00:01\n",
      "     ---------------------------------------  41.0/41.9 kB 1.9 MB/s eta 0:00:01\n",
      "     ---------------------------------------  41.0/41.9 kB 1.9 MB/s eta 0:00:01\n",
      "     ---------------------------------------  41.0/41.9 kB 1.9 MB/s eta 0:00:01\n",
      "     ---------------------------------------  41.0/41.9 kB 1.9 MB/s eta 0:00:01\n",
      "     ---------------------------------------  41.0/41.9 kB 1.9 MB/s eta 0:00:01\n",
      "     ---------------------------------------  41.0/41.9 kB 1.9 MB/s eta 0:00:01\n",
      "     ---------------------------------------  41.0/41.9 kB 1.9 MB/s eta 0:00:01\n",
      "     ---------------------------------------  41.0/41.9 kB 1.9 MB/s eta 0:00:01\n",
      "     ---------------------------------------  41.0/41.9 kB 1.9 MB/s eta 0:00:01\n",
      "     ---------------------------------------  41.0/41.9 kB 1.9 MB/s eta 0:00:01\n",
      "     ---------------------------------------  41.0/41.9 kB 1.9 MB/s eta 0:00:01\n",
      "     ---------------------------------------  41.0/41.9 kB 1.9 MB/s eta 0:00:01\n",
      "     ---------------------------------------  41.0/41.9 kB 1.9 MB/s eta 0:00:01\n",
      "     ---------------------------------------  41.0/41.9 kB 1.9 MB/s eta 0:00:01\n",
      "     ---------------------------------------  41.0/41.9 kB 1.9 MB/s eta 0:00:01\n",
      "     ---------------------------------------  41.0/41.9 kB 1.9 MB/s eta 0:00:01\n",
      "     ---------------------------------------  41.0/41.9 kB 1.9 MB/s eta 0:00:01\n",
      "     ---------------------------------------  41.0/41.9 kB 1.9 MB/s eta 0:00:01\n",
      "     ---------------------------------------  41.0/41.9 kB 1.9 MB/s eta 0:00:01\n",
      "     ---------------------------------------  41.0/41.9 kB 1.9 MB/s eta 0:00:01\n",
      "     --------------------------------------- 41.9/41.9 kB 26.3 kB/s eta 0:00:00\n",
      "  Preparing metadata (setup.py): started\n",
      "  Preparing metadata (setup.py): finished with status 'done'\n",
      "Building wheels for collected packages: PyQRCode\n",
      "  Building wheel for PyQRCode (setup.py): started\n",
      "  Building wheel for PyQRCode (setup.py): finished with status 'done'\n",
      "  Created wheel for PyQRCode: filename=PyQRCode-1.2.1-py3-none-any.whl size=36233 sha256=0d51f755c69730d365d62053dac3162272918e6642dd338f1cf4512239bd1b9a\n",
      "  Stored in directory: c:\\users\\lenovo\\appdata\\local\\pip\\cache\\wheels\\da\\75\\c0\\38c7f82750de2725429b6b8571dca254249d73f6c882c5d9b1\n",
      "Successfully built PyQRCode\n",
      "Installing collected packages: PyQRCode\n",
      "Successfully installed PyQRCode-1.2.1\n",
      "Collecting pypng\n",
      "  Downloading pypng-0.20220715.0-py3-none-any.whl.metadata (13 kB)\n",
      "Downloading pypng-0.20220715.0-py3-none-any.whl (58 kB)\n",
      "   ---------------------------------------- 0.0/58.1 kB ? eta -:--:--\n",
      "   ---------------------------------------- 0.0/58.1 kB ? eta -:--:--\n",
      "   --------------------- ------------------ 30.7/58.1 kB 1.3 MB/s eta 0:00:01\n",
      "   ----------------------------------- ---- 51.2/58.1 kB 650.2 kB/s eta 0:00:01\n",
      "   ----------------------------------- ---- 51.2/58.1 kB 650.2 kB/s eta 0:00:01\n",
      "   ---------------------------------------- 58.1/58.1 kB 304.6 kB/s eta 0:00:00\n",
      "Installing collected packages: pypng\n",
      "Successfully installed pypng-0.20220715.0\n"
     ]
    }
   ],
   "source": [
    "!pip install PyQRCode\n",
    "!pip install pypng"
   ]
  },
  {
   "cell_type": "code",
   "execution_count": 4,
   "id": "84dcb4d5-3bfc-4d74-baf1-f6e3f768cc7c",
   "metadata": {},
   "outputs": [],
   "source": [
    "import pyqrcode\n",
    "import png"
   ]
  },
  {
   "cell_type": "code",
   "execution_count": 5,
   "id": "208d36a0-1fd2-4aff-8675-46faf2a48ae5",
   "metadata": {},
   "outputs": [],
   "source": [
    "link = \"https://github.com/Akshay-Paunikar\""
   ]
  },
  {
   "cell_type": "code",
   "execution_count": 7,
   "id": "384cd8ff-8933-4552-9e24-657e9cf10b8e",
   "metadata": {},
   "outputs": [],
   "source": [
    "qr_code = pyqrcode.create(link)\n",
    "qr_code.png(\"GitHub Profile.png\", scale=5)"
   ]
  }
 ],
 "metadata": {
  "kernelspec": {
   "display_name": "Python 3 (ipykernel)",
   "language": "python",
   "name": "python3"
  },
  "language_info": {
   "codemirror_mode": {
    "name": "ipython",
    "version": 3
   },
   "file_extension": ".py",
   "mimetype": "text/x-python",
   "name": "python",
   "nbconvert_exporter": "python",
   "pygments_lexer": "ipython3",
   "version": "3.9.18"
  }
 },
 "nbformat": 4,
 "nbformat_minor": 5
}
