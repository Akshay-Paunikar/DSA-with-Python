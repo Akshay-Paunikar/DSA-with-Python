{
 "cells": [
  {
   "cell_type": "markdown",
   "id": "cea8604e-0d75-471a-a95a-410916fb7ff1",
   "metadata": {},
   "source": [
    "<h3>Guess The Number:</h3>"
   ]
  },
  {
   "cell_type": "markdown",
   "id": "7f032930-a2ee-4f4c-ab9f-5d998b5587fd",
   "metadata": {},
   "source": [
    "The number guessing game is a popular game among programmers. In the number guessing game, the program selects a random number between two numbers, and the user guesses the correct number. "
   ]
  },
  {
   "cell_type": "markdown",
   "id": "efc367c1-76d8-4fdf-a185-927a9a1e1b7f",
   "metadata": {},
   "source": [
    "To create a guessing game, we need to write a program to select a random number between 1 and 10. To give hints to the user, we can use conditional statements to tell the user if the guessed number is smaller, greater than or equal to the randomly selected number."
   ]
  },
  {
   "cell_type": "code",
   "execution_count": 4,
   "id": "5c278bec-932d-4f54-a21e-58a082bb354e",
   "metadata": {},
   "outputs": [
    {
     "name": "stdin",
     "output_type": "stream",
     "text": [
      "Enter your number:  7\n"
     ]
    },
    {
     "name": "stdout",
     "output_type": "stream",
     "text": [
      "Too High !!!\n"
     ]
    },
    {
     "name": "stdin",
     "output_type": "stream",
     "text": [
      "Enter your number again:  4\n"
     ]
    },
    {
     "name": "stdout",
     "output_type": "stream",
     "text": [
      "Too High !!!\n"
     ]
    },
    {
     "name": "stdin",
     "output_type": "stream",
     "text": [
      "Enter your number again:  1\n"
     ]
    },
    {
     "name": "stdout",
     "output_type": "stream",
     "text": [
      "Too Low !!!\n"
     ]
    },
    {
     "name": "stdin",
     "output_type": "stream",
     "text": [
      "Enter your number again:  2\n"
     ]
    },
    {
     "name": "stdout",
     "output_type": "stream",
     "text": [
      "Too Low !!!\n"
     ]
    },
    {
     "name": "stdin",
     "output_type": "stream",
     "text": [
      "Enter your number again:  3\n"
     ]
    },
    {
     "name": "stdout",
     "output_type": "stream",
     "text": [
      "You guessed it right !!! The number is 3\n"
     ]
    }
   ],
   "source": [
    "import random\n",
    "n = random.randrange(1,10)\n",
    "guess = int(input(\"Enter your number: \"))\n",
    "while n!= guess:\n",
    "    if guess < n:\n",
    "        print(\"Too Low !!!\")\n",
    "        guess = int(input(\"Enter your number again: \"))\n",
    "    elif guess > n:\n",
    "        print(\"Too High !!!\")\n",
    "        guess = int(input(\"Enter your number again: \"))\n",
    "    else:\n",
    "        break\n",
    "\n",
    "print(\"You guessed it right !!! The number is {}\".format(guess))"
   ]
  }
 ],
 "metadata": {
  "kernelspec": {
   "display_name": "Python 3 (ipykernel)",
   "language": "python",
   "name": "python3"
  },
  "language_info": {
   "codemirror_mode": {
    "name": "ipython",
    "version": 3
   },
   "file_extension": ".py",
   "mimetype": "text/x-python",
   "name": "python",
   "nbconvert_exporter": "python",
   "pygments_lexer": "ipython3",
   "version": "3.9.18"
  }
 },
 "nbformat": 4,
 "nbformat_minor": 5
}
