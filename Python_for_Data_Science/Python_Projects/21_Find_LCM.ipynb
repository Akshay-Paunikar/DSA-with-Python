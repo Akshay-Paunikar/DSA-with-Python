{
 "cells": [
  {
   "cell_type": "markdown",
   "id": "d50b727b-e795-4da8-9980-2543f9b31243",
   "metadata": {},
   "source": [
    "<h3>Find LCM using Python</h3>"
   ]
  },
  {
   "cell_type": "markdown",
   "id": "c00a32e4-8095-47a5-9f96-e02625ccc067",
   "metadata": {},
   "source": [
    "LCM stands for Least Common Multiple, which means finding the smallest number that is a multiple of two or more numbers. \n",
    "\n",
    "Finding LCM of two numbers means finding the smallest number that is a multiple of both the numbers. Python has many inbuilt functions that you can use for mathematical calculations, but unfortunately, it doesn’t have any function to calculate the LCM of two or more numbers. So for calculating the LCM of two numbers using Python, you have to define your Python function."
   ]
  },
  {
   "cell_type": "code",
   "execution_count": 10,
   "id": "356721c0-a7b7-4ab0-9a0b-9e14af8aecc3",
   "metadata": {},
   "outputs": [],
   "source": [
    "def least_common_multiple(a, b):\n",
    "    if a > b:\n",
    "        greater = a\n",
    "    elif b > a:\n",
    "        greater = b\n",
    "    while(True):\n",
    "        if ((greater % a == 0) and (greater % b == 0)):\n",
    "            lcm = greater\n",
    "            break\n",
    "        greater = greater + 1\n",
    "    return lcm"
   ]
  },
  {
   "cell_type": "code",
   "execution_count": 11,
   "id": "bd6f8dc9-2d04-46aa-95f6-cf29118cce6e",
   "metadata": {},
   "outputs": [
    {
     "data": {
      "text/plain": [
       "221"
      ]
     },
     "execution_count": 11,
     "metadata": {},
     "output_type": "execute_result"
    }
   ],
   "source": [
    "least_common_multiple(13,17)"
   ]
  },
  {
   "cell_type": "markdown",
   "id": "9f7437b2-dc32-4d10-9c43-a453069227a3",
   "metadata": {},
   "source": [
    "In the code above, I defined a Python function, where I used two parameters as a and b. Then I find the large number between the two numbers and divide the larger number with both the numbers in a while loop where the value of the larger number will be increased by 1 until we get 0 as a remainder. So this is how you can find the least common multiple of two numbers using the Python programming language."
   ]
  }
 ],
 "metadata": {
  "kernelspec": {
   "display_name": "Python 3 (ipykernel)",
   "language": "python",
   "name": "python3"
  },
  "language_info": {
   "codemirror_mode": {
    "name": "ipython",
    "version": 3
   },
   "file_extension": ".py",
   "mimetype": "text/x-python",
   "name": "python",
   "nbconvert_exporter": "python",
   "pygments_lexer": "ipython3",
   "version": "3.9.18"
  }
 },
 "nbformat": 4,
 "nbformat_minor": 5
}
