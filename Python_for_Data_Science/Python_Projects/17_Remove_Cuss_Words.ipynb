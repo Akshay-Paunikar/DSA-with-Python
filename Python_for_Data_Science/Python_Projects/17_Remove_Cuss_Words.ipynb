{
 "cells": [
  {
   "cell_type": "markdown",
   "id": "a593eecc-6f18-4bff-9cf8-2916b53d3560",
   "metadata": {},
   "source": [
    "<h3>Remove Cuss Words using Python</h3>"
   ]
  },
  {
   "cell_type": "markdown",
   "id": "93a1fd46-7276-48dd-95db-e5d2906bee83",
   "metadata": {},
   "source": [
    "Cuss Words are the words that make your language sound very impolite, rude, and culturally offensive. Sometimes we need to identify and remove cuss words from a piece of text."
   ]
  },
  {
   "cell_type": "markdown",
   "id": "664e51ec-57a6-4c85-a2ab-7cd43ab0bc5e",
   "metadata": {},
   "source": [
    "In a research, it was found that on an average, 80-90 words that a person speaks every day, 50-70% of all the words are cuss words. So it means people find it normal while exchanging conversations with cuss words. But sometimes, we need to remove such words from a piece of text to make it available to the audience of every age group.\n",
    "\n",
    "So to remove cuss words, by using the Python programming language, we need to install the better_profanity library in our Python environment. It helps identify and remove the cuss words by inserting the * symbol in each letter of a cuss word.\n",
    "\n",
    "To install this Python library in your Python environment, you need to execute the command mentioned below in your command prompt or terminal:\n",
    "\n",
    " - pip install better_profanity"
   ]
  },
  {
   "cell_type": "code",
   "execution_count": 1,
   "id": "0b02a65e-71c3-42c9-919e-6966c1d837d5",
   "metadata": {},
   "outputs": [
    {
     "name": "stdout",
     "output_type": "stream",
     "text": [
      "Collecting better_profanity\n",
      "  Downloading better_profanity-0.7.0-py3-none-any.whl.metadata (7.1 kB)\n",
      "Downloading better_profanity-0.7.0-py3-none-any.whl (46 kB)\n",
      "   ---------------------------------------- 0.0/46.1 kB ? eta -:--:--\n",
      "   -------------------------- ------------- 30.7/46.1 kB 660.6 kB/s eta 0:00:01\n",
      "   ----------------------------------- ---- 41.0/46.1 kB 653.6 kB/s eta 0:00:01\n",
      "   ---------------------------------------- 46.1/46.1 kB 254.4 kB/s eta 0:00:00\n",
      "Installing collected packages: better_profanity\n",
      "Successfully installed better_profanity-0.7.0\n"
     ]
    }
   ],
   "source": [
    "!pip install better_profanity"
   ]
  },
  {
   "cell_type": "code",
   "execution_count": 2,
   "id": "86d1ec02-5c09-49d3-98bd-98da921f4cda",
   "metadata": {},
   "outputs": [],
   "source": [
    "from better_profanity import profanity"
   ]
  },
  {
   "cell_type": "code",
   "execution_count": 5,
   "id": "619a9d1a-5b12-4cf6-9536-65b769359a54",
   "metadata": {},
   "outputs": [
    {
     "name": "stdout",
     "output_type": "stream",
     "text": [
      "I am so **** at you that I will dip your head in a pool of ****\n"
     ]
    }
   ],
   "source": [
    "text = \"I am so pissed at you that I will dip your head in a pool of shit\"\n",
    "\n",
    "censored = profanity.censor(text)\n",
    "print(censored)"
   ]
  },
  {
   "cell_type": "markdown",
   "id": "873412e6-0063-4d82-a191-48eb2461c2f1",
   "metadata": {},
   "source": [
    "So, as you can see in the output, the cuss word has been removed from the text, and we see four stars instead of the cuss word."
   ]
  }
 ],
 "metadata": {
  "kernelspec": {
   "display_name": "Python 3 (ipykernel)",
   "language": "python",
   "name": "python3"
  },
  "language_info": {
   "codemirror_mode": {
    "name": "ipython",
    "version": 3
   },
   "file_extension": ".py",
   "mimetype": "text/x-python",
   "name": "python",
   "nbconvert_exporter": "python",
   "pygments_lexer": "ipython3",
   "version": "3.9.18"
  }
 },
 "nbformat": 4,
 "nbformat_minor": 5
}
