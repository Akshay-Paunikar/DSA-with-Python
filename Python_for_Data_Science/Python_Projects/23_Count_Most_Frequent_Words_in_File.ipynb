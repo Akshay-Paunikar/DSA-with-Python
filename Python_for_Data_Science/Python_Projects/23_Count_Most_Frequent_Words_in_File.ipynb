{
 "cells": [
  {
   "cell_type": "markdown",
   "id": "005ef92b-07a1-4a18-bc25-7723c2d7358e",
   "metadata": {},
   "source": [
    "<h3>Count Most Frequent Words in a File</h3>"
   ]
  },
  {
   "cell_type": "markdown",
   "id": "766331af-9f04-4e1c-8dfe-ed467d0943ef",
   "metadata": {},
   "source": [
    "Counting the number of specific words in a file is something you need to know as a coder. Counting the most frequent words in a file is one of the coding questions you can get to solve in any coding interview. You can get questions based on this logic in several ways. Here you will be given a file, and you will be asked to find the most frequent words in that file along with the number of times they are present."
   ]
  },
  {
   "cell_type": "code",
   "execution_count": 1,
   "id": "e2bb98d9-4163-48e0-a7f9-fd4c59b31d11",
   "metadata": {},
   "outputs": [],
   "source": [
    "words = []\n",
    "\n",
    "with open('text_data.txt', 'r') as f:\n",
    "    for line in f:\n",
    "        words.extend(line.split())"
   ]
  },
  {
   "cell_type": "code",
   "execution_count": 2,
   "id": "fd62f20d-a560-405e-a07c-42177eab8a8f",
   "metadata": {},
   "outputs": [],
   "source": [
    "from collections import Counter"
   ]
  },
  {
   "cell_type": "code",
   "execution_count": 3,
   "id": "650e080f-e9cf-4f5e-8fa0-2a97f928067f",
   "metadata": {},
   "outputs": [],
   "source": [
    "counts = Counter(words)"
   ]
  },
  {
   "cell_type": "code",
   "execution_count": 4,
   "id": "d84b370b-cf15-479b-b7ae-ccaa9bdadbde",
   "metadata": {},
   "outputs": [
    {
     "data": {
      "text/plain": [
       "[('a', 6), ('to', 6), ('the', 5), ('in', 5), ('words', 4)]"
      ]
     },
     "execution_count": 4,
     "metadata": {},
     "output_type": "execute_result"
    }
   ],
   "source": [
    "top5 = counts.most_common(5)\n",
    "top5"
   ]
  }
 ],
 "metadata": {
  "kernelspec": {
   "display_name": "Python 3 (ipykernel)",
   "language": "python",
   "name": "python3"
  },
  "language_info": {
   "codemirror_mode": {
    "name": "ipython",
    "version": 3
   },
   "file_extension": ".py",
   "mimetype": "text/x-python",
   "name": "python",
   "nbconvert_exporter": "python",
   "pygments_lexer": "ipython3",
   "version": "3.9.18"
  }
 },
 "nbformat": 4,
 "nbformat_minor": 5
}
