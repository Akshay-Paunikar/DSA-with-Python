{
 "cells": [
  {
   "cell_type": "markdown",
   "id": "d23bc320-7e3f-4681-b33b-b16f7868c001",
   "metadata": {},
   "source": [
    "<h3>Resume Scanner using Python</h3>"
   ]
  },
  {
   "cell_type": "markdown",
   "id": "f425ba13-c260-420f-bc4b-008a72dc94e7",
   "metadata": {},
   "source": [
    "A resume scanner is an application that scans all the keywords on a resume to match the skills and qualifications needed for a particular job.\n",
    "\n",
    "Most businesses’ human resources departments today use software known as an Applicant Tracking System which is used to select the right candidates for a particular job. Such software scans a document to extract and match the keywords on a resume with the skills and qualifications needed to perform a particular job. This is nothing more than resume scanning and an application used to perform this task is known as a resume scanner.\n",
    "\n",
    "Almost all large companies use resume scanning software to get the best candidates for the job posted in a matter of time.\n",
    "\n",
    "To create a resume scanner with Python, you first install a Python module known as resume-parser. If you have never used this module before then you can easily install it by using the pip command:\n",
    "\n",
    " - pip install resume-parser"
   ]
  },
  {
   "cell_type": "code",
   "execution_count": null,
   "id": "ac999114-350b-4124-be88-0c136501251a",
   "metadata": {},
   "outputs": [],
   "source": [
    "!pip install resume-parser"
   ]
  },
  {
   "cell_type": "code",
   "execution_count": null,
   "id": "187ab484-1646-4405-88af-d7eb29493dd0",
   "metadata": {},
   "outputs": [],
   "source": [
    "def scan_resume(resume):\n",
    "    from resume_parser import resumeparse\n",
    "    data = resumeparse.read_file(resume)\n",
    "    for i, j in data.items():\n",
    "        print(f\"{i}:>>{j}\")\n",
    "    \n",
    "scan_resume(\"Akshay_Paunikar.docx\")"
   ]
  },
  {
   "cell_type": "code",
   "execution_count": null,
   "id": "305180b4-1f38-42f4-ba15-c6cd1254ca03",
   "metadata": {},
   "outputs": [],
   "source": [
    "import spacy.cli\n",
    "spacy.cli.download(\"en_core_web_lg\")"
   ]
  }
 ],
 "metadata": {
  "kernelspec": {
   "display_name": "Python 3 (ipykernel)",
   "language": "python",
   "name": "python3"
  },
  "language_info": {
   "codemirror_mode": {
    "name": "ipython",
    "version": 3
   },
   "file_extension": ".py",
   "mimetype": "text/x-python",
   "name": "python",
   "nbconvert_exporter": "python",
   "pygments_lexer": "ipython3",
   "version": "3.9.18"
  }
 },
 "nbformat": 4,
 "nbformat_minor": 5
}
