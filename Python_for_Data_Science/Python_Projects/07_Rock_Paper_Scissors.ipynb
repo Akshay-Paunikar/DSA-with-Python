{
 "cells": [
  {
   "cell_type": "markdown",
   "id": "e58732bc-848d-4def-b627-f9eeff8ccd53",
   "metadata": {},
   "source": [
    "<h3>Rock Paper Scissors:</h3>"
   ]
  },
  {
   "cell_type": "markdown",
   "id": "ef976151-0d1f-4de3-8791-b8f7de5b414c",
   "metadata": {},
   "source": [
    "Rock Paper Scissors is a hand game usually played between two people. In this game, scissors can beat paper, paper can beat rock, and rock can beat scissors.\n",
    "\n",
    "To create and play rock paper scissors, I will be using the if and elif statements in Python. I will prepare this game to be played between two players. Player-1 will be the user, and player-2 will be the computer. Player one will manually select the rock paper or scissor, while player two will choose randomly. So I will also use the random module in Python to create this game.\r\n",
    "\r\n",
    "I hope you now have understood everything about the rock, paper, and scissors game and how I will create it. Now, below is how we can write a Python script to create and play rock paper scissors using Python:"
   ]
  },
  {
   "cell_type": "code",
   "execution_count": 1,
   "id": "97937feb-47c6-444c-b5d5-a613407c5b49",
   "metadata": {},
   "outputs": [],
   "source": [
    "import random"
   ]
  },
  {
   "cell_type": "code",
   "execution_count": 9,
   "id": "c9d7d976-12b3-48d6-ae3e-50084dd9bab7",
   "metadata": {},
   "outputs": [
    {
     "name": "stdin",
     "output_type": "stream",
     "text": [
      "Select Rock, Paper or Scissor:  paper\n"
     ]
    },
    {
     "name": "stdout",
     "output_type": "stream",
     "text": [
      "Player 2 selected:  rock\n",
      "Player 1 Won !!!\n"
     ]
    }
   ],
   "source": [
    "player1 = input(\"Select Rock, Paper or Scissor: \").lower()\n",
    "player2 = random.choice([\"Rock\", \"Paper\", \"Scissor\"]).lower()\n",
    "\n",
    "print(\"Player 2 selected: \", player2)\n",
    "\n",
    "if player1 == 'rock' and player2 == 'paper':\n",
    "    print(\"Player 2 Won !!!\")\n",
    "elif player1 == 'paper' and player2 == 'scissor':\n",
    "    print(\"Player 2 Won !!!\")\n",
    "elif player1 == 'scissor' and player2 == 'rock':\n",
    "    print(\"Player 2 Won !!!\")\n",
    "elif player1 == player2:\n",
    "    print(\"Tie !!!\")\n",
    "else:\n",
    "    print(\"Player 1 Won !!!\")"
   ]
  }
 ],
 "metadata": {
  "kernelspec": {
   "display_name": "Python 3 (ipykernel)",
   "language": "python",
   "name": "python3"
  },
  "language_info": {
   "codemirror_mode": {
    "name": "ipython",
    "version": 3
   },
   "file_extension": ".py",
   "mimetype": "text/x-python",
   "name": "python",
   "nbconvert_exporter": "python",
   "pygments_lexer": "ipython3",
   "version": "3.9.18"
  }
 },
 "nbformat": 4,
 "nbformat_minor": 5
}
