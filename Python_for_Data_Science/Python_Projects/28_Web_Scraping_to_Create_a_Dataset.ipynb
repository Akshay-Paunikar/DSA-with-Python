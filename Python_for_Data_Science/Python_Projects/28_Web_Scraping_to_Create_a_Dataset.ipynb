{
 "cells": [
  {
   "cell_type": "markdown",
   "id": "5e4251f9-7b2b-49c0-97a5-2ecf158ff078",
   "metadata": {},
   "source": [
    "<h3>Web Scraping to Create a Dataset</h3>"
   ]
  },
  {
   "cell_type": "markdown",
   "id": "49549f68-b7b1-4945-9eef-d6d66b7f716a",
   "metadata": {},
   "source": [
    "The datasets that you find on the internet from various data sources are either created by companies and organizations or are collected from websites. You must have scraped data from web pages by using the Python libraries, but may have stuck while preparing the scraped data to create a dataset."
   ]
  },
  {
   "cell_type": "markdown",
   "id": "ca531dfa-5b5f-4077-a4e0-da80400acdcc",
   "metadata": {},
   "source": [
    "There are so many libraries, frameworks, and tools that are used for the task of web scraping. Some of the most common libraries and modules in Python used for web scraping are:\n",
    "\n",
    " - Scrapy\n",
    " - Selenium\n",
    " - BeautifulSoup\n",
    " - Urlib.request\n",
    "\n",
    "All of the above Python libraries and modules are great for scraping data from websites. After scraping the data, the data is prepared so that it can be stored in a CSV file to create a dataset.\n",
    "\n",
    "Now let’s see how to create a dataset by scraping the web using Python. For this task, I will be using the BeautifulSoup library in Python. Here I am going to search for a random term on Google and then I will collect the data from the very first page that Google shows me.\n",
    "\n",
    "So, I searched for “comparison of programming languages” on Google and got this article as the first result: https://en.wikipedia.org/wiki/Comparison_of_programming_languages. Let’s see how we can scrape data from this web page to create a dataset. Below is how we can use the BeautifulSoup library in Python for the task of web scraping to create a dataset:"
   ]
  },
  {
   "cell_type": "code",
   "execution_count": 9,
   "id": "4a718229-57b0-4942-8b26-445b38320cb0",
   "metadata": {},
   "outputs": [],
   "source": [
    "import csv\n",
    "from urllib.request import urlopen\n",
    "from bs4 import BeautifulSoup"
   ]
  },
  {
   "cell_type": "code",
   "execution_count": 10,
   "id": "fb262d44-3728-40d5-8532-63190f74d64e",
   "metadata": {},
   "outputs": [],
   "source": [
    "html = urlopen(\"https://en.wikipedia.org/wiki/Comparison_of_programming_languages\")\n",
    "soup = BeautifulSoup(html, \"html.parser\")\n",
    "table = soup.findAll(\"table\", {\"class\":\"wikitable\"})[0]\n",
    "rows = table.findAll(\"tr\")"
   ]
  },
  {
   "cell_type": "code",
   "execution_count": 11,
   "id": "bd1430fb-3edd-426f-b3df-a52a44a728ac",
   "metadata": {},
   "outputs": [],
   "source": [
    "with open(\"language.csv\", \"wt+\", newline=\"\") as f:\n",
    "    writer = csv.writer(f)\n",
    "    for i in rows:\n",
    "        row = []\n",
    "        for cell in i.findAll([\"td\", \"th\"]):\n",
    "            row.append(cell.get_text())\n",
    "        writer.writerow(row)"
   ]
  },
  {
   "cell_type": "code",
   "execution_count": 12,
   "id": "36b21bfe-dbd2-4619-a41d-addd271e1a41",
   "metadata": {},
   "outputs": [
    {
     "data": {
      "text/html": [
       "<div>\n",
       "<style scoped>\n",
       "    .dataframe tbody tr th:only-of-type {\n",
       "        vertical-align: middle;\n",
       "    }\n",
       "\n",
       "    .dataframe tbody tr th {\n",
       "        vertical-align: top;\n",
       "    }\n",
       "\n",
       "    .dataframe thead th {\n",
       "        text-align: right;\n",
       "    }\n",
       "</style>\n",
       "<table border=\"1\" class=\"dataframe\">\n",
       "  <thead>\n",
       "    <tr style=\"text-align: right;\">\n",
       "      <th></th>\n",
       "      <th>Language\\n</th>\n",
       "      <th>Original purpose\\n</th>\n",
       "      <th>Imperative\\n</th>\n",
       "      <th>Object-oriented\\n</th>\n",
       "      <th>Functional\\n</th>\n",
       "      <th>Procedural\\n</th>\n",
       "      <th>Generic\\n</th>\n",
       "      <th>Reflective\\n</th>\n",
       "      <th>Other paradigms\\n</th>\n",
       "      <th>Standardized?\\n</th>\n",
       "    </tr>\n",
       "  </thead>\n",
       "  <tbody>\n",
       "    <tr>\n",
       "      <th>0</th>\n",
       "      <td>1C:Enterprise programming language\\n</td>\n",
       "      <td>Application, RAD, business, general, web, mobi...</td>\n",
       "      <td>Yes\\n</td>\n",
       "      <td>No\\n</td>\n",
       "      <td>Yes\\n</td>\n",
       "      <td>Yes\\n</td>\n",
       "      <td>Yes\\n</td>\n",
       "      <td>Yes\\n</td>\n",
       "      <td>Object-based, Prototype-based programming\\n</td>\n",
       "      <td>No\\n</td>\n",
       "    </tr>\n",
       "    <tr>\n",
       "      <th>1</th>\n",
       "      <td>ActionScript\\n</td>\n",
       "      <td>Application, client-side, web\\n</td>\n",
       "      <td>Yes\\n</td>\n",
       "      <td>Yes\\n</td>\n",
       "      <td>Yes\\n</td>\n",
       "      <td>Yes\\n</td>\n",
       "      <td>No\\n</td>\n",
       "      <td>No\\n</td>\n",
       "      <td>prototype-based\\n</td>\n",
       "      <td>Yes1999-2003, ActionScript 1.0 with ES3, Actio...</td>\n",
       "    </tr>\n",
       "    <tr>\n",
       "      <th>2</th>\n",
       "      <td>Ada\\n</td>\n",
       "      <td>Application, embedded, realtime, system\\n</td>\n",
       "      <td>Yes\\n</td>\n",
       "      <td>Yes[2]\\n</td>\n",
       "      <td>No\\n</td>\n",
       "      <td>Yes[3]\\n</td>\n",
       "      <td>Yes[4]\\n</td>\n",
       "      <td>No\\n</td>\n",
       "      <td>Concurrent,[5] distributed[6]\\n</td>\n",
       "      <td>Yes1983, 2005, 2012, ANSI, ISO, GOST 27831-88[...</td>\n",
       "    </tr>\n",
       "    <tr>\n",
       "      <th>3</th>\n",
       "      <td>Aldor\\n</td>\n",
       "      <td>Highly domain-specific, symbolic computing\\n</td>\n",
       "      <td>Yes\\n</td>\n",
       "      <td>Yes\\n</td>\n",
       "      <td>Yes\\n</td>\n",
       "      <td>No\\n</td>\n",
       "      <td>No\\n</td>\n",
       "      <td>No\\n</td>\n",
       "      <td>\\n</td>\n",
       "      <td>No\\n</td>\n",
       "    </tr>\n",
       "    <tr>\n",
       "      <th>4</th>\n",
       "      <td>ALGOL 58\\n</td>\n",
       "      <td>Application\\n</td>\n",
       "      <td>Yes\\n</td>\n",
       "      <td>No\\n</td>\n",
       "      <td>No\\n</td>\n",
       "      <td>No\\n</td>\n",
       "      <td>No\\n</td>\n",
       "      <td>No\\n</td>\n",
       "      <td>\\n</td>\n",
       "      <td>No\\n</td>\n",
       "    </tr>\n",
       "  </tbody>\n",
       "</table>\n",
       "</div>"
      ],
      "text/plain": [
       "                             Language\\n  \\\n",
       "0  1C:Enterprise programming language\\n   \n",
       "1                        ActionScript\\n   \n",
       "2                                 Ada\\n   \n",
       "3                               Aldor\\n   \n",
       "4                            ALGOL 58\\n   \n",
       "\n",
       "                                  Original purpose\\n Imperative\\n  \\\n",
       "0  Application, RAD, business, general, web, mobi...        Yes\\n   \n",
       "1                    Application, client-side, web\\n        Yes\\n   \n",
       "2          Application, embedded, realtime, system\\n        Yes\\n   \n",
       "3       Highly domain-specific, symbolic computing\\n        Yes\\n   \n",
       "4                                      Application\\n        Yes\\n   \n",
       "\n",
       "  Object-oriented\\n Functional\\n Procedural\\n Generic\\n Reflective\\n  \\\n",
       "0              No\\n        Yes\\n        Yes\\n     Yes\\n        Yes\\n   \n",
       "1             Yes\\n        Yes\\n        Yes\\n      No\\n         No\\n   \n",
       "2          Yes[2]\\n         No\\n     Yes[3]\\n  Yes[4]\\n         No\\n   \n",
       "3             Yes\\n        Yes\\n         No\\n      No\\n         No\\n   \n",
       "4              No\\n         No\\n         No\\n      No\\n         No\\n   \n",
       "\n",
       "                             Other paradigms\\n  \\\n",
       "0  Object-based, Prototype-based programming\\n   \n",
       "1                            prototype-based\\n   \n",
       "2              Concurrent,[5] distributed[6]\\n   \n",
       "3                                           \\n   \n",
       "4                                           \\n   \n",
       "\n",
       "                                     Standardized?\\n  \n",
       "0                                               No\\n  \n",
       "1  Yes1999-2003, ActionScript 1.0 with ES3, Actio...  \n",
       "2  Yes1983, 2005, 2012, ANSI, ISO, GOST 27831-88[...  \n",
       "3                                               No\\n  \n",
       "4                                               No\\n  "
      ]
     },
     "execution_count": 12,
     "metadata": {},
     "output_type": "execute_result"
    }
   ],
   "source": [
    "import pandas as pd\n",
    "a = pd.read_csv(\"language.csv\", encoding=\"ISO-8859-1\")\n",
    "a.head()"
   ]
  }
 ],
 "metadata": {
  "kernelspec": {
   "display_name": "Python 3 (ipykernel)",
   "language": "python",
   "name": "python3"
  },
  "language_info": {
   "codemirror_mode": {
    "name": "ipython",
    "version": 3
   },
   "file_extension": ".py",
   "mimetype": "text/x-python",
   "name": "python",
   "nbconvert_exporter": "python",
   "pygments_lexer": "ipython3",
   "version": "3.9.18"
  }
 },
 "nbformat": 4,
 "nbformat_minor": 5
}
