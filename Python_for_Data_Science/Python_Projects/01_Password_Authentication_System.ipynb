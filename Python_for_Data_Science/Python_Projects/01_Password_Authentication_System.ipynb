{
 "cells": [
  {
   "cell_type": "markdown",
   "id": "e8b8904e-3ae0-47fb-9364-e078d63b3ebb",
   "metadata": {},
   "source": [
    "<h3>Password Authentication System:</h3>"
   ]
  },
  {
   "cell_type": "markdown",
   "id": "bc80d48b-3ef7-4237-ab86-ea98e71fc8a9",
   "metadata": {},
   "source": [
    "Password Authentication is the process of checking the identity of a user. Almost every online platform today makes sure that they only give access to the real user which can be only possible by asking for a password while a user wants to log in to the account."
   ]
  },
  {
   "cell_type": "markdown",
   "id": "d710aa5a-e0d3-4bdb-ba92-a86152d92d89",
   "metadata": {},
   "source": [
    "A password authentication system is a system that is used for the identification of a user. Think of it like a login screen that you see while logging in to your Facebook account. It asks for your email or a username and then it asks for your password. If you have entered the correct password then it verifies you as the real user.\n",
    "\n",
    "Creating a logic-based password authentication system is also a popular question in the coding interviews."
   ]
  },
  {
   "cell_type": "code",
   "execution_count": 1,
   "id": "08f21075-cf63-49ba-9bfc-bba89b0641af",
   "metadata": {},
   "outputs": [],
   "source": [
    "import getpass"
   ]
  },
  {
   "cell_type": "code",
   "execution_count": 3,
   "id": "cd03c178-195f-4a88-b851-cb373d10b9f0",
   "metadata": {},
   "outputs": [
    {
     "name": "stdout",
     "output_type": "stream",
     "text": [
      "Enter your username:  Akshay Paunikar\n",
      "Enter your Password:  ········\n",
      "Enter your Password again:  ········\n"
     ]
    },
    {
     "name": "stdout",
     "output_type": "stream",
     "text": [
      "Login Verified\n"
     ]
    }
   ],
   "source": [
    "database = {\"Akshay Paunikar\":\"123456\", \"John Doe\":\"654321\"}\n",
    "username = input(\"Enter your username: \")\n",
    "password = getpass.getpass(\"Enter your Password: \")\n",
    "\n",
    "for i in database.keys():\n",
    "    if username == i:\n",
    "        while password != database.get(i):\n",
    "            password = getpass.getpass(\"Enter your Password again: \")\n",
    "        break\n",
    "\n",
    "print(\"Login Verified\")"
   ]
  },
  {
   "cell_type": "code",
   "execution_count": 2,
   "id": "7c3f1133",
   "metadata": {},
   "outputs": [
    {
     "name": "stdout",
     "output_type": "stream",
     "text": [
      "Your Password is:  \"{.ya&Fw'xy)\n"
     ]
    }
   ],
   "source": [
    "# Random Password Generator\n",
    "import random\n",
    "import string\n",
    "\n",
    "len = 12\n",
    "charVal = string.ascii_letters + string.digits + string.punctuation\n",
    "\n",
    "password = \"\"\n",
    "\n",
    "for i in range(len):\n",
    "    password += random.choice(charVal)\n",
    "    \n",
    "print(\"Your Password is: \", password)"
   ]
  }
 ],
 "metadata": {
  "kernelspec": {
   "display_name": "Deep_Learning",
   "language": "python",
   "name": "python3"
  },
  "language_info": {
   "codemirror_mode": {
    "name": "ipython",
    "version": 3
   },
   "file_extension": ".py",
   "mimetype": "text/x-python",
   "name": "python",
   "nbconvert_exporter": "python",
   "pygments_lexer": "ipython3",
   "version": "3.9.18"
  }
 },
 "nbformat": 4,
 "nbformat_minor": 5
}
