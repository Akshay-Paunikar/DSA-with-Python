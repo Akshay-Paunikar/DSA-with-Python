{
 "cells": [
  {
   "cell_type": "markdown",
   "id": "e34db731-8927-461c-b9eb-24666e434e0b",
   "metadata": {},
   "source": [
    "<h3>Phone Number Details using Python</h3>"
   ]
  },
  {
   "cell_type": "markdown",
   "id": "ea3a5d83-d024-4c89-8c89-848d001eb988",
   "metadata": {},
   "source": [
    "There are a lot of tasks where we want to extract the details of a person’s phone number. It can help the telecommunications industry as well as other businesses that deal with people’s problems with networks.\n",
    "\n",
    "To get the details of any number, we can use an amazing Python module known as phonenumbers. This module is created by David Drysdale and you can use it to get the details of any phone number from anywhere in the world.\n",
    "\n",
    "To install this Python module on your system, you can use the pip command on your terminal or the command prompt mentioned below:\n",
    "\n",
    " - pip install phonenumbers\n",
    "\n",
    "There are a lot of details you can find about a number using this Python module. Here’s how you can find some of the basic details about a phone number using Python:"
   ]
  },
  {
   "cell_type": "code",
   "execution_count": 1,
   "id": "8e83b82d-0762-4a45-8dde-077dc0d9335c",
   "metadata": {},
   "outputs": [
    {
     "name": "stdout",
     "output_type": "stream",
     "text": [
      "Collecting phonenumbers\n",
      "  Downloading phonenumbers-8.13.37-py2.py3-none-any.whl.metadata (11 kB)\n",
      "Downloading phonenumbers-8.13.37-py2.py3-none-any.whl (2.6 MB)\n",
      "   ---------------------------------------- 0.0/2.6 MB ? eta -:--:--\n",
      "   ---------------------------------------- 0.0/2.6 MB ? eta -:--:--\n",
      "   ---------------------------------------- 0.0/2.6 MB 165.2 kB/s eta 0:00:16\n",
      "    --------------------------------------- 0.0/2.6 MB 245.8 kB/s eta 0:00:11\n",
      "    --------------------------------------- 0.1/2.6 MB 262.6 kB/s eta 0:00:10\n",
      "   -- ------------------------------------- 0.1/2.6 MB 561.1 kB/s eta 0:00:05\n",
      "   --- ------------------------------------ 0.2/2.6 MB 885.4 kB/s eta 0:00:03\n",
      "   ----- ---------------------------------- 0.4/2.6 MB 1.2 MB/s eta 0:00:02\n",
      "   --------- ------------------------------ 0.6/2.6 MB 1.6 MB/s eta 0:00:02\n",
      "   ------------- -------------------------- 0.9/2.6 MB 2.0 MB/s eta 0:00:01\n",
      "   -------------- ------------------------- 1.0/2.6 MB 2.2 MB/s eta 0:00:01\n",
      "   -------------------------- ------------- 1.7/2.6 MB 3.2 MB/s eta 0:00:01\n",
      "   --------------------------- ------------ 1.8/2.6 MB 3.3 MB/s eta 0:00:01\n",
      "   --------------------------------- ------ 2.2/2.6 MB 3.6 MB/s eta 0:00:01\n",
      "   ----------------------------------- ---- 2.3/2.6 MB 3.4 MB/s eta 0:00:01\n",
      "   ----------------------------------- ---- 2.3/2.6 MB 3.4 MB/s eta 0:00:01\n",
      "   ------------------------------------ --- 2.3/2.6 MB 3.0 MB/s eta 0:00:01\n",
      "   ------------------------------------- -- 2.4/2.6 MB 2.9 MB/s eta 0:00:01\n",
      "   ---------------------------------------  2.6/2.6 MB 2.9 MB/s eta 0:00:01\n",
      "   ---------------------------------------  2.6/2.6 MB 2.9 MB/s eta 0:00:01\n",
      "   ---------------------------------------  2.6/2.6 MB 2.9 MB/s eta 0:00:01\n",
      "   ---------------------------------------  2.6/2.6 MB 2.9 MB/s eta 0:00:01\n",
      "   ---------------------------------------- 2.6/2.6 MB 2.5 MB/s eta 0:00:00\n",
      "Installing collected packages: phonenumbers\n",
      "Successfully installed phonenumbers-8.13.37\n"
     ]
    }
   ],
   "source": [
    "!pip install phonenumbers"
   ]
  },
  {
   "cell_type": "code",
   "execution_count": 2,
   "id": "700f200a-1411-424c-b638-c43b66512ba1",
   "metadata": {},
   "outputs": [],
   "source": [
    "import phonenumbers as ph\n",
    "from phonenumbers import carrier\n",
    "from phonenumbers import geocoder\n",
    "from phonenumbers import timezone"
   ]
  },
  {
   "cell_type": "code",
   "execution_count": 3,
   "id": "df351f27-ff93-4dba-b63c-92f641eb9f05",
   "metadata": {},
   "outputs": [
    {
     "name": "stdout",
     "output_type": "stream",
     "text": [
      "('Asia/Calcutta',)\n",
      "Airtel\n",
      "India\n"
     ]
    }
   ],
   "source": [
    "number = \"+919503168080\"\n",
    "number = ph.parse(number)\n",
    "print(timezone.time_zones_for_number(number))\n",
    "print(carrier.name_for_number(number, \"en\"))\n",
    "print(geocoder.description_for_number(number, \"en\"))"
   ]
  }
 ],
 "metadata": {
  "kernelspec": {
   "display_name": "Python 3 (ipykernel)",
   "language": "python",
   "name": "python3"
  },
  "language_info": {
   "codemirror_mode": {
    "name": "ipython",
    "version": 3
   },
   "file_extension": ".py",
   "mimetype": "text/x-python",
   "name": "python",
   "nbconvert_exporter": "python",
   "pygments_lexer": "ipython3",
   "version": "3.9.18"
  }
 },
 "nbformat": 4,
 "nbformat_minor": 5
}
