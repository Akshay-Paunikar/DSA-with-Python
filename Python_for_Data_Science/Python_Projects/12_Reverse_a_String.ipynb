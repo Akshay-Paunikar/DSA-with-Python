{
 "cells": [
  {
   "cell_type": "markdown",
   "id": "b1c765c2-3a04-40ce-ba7e-8b1e587a130f",
   "metadata": {},
   "source": [
    "<h3>Reverse a String using Python</h3>"
   ]
  },
  {
   "cell_type": "markdown",
   "id": "4a3cfe58-30b3-4b74-bf13-3eaca23558fd",
   "metadata": {},
   "source": [
    "A string is a sequence of characters enclosed in single or double-quotes. String inversion is one of the most common problems in computer science. Here we need to reverse the characters of a string.\n",
    "\n",
    "There are many ways to reverse a string using Python. You can use any method that you find easy unless you are told to use a specific method.\r\n",
    "\r\n",
    "You must have heard of the concept of slicing in Python. Here I will show you how to use string slicing to reverse a string using Python:"
   ]
  },
  {
   "cell_type": "code",
   "execution_count": 1,
   "id": "a2c84cd8-d543-454c-90b1-843e8c4f0d0d",
   "metadata": {},
   "outputs": [],
   "source": [
    "def reverse_string(string):\n",
    "    return string[::-1]"
   ]
  },
  {
   "cell_type": "code",
   "execution_count": 4,
   "id": "7658ea78-8306-4a55-971a-10a254b138c6",
   "metadata": {},
   "outputs": [
    {
     "name": "stdout",
     "output_type": "stream",
     "text": [
      "John Cena\n"
     ]
    }
   ],
   "source": [
    "name = \"aneC nhoJ\"\n",
    "print(reverse_string(name))"
   ]
  },
  {
   "cell_type": "markdown",
   "id": "31b7a790-73f4-47b5-9991-e419a9a1fa07",
   "metadata": {},
   "source": [
    "The first character in the string has index 0, and the last character has index n-1, where n is the length of the string. The string slicing operator “::” reads all the characters of the string, and -1, in the end, reverses the order of the characters. This is how we can reverse a string."
   ]
  }
 ],
 "metadata": {
  "kernelspec": {
   "display_name": "Python 3 (ipykernel)",
   "language": "python",
   "name": "python3"
  },
  "language_info": {
   "codemirror_mode": {
    "name": "ipython",
    "version": 3
   },
   "file_extension": ".py",
   "mimetype": "text/x-python",
   "name": "python",
   "nbconvert_exporter": "python",
   "pygments_lexer": "ipython3",
   "version": "3.9.18"
  }
 },
 "nbformat": 4,
 "nbformat_minor": 5
}
