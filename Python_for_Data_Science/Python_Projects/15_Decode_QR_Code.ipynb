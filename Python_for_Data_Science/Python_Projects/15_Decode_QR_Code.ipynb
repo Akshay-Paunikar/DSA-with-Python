{
 "cells": [
  {
   "cell_type": "markdown",
   "id": "c7f355ac-bd83-40fa-b4f3-e9499ba0ecbb",
   "metadata": {},
   "source": [
    "<h3>Decode a QR Code using Python</h3>"
   ]
  },
  {
   "cell_type": "markdown",
   "id": "3d35bf60-9d20-4532-8655-ea922720334e",
   "metadata": {},
   "source": [
    "Decoding a QR code means finding the value, number, text or link behind the QR code. There are many ways to decode a QR code used by your smartphone cameras, which helps you scan a QR code while making online payments.\n",
    "\n",
    "To decode a QR code, you need an image of a QR code. You can use any QR code image for this tutorial, or you can create your QR code.\n",
    "\n",
    "For decoding QR codes using Python, you need to install two Python libraries in your Python environment; pyzbar and pillow. You can install both these libraries by executing the commands mentioned below in your command prompt or terminal:\n",
    "\n",
    " - pip install pyzbar\n",
    " - pip install pillow"
   ]
  },
  {
   "cell_type": "code",
   "execution_count": 1,
   "id": "a479d055-034f-4418-8401-7e424eeb4c9d",
   "metadata": {},
   "outputs": [
    {
     "name": "stdout",
     "output_type": "stream",
     "text": [
      "Collecting pyzbar\n",
      "  Downloading pyzbar-0.1.9-py2.py3-none-win_amd64.whl.metadata (10 kB)\n",
      "Downloading pyzbar-0.1.9-py2.py3-none-win_amd64.whl (817 kB)\n",
      "   ---------------------------------------- 0.0/817.4 kB ? eta -:--:--\n",
      "    --------------------------------------- 10.2/817.4 kB ? eta -:--:--\n",
      "    --------------------------------------- 10.2/817.4 kB ? eta -:--:--\n",
      "   -- ------------------------------------ 61.4/817.4 kB 465.5 kB/s eta 0:00:02\n",
      "   ------- ------------------------------ 163.8/817.4 kB 978.3 kB/s eta 0:00:01\n",
      "   --------------- ------------------------ 307.2/817.4 kB 1.5 MB/s eta 0:00:01\n",
      "   ---------------------------- ----------- 583.7/817.4 kB 2.2 MB/s eta 0:00:01\n",
      "   ---------------------------------------  809.0/817.4 kB 2.6 MB/s eta 0:00:01\n",
      "   ---------------------------------------  809.0/817.4 kB 2.6 MB/s eta 0:00:01\n",
      "   ---------------------------------------  809.0/817.4 kB 2.6 MB/s eta 0:00:01\n",
      "   ---------------------------------------  809.0/817.4 kB 2.6 MB/s eta 0:00:01\n",
      "   ---------------------------------------- 817.4/817.4 kB 1.7 MB/s eta 0:00:00\n",
      "Installing collected packages: pyzbar\n",
      "Successfully installed pyzbar-0.1.9\n",
      "Requirement already satisfied: pillow in d:\\anaconda\\envs\\deep_learning\\lib\\site-packages (10.3.0)\n"
     ]
    }
   ],
   "source": [
    "!pip install pyzbar\n",
    "!pip install pillow"
   ]
  },
  {
   "cell_type": "code",
   "execution_count": 2,
   "id": "f8165cfc-7906-4866-a006-c151a0071f51",
   "metadata": {},
   "outputs": [],
   "source": [
    "from pyzbar.pyzbar import decode\n",
    "from PIL import Image"
   ]
  },
  {
   "cell_type": "code",
   "execution_count": 3,
   "id": "79ac5b2c-4319-40d4-be65-93e03a160b6c",
   "metadata": {},
   "outputs": [
    {
     "name": "stdout",
     "output_type": "stream",
     "text": [
      "https://github.com/Akshay-Paunikar\n"
     ]
    }
   ],
   "source": [
    "decodeQR = decode(Image.open(\"GitHub Profile.png\"))\n",
    "print(decodeQR[0].data.decode('ascii'))"
   ]
  }
 ],
 "metadata": {
  "kernelspec": {
   "display_name": "Python 3 (ipykernel)",
   "language": "python",
   "name": "python3"
  },
  "language_info": {
   "codemirror_mode": {
    "name": "ipython",
    "version": 3
   },
   "file_extension": ".py",
   "mimetype": "text/x-python",
   "name": "python",
   "nbconvert_exporter": "python",
   "pygments_lexer": "ipython3",
   "version": "3.9.18"
  }
 },
 "nbformat": 4,
 "nbformat_minor": 5
}
