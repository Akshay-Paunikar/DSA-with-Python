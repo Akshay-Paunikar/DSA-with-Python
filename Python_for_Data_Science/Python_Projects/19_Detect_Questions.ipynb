{
 "cells": [
  {
   "cell_type": "markdown",
   "id": "a09a593a-0ba2-4af1-9808-a48190e2a556",
   "metadata": {},
   "source": [
    "<h3>Detect Questions using Python</h3>"
   ]
  },
  {
   "cell_type": "markdown",
   "id": "d8b987e6-da3e-430f-8bb9-16780834ce69",
   "metadata": {},
   "source": [
    "Detecting questions means identifying whether a sentence is interrogative or not. We can also use machine learning to detect questions, but since we all know the type of sentences we see in an interrogative sentence, it is also possible to write a Python script to detect whether a sentence is a question or not."
   ]
  },
  {
   "cell_type": "markdown",
   "id": "022aab1e-6f49-4bfd-892b-ceda732659f6",
   "metadata": {},
   "source": [
    "To write a Python program to detect whether a sentence is a question or not, we first need to create a list of words that we see at the start of an interrogative sentence. For example, what is your name? where do you live?, in these two questions, “what” and “where” are the types of words we need to store in a python list. Next, to check if a sentence is a question or not, we need to check if any word from the list is present at the beginning of the sentence. If it is present, then the sentence is a question, and if it is not present, then the sentence is not a question."
   ]
  },
  {
   "cell_type": "code",
   "execution_count": 4,
   "id": "c4237a8f-2a0b-40e3-92cd-d14e218fff7a",
   "metadata": {},
   "outputs": [],
   "source": [
    "import nltk\n",
    "from nltk.tokenize import word_tokenize"
   ]
  },
  {
   "cell_type": "code",
   "execution_count": 5,
   "id": "8f25b7e8-7415-4dc3-bd3e-aeea5afdce32",
   "metadata": {},
   "outputs": [],
   "source": [
    "question_words = [\"what\", \"why\", \"when\", \"where\", \"name\", \"is\", \n",
    "                  \"how\", \"do\", \"does\", \"which\", \"are\", \"could\", \n",
    "                  \"would\", \"should\", \"has\", \"have\", \"whom\", \"whose\", \"don't\"]"
   ]
  },
  {
   "cell_type": "code",
   "execution_count": 6,
   "id": "c0468107-5fd6-48f5-b7a8-99da617ca4ec",
   "metadata": {},
   "outputs": [
    {
     "name": "stdin",
     "output_type": "stream",
     "text": [
      "Enter your sentence:  I don't think I can make it to the party.\n"
     ]
    },
    {
     "name": "stdout",
     "output_type": "stream",
     "text": [
      "This sentence is not a question !!!!\n"
     ]
    }
   ],
   "source": [
    "question = input(\"Enter your sentence: \")\n",
    "question = question.lower()\n",
    "question = word_tokenize(question)\n",
    "\n",
    "if any(x in question[0] for x in question_words):\n",
    "    print(\"This sentence is a question ?????\")\n",
    "else:\n",
    "    print(\"This sentence is not a question !!!!\")"
   ]
  },
  {
   "cell_type": "code",
   "execution_count": 8,
   "id": "deeed13d-eeda-4a64-9217-01361861c052",
   "metadata": {},
   "outputs": [
    {
     "name": "stdin",
     "output_type": "stream",
     "text": [
      "Enter your sentence:  Why are you not attending the event.\n"
     ]
    },
    {
     "name": "stdout",
     "output_type": "stream",
     "text": [
      "This sentence is a question ?????\n"
     ]
    }
   ],
   "source": [
    "question = input(\"Enter your sentence: \")\n",
    "question = question.lower()\n",
    "question = word_tokenize(question)\n",
    "\n",
    "if any(x in question[0] for x in question_words):\n",
    "    print(\"This sentence is a question ?????\")\n",
    "else:\n",
    "    print(\"This sentence is not a question !!!!\")"
   ]
  }
 ],
 "metadata": {
  "kernelspec": {
   "display_name": "Python 3 (ipykernel)",
   "language": "python",
   "name": "python3"
  },
  "language_info": {
   "codemirror_mode": {
    "name": "ipython",
    "version": 3
   },
   "file_extension": ".py",
   "mimetype": "text/x-python",
   "name": "python",
   "nbconvert_exporter": "python",
   "pygments_lexer": "ipython3",
   "version": "3.9.18"
  }
 },
 "nbformat": 4,
 "nbformat_minor": 5
}
