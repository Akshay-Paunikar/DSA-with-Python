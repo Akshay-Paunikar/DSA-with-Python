{
 "cells": [
  {
   "cell_type": "markdown",
   "id": "4f505f99-1286-4578-af9a-f4e04412b550",
   "metadata": {},
   "source": [
    "<h3>Count Capital Letters in a File</h3>"
   ]
  },
  {
   "cell_type": "markdown",
   "id": "83f6ef34-0718-4c47-8788-f1be39775951",
   "metadata": {},
   "source": [
    "Counting the number of specific letters from a file is something that every coder should know. One of the most popular coding interview questions based on this logic is to count the number of capital letters from a file.\n",
    "\n",
    "You can get questions based on this logic in several ways. You will be given a text file, and you will be asked to read the file without using a Python library and print the number of capital or lowercase letters in the text file."
   ]
  },
  {
   "cell_type": "code",
   "execution_count": 3,
   "id": "4c9298e8-a370-4fb8-af44-e4c4ec1e0581",
   "metadata": {},
   "outputs": [
    {
     "name": "stdout",
     "output_type": "stream",
     "text": [
      "6\n"
     ]
    }
   ],
   "source": [
    "with open('text_data.txt') as file:\n",
    "    count = 0\n",
    "    text = file.read()\n",
    "    for i in text:\n",
    "        if i.isupper():\n",
    "            count += 1\n",
    "    print(count)"
   ]
  },
  {
   "cell_type": "markdown",
   "id": "2289e7eb-6545-4502-a5f2-6958a2f45358",
   "metadata": {},
   "source": [
    "Just like the above method, you can write a python program for counting small letters also by replacing the isupper() function with islower() as shown in the code below:"
   ]
  },
  {
   "cell_type": "code",
   "execution_count": 4,
   "id": "847a2194-3e8e-4b82-b9ef-28e2e784b6c2",
   "metadata": {},
   "outputs": [
    {
     "name": "stdout",
     "output_type": "stream",
     "text": [
      "321\n"
     ]
    }
   ],
   "source": [
    "with open('text_data.txt') as file:\n",
    "    count = 0\n",
    "    text = file.read()\n",
    "    for i in text:\n",
    "        if i.islower():\n",
    "            count += 1\n",
    "    print(count)"
   ]
  }
 ],
 "metadata": {
  "kernelspec": {
   "display_name": "Python 3 (ipykernel)",
   "language": "python",
   "name": "python3"
  },
  "language_info": {
   "codemirror_mode": {
    "name": "ipython",
    "version": 3
   },
   "file_extension": ".py",
   "mimetype": "text/x-python",
   "name": "python",
   "nbconvert_exporter": "python",
   "pygments_lexer": "ipython3",
   "version": "3.9.18"
  }
 },
 "nbformat": 4,
 "nbformat_minor": 5
}
