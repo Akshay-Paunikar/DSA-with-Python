{
 "cells": [
  {
   "cell_type": "markdown",
   "id": "72a18886-5650-4717-85ca-5ceb54ea4588",
   "metadata": {},
   "source": [
    "<h3>Find Duplicate Values using Python</h3>"
   ]
  },
  {
   "cell_type": "markdown",
   "id": "ceaae0e0-f81d-41f9-a8c3-5fcc093f30fa",
   "metadata": {},
   "source": [
    "Finding duplicate values from an array or any other data structure is one of the popular coding interview questions that you can get in any coding interview. The Python programming language provides many inbuilt functions to find the duplicate values, but in a coding interview, you should use an algorithm instead of an inbuilt function."
   ]
  },
  {
   "cell_type": "code",
   "execution_count": 7,
   "id": "e3251bee-6589-43ff-96be-78b3c0a31de6",
   "metadata": {},
   "outputs": [],
   "source": [
    "def find_duplicates(x):\n",
    "    length = len(x)\n",
    "    duplicates = []\n",
    "    for i in range(length):\n",
    "        n = i + 1\n",
    "        for j in range(n, length):\n",
    "            if x[i] == x[j] and x[i] not in duplicates:\n",
    "                duplicates.append(x[i])\n",
    "    return duplicates"
   ]
  },
  {
   "cell_type": "code",
   "execution_count": 8,
   "id": "e1e6fcc7-cd55-4c66-a9a3-8f507131c177",
   "metadata": {},
   "outputs": [],
   "source": [
    "names = [\"Aman\", \"Bernard\", \"Carina\", \"Douglas\", \"Erika\", \"Franklin\", \"Gregory\", \"Helen\", \"Ishaan\",\n",
    "        \"Douglas\", \"Erika\", \"Gregory\", \"Helen\"]"
   ]
  },
  {
   "cell_type": "code",
   "execution_count": 9,
   "id": "f68314e8-4de4-4635-bc4a-fa78bfe10e3c",
   "metadata": {},
   "outputs": [
    {
     "data": {
      "text/plain": [
       "['Douglas', 'Erika', 'Gregory', 'Helen']"
      ]
     },
     "execution_count": 9,
     "metadata": {},
     "output_type": "execute_result"
    }
   ],
   "source": [
    "find_duplicates(names)"
   ]
  },
  {
   "cell_type": "markdown",
   "id": "b83f0b44-3c9e-47f5-b5e6-2993e60ba4b7",
   "metadata": {},
   "source": [
    "Below is how the above function works:\n",
    "\n",
    " - The above function takes a list as an input;\n",
    " - Then it calculates the length of the list;\n",
    " - Then it looks for the same value in the list that is found on the first index;\n",
    " - If it finds multiple values, it appends that value in another list of duplicate values;\n",
    " - This process continues till the loop reaches the final index of the list. In the end, it returns the list of duplicate values."
   ]
  }
 ],
 "metadata": {
  "kernelspec": {
   "display_name": "Python 3 (ipykernel)",
   "language": "python",
   "name": "python3"
  },
  "language_info": {
   "codemirror_mode": {
    "name": "ipython",
    "version": 3
   },
   "file_extension": ".py",
   "mimetype": "text/x-python",
   "name": "python",
   "nbconvert_exporter": "python",
   "pygments_lexer": "ipython3",
   "version": "3.9.18"
  }
 },
 "nbformat": 4,
 "nbformat_minor": 5
}
