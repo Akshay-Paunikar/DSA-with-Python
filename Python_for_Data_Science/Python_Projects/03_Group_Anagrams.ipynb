{
 "cells": [
  {
   "cell_type": "markdown",
   "id": "956b2d0a-a623-4a56-8d26-c0dce3720c35",
   "metadata": {},
   "source": [
    "<h3>Group Anagrams:</h3>"
   ]
  },
  {
   "cell_type": "markdown",
   "id": "83d41777-06e3-42fe-b9a1-4e6862df961c",
   "metadata": {},
   "source": [
    "Anagrams are words formed by rearranging the letters of another word, For example, car and arc, cat and act, etc. Grouping anagrams is one of the popular questions in coding interviews.\n",
    "\n",
    "Here you will be given a list of words, and you have to write an algorithm to group all the words which are anagrams of each other. So below is how you can write a Python function to group anagrams:"
   ]
  },
  {
   "cell_type": "code",
   "execution_count": 1,
   "id": "93c4a752-eefe-4b8f-bc94-7d91ddfc85c1",
   "metadata": {},
   "outputs": [],
   "source": [
    "from collections import defaultdict"
   ]
  },
  {
   "cell_type": "code",
   "execution_count": 2,
   "id": "50602c63-b896-477f-b2a7-328c1eb3b746",
   "metadata": {},
   "outputs": [],
   "source": [
    "def group_anagrams(a):\n",
    "    dfdict = defaultdict(list)\n",
    "    for i in a:\n",
    "        sorted_i = \" \".join(sorted(i))\n",
    "        dfdict[sorted_i].append(i)\n",
    "    return dfdict.values()"
   ]
  },
  {
   "cell_type": "markdown",
   "id": "7a323cda-2119-4df7-85c2-d62e79d40451",
   "metadata": {},
   "source": [
    "Now let’s test the function by creating a list of words containing anagrams and some other words:"
   ]
  },
  {
   "cell_type": "code",
   "execution_count": 3,
   "id": "efa4cccc-99b4-4e82-89b6-505ea17aa6fe",
   "metadata": {},
   "outputs": [
    {
     "name": "stdout",
     "output_type": "stream",
     "text": [
      "dict_values([['tea', 'eat', 'ate'], ['bat'], ['arc', 'car']])\n"
     ]
    }
   ],
   "source": [
    "words = [\"tea\", \"eat\", \"bat\", \"ate\", \"arc\", \"car\"]\n",
    "print(group_anagrams(words))"
   ]
  }
 ],
 "metadata": {
  "kernelspec": {
   "display_name": "Python 3 (ipykernel)",
   "language": "python",
   "name": "python3"
  },
  "language_info": {
   "codemirror_mode": {
    "name": "ipython",
    "version": 3
   },
   "file_extension": ".py",
   "mimetype": "text/x-python",
   "name": "python",
   "nbconvert_exporter": "python",
   "pygments_lexer": "ipython3",
   "version": "3.9.18"
  }
 },
 "nbformat": 4,
 "nbformat_minor": 5
}
