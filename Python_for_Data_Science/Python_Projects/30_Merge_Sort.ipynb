{
 "cells": [
  {
   "cell_type": "markdown",
   "id": "1a08e26f-15b2-4277-918e-fd52b29d3fcd",
   "metadata": {},
   "source": [
    "<h3>Merge Sort using Python</h3>"
   ]
  },
  {
   "cell_type": "markdown",
   "id": "c6b442a7-3a29-41f5-99b5-12168e4b4271",
   "metadata": {},
   "source": [
    "To sort an array we need to arrange the elements of the array by comparing each element efficiently. The merge sort algorithm uses the divide and conquer approach to sort an array by making the least number of comparisons between the elements of an array.\n",
    "\n",
    "The ability to sort the elements of an array is one of the most important skills in computer science that is why we have a bunch of sorting algorithms in computer science. The concept of sorting is widely used in applications such as online shopping platforms, banks and financial systems, etc. The merge sort algorithm is a sorting algorithm that is used to arrange the elements of an array in ascending or descending order.\r\n",
    "\r\n",
    "There are a bunch of sorting algorithms in computer science such as Bubble sort, Selection sort, Insertion Sort, quick sort and Merge sort. All these algorithms do the same work but with a different approach. The merge sort algorithm is currently the most efficient approach to sort the elements of an array.\r\n",
    "\r\n",
    "The Merge Sort algorithm is a divide and conquer algorithm which takes an array as an input and then divides the complete array into sub-arrays of single elements. As a result, we are left with so many sorted arrays as the single element is always sorted. Then we merge all the arrays by taking two arrays at a time until we get a final sorted array."
   ]
  },
  {
   "cell_type": "code",
   "execution_count": 5,
   "id": "0ead506e-91db-427b-b0e9-ff57daea3bcd",
   "metadata": {},
   "outputs": [],
   "source": [
    "def merge(listA, listB):\n",
    "    newlist = list()\n",
    "    a = 0\n",
    "    b = 0\n",
    "    while a < len(listA) and b < len(listB):\n",
    "        if listA[a] < listB[b]:\n",
    "            newlist.append(listA[a])\n",
    "            a += 1\n",
    "        else:\n",
    "            newlist.append(listB[b])\n",
    "            b += 1\n",
    "    while a < len(listA):\n",
    "        newlist.append(listA[a])\n",
    "        a += 1\n",
    "    while b < len(listB):\n",
    "        newlist.append(listB[b])\n",
    "        b += 1\n",
    "    return newlist"
   ]
  },
  {
   "cell_type": "code",
   "execution_count": 6,
   "id": "1f3b1773-ec69-44bc-beba-9a2180a28364",
   "metadata": {},
   "outputs": [],
   "source": [
    "def merge_sort(input_list):\n",
    "    if len(input_list) <= 1:\n",
    "        return input_list\n",
    "    else:\n",
    "        mid = len(input_list) // 2\n",
    "        left = merge_sort(input_list[:mid])\n",
    "        right = merge_sort(input_list[mid:])\n",
    "        newlist = merge(left, right)\n",
    "        return newlist"
   ]
  },
  {
   "cell_type": "code",
   "execution_count": 7,
   "id": "317f7bf1-5363-4c90-971d-81d8f6f3e7ef",
   "metadata": {},
   "outputs": [],
   "source": [
    "a = [56, 89, 45, 34, 90, 32, 20, 67, 43]"
   ]
  },
  {
   "cell_type": "code",
   "execution_count": 8,
   "id": "620b4189-d851-46ac-ab2f-d71f68363e6e",
   "metadata": {},
   "outputs": [
    {
     "name": "stdout",
     "output_type": "stream",
     "text": [
      "[20, 32, 34, 43, 45, 56, 67, 89, 90]\n"
     ]
    }
   ],
   "source": [
    "print(merge_sort(a))"
   ]
  }
 ],
 "metadata": {
  "kernelspec": {
   "display_name": "Python 3 (ipykernel)",
   "language": "python",
   "name": "python3"
  },
  "language_info": {
   "codemirror_mode": {
    "name": "ipython",
    "version": 3
   },
   "file_extension": ".py",
   "mimetype": "text/x-python",
   "name": "python",
   "nbconvert_exporter": "python",
   "pygments_lexer": "ipython3",
   "version": "3.9.18"
  }
 },
 "nbformat": 4,
 "nbformat_minor": 5
}
