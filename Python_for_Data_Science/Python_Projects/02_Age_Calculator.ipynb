{
 "cells": [
  {
   "cell_type": "markdown",
   "id": "35d86efc-43a6-4f83-a8e1-1d78be477b6b",
   "metadata": {},
   "source": [
    "<h3>Age Calculator:</h3>"
   ]
  },
  {
   "cell_type": "markdown",
   "id": "100b047a-f91d-4b97-9623-2c971d06055c",
   "metadata": {},
   "source": [
    "Age Calculator is an amazing coding project idea for beginners. If you are new to any programming language, you should try making an age calculator. It is an application where a user enters his date of birth as an input, and the application gives his age as an output."
   ]
  },
  {
   "cell_type": "code",
   "execution_count": 1,
   "id": "3a5a273c-f124-4818-a7dd-3d919b92a9b8",
   "metadata": {},
   "outputs": [],
   "source": [
    "import datetime"
   ]
  },
  {
   "cell_type": "code",
   "execution_count": 7,
   "id": "3989d650-12cb-42f2-9d6a-3e76f8c3bffa",
   "metadata": {},
   "outputs": [],
   "source": [
    "def ageCalculator(y, m, d):\n",
    "    today = datetime.datetime.now().date()\n",
    "    dob = datetime.date(y, m, d)\n",
    "    age = int((today - dob).days / 365.25)\n",
    "    print(\"Your Age is {} years\".format(age))"
   ]
  },
  {
   "cell_type": "code",
   "execution_count": 8,
   "id": "01c8d47c-ada1-48f2-9583-741d1aa8ec63",
   "metadata": {},
   "outputs": [
    {
     "name": "stdout",
     "output_type": "stream",
     "text": [
      "Your Age is 30 years\n"
     ]
    }
   ],
   "source": [
    "ageCalculator(1994, 3, 29)"
   ]
  }
 ],
 "metadata": {
  "kernelspec": {
   "display_name": "Python 3 (ipykernel)",
   "language": "python",
   "name": "python3"
  },
  "language_info": {
   "codemirror_mode": {
    "name": "ipython",
    "version": 3
   },
   "file_extension": ".py",
   "mimetype": "text/x-python",
   "name": "python",
   "nbconvert_exporter": "python",
   "pygments_lexer": "ipython3",
   "version": "3.9.18"
  }
 },
 "nbformat": 4,
 "nbformat_minor": 5
}
