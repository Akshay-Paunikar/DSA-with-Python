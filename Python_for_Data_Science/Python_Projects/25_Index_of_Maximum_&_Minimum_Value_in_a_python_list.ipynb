{
 "cells": [
  {
   "cell_type": "markdown",
   "id": "dfbe0c49-09b2-4bfd-88a5-d4609dcdaa04",
   "metadata": {},
   "source": [
    "<h3>Index of Maximum & Minimum Value in a Python List</h3>"
   ]
  },
  {
   "cell_type": "markdown",
   "id": "6f324f48-06ea-48bf-8346-2fef8aa159d7",
   "metadata": {},
   "source": [
    "Finding the index of the maximum & minimum value in a list or an array is one of the most common coding interview questions you can get in any coding interview. Here you have to find the index of the maximum & minimum value instead of the maximum & minimum value itself."
   ]
  },
  {
   "cell_type": "markdown",
   "id": "e94d4cbc-850b-4dc3-b2d5-2bd99e923221",
   "metadata": {},
   "source": [
    "Python has a built-in function to find the maximum value in a list. You can also define your Python function for the same task. But the question here is to find the index of the maximum value instead of the value itself. So here is how you can define a Python function to find the index of the maximum value in a Python list:"
   ]
  },
  {
   "cell_type": "code",
   "execution_count": 1,
   "id": "2747612e-ef18-4a61-a850-f2baa0797462",
   "metadata": {},
   "outputs": [],
   "source": [
    "# Index of Maximum Value\n",
    "def maximum(x):\n",
    "    maximum_index = 0\n",
    "    current_index = 1\n",
    "    while current_index < len(x):\n",
    "        if x[current_index] > x[maximum_index]:\n",
    "            maximum_index = current_index\n",
    "        current_index = current_index + 1\n",
    "    return maximum_index"
   ]
  },
  {
   "cell_type": "code",
   "execution_count": 2,
   "id": "6a6b182a-81bb-4f06-af02-5e7d389e6399",
   "metadata": {},
   "outputs": [],
   "source": [
    "a = [100, 72, 236, 22, 63, 45, 96, 84, 21, 15, 45, 65, 50]"
   ]
  },
  {
   "cell_type": "code",
   "execution_count": 3,
   "id": "90fd356f-cb5c-4b39-b9ae-1cc301a2b4cb",
   "metadata": {},
   "outputs": [
    {
     "data": {
      "text/plain": [
       "2"
      ]
     },
     "execution_count": 3,
     "metadata": {},
     "output_type": "execute_result"
    }
   ],
   "source": [
    "maximum(a)"
   ]
  },
  {
   "cell_type": "code",
   "execution_count": 4,
   "id": "2f634618-cf48-4965-8d36-bc766707aa4f",
   "metadata": {},
   "outputs": [],
   "source": [
    "# Index of Minimumn Value\n",
    "def minimum(x):\n",
    "    minimum_index = 0\n",
    "    current_index = 1\n",
    "    while current_index < len(x):\n",
    "        if x[current_index] < x[minimum_index]:\n",
    "            minimum_index = current_index\n",
    "        current_index = current_index + 1\n",
    "    return minimum_index"
   ]
  },
  {
   "cell_type": "code",
   "execution_count": 5,
   "id": "b9ceddc5-02a2-41ed-83cf-d26d00ac18c8",
   "metadata": {},
   "outputs": [
    {
     "data": {
      "text/plain": [
       "9"
      ]
     },
     "execution_count": 5,
     "metadata": {},
     "output_type": "execute_result"
    }
   ],
   "source": [
    "minimum(a)"
   ]
  }
 ],
 "metadata": {
  "kernelspec": {
   "display_name": "Python 3 (ipykernel)",
   "language": "python",
   "name": "python3"
  },
  "language_info": {
   "codemirror_mode": {
    "name": "ipython",
    "version": 3
   },
   "file_extension": ".py",
   "mimetype": "text/x-python",
   "name": "python",
   "nbconvert_exporter": "python",
   "pygments_lexer": "ipython3",
   "version": "3.9.18"
  }
 },
 "nbformat": 4,
 "nbformat_minor": 5
}
