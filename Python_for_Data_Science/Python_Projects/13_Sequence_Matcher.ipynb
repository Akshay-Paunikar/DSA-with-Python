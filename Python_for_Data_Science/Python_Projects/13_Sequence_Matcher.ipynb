{
 "cells": [
  {
   "cell_type": "markdown",
   "id": "6f4e5469-7a7d-4cb3-9ec9-a869c81eff58",
   "metadata": {},
   "source": [
    "<h3>SequenceMatcher in Python</h3>"
   ]
  },
  {
   "cell_type": "markdown",
   "id": "3524f77f-cc95-40f1-a9e8-c364174626a6",
   "metadata": {},
   "source": [
    "SequenceMatcher is a class in Python available in the difflib module, which provides functions for comparing sequences in two different pieces of text. So whenever you want to compare two text files, you can explore the difflib module in Python.\n",
    "\n",
    "There are many classes in the difflib module to compare texts. One of those classes is SequenceMatcher which calculates how well the sequence of two texts matches each other. In simple words, it finds similarities in the sequence of two different texts."
   ]
  },
  {
   "cell_type": "code",
   "execution_count": 11,
   "id": "6859626d-429f-4a22-868b-523e713432c9",
   "metadata": {},
   "outputs": [],
   "source": [
    "from difflib import SequenceMatcher"
   ]
  },
  {
   "cell_type": "code",
   "execution_count": 12,
   "id": "3ab3cbcc-2b30-4275-8ec0-fb0dc84fb7e0",
   "metadata": {},
   "outputs": [],
   "source": [
    "text1 = \"My name is Bryan Mills\"\n",
    "text2 = \"Hi I am Bryan Mills\""
   ]
  },
  {
   "cell_type": "code",
   "execution_count": 13,
   "id": "fe23f0a0-02a6-4438-990f-e06684dbcb5f",
   "metadata": {},
   "outputs": [],
   "source": [
    "sequenceScore = SequenceMatcher(None, text1, text2).ratio()"
   ]
  },
  {
   "cell_type": "code",
   "execution_count": 14,
   "id": "87b69fef-756c-46d4-8564-7b01073fab69",
   "metadata": {},
   "outputs": [
    {
     "name": "stdout",
     "output_type": "stream",
     "text": [
      "Both are 73.17% similar\n"
     ]
    }
   ],
   "source": [
    "print(\"Both are {}% similar\".format(round(sequenceScore * 100, 2)))"
   ]
  },
  {
   "cell_type": "code",
   "execution_count": 15,
   "id": "44aed73b-79f6-4efe-8858-fc917c7a0150",
   "metadata": {},
   "outputs": [
    {
     "name": "stdout",
     "output_type": "stream",
     "text": [
      "Both are 17.39% similar\n"
     ]
    }
   ],
   "source": [
    "text1 = \"My name is Bryan Mills\"\n",
    "text2 = \"I don't know who you are\"\n",
    "\n",
    "sequenceScore = SequenceMatcher(None, text1, text2).ratio()\n",
    "print(\"Both are {}% similar\".format(round(sequenceScore * 100, 2)))"
   ]
  }
 ],
 "metadata": {
  "kernelspec": {
   "display_name": "Python 3 (ipykernel)",
   "language": "python",
   "name": "python3"
  },
  "language_info": {
   "codemirror_mode": {
    "name": "ipython",
    "version": 3
   },
   "file_extension": ".py",
   "mimetype": "text/x-python",
   "name": "python",
   "nbconvert_exporter": "python",
   "pygments_lexer": "ipython3",
   "version": "3.9.18"
  }
 },
 "nbformat": 4,
 "nbformat_minor": 5
}
