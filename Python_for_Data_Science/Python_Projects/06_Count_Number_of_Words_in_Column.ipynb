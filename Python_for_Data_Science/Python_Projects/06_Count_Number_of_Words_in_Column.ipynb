{
 "cells": [
  {
   "cell_type": "markdown",
   "id": "8d552db1-4a19-483f-be92-6e9e30983d45",
   "metadata": {},
   "source": [
    "<h3>Count Number of Words in Column:</h3>"
   ]
  },
  {
   "cell_type": "markdown",
   "id": "93938066-9661-4070-8790-be41664d03c0",
   "metadata": {},
   "source": [
    "While working on a Data Science task, sometimes we have to deal with textual data. One of the problems beginners face while working on a textual dataset is counting the number of words in a piece of text.\n",
    "\n",
    "Most data science professionals use the pandas library for data handling and preparation. The pandas library doesn’t have any method to count the number of words in a piece of text. One way to solve this problem is by finding the length of the text by splitting the complete text.\r\n",
    "\r\n",
    "So let’s import a textual dataset where we can count the number of words in a column:"
   ]
  },
  {
   "cell_type": "code",
   "execution_count": 3,
   "id": "c4189e64-8521-46f8-894c-5f30219cd2a8",
   "metadata": {},
   "outputs": [
    {
     "name": "stdout",
     "output_type": "stream",
     "text": [
      "                                             Article  \\\n",
      "0  Data analysis is the process of inspecting and...   \n",
      "1  The performance of a machine learning algorith...   \n",
      "2  You must have seen the news divided into categ...   \n",
      "3  When there are only two classes in a classific...   \n",
      "4  The Multinomial Naive Bayes is one of the vari...   \n",
      "\n",
      "                                               Title  \n",
      "0                  Best Books to Learn Data Analysis  \n",
      "1         Assumptions of Machine Learning Algorithms  \n",
      "2          News Classification with Machine Learning  \n",
      "3  Multiclass Classification Algorithms in Machin...  \n",
      "4        Multinomial Naive Bayes in Machine Learning  \n"
     ]
    }
   ],
   "source": [
    "import pandas as pd\n",
    "data = pd.read_csv(\"https://raw.githubusercontent.com/amankharwal/Website-data/master/articles.csv\", encoding = 'latin1')\n",
    "print(data.head())"
   ]
  },
  {
   "cell_type": "markdown",
   "id": "ab33e0dc-6c57-48bb-99cf-c92a4a01edc4",
   "metadata": {},
   "source": [
    "The dataset has two columns Article and Title. Let’s create a new column as the number of words in the article column:"
   ]
  },
  {
   "cell_type": "code",
   "execution_count": 4,
   "id": "45143246-b7fa-43db-95de-3732d05c5853",
   "metadata": {},
   "outputs": [
    {
     "name": "stdout",
     "output_type": "stream",
     "text": [
      "                                             Article  \\\n",
      "0  Data analysis is the process of inspecting and...   \n",
      "1  The performance of a machine learning algorith...   \n",
      "2  You must have seen the news divided into categ...   \n",
      "3  When there are only two classes in a classific...   \n",
      "4  The Multinomial Naive Bayes is one of the vari...   \n",
      "\n",
      "                                               Title  \\\n",
      "0                  Best Books to Learn Data Analysis   \n",
      "1         Assumptions of Machine Learning Algorithms   \n",
      "2          News Classification with Machine Learning   \n",
      "3  Multiclass Classification Algorithms in Machin...   \n",
      "4        Multinomial Naive Bayes in Machine Learning   \n",
      "\n",
      "   Number of Words in Article  \n",
      "0                          76  \n",
      "1                          56  \n",
      "2                          70  \n",
      "3                          66  \n",
      "4                          96  \n"
     ]
    }
   ],
   "source": [
    "data['Number of Words in Article'] = data['Article'].apply(lambda n: len(n.split()))\n",
    "print(data.head())"
   ]
  },
  {
   "cell_type": "code",
   "execution_count": 5,
   "id": "794fcf27-8cbf-4da3-9386-721aecdf86a9",
   "metadata": {},
   "outputs": [
    {
     "name": "stdout",
     "output_type": "stream",
     "text": [
      "                                             Article  \\\n",
      "0  Data analysis is the process of inspecting and...   \n",
      "1  The performance of a machine learning algorith...   \n",
      "2  You must have seen the news divided into categ...   \n",
      "3  When there are only two classes in a classific...   \n",
      "4  The Multinomial Naive Bayes is one of the vari...   \n",
      "\n",
      "                                               Title  \\\n",
      "0                  Best Books to Learn Data Analysis   \n",
      "1         Assumptions of Machine Learning Algorithms   \n",
      "2          News Classification with Machine Learning   \n",
      "3  Multiclass Classification Algorithms in Machin...   \n",
      "4        Multinomial Naive Bayes in Machine Learning   \n",
      "\n",
      "   Number of Words in Article  Number of Words in Title  \n",
      "0                          76                         6  \n",
      "1                          56                         5  \n",
      "2                          70                         5  \n",
      "3                          66                         6  \n",
      "4                          96                         6  \n"
     ]
    }
   ],
   "source": [
    "data['Number of Words in Title'] = data['Title'].apply(lambda n: len(n.split()))\n",
    "print(data.head())"
   ]
  },
  {
   "cell_type": "code",
   "execution_count": 6,
   "id": "a6d76288-0d64-475f-8375-6648fc58313b",
   "metadata": {},
   "outputs": [
    {
     "data": {
      "text/html": [
       "<div>\n",
       "<style scoped>\n",
       "    .dataframe tbody tr th:only-of-type {\n",
       "        vertical-align: middle;\n",
       "    }\n",
       "\n",
       "    .dataframe tbody tr th {\n",
       "        vertical-align: top;\n",
       "    }\n",
       "\n",
       "    .dataframe thead th {\n",
       "        text-align: right;\n",
       "    }\n",
       "</style>\n",
       "<table border=\"1\" class=\"dataframe\">\n",
       "  <thead>\n",
       "    <tr style=\"text-align: right;\">\n",
       "      <th></th>\n",
       "      <th>Article</th>\n",
       "      <th>Title</th>\n",
       "      <th>Number of Words in Article</th>\n",
       "      <th>Number of Words in Title</th>\n",
       "    </tr>\n",
       "  </thead>\n",
       "  <tbody>\n",
       "    <tr>\n",
       "      <th>0</th>\n",
       "      <td>Data analysis is the process of inspecting and...</td>\n",
       "      <td>Best Books to Learn Data Analysis</td>\n",
       "      <td>76</td>\n",
       "      <td>6</td>\n",
       "    </tr>\n",
       "    <tr>\n",
       "      <th>1</th>\n",
       "      <td>The performance of a machine learning algorith...</td>\n",
       "      <td>Assumptions of Machine Learning Algorithms</td>\n",
       "      <td>56</td>\n",
       "      <td>5</td>\n",
       "    </tr>\n",
       "    <tr>\n",
       "      <th>2</th>\n",
       "      <td>You must have seen the news divided into categ...</td>\n",
       "      <td>News Classification with Machine Learning</td>\n",
       "      <td>70</td>\n",
       "      <td>5</td>\n",
       "    </tr>\n",
       "    <tr>\n",
       "      <th>3</th>\n",
       "      <td>When there are only two classes in a classific...</td>\n",
       "      <td>Multiclass Classification Algorithms in Machin...</td>\n",
       "      <td>66</td>\n",
       "      <td>6</td>\n",
       "    </tr>\n",
       "    <tr>\n",
       "      <th>4</th>\n",
       "      <td>The Multinomial Naive Bayes is one of the vari...</td>\n",
       "      <td>Multinomial Naive Bayes in Machine Learning</td>\n",
       "      <td>96</td>\n",
       "      <td>6</td>\n",
       "    </tr>\n",
       "  </tbody>\n",
       "</table>\n",
       "</div>"
      ],
      "text/plain": [
       "                                             Article  \\\n",
       "0  Data analysis is the process of inspecting and...   \n",
       "1  The performance of a machine learning algorith...   \n",
       "2  You must have seen the news divided into categ...   \n",
       "3  When there are only two classes in a classific...   \n",
       "4  The Multinomial Naive Bayes is one of the vari...   \n",
       "\n",
       "                                               Title  \\\n",
       "0                  Best Books to Learn Data Analysis   \n",
       "1         Assumptions of Machine Learning Algorithms   \n",
       "2          News Classification with Machine Learning   \n",
       "3  Multiclass Classification Algorithms in Machin...   \n",
       "4        Multinomial Naive Bayes in Machine Learning   \n",
       "\n",
       "   Number of Words in Article  Number of Words in Title  \n",
       "0                          76                         6  \n",
       "1                          56                         5  \n",
       "2                          70                         5  \n",
       "3                          66                         6  \n",
       "4                          96                         6  "
      ]
     },
     "execution_count": 6,
     "metadata": {},
     "output_type": "execute_result"
    }
   ],
   "source": [
    "data.head()"
   ]
  }
 ],
 "metadata": {
  "kernelspec": {
   "display_name": "Python 3 (ipykernel)",
   "language": "python",
   "name": "python3"
  },
  "language_info": {
   "codemirror_mode": {
    "name": "ipython",
    "version": 3
   },
   "file_extension": ".py",
   "mimetype": "text/x-python",
   "name": "python",
   "nbconvert_exporter": "python",
   "pygments_lexer": "ipython3",
   "version": "3.9.18"
  }
 },
 "nbformat": 4,
 "nbformat_minor": 5
}
