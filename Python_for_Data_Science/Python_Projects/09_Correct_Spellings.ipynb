{
 "cells": [
  {
   "cell_type": "markdown",
   "id": "f7103239-faf5-4849-9c54-7baebffc7c31",
   "metadata": {},
   "source": [
    "<h3>Correct Spellings using Python</h3>"
   ]
  },
  {
   "cell_type": "markdown",
   "id": "346800c9-11ad-4038-9987-b0715657d81c",
   "metadata": {},
   "source": [
    "Correcting spellings in a piece of text is one of the handy features that can be used in any application where users write content. For example, if you want to create a notepad, it should have a feature to identify and correct the wrong spellings.er"
   ]
  },
  {
   "cell_type": "markdown",
   "id": "f3c667b6-af0c-40ff-ba0e-9a93b3f753ec",
   "metadata": {},
   "source": [
    "The SpellChecker module in Python is one of the handiest tools that can be used to correct misspelt words in a piece of text. If you have never used this Python module before, you can easily install it in your Python virtual environment by running the command mentioned below in your command prompt or terminal:\n",
    "\n",
    " - pip install pyspellchecker"
   ]
  },
  {
   "cell_type": "code",
   "execution_count": 5,
   "id": "e068b84e-bce7-414c-971e-0c68666596ec",
   "metadata": {},
   "outputs": [
    {
     "name": "stdout",
     "output_type": "stream",
     "text": [
      "Requirement already satisfied: pyspellchecker in d:\\anaconda\\envs\\deep_learning\\lib\\site-packages (0.8.1)\n"
     ]
    }
   ],
   "source": [
    "!pip install pyspellchecker"
   ]
  },
  {
   "cell_type": "code",
   "execution_count": 6,
   "id": "88ec3b23-0fb7-4e91-bb18-840a65653245",
   "metadata": {},
   "outputs": [],
   "source": [
    "from spellchecker import SpellChecker\n",
    "corrector = SpellChecker()"
   ]
  },
  {
   "cell_type": "code",
   "execution_count": 7,
   "id": "64589776-c421-444a-bbd7-97686897b6fa",
   "metadata": {},
   "outputs": [
    {
     "name": "stdin",
     "output_type": "stream",
     "text": [
      "Enter the word:  amzing\n"
     ]
    },
    {
     "name": "stdout",
     "output_type": "stream",
     "text": [
      "Correct spelling is: amazing\n"
     ]
    }
   ],
   "source": [
    "word = input(\"Enter the word: \")\n",
    "if word in corrector:\n",
    "    print(\"The word exists and it is correct !!!\")\n",
    "else:\n",
    "    correct_word = corrector.correction(word)\n",
    "    print(\"Correct spelling is: {}\".format(correct_word))"
   ]
  }
 ],
 "metadata": {
  "kernelspec": {
   "display_name": "Python 3 (ipykernel)",
   "language": "python",
   "name": "python3"
  },
  "language_info": {
   "codemirror_mode": {
    "name": "ipython",
    "version": 3
   },
   "file_extension": ".py",
   "mimetype": "text/x-python",
   "name": "python",
   "nbconvert_exporter": "python",
   "pygments_lexer": "ipython3",
   "version": "3.9.18"
  }
 },
 "nbformat": 4,
 "nbformat_minor": 5
}
