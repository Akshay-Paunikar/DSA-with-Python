{
 "cells": [
  {
   "cell_type": "markdown",
   "id": "a2f0adbd-bb94-4301-8acc-17ee85728a46",
   "metadata": {},
   "source": [
    "<h3>Print Emojis:</h3>"
   ]
  },
  {
   "cell_type": "markdown",
   "id": "152e9ac8-9fc2-40fa-a7e0-33a95ced09e3",
   "metadata": {},
   "source": [
    "Emojis are used to express our emotions while writing a message or any piece of text.\n",
    "\n",
    "Smiling, thumbs up, and the heart emoji are some of the emojis we often use while texting our friends or colleagues. It’s possible to print any emoji using the Python programming language. To print emojis using Python, you need to install the emoji module in your Python virtual environment. You can easily install it by using the pip command on your terminal or command prompt as mentioned below:"
   ]
  },
  {
   "cell_type": "code",
   "execution_count": 1,
   "id": "6dfed2bb-8c8f-4e47-b875-093e8dba857d",
   "metadata": {},
   "outputs": [
    {
     "name": "stdout",
     "output_type": "stream",
     "text": [
      "Collecting emoji\n",
      "  Downloading emoji-2.11.1-py2.py3-none-any.whl.metadata (5.3 kB)\n",
      "Downloading emoji-2.11.1-py2.py3-none-any.whl (433 kB)\n",
      "   ---------------------------------------- 0.0/433.8 kB ? eta -:--:--\n",
      "   ---------------------------------------- 0.0/433.8 kB ? eta -:--:--\n",
      "    --------------------------------------- 10.2/433.8 kB ? eta -:--:--\n",
      "   ----- --------------------------------- 61.4/433.8 kB 469.7 kB/s eta 0:00:01\n",
      "   -------------------------- ------------- 286.7/433.8 kB 1.3 MB/s eta 0:00:01\n",
      "   --------------------------------- ------ 368.6/433.8 kB 1.3 MB/s eta 0:00:01\n",
      "   ---------------------------------------  430.1/433.8 kB 1.4 MB/s eta 0:00:01\n",
      "   ---------------------------------------  430.1/433.8 kB 1.4 MB/s eta 0:00:01\n",
      "   ---------------------------------------- 433.8/433.8 kB 1.1 MB/s eta 0:00:00\n",
      "Installing collected packages: emoji\n",
      "Successfully installed emoji-2.11.1\n"
     ]
    }
   ],
   "source": [
    "!pip install emoji"
   ]
  },
  {
   "cell_type": "markdown",
   "id": "54b3881a-bae5-40da-bbf7-aa98125cee6e",
   "metadata": {},
   "source": [
    "The emoji.emojize method helps you write the description of any emoji inside “::” while writing a piece of text."
   ]
  },
  {
   "cell_type": "markdown",
   "id": "89c15b30-300b-4ffd-8ca7-514c339e2002",
   "metadata": {},
   "source": [
    "You can use the description of any emoji inside “::” to print the emoji using Python."
   ]
  },
  {
   "cell_type": "code",
   "execution_count": 2,
   "id": "b0e8938f-9752-4e50-8740-7a929c0af945",
   "metadata": {},
   "outputs": [],
   "source": [
    "import emoji"
   ]
  },
  {
   "cell_type": "code",
   "execution_count": 3,
   "id": "a2e1305c-72b2-432b-8aa5-b403a80c0d37",
   "metadata": {},
   "outputs": [
    {
     "name": "stdout",
     "output_type": "stream",
     "text": [
      "I love reading books 📚\n",
      "Some People are very kind hearted ❤️\n"
     ]
    }
   ],
   "source": [
    "print(emoji.emojize(\"I love reading books :books:\"))\n",
    "print(emoji.emojize(\"Some People are very kind hearted :red_heart:\"))"
   ]
  },
  {
   "cell_type": "markdown",
   "id": "9d258aed-bd64-4e65-853d-b0284d865bda",
   "metadata": {},
   "source": [
    "List of emojis in python:\n",
    " - https://carpedm20.github.io/emoji/"
   ]
  }
 ],
 "metadata": {
  "kernelspec": {
   "display_name": "Python 3 (ipykernel)",
   "language": "python",
   "name": "python3"
  },
  "language_info": {
   "codemirror_mode": {
    "name": "ipython",
    "version": 3
   },
   "file_extension": ".py",
   "mimetype": "text/x-python",
   "name": "python",
   "nbconvert_exporter": "python",
   "pygments_lexer": "ipython3",
   "version": "3.9.18"
  }
 },
 "nbformat": 4,
 "nbformat_minor": 5
}
