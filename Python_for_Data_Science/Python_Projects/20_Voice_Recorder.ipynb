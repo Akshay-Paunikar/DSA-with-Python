{
 "cells": [
  {
   "cell_type": "markdown",
   "id": "e87a3e2a-ecd1-44de-a8d9-e9f779718732",
   "metadata": {},
   "source": [
    "<h3>Voice Recorder using Python</h3>"
   ]
  },
  {
   "cell_type": "markdown",
   "id": "202f3668-6362-4c1f-aac4-99b6bda2131e",
   "metadata": {},
   "source": [
    "A voice recorder is found in every smartphone and computer today. It is an application that is used to record sound and save it in a specific file format, which can be listened to and transferred to another device."
   ]
  },
  {
   "cell_type": "markdown",
   "id": "9beb9f2c-4ba0-4cd8-9654-ab5e8e484b82",
   "metadata": {},
   "source": [
    "You must have used a voice recorder on your smartphone or your computer once in your life. We generally use it to record a voice message, and some video creators use it to record the voice for their videos. To create a voice recorder using the Python programming language, you need to use the sounddevice library in Python. If you have never used this library before, you can easily install it by using the pip command mentioned below:\n",
    "\n",
    " - pip install sounddevice\n",
    "\n",
    "The sounddevice library will help you to record your voice, but to save your voice in a specific file format, you need to use the SciPy library in Python, which can be installed by using the pip command:\n",
    "\n",
    " - pip install SciPy"
   ]
  },
  {
   "cell_type": "code",
   "execution_count": 1,
   "id": "a3e110bb-143f-41c5-bb4f-681193b54ad6",
   "metadata": {},
   "outputs": [
    {
     "name": "stdout",
     "output_type": "stream",
     "text": [
      "Collecting sounddevice\n",
      "  Downloading sounddevice-0.4.6-py3-none-win_amd64.whl.metadata (1.4 kB)\n",
      "Requirement already satisfied: CFFI>=1.0 in d:\\anaconda\\envs\\deep_learning\\lib\\site-packages (from sounddevice) (1.16.0)\n",
      "Requirement already satisfied: pycparser in d:\\anaconda\\envs\\deep_learning\\lib\\site-packages (from CFFI>=1.0->sounddevice) (2.21)\n",
      "Downloading sounddevice-0.4.6-py3-none-win_amd64.whl (199 kB)\n",
      "   ---------------------------------------- 0.0/199.7 kB ? eta -:--:--\n",
      "   ----- --------------------------------- 30.7/199.7 kB 660.6 kB/s eta 0:00:01\n",
      "   ------------- ------------------------- 71.7/199.7 kB 653.6 kB/s eta 0:00:01\n",
      "   -------------------------------------- - 194.6/199.7 kB 1.5 MB/s eta 0:00:01\n",
      "   -------------------------------------- - 194.6/199.7 kB 1.5 MB/s eta 0:00:01\n",
      "   -------------------------------------- - 194.6/199.7 kB 1.5 MB/s eta 0:00:01\n",
      "   -------------------------------------- - 194.6/199.7 kB 1.5 MB/s eta 0:00:01\n",
      "   -------------------------------------- - 194.6/199.7 kB 1.5 MB/s eta 0:00:01\n",
      "   -------------------------------------- - 194.6/199.7 kB 1.5 MB/s eta 0:00:01\n",
      "   -------------------------------------- - 194.6/199.7 kB 1.5 MB/s eta 0:00:01\n",
      "   -------------------------------------- 199.7/199.7 kB 433.6 kB/s eta 0:00:00\n",
      "Installing collected packages: sounddevice\n",
      "Successfully installed sounddevice-0.4.6\n",
      "Requirement already satisfied: SciPy in d:\\anaconda\\envs\\deep_learning\\lib\\site-packages (1.8.0)\n",
      "Requirement already satisfied: numpy<1.25.0,>=1.17.3 in d:\\anaconda\\envs\\deep_learning\\lib\\site-packages (from SciPy) (1.22.3)\n"
     ]
    }
   ],
   "source": [
    "!pip install sounddevice\n",
    "!pip install SciPy"
   ]
  },
  {
   "cell_type": "code",
   "execution_count": 2,
   "id": "70c8c50a-d09c-4789-a4da-3ee90c97087b",
   "metadata": {},
   "outputs": [],
   "source": [
    "import sounddevice\n",
    "from scipy.io.wavfile import write"
   ]
  },
  {
   "cell_type": "code",
   "execution_count": 3,
   "id": "185a57f4-9efa-425c-85f0-49bb82b10bab",
   "metadata": {},
   "outputs": [],
   "source": [
    "def voice_recorder(seconds, file):\n",
    "    print(\"Recording has started....\")\n",
    "    recording = sounddevice.rec((seconds * 44100), samplerate=44100, channels=2)\n",
    "    sounddevice.wait()\n",
    "    write(file, 44100, recording)\n",
    "    print(\"Recording has finished !!!!\")"
   ]
  },
  {
   "cell_type": "code",
   "execution_count": 4,
   "id": "57079f91-1853-42b3-9144-6f8c1be9b495",
   "metadata": {},
   "outputs": [
    {
     "name": "stdout",
     "output_type": "stream",
     "text": [
      "Recording has started....\n",
      "Recording has finished !!!!\n"
     ]
    }
   ],
   "source": [
    "voice_recorder(20, \"recording.wav\")"
   ]
  }
 ],
 "metadata": {
  "kernelspec": {
   "display_name": "Python 3 (ipykernel)",
   "language": "python",
   "name": "python3"
  },
  "language_info": {
   "codemirror_mode": {
    "name": "ipython",
    "version": 3
   },
   "file_extension": ".py",
   "mimetype": "text/x-python",
   "name": "python",
   "nbconvert_exporter": "python",
   "pygments_lexer": "ipython3",
   "version": "3.9.18"
  }
 },
 "nbformat": 4,
 "nbformat_minor": 5
}
