{
 "cells": [
  {
   "cell_type": "markdown",
   "id": "dc5f94ad-c22b-4d3e-9b66-8f89e05b4651",
   "metadata": {},
   "source": [
    "<h3>Find Missing Number:</h3>"
   ]
  },
  {
   "cell_type": "markdown",
   "id": "db965bf0-83ab-4858-8c0b-408f86d05630",
   "metadata": {},
   "source": [
    "Finding the missing number in an array is a popular coding interview question. According to LeetCode, this question is popular in the interviews of companies like Amazon, Adobe, Microsoft, LinkedIn, and many more."
   ]
  },
  {
   "cell_type": "markdown",
   "id": "898cd0bd-136f-4dc2-a944-5f6ae936cd2b",
   "metadata": {},
   "source": [
    "Finding the missing number in an array means finding the numbers missing from the array according to the range of values inside the array. Most of the time, the question you get based on this problem is like:\n",
    "\n",
    " - Given an array containing a range of numbers from 0 to n with a missing number, find the missing number in the input array.\n",
    "\n",
    "To find the missing number in an array, we need to iterate over the input array and store the numbers in another array that we didn’t find in the input array while iterating over it. Below is how you can find the missing number in an array or a list using the Python programming language:"
   ]
  },
  {
   "cell_type": "code",
   "execution_count": 1,
   "id": "4e3aa138-7a44-427a-b1c2-7837785249a2",
   "metadata": {},
   "outputs": [],
   "source": [
    "def findMissingNumbers(n):\n",
    "    numbers = set(n)\n",
    "    length = len(n)\n",
    "    output = []\n",
    "    for i in range(1, n[-1]):\n",
    "        if i not in numbers:\n",
    "            output.append(i)\n",
    "    return output"
   ]
  },
  {
   "cell_type": "code",
   "execution_count": 2,
   "id": "4ce95663-25b5-4d2c-bccd-e73b1dace1f7",
   "metadata": {},
   "outputs": [
    {
     "name": "stdout",
     "output_type": "stream",
     "text": [
      "[4, 12, 15]\n"
     ]
    }
   ],
   "source": [
    "listOfNumbers = [1, 2, 3, 5, 6, 7, 8, 9, 10, 11, 13, 14, 16]\n",
    "print(findMissingNumbers(listOfNumbers))"
   ]
  }
 ],
 "metadata": {
  "kernelspec": {
   "display_name": "Python 3 (ipykernel)",
   "language": "python",
   "name": "python3"
  },
  "language_info": {
   "codemirror_mode": {
    "name": "ipython",
    "version": 3
   },
   "file_extension": ".py",
   "mimetype": "text/x-python",
   "name": "python",
   "nbconvert_exporter": "python",
   "pygments_lexer": "ipython3",
   "version": "3.9.18"
  }
 },
 "nbformat": 4,
 "nbformat_minor": 5
}
