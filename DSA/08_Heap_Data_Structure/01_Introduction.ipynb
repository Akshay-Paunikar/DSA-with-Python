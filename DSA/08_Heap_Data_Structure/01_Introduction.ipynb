{
 "cells": [
  {
   "cell_type": "markdown",
   "metadata": {},
   "source": [
    "<h3>Heap Data Structure:</h3>"
   ]
  },
  {
   "cell_type": "markdown",
   "metadata": {},
   "source": [
    "A heap is a special tree-based data structure that satisfies the heap property (min-heap or max-heap). In a min-heap, the parent node is always smaller than or equal to its children. In a max-heap, the parent node is always larger than or equal to its children. Heaps are usually used to implement priority queues, where the smallest (or largest) element is always at the root of the tree.\n",
    "\n",
    "<b>Types of Heaps:</b>\n",
    "\n",
    " - Max Heap: The root node contains the maximum value, and the values decrease as you move down the tree.\n",
    " - Min Heap: The root node contains the minimum value, and the values increase as you move down the tree.\n",
    "\n",
    "<b>Properties:</b>\n",
    "\n",
    " - Complete binary tree.\n",
    " - Heap property (min-heap or max-heap).\n",
    "\n",
    "<b>Use Cases:</b>\n",
    "\n",
    " - Implementing priority queues.\n",
    " - Heap sort algorithm.\n",
    " - Finding the k smallest or largest elements in an array."
   ]
  },
  {
   "cell_type": "code",
   "execution_count": 1,
   "metadata": {},
   "outputs": [
    {
     "name": "stdout",
     "output_type": "stream",
     "text": [
      "[1, 3, 2]\n",
      "1\n",
      "[2, 3]\n"
     ]
    }
   ],
   "source": [
    "import heapq\n",
    "\n",
    "# Creating a min-heap\n",
    "heap = []\n",
    "\n",
    "# Adding elements\n",
    "heapq.heappush(heap, 3)\n",
    "heapq.heappush(heap, 1)\n",
    "heapq.heappush(heap, 2)\n",
    "print(heap)  \n",
    "\n",
    "# Popping elements\n",
    "print(heapq.heappop(heap))\n",
    "print(heap)"
   ]
  }
 ],
 "metadata": {
  "kernelspec": {
   "display_name": "Deep_Learning",
   "language": "python",
   "name": "python3"
  },
  "language_info": {
   "codemirror_mode": {
    "name": "ipython",
    "version": 3
   },
   "file_extension": ".py",
   "mimetype": "text/x-python",
   "name": "python",
   "nbconvert_exporter": "python",
   "pygments_lexer": "ipython3",
   "version": "3.9.18"
  }
 },
 "nbformat": 4,
 "nbformat_minor": 2
}
