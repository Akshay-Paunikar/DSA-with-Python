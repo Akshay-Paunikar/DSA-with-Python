{
 "cells": [
  {
   "cell_type": "markdown",
   "metadata": {},
   "source": [
    "<h3>Asymptotic Notation - Omega Notation &Omega;</h3>"
   ]
  },
  {
   "cell_type": "markdown",
   "metadata": {},
   "source": [
    " - Omega Notation &Omega;, is a way to express the asymptotic lower bound of an algorithm’s time complexity, since it analyses the best-case situation of algorithm. \n",
    " - In case of Omega Notation &Omega; we are supposed to calculate the lower bound.\n",
    " - Here lower bound means: the best case scenario.\n",
    " - Mathematically, if there are two functions: f(n) and g(n), then we can say that f(n) is an Omega of g(n) i.e. f(n) = &Omega;(g(n)) if and only if:\n",
    "   - f(n) &ge; c * g(n). where: n &ge; n<sub>0</sub> and n<sub>0</sub> &ge;1 and c > 0."
   ]
  },
  {
   "cell_type": "markdown",
   "metadata": {},
   "source": [
    "For example:\n",
    " - If f(n) = n and g(n) = 5n then:\n",
    "    - f(n) = &Omega;(g(n))\n",
    "    - f(n) &ge; c * g(n)\n",
    "    - n &ge; c * 5n\n",
    " - Now, if we put the value of c &ge; 1/5, then it satisfies our condition."
   ]
  },
  {
   "cell_type": "markdown",
   "metadata": {},
   "source": [
    "Another example:\n",
    " - If f(n) = 5n and g(n) = n then:\n",
    "    - f(n) = &Omega;(g(n))\n",
    "    - f(n) &ge; c * g(n)\n",
    "    - 5n &ge; c * n\n",
    " - Now, if we put the value of c where 0 < c &le; 5, then it satisfies our condition."
   ]
  },
  {
   "cell_type": "markdown",
   "metadata": {},
   "source": [
    "Another example:\n",
    " - If f(n) = n<sup>2</sup> and g(n) = n<sup>2</sup> + n + 10 then:\n",
    "    - f(n) = &Omega;(g(n))\n",
    "    - f(n) &ge; c * g(n)\n",
    "    - n<sup>2</sup> &ge; c * (n<sup>2</sup> + n + 10)\n",
    " - Now, for a large value of n and if we put the value of c = 1/2, then it satisfies our condition."
   ]
  },
  {
   "cell_type": "markdown",
   "metadata": {},
   "source": [
    "One more example:\n",
    " - If f(n) = n and g(n) = n<sup>2</sup> then:\n",
    "    - f(n) = &Omega;(g(n))\n",
    "    - f(n) &ge; c * g(n)\n",
    "    - n &ge; c * n<sup>2</sup>\n",
    " - Now, if we put the value of c = 1/n, it will satisfy the condition. However, the value of c will now depend on n which does not statisfies the condition of c being a constant. So, Overall this does not satisfies our condition."
   ]
  }
 ],
 "metadata": {
  "kernelspec": {
   "display_name": "Deep_Learning",
   "language": "python",
   "name": "python3"
  },
  "language_info": {
   "name": "python",
   "version": "3.9.18"
  }
 },
 "nbformat": 4,
 "nbformat_minor": 2
}
