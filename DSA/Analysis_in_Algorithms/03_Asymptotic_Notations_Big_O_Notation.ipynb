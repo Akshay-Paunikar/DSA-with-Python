{
 "cells": [
  {
   "cell_type": "markdown",
   "metadata": {},
   "source": [
    "<h3>Asymptotic Notations - Big O Notation:</h3"
   ]
  },
  {
   "cell_type": "markdown",
   "metadata": {},
   "source": [
    " - It is use to describe the running time of an algorithm.\n",
    " - Time and Space complexity is represented using asymptotic notation.\n",
    " - There are 3 types: Big O: O, Omega - Ω, Theta -  θ."
   ]
  },
  {
   "cell_type": "markdown",
   "metadata": {},
   "source": [
    "<h4>Big O Notation:</h4>\n",
    "\n",
    "let's say that you have 2 functions: f(x) and g(x). Now, if f(x) = O(g(x)) then:\n",
    "\n",
    "f(x) <= c * g(x)\n",
    "\n",
    "where:\n",
    "\n",
    "c >= 0 and x >= x<sub>0</sub>.\n",
    "\n",
    "for example:\n",
    "\n",
    "If f(x) = 5x and g(x) = x and f(x) = O(g(x)) then:\n",
    "  \n",
    "f(x) <= c * g(x)\n",
    "\n",
    "5x <= c * x\n",
    "\n",
    "for c >= 5, the statement f(x) = O(g(x)) will be true.\n",
    "\n",
    "\n",
    "Now, if f(x) = x and g(x) = 5x and if f(x) = O(g(x)) then:\n",
    "\n",
    "f(x) <= c * g(x)\n",
    "\n",
    "x <= c * 5x\n",
    "\n",
    "for c >= 1/5, the statement f(x) = O(g(x)) will be true.\n",
    "\n",
    "Now, if f(x) = x and g(x) = x<sup>2</sup> and f(x) = O(g(x)) then:\n",
    "\n",
    "f(x) <= c * g(x)\n",
    "\n",
    "x <= c * x<sup>2</sup>\n",
    "\n",
    "for c = 1/x, the c will no longer be a constant and will depend on x. Hence, in this case the statement f(x) = O(g(x)) is false.\n",
    "\n",
    "Now let's understand x >= x<sub>0</sub>.\n",
    "\n",
    "Whenever we deal with large data, Big O notation will be also called as a worst case scenario.\n",
    "\n",
    "So, if my value of n is large then am I able to write a code which is quite optimized for my task?. If yes, that is the optimized code. At that time we go for Big O notation."
   ]
  },
  {
   "cell_type": "markdown",
   "metadata": {},
   "source": [
    "<h3>Increasing Order of Complexities:</h3>"
   ]
  },
  {
   "cell_type": "markdown",
   "metadata": {},
   "source": [
    "As you have already learnt that whenever we write a code, the time and space complexity will determine if it is a good solution or a worst case scenario. Now, a good developer must also learn the \"complexity classes\" which we have in Big O notation so that one can easily determine which case is good one and which is the worst case scenario.\n",
    "\n",
    "So, let's understand the complexity classes in increasing order of complexity:\n",
    "\n",
    " - <b>1. Constant Time Complexity O(1):</b>\n",
    "    - When your code does not have any loops or multiple functions inside it, it will be a constant time complexity denoted by O(1).\n",
    "    - If the algorithm runs for the same amount of time every time irrespective of the input size. It is said to exhibit constant time complexity.\n",
    "\n",
    " - <b>2. Logarithmic Time Complexity O(log n):</b>\n",
    "    - When the algorithm runtime increases very slowly compared to an increase in input size i.e. logarithm of input size then the algorithm is said to exhibit logarithmic time complexity.\n",
    "    - It is denoted by O(log n).\n",
    "    - Example: Binary Search Algorithm\n",
    "\n",
    " - <b>3. Linear Time Complexity O(n):</b>\n",
    "    - If the algorithm runtime is linearly proportional to the input size then the algorithm is said to exhibit linear time complexity.\n",
    "    - It is donoted by O(n).\n",
    "    - Example: Linear Searching Algorithm.\n",
    "\n",
    " - <b>4. Quadratic Time Complexity O(n<sup>2</sup>):</b>\n",
    "    - Quadratic time complexity is when the runtime scales quadratically with the input. As the input size increases, the runtime of the algorithm also increases in a quadratic fashion (i.e. the runtime is proportional to the square of the input size).\n",
    "    - It is denoted by O(n<sup>2</sup>).\n",
    "    - Example: Sorting Algorithms.\n",
    "\n",
    " - <b>5. Cubic Time Complexity O(n<sup>3</sup>):</b>\n",
    "    - Cubic time complexity means that the running time of an algorithm is proportional to the cube of the input size.\n",
    "    - It is denoted by O(n<sup>3</sup>).\n",
    "    - Example: matrix multiplication algorithm.\n",
    "\n",
    " - <b>6. Polynomial Time Complexity O(n<sup>C</sup>):</b>\n",
    "    - Polynomial time complexity refers to the time complexity of an algorithm that can be expressed as a polynomial function of the input size n.\n",
    "    - In Big O notation, an algorithm is said to have polynomial time complexity if its time complexity is O(n<sup>C</sup>), where C is a constant (C > 0) and represents the degree of the polynomial.\n",
    "    - It is denoted by O(n<sup>C</sup>).\n",
    "\n",
    " - <b>7. Exponential Time Complexity O(C<sup>n</sup>):</b>\n",
    "    - Exponential time complexity means that the running time of an algorithm doubles or triples with each addition to the input data set depending upon the value of C (C > 1).\n",
    "    - It is denoted by O(C<sup>n</sup>)."
   ]
  },
  {
   "cell_type": "markdown",
   "metadata": {},
   "source": [
    "<b>Important Note:</b>\n",
    "\n",
    " - 2<sup>n</sup> < n! < n<sup>n</sup> >>>>> 2<sup>n</sup> < n<sup>n</sup>.\n",
    " - It means that 2<sup>n</sup> can be considered as Big O(n!) and n! can be considered as Big O(n<sup>n</sup>).\n",
    " - (log n)<sup>C</sup> < n.\n",
    " - (log n)<sup>log n</sup> > n.\n",
    " - log<sub>2</sub>n < log<sub>3</sub>n."
   ]
  }
 ],
 "metadata": {
  "kernelspec": {
   "display_name": "Deep_Learning",
   "language": "python",
   "name": "python3"
  },
  "language_info": {
   "name": "python",
   "version": "3.9.18"
  }
 },
 "nbformat": 4,
 "nbformat_minor": 2
}
