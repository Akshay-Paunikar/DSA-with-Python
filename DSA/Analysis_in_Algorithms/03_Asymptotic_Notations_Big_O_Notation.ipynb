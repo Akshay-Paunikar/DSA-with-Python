{
 "cells": [
  {
   "cell_type": "markdown",
   "metadata": {},
   "source": [
    "<h3>Asymptotic Notations - Big O Notation:</h3"
   ]
  },
  {
   "cell_type": "markdown",
   "metadata": {},
   "source": [
    " - It is use to describe the running time of an algorithm.\n",
    " - Time and Space complexity is represented using asymptotic notation.\n",
    " - There are 3 types: Big O: O, Omega - Ω, Theta -  θ."
   ]
  },
  {
   "cell_type": "markdown",
   "metadata": {},
   "source": [
    "<h4>Big O Notation:</h4>\n",
    "\n",
    "let's say that you have 2 functions: f(x) and g(x). Now, if f(x) = O(g(x)) then:\n",
    "\n",
    "f(x) <= c * g(x)\n",
    "\n",
    "where:\n",
    "\n",
    "c >= 0 and x >= x<sub>0</sub>.\n",
    "\n",
    "for example:\n",
    "\n",
    "If f(x) = 5x and g(x) = x and f(x) = O(g(x)) then:\n",
    "  \n",
    "f(x) <= c * g(x)\n",
    "\n",
    "5x <= c * x\n",
    "\n",
    "for c >= 5, the statement f(x) = O(g(x)) will be true.\n",
    "\n",
    "\n",
    "Now, if f(x) = x and g(x) = 5x and if f(x) = O(g(x)) then:\n",
    "\n",
    "f(x) <= c * g(x)\n",
    "\n",
    "x <= c * 5x\n",
    "\n",
    "for c >= 1/5, the statement f(x) = O(g(x)) will be true.\n",
    "\n",
    "Now, if f(x) = x and g(x) = x<sup>2</sup> and f(x) = O(g(x)) then:\n",
    "\n",
    "f(x) <= c * g(x)\n",
    "\n",
    "x <= c * x<sup>2</sup>\n",
    "\n",
    "for c = 1/x, the c will no longer be a constant and will depend on x. Hence, in this case the statement f(x) = O(g(x)) is false.\n",
    "\n",
    "Now let's understand x >= x<sub>0</sub>.\n",
    "\n",
    "Whenever we deal with large data, Big O notation will be also called as a worst case scenario.\n",
    "\n",
    "So, if my value of n is large then am I able to write a code which is quite optimized for my task?. If yes, that is the optimized code. At that time we go for Big O notation."
   ]
  }
 ],
 "metadata": {
  "kernelspec": {
   "display_name": "Deep_Learning",
   "language": "python",
   "name": "python3"
  },
  "language_info": {
   "name": "python",
   "version": "3.9.18"
  }
 },
 "nbformat": 4,
 "nbformat_minor": 2
}
