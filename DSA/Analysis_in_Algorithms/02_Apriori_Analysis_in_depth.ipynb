{
 "cells": [
  {
   "cell_type": "markdown",
   "metadata": {},
   "source": [
    "<h3>Apriori Analysis in Depth</h3>"
   ]
  },
  {
   "cell_type": "markdown",
   "metadata": {},
   "source": [
    "<b>What do you mean by Apriori Analysis?</b>\n",
    "\n",
    " - It is an analysis which helps up to find which solution is best among all.\n",
    " - Determination of order of magnitude of a statement.\n",
    " - Here magnitude means: while running a program, how many times a statement is executing."
   ]
  },
  {
   "cell_type": "markdown",
   "metadata": {},
   "source": []
  }
 ],
 "metadata": {
  "kernelspec": {
   "display_name": "Deep_Learning",
   "language": "python",
   "name": "python3"
  },
  "language_info": {
   "name": "python",
   "version": "3.9.18"
  }
 },
 "nbformat": 4,
 "nbformat_minor": 2
}
