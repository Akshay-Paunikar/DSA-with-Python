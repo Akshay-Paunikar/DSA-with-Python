{
 "cells": [
  {
   "cell_type": "markdown",
   "metadata": {},
   "source": [
    "<h3>Analysis in Algorithms</h3>"
   ]
  },
  {
   "cell_type": "markdown",
   "metadata": {},
   "source": [
    "Let's say that you have a problem statement and you want to solve that particular problem. Now, there may be many solutions to that problem i.e. solution1, solution2, solution3 etc. Now, how will you determine which solution is best for this particular problem???.\n",
    "\n",
    "We need some metrics to determine that this solution let's say solution2 is the best or optimized solution to our problem.\n",
    "\n",
    "There are two factor's that determines which solution is the optimized one. These factors are:\n",
    "\n",
    " - <b>Time Complexity: </b>How much time our code is taking to execute a program given some test cases to solve the problem. This is the first factor on which we will determine whether a solution is best or not. An optimized solution is the one that takes minimum amount of time to execute program or solve a problem.\n",
    " \n",
    " - <b>Space Complexity: </b>How much space our code is taking to execute a program given some test cases to solve the problem. We use data structures for example Arrays, Strings to store the data. Apart from data structure how much space is needed to execute a program determines the space complexity of a solution. Therefore, an optimized solution is the one that takes minimum amount of space to execute a program or solve a problem.\n",
    "\n",
    "These are the two factor's that determines if our solution is a good one or optimized one or not. "
   ]
  },
  {
   "cell_type": "markdown",
   "metadata": {},
   "source": [
    "Let's discuss one case: Given a problem statement, there are two solutions to that problem and time and space complexities are as follows:\n",
    "\n",
    " - Solution1\n",
    "    - time to execute = 5 ms\n",
    "    - space requirement = 0 mb\n",
    "\n",
    " - Solution2\n",
    "    - time to execute = 0.0001 ms\n",
    "    - space requirement = 1 mb\n",
    "\n",
    "Now which solution is the best one????\n",
    "\n",
    "Here, Solution2 is the best one considering time & space trade-off. The reason is we are living in very fast-paced environment where people need solution to their problem as fast as possible. For example, if a website is taking a long time to respond to a user's request, he/she may never visit that website again. So, if there is a solution for this problem which is lightning fast but taking some space, then it's okay to accept such solution. \n",
    "\n",
    "It depends on the user's requirement and other factor's but most of the time we try to reduce the time complexity on the cost of some space complexity. Time is the most precious thing, that is why most of the time we focus on reducing the time complexity aspect rather than the space complexity aspect.\n",
    "\n",
    "Time complexity is more powerful than the Space complexity."
   ]
  },
  {
   "cell_type": "markdown",
   "metadata": {},
   "source": [
    "<h3>Types of Analysis:</h3>\n",
    "\n",
    " - <b>Apostiary Analysis: </b>\n",
    "    - Relative Analysis.\n",
    "    - Dependent on the language of the compiler and type of hardware.\n",
    "    - Exact answers.\n",
    "    - Different answers.\n",
    "    - Program running fast because of the type of the hardware.\n",
    "\n",
    " - <b>Apriori Analysis: </b>\n",
    "    - Absolute Analysis. (Important)\n",
    "    - Indpendent of the language of the compiler and type of hardware.\n",
    "    - Approximate answers.\n",
    "    - Same answers.\n",
    "    - Program running fast because of some good logic.\n",
    "\n",
    "So, whenever we talk about apostiary analysis we expect an exact answer whereas whenever we talk about apriori analysis we expect approximate answer."
   ]
  },
  {
   "cell_type": "markdown",
   "metadata": {},
   "source": []
  }
 ],
 "metadata": {
  "kernelspec": {
   "display_name": "Deep_Learning",
   "language": "python",
   "name": "python3"
  },
  "language_info": {
   "name": "python",
   "version": "3.9.18"
  }
 },
 "nbformat": 4,
 "nbformat_minor": 2
}
