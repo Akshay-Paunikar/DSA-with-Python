{
 "cells": [
  {
   "cell_type": "markdown",
   "metadata": {},
   "source": [
    "<h3>Introduction to Recurrence Relation Solving</h3>"
   ]
  },
  {
   "cell_type": "markdown",
   "metadata": {},
   "source": [
    "<b>What is a Recurrence Relation?</b>\n",
    "\n",
    " - A recurrence relation is an equation which represents a sequence based on some rule. It helps in finding the subsequent term (next term) dependent upon the preceding term (previous term). If we know the previous term in a given series, then we can easily determine the next term.\n",
    " - A recurrence relation is a mathematical expression that defines a sequence in terms of its previous terms. In the context of algorithmic analysis, it is often used to model the time complexity of recursive algorithms.\n",
    " - General form of Recurrence Relation:\n",
    "    - a<sub>n</sub> = f(a<sub>n-1</sub>, a<sub>n-2</sub>, ..., a<sub>n-k</sub>).\n",
    " - Recurrence Relations play a significant role in analyzing and optimizing the complexity of algorithms.\n",
    " - Some of the common uses of Recurrence Relations are:\n",
    "   - Time Complexity Analysis\n",
    "   - Generalizing Divide and Conquer Algorithms\n",
    "   - Analyzing Recursive Algorithms\n",
    "   - Defining State and Transitions for Dynamic Programming.\n",
    " - Common Examples of Recurrence Relations:\n",
    "   - Fibonacci Sequence: F(n) = F(n-1) + F(n-2)\n",
    "   - Factorial of a number n: F(n) = n * F(n-1)\n",
    "   - Merge Sort: T(n) = 2*T(n/2) + O(n)\n",
    "   - Tower of Hanoi: H(n) = 2*H(n-1) + 1\n",
    "   - Binary Search: T(n) = T(n/2) + 1\n",
    " - There are mainly three ways of solving recurrences:\n",
    "   - Substitution Method.\n",
    "   - Recurrence Tree Method.\n",
    "   - Master Method."
   ]
  },
  {
   "cell_type": "markdown",
   "metadata": {},
   "source": []
  }
 ],
 "metadata": {
  "kernelspec": {
   "display_name": "Deep_Learning",
   "language": "python",
   "name": "python3"
  },
  "language_info": {
   "name": "python",
   "version": "3.9.18"
  }
 },
 "nbformat": 4,
 "nbformat_minor": 2
}
