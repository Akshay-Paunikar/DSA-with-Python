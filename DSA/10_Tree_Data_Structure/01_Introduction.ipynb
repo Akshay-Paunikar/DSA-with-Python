{
 "cells": [
  {
   "cell_type": "markdown",
   "metadata": {},
   "source": [
    "<h3>Tree Data Structure:</h3>"
   ]
  },
  {
   "cell_type": "markdown",
   "metadata": {},
   "source": [
    "A tree is a hierarchical data structure consisting of nodes, with a single node (root) and potentially many levels of additional nodes. Each node has zero or more child nodes. Common types include binary trees, binary search trees, AVL trees, and red-black trees.\n",
    "\n",
    "<b>Properties:</b>\n",
    "\n",
    " - Hierarchical structure.\n",
    " - Nodes with parent-child relationships.\n",
    " - Binary tree: each node has at most two children.\n",
    "\n",
    "<b>Use Cases:</b>\n",
    "\n",
    " - Representing hierarchical data (e.g., file systems).\n",
    " - Implementing search trees.\n",
    " - Network routing algorithms."
   ]
  },
  {
   "cell_type": "code",
   "execution_count": 1,
   "metadata": {},
   "outputs": [
    {
     "name": "stdout",
     "output_type": "stream",
     "text": [
      "2 3 4 5 6 7 8 "
     ]
    }
   ],
   "source": [
    "class TreeNode:\n",
    "    def __init__(self, data):\n",
    "        self.data = data\n",
    "        self.left = None\n",
    "        self.right = None\n",
    "\n",
    "class BinaryTree:\n",
    "    def __init__(self):\n",
    "        self.root = None\n",
    "\n",
    "    def insert(self, data):\n",
    "        if self.root is None:\n",
    "            self.root = TreeNode(data)\n",
    "        else:\n",
    "            self._insert(self.root, data)\n",
    "\n",
    "    def _insert(self, node, data):\n",
    "        if data < node.data:\n",
    "            if node.left is None:\n",
    "                node.left = TreeNode(data)\n",
    "            else:\n",
    "                self._insert(node.left, data)\n",
    "        else:\n",
    "            if node.right is None:\n",
    "                node.right = TreeNode(data)\n",
    "            else:\n",
    "                self._insert(node.right, data)\n",
    "\n",
    "    def inorder_traversal(self, node):\n",
    "        if node:\n",
    "            self.inorder_traversal(node.left)\n",
    "            print(node.data, end=\" \")\n",
    "            self.inorder_traversal(node.right)\n",
    "\n",
    "# Example usage\n",
    "bt = BinaryTree()\n",
    "bt.insert(5)\n",
    "bt.insert(3)\n",
    "bt.insert(7)\n",
    "bt.insert(2)\n",
    "bt.insert(4)\n",
    "bt.insert(6)\n",
    "bt.insert(8)\n",
    "bt.inorder_traversal(bt.root)"
   ]
  }
 ],
 "metadata": {
  "kernelspec": {
   "display_name": "Deep_Learning",
   "language": "python",
   "name": "python3"
  },
  "language_info": {
   "codemirror_mode": {
    "name": "ipython",
    "version": 3
   },
   "file_extension": ".py",
   "mimetype": "text/x-python",
   "name": "python",
   "nbconvert_exporter": "python",
   "pygments_lexer": "ipython3",
   "version": "3.9.18"
  }
 },
 "nbformat": 4,
 "nbformat_minor": 2
}
