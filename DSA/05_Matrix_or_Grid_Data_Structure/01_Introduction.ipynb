{
 "cells": [
  {
   "cell_type": "markdown",
   "metadata": {},
   "source": [
    "<h3>Matrix/Grid Data Structure:</h3>"
   ]
  },
  {
   "cell_type": "markdown",
   "metadata": {},
   "source": [
    "Matrix Data Structure is a two-dimensional array that consists of rows and columns. It is an arrangement of elements in horizontal or vertical lines of entries. It is also considered as an array of arrays, where array at each index has the same size.\n",
    "\n",
    "<b>Properties:</b>\n",
    "\n",
    " - Elements are stored in a two-dimensional structure.\n",
    " - Indexed by pairs of integers (row, column).\n",
    "\n",
    "<b>Use Cases:</b>\n",
    "\n",
    " - Representing and manipulating 2D data (e.g., images, graphs).\n",
    " - Solving mathematical problems involving matrices.\n",
    " - Implementing algorithms for grid-based games and simulations."
   ]
  },
  {
   "cell_type": "code",
   "execution_count": 11,
   "metadata": {},
   "outputs": [
    {
     "data": {
      "text/plain": [
       "[[1, 2, 3], [4, 5, 6], [7, 8, 9]]"
      ]
     },
     "execution_count": 11,
     "metadata": {},
     "output_type": "execute_result"
    }
   ],
   "source": [
    "# Initializing a 2-D array with values\n",
    "arr = [[1, 2, 3], [4, 5, 6], [7, 8, 9]]\n",
    "arr"
   ]
  },
  {
   "cell_type": "code",
   "execution_count": 12,
   "metadata": {},
   "outputs": [
    {
     "name": "stdout",
     "output_type": "stream",
     "text": [
      "First element of first row: 1\n",
      "Third element of second row: 6\n",
      "Second element of third row: 8\n"
     ]
    }
   ],
   "source": [
    "# Accessing elements of 2-D array\n",
    "print(\"First element of first row:\", arr[0][0])\n",
    "print(\"Third element of second row:\", arr[1][2])\n",
    "print(\"Second element of third row:\", arr[2][1])"
   ]
  },
  {
   "cell_type": "code",
   "execution_count": 13,
   "metadata": {},
   "outputs": [
    {
     "name": "stdout",
     "output_type": "stream",
     "text": [
      "1 2 3 \n",
      "4 5 6 \n",
      "7 8 9 \n"
     ]
    }
   ],
   "source": [
    "# Traversing over all the rows\n",
    "for i in range(0, 3):\n",
    "    # Traversing over all the columns of each row\n",
    "    for j in range(0, 3):\n",
    "        print(arr[i][j], end=\" \")\n",
    "    print(\"\")"
   ]
  }
 ],
 "metadata": {
  "kernelspec": {
   "display_name": "Deep_Learning",
   "language": "python",
   "name": "python3"
  },
  "language_info": {
   "codemirror_mode": {
    "name": "ipython",
    "version": 3
   },
   "file_extension": ".py",
   "mimetype": "text/x-python",
   "name": "python",
   "nbconvert_exporter": "python",
   "pygments_lexer": "ipython3",
   "version": "3.9.18"
  }
 },
 "nbformat": 4,
 "nbformat_minor": 2
}
