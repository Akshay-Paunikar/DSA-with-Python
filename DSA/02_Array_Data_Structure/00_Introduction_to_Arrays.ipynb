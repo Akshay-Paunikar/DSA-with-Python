{
 "cells": [
  {
   "cell_type": "markdown",
   "metadata": {},
   "source": [
    "<h3>Arrays:</h3>\n",
    "\n",
    "An array is a fundamental data structure that stores a collection of elements of the same data type in contiguous memory locations. Imagine it as a row of boxes, where each box holds a value. You can access any element directly by its position (index) within the array.\n",
    "\n",
    "<b>Key Characteristics:</b>\n",
    "\n",
    " - Elements of the same data type: All elements in an array must be of the same type (e.g., integers, floats, strings).\n",
    " - Contiguous memory allocation: Elements are stored sequentially in memory, allowing for efficient random access.\n",
    " - Indexing: Each element is associated with an index, starting from 0.\n",
    " - Fixed size: In most cases, the size of an array is fixed when it's created."
   ]
  },
  {
   "cell_type": "markdown",
   "metadata": {},
   "source": [
    "<h4>One Dimensional Array - How to find the address of an element</h4>"
   ]
  },
  {
   "cell_type": "markdown",
   "metadata": {},
   "source": [
    "<pre>\n",
    "Location of any element (1-D array) = Base Address + (m - l) * size of each element\n",
    "\n",
    "where, \n",
    "m = index of the element\n",
    "l = base index\n",
    "</pre>"
   ]
  },
  {
   "cell_type": "markdown",
   "metadata": {},
   "source": [
    "<h4>Two Dimensional Array - Row Major Order and Column Major Order</h4>"
   ]
  },
  {
   "cell_type": "markdown",
   "metadata": {},
   "source": [
    "<pre>\n",
    "Location of any element in (2-D array) = Base Address + [(i - lower bound of row) * nC + (j - lower bound of columns)] * size of each element\n",
    "\n",
    "where,\n",
    "i = row order location\n",
    "j = column order location\n",
    "</pre>"
   ]
  },
  {
   "cell_type": "code",
   "execution_count": 127,
   "metadata": {},
   "outputs": [
    {
     "name": "stdout",
     "output_type": "stream",
     "text": [
      "10 20 30 40 50 60 70 80 90 "
     ]
    }
   ],
   "source": [
    "# using the array module\n",
    "import array\n",
    "arr = array.array('i', [10, 20, 30, 40, 50, 60, 70, 80, 90])\n",
    "for i in range(0,9):\n",
    "    print(arr[i], end=' ')"
   ]
  },
  {
   "cell_type": "code",
   "execution_count": 128,
   "metadata": {},
   "outputs": [
    {
     "data": {
      "text/plain": [
       "array.array"
      ]
     },
     "execution_count": 128,
     "metadata": {},
     "output_type": "execute_result"
    }
   ],
   "source": [
    "type(arr)"
   ]
  },
  {
   "cell_type": "code",
   "execution_count": 129,
   "metadata": {},
   "outputs": [
    {
     "name": "stdout",
     "output_type": "stream",
     "text": [
      "[10 20 30 40 50 60 70 80 90]\n"
     ]
    }
   ],
   "source": [
    "# How to create an array\n",
    "import numpy as np\n",
    "lst = [10, 20, 30, 40, 50, 60, 70, 80, 90] #create a list\n",
    "arr = np.array(lst) # using np.array convert list into array\n",
    "print(arr)"
   ]
  },
  {
   "cell_type": "code",
   "execution_count": 130,
   "metadata": {},
   "outputs": [
    {
     "data": {
      "text/plain": [
       "numpy.ndarray"
      ]
     },
     "execution_count": 130,
     "metadata": {},
     "output_type": "execute_result"
    }
   ],
   "source": [
    "type(arr)"
   ]
  },
  {
   "cell_type": "code",
   "execution_count": 131,
   "metadata": {},
   "outputs": [
    {
     "data": {
      "text/plain": [
       "array([[0., 0., 0.],\n",
       "       [0., 0., 0.]])"
      ]
     },
     "execution_count": 131,
     "metadata": {},
     "output_type": "execute_result"
    }
   ],
   "source": [
    "# Create an array filled with zeros.\n",
    "arr2 = np.zeros((2, 3))\n",
    "arr2"
   ]
  },
  {
   "cell_type": "code",
   "execution_count": 132,
   "metadata": {},
   "outputs": [
    {
     "data": {
      "text/plain": [
       "array([[1., 1.],\n",
       "       [1., 1.],\n",
       "       [1., 1.]])"
      ]
     },
     "execution_count": 132,
     "metadata": {},
     "output_type": "execute_result"
    }
   ],
   "source": [
    "# Create an array filled with ones.\n",
    "arr3 = np.ones((3, 2))\n",
    "arr3"
   ]
  },
  {
   "cell_type": "code",
   "execution_count": 133,
   "metadata": {},
   "outputs": [
    {
     "data": {
      "text/plain": [
       "array([[1., 0., 0.],\n",
       "       [0., 1., 0.],\n",
       "       [0., 0., 1.]])"
      ]
     },
     "execution_count": 133,
     "metadata": {},
     "output_type": "execute_result"
    }
   ],
   "source": [
    "# Create an identity matrix of size N x N.\n",
    "arr4 = np.eye(3)\n",
    "arr4"
   ]
  },
  {
   "cell_type": "code",
   "execution_count": 134,
   "metadata": {},
   "outputs": [
    {
     "data": {
      "text/plain": [
       "array([0, 2, 4, 6, 8])"
      ]
     },
     "execution_count": 134,
     "metadata": {},
     "output_type": "execute_result"
    }
   ],
   "source": [
    "# Create an array with values in a specified range.\n",
    "arr5 = np.arange(0, 10, 2)\n",
    "arr5"
   ]
  },
  {
   "cell_type": "code",
   "execution_count": 135,
   "metadata": {},
   "outputs": [
    {
     "data": {
      "text/plain": [
       "array([0.  , 0.25, 0.5 , 0.75, 1.  ])"
      ]
     },
     "execution_count": 135,
     "metadata": {},
     "output_type": "execute_result"
    }
   ],
   "source": [
    "# Create an array with evenly spaced values over a specified range.\n",
    "arr6 = np.linspace(0, 1, 5)\n",
    "arr6"
   ]
  },
  {
   "cell_type": "markdown",
   "metadata": {},
   "source": [
    "#### Operations on Array:"
   ]
  },
  {
   "cell_type": "code",
   "execution_count": 136,
   "metadata": {},
   "outputs": [
    {
     "name": "stdout",
     "output_type": "stream",
     "text": [
      "10 30 90\n"
     ]
    }
   ],
   "source": [
    "# Accesing Elements\n",
    "# Use indexing to access elements. Indexing starts from 0.\n",
    "first = arr[0]\n",
    "second = arr[2]\n",
    "last = arr[-1]\n",
    "\n",
    "print(first, second, last)"
   ]
  },
  {
   "cell_type": "code",
   "execution_count": 137,
   "metadata": {},
   "outputs": [
    {
     "name": "stdout",
     "output_type": "stream",
     "text": [
      "[30 40 50]\n",
      "[10 30 50 70 90]\n",
      "[90 80 70 60 50 40 30 20 10]\n",
      "[90 80 70 60 50]\n"
     ]
    }
   ],
   "source": [
    "# slicing in array\n",
    "print(arr[2:5]) # Slice a portion of the array\n",
    "print(arr[::2]) # Slice with a step\n",
    "print(arr[::-1]) # reverse\n",
    "print(arr[::-1][:5]) # reverse and slice"
   ]
  },
  {
   "cell_type": "code",
   "execution_count": 138,
   "metadata": {},
   "outputs": [
    {
     "name": "stdout",
     "output_type": "stream",
     "text": [
      "Shape and Reshaping:\n",
      " [1 2 3 4 5 6]\n",
      "(6,)\n",
      "[[1 2 3]\n",
      " [4 5 6]]\n",
      "[1. 1. 1. 1. 1. 1.]\n",
      "[[1. 1. 1.]\n",
      " [1. 1. 1.]]\n"
     ]
    }
   ],
   "source": [
    "# Shape and Reshaping\n",
    "arr7 = np.array([1, 2, 3, 4, 5, 6])\n",
    "print(\"Shape and Reshaping:\\n\", arr7)\n",
    "\n",
    "# Get the shape of the array\n",
    "print(arr7.shape)\n",
    "\n",
    "# Reshape the array without changing its data\n",
    "print(arr7.reshape((2, 3)))\n",
    "\n",
    "# Flatten the array to a 1D array\n",
    "print(arr3.flatten())\n",
    "\n",
    "# Transpose the array (for 2D arrays)\n",
    "print(arr3.T) "
   ]
  },
  {
   "cell_type": "code",
   "execution_count": 139,
   "metadata": {},
   "outputs": [
    {
     "name": "stdout",
     "output_type": "stream",
     "text": [
      "Mathematical Operations:\n",
      "arr8 + 5: [15 25 35]\n",
      "arr8 - 5: [ 5 15 25]\n",
      "arr8 * 2: [20 40 60]\n",
      "arr8 / 2: [ 5. 10. 15.]\n",
      "np.add(arr8, arr9): [11 22 33]\n",
      "np.subtract(arr8, arr9): [ 9 18 27]\n",
      "np.multiply(arr8, arr9): [10 40 90]\n",
      "np.divide(arr8, arr9): [10. 10. 10.]\n",
      "np.sqrt(arr8): [3.16227766 4.47213595 5.47722558]\n",
      "np.exp(arr8): [2.20264658e+04 4.85165195e+08 1.06864746e+13]\n",
      "np.log(arr8): [2.30258509 2.99573227 3.40119738]\n"
     ]
    }
   ],
   "source": [
    "# Mathematical Operations\n",
    "arr8 = np.array([10, 20, 30])\n",
    "arr9 = np.array([1, 2, 3])\n",
    "print(\"Mathematical Operations:\")\n",
    "\n",
    "# Add a value to each element.\n",
    "print(\"arr8 + 5:\", arr8 + 5)\n",
    "\n",
    "# Subtract a value from each element.\n",
    "print(\"arr8 - 5:\", arr8 - 5)\n",
    "\n",
    "# Multiply each element by a value.\n",
    "print(\"arr8 * 2:\", arr8 * 2)\n",
    "\n",
    "# Divide each element by a value.\n",
    "print(\"arr8 / 2:\", arr8 / 2)\n",
    "\n",
    "# Element-wise addition of two arrays.\n",
    "print(\"np.add(arr8, arr9):\", np.add(arr8, arr9))\n",
    "\n",
    "# Element-wise subtraction of two arrays.\n",
    "print(\"np.subtract(arr8, arr9):\", np.subtract(arr8, arr9))\n",
    "\n",
    "# Element-wise multiplication of two arrays.\n",
    "print(\"np.multiply(arr8, arr9):\", np.multiply(arr8, arr9))\n",
    "\n",
    "# Element-wise division of two arrays.\n",
    "print(\"np.divide(arr8, arr9):\", np.divide(arr8, arr9))\n",
    "\n",
    "# Compute the square root of each element.\n",
    "print(\"np.sqrt(arr8):\", np.sqrt(arr8))\n",
    "\n",
    "# Compute the exponential of each element.\n",
    "print(\"np.exp(arr8):\", np.exp(arr8))\n",
    "\n",
    "# Compute the natural logarithm of each element.\n",
    "print(\"np.log(arr8):\", np.log(arr8))"
   ]
  },
  {
   "cell_type": "code",
   "execution_count": 140,
   "metadata": {},
   "outputs": [
    {
     "name": "stdout",
     "output_type": "stream",
     "text": [
      "Statistical Operations:\n",
      "np.mean(arr8): 20.0\n",
      "np.median(arr8): 20.0\n",
      "np.std(arr8): 8.16496580927726\n",
      "np.var(arr8): 66.66666666666667\n",
      "np.min(arr8): 10\n",
      "np.max(arr8): 30\n",
      "np.sum(arr8): 60\n",
      "np.prod(arr8): 6000\n"
     ]
    }
   ],
   "source": [
    "# Statistical Operations\n",
    "print(\"Statistical Operations:\")\n",
    "\n",
    "# Compute the mean of the array.\n",
    "print(\"np.mean(arr8):\", np.mean(arr8))\n",
    "\n",
    "# Compute the median of the array.\n",
    "print(\"np.median(arr8):\", np.median(arr8))\n",
    "\n",
    "# Compute the standard deviation.\n",
    "print(\"np.std(arr8):\", np.std(arr8))\n",
    "\n",
    "# Compute the variance.\n",
    "print(\"np.var(arr8):\", np.var(arr8))\n",
    "\n",
    "# Find the minimum value.\n",
    "print(\"np.min(arr8):\", np.min(arr8))\n",
    "\n",
    "# Find the maximum value.\n",
    "print(\"np.max(arr8):\", np.max(arr8))\n",
    "\n",
    "# Compute the sum of all elements.\n",
    "print(\"np.sum(arr8):\", np.sum(arr8))\n",
    "\n",
    "# Compute the product of all elements.\n",
    "print(\"np.prod(arr8):\", np.prod(arr8))"
   ]
  },
  {
   "cell_type": "code",
   "execution_count": 141,
   "metadata": {},
   "outputs": [
    {
     "name": "stdout",
     "output_type": "stream",
     "text": [
      "Aggregation:\n",
      "np.cumsum(arr10): [ 1  3  6 10]\n",
      "np.cumprod(arr10): [ 1  2  6 24]\n"
     ]
    }
   ],
   "source": [
    "# Aggregation\n",
    "arr10 = np.array([1, 2, 3, 4])\n",
    "print(\"Aggregation:\")\n",
    "\n",
    "# Compute the cumulative sum\n",
    "print(\"np.cumsum(arr10):\", np.cumsum(arr10))\n",
    "\n",
    "# Compute the cumulative product\n",
    "print(\"np.cumprod(arr10):\", np.cumprod(arr10))"
   ]
  },
  {
   "cell_type": "code",
   "execution_count": 142,
   "metadata": {},
   "outputs": [
    {
     "name": "stdout",
     "output_type": "stream",
     "text": [
      "Logical Operations:\n",
      "arr8 > 15: [False  True  True]\n",
      "np.where(arr8 > 15, 'Yes', 'No'): ['No' 'Yes' 'Yes']\n"
     ]
    }
   ],
   "source": [
    "# Logical Operations\n",
    "print(\"Logical Operations:\")\n",
    "\n",
    "# Element-wise comparison\n",
    "print(\"arr8 > 15:\", arr8 > 15)\n",
    "\n",
    "# Return elements chosen from x or y depending on condition.\n",
    "print(\"np.where(arr8 > 15, 'Yes', 'No'):\", np.where(arr8 > 15, 'Yes', 'No'))"
   ]
  },
  {
   "cell_type": "code",
   "execution_count": 143,
   "metadata": {},
   "outputs": [
    {
     "name": "stdout",
     "output_type": "stream",
     "text": [
      "Sorting and Searching:\n",
      "np.sort(arr11): [1 2 3]\n",
      "np.argsort(arr11): [1 2 0]\n",
      "np.searchsorted(arr11, 2): 2\n"
     ]
    }
   ],
   "source": [
    "# Sorting and Searching\n",
    "arr11 = np.array([3, 1, 2])\n",
    "print(\"Sorting and Searching:\")\n",
    "\n",
    "# Return a sorted copy of the array\n",
    "print(\"np.sort(arr11):\", np.sort(arr11))\n",
    "\n",
    "# Return indices that would sort the array\n",
    "print(\"np.argsort(arr11):\", np.argsort(arr11))\n",
    "\n",
    "# Find indices where elements should be inserted to maintain order\n",
    "print(\"np.searchsorted(arr11, 2):\", np.searchsorted(arr11, 2))"
   ]
  },
  {
   "cell_type": "code",
   "execution_count": 144,
   "metadata": {},
   "outputs": [
    {
     "name": "stdout",
     "output_type": "stream",
     "text": [
      "Array Operations:\n",
      "np.concatenate([arr12, arr13]): [1 2 3 4 5 6]\n",
      "np.vstack([arr12, arr13]):\n",
      " [[1 2 3]\n",
      " [4 5 6]]\n",
      "np.hstack([arr12, arr13]): [1 2 3 4 5 6]\n",
      "np.split(arr13, 3): [array([4]), array([5]), array([6])]\n"
     ]
    }
   ],
   "source": [
    "# Array Operations\n",
    "arr12 = np.array([1, 2, 3])\n",
    "arr13 = np.array([4, 5, 6])\n",
    "print(\"Array Operations:\")\n",
    "\n",
    "# Concatenate arrays along a specified axis\n",
    "print(\"np.concatenate([arr12, arr13]):\", np.concatenate([arr12, arr13]))\n",
    "\n",
    "# Stack arrays vertically\n",
    "print(\"np.vstack([arr12, arr13]):\\n\", np.vstack([arr12, arr13]))\n",
    "\n",
    "# Stack arrays horizontally\n",
    "print(\"np.hstack([arr12, arr13]):\", np.hstack([arr12, arr13]))\n",
    "\n",
    "# Split the array into multiple sub-arrays\n",
    "print(\"np.split(arr13, 3):\", np.split(arr13, 3))"
   ]
  },
  {
   "cell_type": "code",
   "execution_count": 145,
   "metadata": {},
   "outputs": [
    {
     "name": "stdout",
     "output_type": "stream",
     "text": [
      "Broadcasting:\n",
      "arr14 + 10:\n",
      " [11 12 13]\n",
      "arr15 + arr14:\n",
      " [[2 3 4]\n",
      " [3 4 5]\n",
      " [4 5 6]]\n"
     ]
    }
   ],
   "source": [
    "# Broadcasting: Operations between arrays of different shapes, where numpy automatically adjusts the shapes to perform the operation.\n",
    "arr14 = np.array([1, 2, 3])\n",
    "arr15 = np.array([[1], [2], [3]])\n",
    "print(\"Broadcasting:\")\n",
    "print(\"arr14 + 10:\\n\", arr14 + 10)\n",
    "print(\"arr15 + arr14:\\n\", arr15 + arr14)"
   ]
  },
  {
   "cell_type": "code",
   "execution_count": 146,
   "metadata": {},
   "outputs": [
    {
     "name": "stdout",
     "output_type": "stream",
     "text": [
      "Matrix Operations:\n",
      "np.dot(arr16, arr17):\n",
      " [[19 22]\n",
      " [43 50]]\n",
      "np.matmul(arr16, arr17):\n",
      " [[19 22]\n",
      " [43 50]]\n",
      "np.linalg.inv(arr16):\n",
      " [[-2.   1. ]\n",
      " [ 1.5 -0.5]]\n",
      "np.linalg.det(arr16): -2.0000000000000004\n",
      "np.linalg.eig(arr16):\n",
      " (array([-0.37228132,  5.37228132]), array([[-0.82456484, -0.41597356],\n",
      "       [ 0.56576746, -0.90937671]]))\n"
     ]
    }
   ],
   "source": [
    "# Matrix Operations (for 2D arrays)\n",
    "arr16 = np.array([[1, 2], [3, 4]])\n",
    "arr17 = np.array([[5, 6], [7, 8]])\n",
    "print(\"Matrix Operations:\")\n",
    "\n",
    "# Matrix multiplication.\n",
    "print(\"np.dot(arr16, arr17):\\n\", np.dot(arr16, arr17))\n",
    "\n",
    "# Matrix product\n",
    "print(\"np.matmul(arr16, arr17):\\n\", np.matmul(arr16, arr17))\n",
    "\n",
    "# Compute the inverse of a matrix\n",
    "print(\"np.linalg.inv(arr16):\\n\", np.linalg.inv(arr16))\n",
    "\n",
    "# Compute the determinant of a matrix\n",
    "print(\"np.linalg.det(arr16):\", np.linalg.det(arr16))\n",
    "\n",
    "# Compute the eigenvalues and eigenvectors of a matrix\n",
    "print(\"np.linalg.eig(arr16):\\n\", np.linalg.eig(arr16))"
   ]
  },
  {
   "cell_type": "code",
   "execution_count": 147,
   "metadata": {},
   "outputs": [
    {
     "name": "stdout",
     "output_type": "stream",
     "text": [
      "Copy and View:\n",
      "arr19 (copy): [1 2 3]\n",
      "arr20 (view):\n",
      " [[1]\n",
      " [2]\n",
      " [3]]\n"
     ]
    }
   ],
   "source": [
    "# Copy and View\n",
    "arr18 = np.array([1, 2, 3])\n",
    "arr19 = arr18.copy()\n",
    "arr20 = arr18.view().reshape(3,1)\n",
    "print(\"Copy and View:\")\n",
    "\n",
    "# Create a copy of the array.\n",
    "print(\"arr19 (copy):\", arr19)\n",
    "\n",
    "# Create a view of the array with the same data but different shape or type\n",
    "print(\"arr20 (view):\\n\", arr20)"
   ]
  },
  {
   "cell_type": "code",
   "execution_count": 148,
   "metadata": {},
   "outputs": [
    {
     "name": "stdout",
     "output_type": "stream",
     "text": [
      "Original array: [10 20 30 40 50 60 70 80 90]\n",
      "After Modifications: [ 1  2 30 40 50 60 70 80  9]\n"
     ]
    }
   ],
   "source": [
    "# Modifying Elements\n",
    "# Assign new values to elements using their index.\n",
    "print(\"Original array:\", arr)\n",
    "\n",
    "arr[0] = 1\n",
    "arr[1] = 2\n",
    "arr[-1] = 9\n",
    "\n",
    "print(\"After Modifications:\", arr)"
   ]
  },
  {
   "cell_type": "code",
   "execution_count": 149,
   "metadata": {},
   "outputs": [
    {
     "name": "stdout",
     "output_type": "stream",
     "text": [
      "9\n"
     ]
    }
   ],
   "source": [
    "# Finding the Length:\n",
    "# Use the len() function to determine the number of elements.\n",
    "print(len(arr))"
   ]
  },
  {
   "cell_type": "code",
   "execution_count": 150,
   "metadata": {},
   "outputs": [
    {
     "name": "stdout",
     "output_type": "stream",
     "text": [
      "1\n",
      "2\n",
      "30\n",
      "40\n",
      "50\n",
      "60\n",
      "70\n",
      "80\n",
      "9\n"
     ]
    }
   ],
   "source": [
    "# Traversing an Array:\n",
    "# Iterate through elements using a for loop.\n",
    "for i in arr:\n",
    "    print(i)"
   ]
  },
  {
   "cell_type": "code",
   "execution_count": 151,
   "metadata": {},
   "outputs": [
    {
     "name": "stdout",
     "output_type": "stream",
     "text": [
      "Original array: [1 2 3 4 5]\n",
      "After append: [1 2 3 4 5 6]\n",
      "After insert: [0 1 2 3 4 5 6]\n"
     ]
    }
   ],
   "source": [
    "# Inserting an Element:\n",
    "# Use the append() method to add an element at the end.\n",
    "# Use insert() to insert at a specific index.\n",
    "num = [1, 2, 3, 4, 5]\n",
    "\n",
    "arr1 = np.array(num)\n",
    "print(\"Original array:\", arr1)\n",
    "\n",
    "arr1 = np.append(arr1,6)\n",
    "print(\"After append:\", arr1)\n",
    "\n",
    "arr1 = np.insert(arr1, 0, 0)\n",
    "print(\"After insert:\", arr1)"
   ]
  },
  {
   "cell_type": "code",
   "execution_count": 152,
   "metadata": {},
   "outputs": [
    {
     "name": "stdout",
     "output_type": "stream",
     "text": [
      "Original array: [1 2 3 4 5]\n",
      "After deletion: [1 2 4 5]\n"
     ]
    }
   ],
   "source": [
    "# Deleting an Element:\n",
    "# Use delete to delete an element at a specific index.\n",
    "\n",
    "num = [1, 2, 3, 4, 5]\n",
    "arr2 = np.array(num)\n",
    "\n",
    "print(\"Original array:\", arr2)\n",
    "\n",
    "arr2 = np.delete(arr2, 2)\n",
    "print(\"After deletion:\", arr2)"
   ]
  },
  {
   "cell_type": "code",
   "execution_count": 153,
   "metadata": {},
   "outputs": [
    {
     "name": "stdout",
     "output_type": "stream",
     "text": [
      "2\n"
     ]
    }
   ],
   "source": [
    "# find the index of first occurrence\n",
    "arr3 = np.array([1, 2, 3, 4, 5])\n",
    "\n",
    "indices = np.where(arr3 == 3)[0]\n",
    "\n",
    "print(indices[0])\n",
    "\n",
    "# np.where(arr == value_to_find) returns a tuple with one array of indices where the condition (arr == value_to_find) is True.\n",
    "# [0] accesses the first array from the tuple returned by np.where.\n",
    "# indices[0] gives you the first index of the occurrence.\n",
    "# If the value is not found, indices will be an empty array, and you should handle that case to avoid errors."
   ]
  },
  {
   "cell_type": "code",
   "execution_count": 154,
   "metadata": {},
   "outputs": [
    {
     "name": "stdout",
     "output_type": "stream",
     "text": [
      "[5 4 3 2 1]\n"
     ]
    }
   ],
   "source": [
    "# reverse\n",
    "arr4 = np.array([1, 2, 3, 4, 5])\n",
    "\n",
    "# Reverse the array\n",
    "reversed_arr = arr4[::-1]\n",
    "\n",
    "print(reversed_arr)"
   ]
  },
  {
   "cell_type": "code",
   "execution_count": 155,
   "metadata": {},
   "outputs": [
    {
     "name": "stdout",
     "output_type": "stream",
     "text": [
      "[1 2 3 4 5]\n"
     ]
    }
   ],
   "source": [
    "# extend\n",
    "# NumPy arrays are fixed-size once created, meaning you can't directly \"extend\" an array like you can with Python lists. \n",
    "# However, you can achieve a similar result by creating a new array with the desired size and copying the original data into it.\n",
    "\n",
    "arr5 = np.array([1, 2, 3])\n",
    "\n",
    "# Elements to append\n",
    "new_elements = np.array([4, 5])\n",
    "\n",
    "# Append elements\n",
    "extended_arr = np.append(arr5, new_elements)\n",
    "\n",
    "print(extended_arr)"
   ]
  }
 ],
 "metadata": {
  "kernelspec": {
   "display_name": "Deep_Learning",
   "language": "python",
   "name": "python3"
  },
  "language_info": {
   "codemirror_mode": {
    "name": "ipython",
    "version": 3
   },
   "file_extension": ".py",
   "mimetype": "text/x-python",
   "name": "python",
   "nbconvert_exporter": "python",
   "pygments_lexer": "ipython3",
   "version": "3.9.18"
  }
 },
 "nbformat": 4,
 "nbformat_minor": 2
}
