{
 "cells": [
  {
   "cell_type": "markdown",
   "metadata": {},
   "source": [
    "<h3>Arrays:</h3>\n",
    "\n",
    " - It is a collection of data of same type in a contiguous memory.\n",
    " - It provides a random access to the elements stored."
   ]
  },
  {
   "cell_type": "code",
   "execution_count": 16,
   "metadata": {},
   "outputs": [],
   "source": [
    "import numpy as np\n",
    "import array"
   ]
  },
  {
   "cell_type": "code",
   "execution_count": 17,
   "metadata": {},
   "outputs": [],
   "source": [
    "lst = [10, 20, 30, 40, 50, 60, 70, 80, 90]\n",
    "arr = np.array(lst)"
   ]
  },
  {
   "cell_type": "code",
   "execution_count": 18,
   "metadata": {},
   "outputs": [
    {
     "data": {
      "text/plain": [
       "array([10, 20, 30, 40, 50, 60, 70, 80, 90])"
      ]
     },
     "execution_count": 18,
     "metadata": {},
     "output_type": "execute_result"
    }
   ],
   "source": [
    "arr"
   ]
  },
  {
   "cell_type": "code",
   "execution_count": 19,
   "metadata": {},
   "outputs": [
    {
     "data": {
      "text/plain": [
       "numpy.ndarray"
      ]
     },
     "execution_count": 19,
     "metadata": {},
     "output_type": "execute_result"
    }
   ],
   "source": [
    "type(arr)"
   ]
  },
  {
   "cell_type": "markdown",
   "metadata": {},
   "source": [
    "<h4>One Dimensional Array - How to find the address of an element</h4>"
   ]
  },
  {
   "cell_type": "markdown",
   "metadata": {},
   "source": [
    "<pre>\n",
    "Location of any element (1-D array) = Base Address + (m - l) * size of each element\n",
    "\n",
    "where, \n",
    "m = index of the element\n",
    "l = base index\n",
    "</pre>"
   ]
  },
  {
   "cell_type": "markdown",
   "metadata": {},
   "source": [
    "<h4>Two Dimensional Array - Row Major Order and Column Major Order</h4>"
   ]
  },
  {
   "cell_type": "markdown",
   "metadata": {},
   "source": [
    "<pre>\n",
    "Location of any element in (2-D array) = Base Address + [(i - lower bound of row) * nC + (j - lower bound of columns)] * size of each element\n",
    "\n",
    "where,\n",
    "i = row order location\n",
    "j = column order location\n",
    "</pre>"
   ]
  },
  {
   "cell_type": "markdown",
   "metadata": {},
   "source": [
    "#### Operations on Array:"
   ]
  },
  {
   "cell_type": "code",
   "execution_count": 26,
   "metadata": {},
   "outputs": [
    {
     "name": "stdout",
     "output_type": "stream",
     "text": [
      "[1 2 3 4 5]\n",
      "[1 2 3 4 5 6]\n"
     ]
    }
   ],
   "source": [
    "# APPEND\n",
    "num = [1,2,3,4,5]\n",
    "arr1 = np.array(num)\n",
    "print(arr1)\n",
    "# after appending\n",
    "arr1 = np.append(arr1,6)\n",
    "print(arr1)"
   ]
  },
  {
   "cell_type": "code",
   "execution_count": 27,
   "metadata": {},
   "outputs": [
    {
     "name": "stdout",
     "output_type": "stream",
     "text": [
      "[1 2 3 4 5]\n",
      "[1 2 3 4 5 6]\n"
     ]
    }
   ],
   "source": [
    "# INSERT\n",
    "arr2 = np.array(num)\n",
    "print(arr2)\n",
    "\n",
    "# after inserting the value 6 at position 5\n",
    "arr2 = np.insert(arr2,5,6)\n",
    "\n",
    "print(arr2)"
   ]
  },
  {
   "cell_type": "code",
   "execution_count": 28,
   "metadata": {},
   "outputs": [
    {
     "name": "stdout",
     "output_type": "stream",
     "text": [
      "The new created array is : 1 2 3 1 5 \n",
      "The popped element is : 3\n",
      "The array after popping is : 1 2 1 5 "
     ]
    }
   ],
   "source": [
    "# POP\n",
    "# initializing array with array values\n",
    "arr= array.array('i',[1, 2, 3, 1, 5])\n",
    "  \n",
    "# printing original array\n",
    "print (\"The new created array is : \",end=\"\")\n",
    "for i in range (0,5):\n",
    "    print (arr[i],end=\" \")\n",
    "  \n",
    "print(\"\\r\")\n",
    "  \n",
    "# using pop() to remove element at 2nd position\n",
    "print (\"The popped element is : \",end=\"\")\n",
    "print (arr.pop(2));\n",
    "  \n",
    "# printing array after popping\n",
    "print (\"The array after popping is : \",end=\"\")\n",
    "for i in range (len(arr)):\n",
    "    print (arr[i],end=\" \")"
   ]
  },
  {
   "cell_type": "code",
   "execution_count": 29,
   "metadata": {},
   "outputs": [
    {
     "name": "stdout",
     "output_type": "stream",
     "text": [
      "The new created array is : 1 2 3 1 5 \n",
      "The array after removing is : 2 3 1 5 "
     ]
    }
   ],
   "source": [
    "# remove\n",
    "# initializing array with array values\n",
    "arr= array.array('i',[1, 2, 3, 1, 5])\n",
    "  \n",
    "# printing original array\n",
    "print (\"The new created array is : \",end=\"\")\n",
    "for i in range (0,5):\n",
    "    print (arr[i],end=\" \")\n",
    "  \n",
    "print(\"\\r\")\n",
    "  \n",
    "# using remove() to remove 1st occurrence of 1\n",
    "arr.remove(1)\n",
    "  \n",
    "# printing array after removing\n",
    "print (\"The array after removing is : \",end=\"\")\n",
    "for i in range (len(arr)):\n",
    "    print (arr[i],end=\" \")"
   ]
  },
  {
   "cell_type": "code",
   "execution_count": 30,
   "metadata": {},
   "outputs": [
    {
     "name": "stdout",
     "output_type": "stream",
     "text": [
      "The new created array is : 1 2 3 1 2 5 \n",
      "The index of 1st occurrence of 2 is : 1\n"
     ]
    }
   ],
   "source": [
    "# index\n",
    "# initializing array with array values\n",
    "arr= array.array('i',[1, 2, 3, 1, 2, 5])\n",
    "  \n",
    "# printing original array\n",
    "print (\"The new created array is : \",end=\"\")\n",
    "for i in range (0,6):\n",
    "    print (arr[i],end=\" \")\n",
    "  \n",
    "print(\"\\r\")\n",
    "  \n",
    "# using index() to print index of 1st occurrence of 2\n",
    "print (\"The index of 1st occurrence of 2 is : \",end=\"\")\n",
    "print (arr.index(2))"
   ]
  },
  {
   "cell_type": "code",
   "execution_count": 31,
   "metadata": {},
   "outputs": [
    {
     "name": "stdout",
     "output_type": "stream",
     "text": [
      "The new created array is : 1 2 3 1 2 5 \n",
      "The array after reversing is : 5 2 1 3 2 1 "
     ]
    }
   ],
   "source": [
    "# reverse\n",
    "# initializing array with array values\n",
    "arr= array.array('i',[1, 2, 3, 1, 2, 5])\n",
    "  \n",
    "# printing original array\n",
    "print (\"The new created array is : \",end=\"\")\n",
    "for i in range (0,6):\n",
    "    print (arr[i],end=\" \")\n",
    "  \n",
    "print(\"\\r\")\n",
    "  \n",
    "#using reverse() to reverse the array\n",
    "arr.reverse()\n",
    "  \n",
    "# printing array after reversing\n",
    "print (\"The array after reversing is : \",end=\"\")\n",
    "for i in range(len(arr)):\n",
    "    print (arr[i],end=\" \")"
   ]
  },
  {
   "cell_type": "code",
   "execution_count": 32,
   "metadata": {},
   "outputs": [
    {
     "name": "stdout",
     "output_type": "stream",
     "text": [
      "The modified array is : \n",
      "1 2 3 1 2 5 1 2 3 "
     ]
    }
   ],
   "source": [
    "# extend\n",
    "# initializing array with array values\n",
    "arr1 = array.array('i',[1, 2, 3, 1, 2, 5]) \n",
    "arr2 = array.array('i',[1, 2, 3]) \n",
    " \n",
    "# using extend() to add array 2 elements to array 1 \n",
    "arr1.extend(arr2)\n",
    "   \n",
    "print (\"The modified array is : \")\n",
    "for i in range (0,9):\n",
    "    print (arr1[i], end=\" \")"
   ]
  },
  {
   "cell_type": "code",
   "execution_count": null,
   "metadata": {},
   "outputs": [],
   "source": []
  }
 ],
 "metadata": {
  "kernelspec": {
   "display_name": "Deep_Learning",
   "language": "python",
   "name": "python3"
  },
  "language_info": {
   "codemirror_mode": {
    "name": "ipython",
    "version": 3
   },
   "file_extension": ".py",
   "mimetype": "text/x-python",
   "name": "python",
   "nbconvert_exporter": "python",
   "pygments_lexer": "ipython3",
   "version": "3.9.18"
  }
 },
 "nbformat": 4,
 "nbformat_minor": 2
}
