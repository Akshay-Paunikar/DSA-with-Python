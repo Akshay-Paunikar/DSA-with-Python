{
 "cells": [
  {
   "cell_type": "markdown",
   "metadata": {},
   "source": [
    "<h2>Sorting Algorithms:</h2>\n",
    "\n",
    " - Sorting is defined as an arrangement of data in a certain order. \n",
    " - Sorting techniques are used to arrange data(mostly numerical) in an ascending or descending order. \n",
    " - It is a method used for the representation of data in a more comprehensible format.\n",
    " - Sorting a large amount of data can take a substantial amount of computing resources if the methods we use to sort the data are inefficient.\n",
    " - The efficiency of the algorithm is proportional to the number of items it is traversing. \n",
    " - For a small amount of data, a complex sorting method may be more trouble than it is worth. \n",
    " - On the other hand, for larger amounts of data, we want to increase the efficiency and speed as far as possible."
   ]
  },
  {
   "cell_type": "markdown",
   "metadata": {},
   "source": [
    "<h3>Sorting Techniques:</h3>"
   ]
  },
  {
   "cell_type": "markdown",
   "metadata": {},
   "source": [
    "<h4>1. Bubble Sort:</h4>\n",
    "\n",
    "Bubble Sort is a simple sorting algorithm. This sorting algorithm repeatedly compares two adjacent elements and swaps them if they are in the wrong order. It is also known as the sinking sort. It has a time complexity of O(n2) in the average and worst cases scenarios and O(n) in the best-case scenario. Bubble sort can be visualized as a queue where people arrange themselves by swapping with each other so that they all can stand in ascending order of their heights."
   ]
  },
  {
   "cell_type": "code",
   "execution_count": 10,
   "metadata": {},
   "outputs": [
    {
     "name": "stdout",
     "output_type": "stream",
     "text": [
      "[5 6 8 7 1 0 9 3 4 2]\n",
      "10\n",
      "[0 1 2 3 4 5 6 7 8 9]\n"
     ]
    }
   ],
   "source": [
    "# Example of Bubble Sort\n",
    "import numpy as np\n",
    "\n",
    "def BubbleSort(array):\n",
    "    n = len(array)\n",
    "    print(n)\n",
    "    for i in range(n):\n",
    "        for j in range(0, n-i-1):\n",
    "            if array[j] > array[j+1]:\n",
    "                array[j], array[j+1] = array[j+1], array[j]\n",
    "    return array\n",
    "\n",
    "if __name__ == \"__main__\":\n",
    "    arr = np.array([5, 6, 8, 7, 1, 0, 9, 3, 4, 2])\n",
    "    print(arr)\n",
    "    output = BubbleSort(arr)\n",
    "    print(output)"
   ]
  }
 ],
 "metadata": {
  "kernelspec": {
   "display_name": "Deep_Learning",
   "language": "python",
   "name": "python3"
  },
  "language_info": {
   "codemirror_mode": {
    "name": "ipython",
    "version": 3
   },
   "file_extension": ".py",
   "mimetype": "text/x-python",
   "name": "python",
   "nbconvert_exporter": "python",
   "pygments_lexer": "ipython3",
   "version": "3.9.18"
  }
 },
 "nbformat": 4,
 "nbformat_minor": 2
}
