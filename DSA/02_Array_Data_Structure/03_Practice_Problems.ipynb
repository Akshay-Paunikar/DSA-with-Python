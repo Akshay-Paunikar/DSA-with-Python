{
 "cells": [
  {
   "cell_type": "markdown",
   "metadata": {},
   "source": [
    "<h4>Two Sum Problem: Given an array of integers, find two numbers such that they add up to a specific target.</h4>"
   ]
  },
  {
   "cell_type": "code",
   "execution_count": 21,
   "metadata": {},
   "outputs": [],
   "source": [
    "# consider data: [25, 30, 15, 10, 20, 35]\n",
    "# target: 35\n",
    "import numpy as np"
   ]
  },
  {
   "cell_type": "code",
   "execution_count": 22,
   "metadata": {},
   "outputs": [
    {
     "name": "stdout",
     "output_type": "stream",
     "text": [
      "[0, 3]\n"
     ]
    }
   ],
   "source": [
    "# solution\n",
    "def two_sum(data, target):\n",
    "    # create a dictionary to store numbers and their indices\n",
    "    num_dict = {}\n",
    "    \n",
    "    # iterate through each number and its index\n",
    "    for i, num in enumerate(data):\n",
    "        # calculate the compliment of the current number with respect to the target\n",
    "        compliment = target - num\n",
    "        \n",
    "        # check if the compliment exists in the dictionary\n",
    "        if compliment in num_dict:\n",
    "            # if compliment exists return the indices of the two numbers that adds up to the target\n",
    "            return [num_dict[compliment], i]\n",
    "        \n",
    "        # if compliment does not exists, add the current number and its index to the dictionary\n",
    "        num_dict[num] = i\n",
    "    # if no such pair found, return empty list\n",
    "    return []\n",
    "    \n",
    "# driver code\n",
    "if __name__ == \"__main__\":\n",
    "    arr = np.array([25, 30, 15, 10, 20, 35])\n",
    "    print(two_sum(arr, 35))"
   ]
  },
  {
   "cell_type": "code",
   "execution_count": 23,
   "metadata": {},
   "outputs": [
    {
     "name": "stdout",
     "output_type": "stream",
     "text": [
      "[(15, 20), (10, 25)]\n"
     ]
    }
   ],
   "source": [
    "# Another solution\n",
    "def find_pairs(nums, target):\n",
    "    # set that keeps track of numbers that have been processed.\n",
    "    seen = set()\n",
    "    # set of tuples that stores unique pairs that add up to the target.\n",
    "    pairs = set()\n",
    "    for num in nums:\n",
    "        # For each number in the array, calculate its complement\n",
    "        complement = target - num\n",
    "        if complement in seen:\n",
    "            # If compliment is present, add the pair (in a sorted order to avoid duplicates) to the pairs set.            \n",
    "            pairs.add((min(num, complement), max(num, complement)))\n",
    "        # Add the current number to the seen set.\n",
    "        seen.add(num)\n",
    "    return list(pairs)  \n",
    "\n",
    "# Example usage\n",
    "nums = [25, 30, 15, 10, 20, 35]\n",
    "target = 35\n",
    "result = find_pairs(nums, target)\n",
    "print(result)"
   ]
  }
 ],
 "metadata": {
  "kernelspec": {
   "display_name": "Deep_Learning",
   "language": "python",
   "name": "python3"
  },
  "language_info": {
   "codemirror_mode": {
    "name": "ipython",
    "version": 3
   },
   "file_extension": ".py",
   "mimetype": "text/x-python",
   "name": "python",
   "nbconvert_exporter": "python",
   "pygments_lexer": "ipython3",
   "version": "3.9.18"
  }
 },
 "nbformat": 4,
 "nbformat_minor": 2
}
