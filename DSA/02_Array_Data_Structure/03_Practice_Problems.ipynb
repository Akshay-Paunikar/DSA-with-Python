{
 "cells": [
  {
   "cell_type": "markdown",
   "metadata": {},
   "source": [
    "<h4>Two Sum Problem: Given an array of integers, find two numbers such that they add up to a specific target.</h4>"
   ]
  },
  {
   "cell_type": "code",
   "execution_count": 40,
   "metadata": {},
   "outputs": [],
   "source": [
    "# consider data: [25, 30, 15, 10, 20, 35]\n",
    "# target: 35\n",
    "import numpy as np"
   ]
  },
  {
   "cell_type": "code",
   "execution_count": 41,
   "metadata": {},
   "outputs": [
    {
     "name": "stdout",
     "output_type": "stream",
     "text": [
      "[0, 3]\n"
     ]
    }
   ],
   "source": [
    "# solution\n",
    "def two_sum(data, target):\n",
    "    # create a dictionary to store numbers and their indices\n",
    "    num_dict = {}\n",
    "    \n",
    "    # iterate through each number and its index\n",
    "    for i, num in enumerate(data):\n",
    "        # calculate the compliment of the current number with respect to the target\n",
    "        compliment = target - num\n",
    "        \n",
    "        # check if the compliment exists in the dictionary\n",
    "        if compliment in num_dict:\n",
    "            # if compliment exists return the indices of the two numbers that adds up to the target\n",
    "            return [num_dict[compliment], i]\n",
    "        \n",
    "        # if compliment does not exists, add the current number and its index to the dictionary\n",
    "        num_dict[num] = i\n",
    "    # if no such pair found, return empty list\n",
    "    return []\n",
    "    \n",
    "# driver code\n",
    "if __name__ == \"__main__\":\n",
    "    arr = np.array([25, 30, 15, 10, 20, 35])\n",
    "    print(two_sum(arr, 35))"
   ]
  },
  {
   "cell_type": "code",
   "execution_count": 42,
   "metadata": {},
   "outputs": [
    {
     "name": "stdout",
     "output_type": "stream",
     "text": [
      "[(15, 35), (20, 30)]\n"
     ]
    }
   ],
   "source": [
    "# Another solution\n",
    "def find_pairs(nums, target):\n",
    "    # set that keeps track of numbers that have been processed.\n",
    "    seen = set()\n",
    "    # set of tuples that stores unique pairs that add up to the target.\n",
    "    pairs = set()\n",
    "    for num in nums:\n",
    "        # For each number in the array, calculate its complement\n",
    "        complement = target - num\n",
    "        if complement in seen:\n",
    "            # If compliment is present, add the pair (in a sorted order to avoid duplicates) to the pairs set.            \n",
    "            pairs.add((min(num, complement), max(num, complement)))\n",
    "        # Add the current number to the seen set.\n",
    "        seen.add(num)\n",
    "    return list(pairs)  \n",
    "\n",
    "# Example usage\n",
    "nums = [25, 30, 15, 10, 20, 35]\n",
    "target = 50\n",
    "result = find_pairs(nums, target)\n",
    "print(result)"
   ]
  },
  {
   "cell_type": "markdown",
   "metadata": {},
   "source": [
    "<h4>Remove Duplicates from a sorted or unsorted array: Given a sorted/unsorted array, remove duplicates in-place, and return the new length.</h4>"
   ]
  },
  {
   "cell_type": "code",
   "execution_count": 43,
   "metadata": {},
   "outputs": [],
   "source": [
    "# consider below test cases:\n",
    "# [1, 1, 2, 2, 3], [1, 2, 3, 4, 5], [2, 2, 2, 2, 2]"
   ]
  },
  {
   "cell_type": "code",
   "execution_count": 44,
   "metadata": {},
   "outputs": [
    {
     "name": "stdout",
     "output_type": "stream",
     "text": [
      "The new array is [1, 2, 3, 4] and the length is 4\n",
      "The new array is [1, 2, 3, 4, 5] and the length is 5\n",
      "The new array is [2] and the length is 1\n",
      "The new array is [1, 2, 3] and the length is 3\n"
     ]
    }
   ],
   "source": [
    "# solution\n",
    "def remove_duplicates(nums):\n",
    "    nums.sort()\n",
    "    # create a empty list to store data\n",
    "    lst = []\n",
    "    lst.append(nums[0])\n",
    "    # check if the array is empty\n",
    "    if len(nums) == 0:\n",
    "        return 0\n",
    "    \n",
    "    # initialize slow pointer\n",
    "    slow = 0\n",
    "    \n",
    "    # loop through the array with the fast pointer\n",
    "    for fast in range(1, len(nums)):\n",
    "        # if current element is different from the previous unique element\n",
    "        if nums[fast] != nums[slow]:\n",
    "            lst.append(nums[fast])\n",
    "            # move the slow pointer and update its value\n",
    "            slow += 1\n",
    "            nums[slow] = nums[fast]\n",
    "    # length of the new array after removing duplicates\n",
    "    return lst, slow + 1\n",
    "\n",
    "# driver code\n",
    "if __name__ == \"__main__\":\n",
    "    A = np.array([3, 1, 4, 1, 2, 4, 3])\n",
    "    B = np.array([1, 2, 3, 4, 5])\n",
    "    C = np.array([2, 2, 2, 2, 2])\n",
    "    D = np.array([1, 1, 2, 2, 3])\n",
    "    \n",
    "    result1 = remove_duplicates(nums=A)\n",
    "    print(\"The new array is {} and the length is {}\".format(result1[0], result1[1]))\n",
    "    result2 = remove_duplicates(nums=B)\n",
    "    print(\"The new array is {} and the length is {}\".format(result2[0], result2[1]))\n",
    "    result3 = remove_duplicates(nums=C)\n",
    "    print(\"The new array is {} and the length is {}\".format(result3[0], result3[1]))\n",
    "    result4 = remove_duplicates(nums=D)\n",
    "    print(\"The new array is {} and the length is {}\".format(result4[0], result4[1]))"
   ]
  }
 ],
 "metadata": {
  "kernelspec": {
   "display_name": "Deep_Learning",
   "language": "python",
   "name": "python3"
  },
  "language_info": {
   "codemirror_mode": {
    "name": "ipython",
    "version": 3
   },
   "file_extension": ".py",
   "mimetype": "text/x-python",
   "name": "python",
   "nbconvert_exporter": "python",
   "pygments_lexer": "ipython3",
   "version": "3.9.18"
  }
 },
 "nbformat": 4,
 "nbformat_minor": 2
}
