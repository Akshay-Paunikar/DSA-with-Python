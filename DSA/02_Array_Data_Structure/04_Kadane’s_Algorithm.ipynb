{
 "cells": [
  {
   "cell_type": "markdown",
   "metadata": {},
   "source": [
    "<h3>Kadane’s Algorithm:</h3>"
   ]
  },
  {
   "cell_type": "markdown",
   "metadata": {},
   "source": [
    "The number of subarrays of an array with at least one element is N*(N + 1)/2. So if we have a problem where we need to check all subarrays for max, min, etc, we can use Kadane’s Algorithm since it achieves the max/min on subarray in a single pass.\n",
    "\n",
    "Kadane’s algorithm is one of the famous approaches to solve the problem using dynamic programming. As we all know, the maximum subarray problem is one of the famous problems in the field of dynamic programming. You must be thinking that the problem seems to be easy and the result of the problem will be the sum of all elements in an array. But this is not correct. There will be negative integer elements in the array that can decrease the sum of the entire array. Therefore, to solve this problem, we will use the kadane’s algorithm.\n",
    "\n",
    "Here the algorithm will find the continuous subarray in the 1D integer array which has the largest sum possible. The first approach for everyone after understanding the problem statement will be applying the brute-force approach and solving the problem. But by doing so, the time complexity of the solution will be O(n2) which is not very good. Therefore, we will apply the kadane’s algorithm which solves the problem by traversing over the whole array using two variables to track the sum so far and maximum total. The most important thing to pay attention to while using this algorithm is the condition using which we will update both variables.\n",
    "\n",
    "<b>Algorithm for Maximum Subarray Sum:</b>\n",
    "\n",
    " - Initializing max_till_now = 0\n",
    " - Initializing max_ending = 0\n",
    " - Repeat steps 4 to 6 for every element in the array\n",
    " - Set max_ending = max_ending + a[i]\n",
    " - if (max_ending<0) then set max_ending = 0\n",
    " - if (max_till_now < max_ending) then set max_till_now = max_ending\n",
    " - return max_till_now\n",
    "\n",
    "In the above algorithm, max_ending is used to look for all the positive elements of the array, and max_till_now is used to look for the maximum sum of elements among all positive segments. Therefore, each time we get the positive-sum while comparing with max_till_now, we will update it with the greater sum.\n",
    "\n",
    "Therefore, when the max_ending becomes negative, we set it to zero, and at each iteration, we check for max_till_now < max_ending to update max_till_now if the condition returns true.\n",
    "\n",
    "\n",
    "<b>Example:</b> Consider the following integer array,\n",
    "<pre>\n",
    "                [-2, -3, 4, -1, -2, 5, -3]\n",
    "\n",
    "Initializing max_till_now = 0 and max_ending = 0 (i = 0)\n",
    "\n",
    "Now, for i = 1 we get max_till_now = 0 and max_ending = 0 but for i = 2 max_till_now = 4 and max_ending = 4\n",
    "\n",
    "Now i = 3, i = 4,  we get max_till_now = 4 and max_ending = 3, max_till_now = 4 and max_ending = 1 respectively.\n",
    "\n",
    "Now when i = 5 we get max_till_now = 6 (6>4) and max_ending =  6\n",
    "\n",
    "And when i = 6 we get max_till_now = 6 and max_ending = 3\n",
    "</pre>\n",
    "Therefore, from the above example, we get to find the maximum subarray is from i = 2 to i = 5 and the maximum sum is 6."
   ]
  },
  {
   "cell_type": "code",
   "execution_count": 6,
   "metadata": {},
   "outputs": [
    {
     "name": "stdout",
     "output_type": "stream",
     "text": [
      "Maximum Sub Array Sum is 6\n"
     ]
    }
   ],
   "source": [
    "# Implementation of Kadane’s Algorithm:\n",
    "\n",
    "def maxSubArraySum(arr,size):\n",
    "    \n",
    "    max_till_now = 0\n",
    "    max_ending = 0\n",
    "    \n",
    "    for i in range(0, size):\n",
    "        max_ending = max_ending + arr[i]\n",
    "        if max_ending < 0:\n",
    "            max_ending = 0\n",
    "        \n",
    "        \n",
    "        elif (max_till_now < max_ending):\n",
    "            max_till_now = max_ending\n",
    "            \n",
    "    return max_till_now\n",
    "\n",
    "arr = [-2, -3, 4, -1, -2, 5, -3]\n",
    "print(\"Maximum Sub Array Sum is\" , maxSubArraySum(arr,len(arr)))"
   ]
  }
 ],
 "metadata": {
  "kernelspec": {
   "display_name": "Deep_Learning",
   "language": "python",
   "name": "python3"
  },
  "language_info": {
   "codemirror_mode": {
    "name": "ipython",
    "version": 3
   },
   "file_extension": ".py",
   "mimetype": "text/x-python",
   "name": "python",
   "nbconvert_exporter": "python",
   "pygments_lexer": "ipython3",
   "version": "3.9.18"
  }
 },
 "nbformat": 4,
 "nbformat_minor": 2
}
