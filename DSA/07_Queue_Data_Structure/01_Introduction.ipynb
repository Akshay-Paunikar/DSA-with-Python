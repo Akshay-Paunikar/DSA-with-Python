{
 "cells": [
  {
   "cell_type": "markdown",
   "metadata": {},
   "source": [
    "<h3>Queue Data Structure:</h3>"
   ]
  },
  {
   "cell_type": "markdown",
   "metadata": {},
   "source": [
    "A queue is a linear data structure that follows the First In First Out (FIFO) principle. Elements are added at the rear and removed from the front. With a queue, the least recently added item is removed first. A good example of a queue is any queue of consumers for a resource where the consumer that came first is served first.\n",
    "\n",
    "<b>Properties:</b>\n",
    "\n",
    " - FIFO access.\n",
    " - Dynamic size (in Python, implemented using collections.deque).\n",
    "\n",
    "<b>Use Cases:</b>\n",
    "\n",
    " - Scheduling algorithms (e.g., CPU scheduling).\n",
    " - Breadth-first search (BFS) in graphs.\n",
    " - Buffer management in operating systems."
   ]
  },
  {
   "cell_type": "code",
   "execution_count": 1,
   "metadata": {},
   "outputs": [
    {
     "name": "stdout",
     "output_type": "stream",
     "text": [
      "Initial queue\n",
      "deque(['a', 'b', 'c'])\n",
      "\n",
      "Elements dequeued from the queue\n",
      "a\n",
      "b\n",
      "c\n",
      "\n",
      "Queue after removing elements\n",
      "deque([])\n"
     ]
    }
   ],
   "source": [
    "from collections import deque\n",
    "q = deque()\n",
    "q.append('a')\n",
    "q.append('b')\n",
    "q.append('c')\n",
    "print(\"Initial queue\")\n",
    "print(q)\n",
    "print(\"\\nElements dequeued from the queue\")\n",
    "print(q.popleft())\n",
    "print(q.popleft())\n",
    "print(q.popleft())\n",
    "\n",
    "print(\"\\nQueue after removing elements\")\n",
    "print(q)"
   ]
  }
 ],
 "metadata": {
  "kernelspec": {
   "display_name": "Deep_Learning",
   "language": "python",
   "name": "python3"
  },
  "language_info": {
   "codemirror_mode": {
    "name": "ipython",
    "version": 3
   },
   "file_extension": ".py",
   "mimetype": "text/x-python",
   "name": "python",
   "nbconvert_exporter": "python",
   "pygments_lexer": "ipython3",
   "version": "3.9.18"
  }
 },
 "nbformat": 4,
 "nbformat_minor": 2
}
