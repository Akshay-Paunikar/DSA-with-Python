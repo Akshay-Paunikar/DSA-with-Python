{
 "cells": [
  {
   "cell_type": "markdown",
   "metadata": {},
   "source": [
    "<h3>Stack Data Structure:</h3>"
   ]
  },
  {
   "cell_type": "markdown",
   "metadata": {},
   "source": [
    "A stack is a linear data structure that follows the Last In First Out (LIFO) principle. Elements are added and removed from the top of the stack. In stack, a new element is added at one end and an element is removed from that end only. The insert and delete operations are often called push and pop.\n",
    "\n",
    "<b>Properties:</b>\n",
    "\n",
    " - LIFO access.\n",
    " - Dynamic size (in Python, implemented using lists).\n",
    "\n",
    "<b>Use Cases:</b>\n",
    "\n",
    " - Expression evaluation (e.g., postfix, prefix).\n",
    " - Backtracking algorithms.\n",
    " - Memory management (e.g., function call stack)."
   ]
  },
  {
   "cell_type": "code",
   "execution_count": 1,
   "metadata": {},
   "outputs": [
    {
     "name": "stdout",
     "output_type": "stream",
     "text": [
      "[1, 2, 3]\n",
      "3\n",
      "[1, 2]\n",
      "2\n"
     ]
    }
   ],
   "source": [
    "# Using a list as a stack\n",
    "stack = []\n",
    "\n",
    "# Push elements\n",
    "stack.append(1)\n",
    "stack.append(2)\n",
    "stack.append(3)\n",
    "print(stack)  \n",
    "\n",
    "# Pop elements\n",
    "print(stack.pop())  \n",
    "print(stack)  \n",
    "\n",
    "# Peek at the top element\n",
    "print(stack[-1])"
   ]
  }
 ],
 "metadata": {
  "kernelspec": {
   "display_name": "Deep_Learning",
   "language": "python",
   "name": "python3"
  },
  "language_info": {
   "codemirror_mode": {
    "name": "ipython",
    "version": 3
   },
   "file_extension": ".py",
   "mimetype": "text/x-python",
   "name": "python",
   "nbconvert_exporter": "python",
   "pygments_lexer": "ipython3",
   "version": "3.9.18"
  }
 },
 "nbformat": 4,
 "nbformat_minor": 2
}
