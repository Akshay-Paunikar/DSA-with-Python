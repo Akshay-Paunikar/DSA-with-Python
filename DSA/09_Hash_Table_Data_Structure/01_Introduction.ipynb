{
 "cells": [
  {
   "cell_type": "markdown",
   "metadata": {},
   "source": [
    "<h3>Heap Data Structure:</h3>\n",
    "\n",
    "A hash table is a data structure that stores key-value pairs. It uses a hash function to map keys to indices in an array. In other words, a Hash Table in Python is a data structure which stores data by using a pair of values and keys. Each data value is allocated an exclusive key that is created by using the hash functions. Then, to access its associated value the name of the key is used, thus making searching of data values a very fast and efficient process.\n",
    "\n",
    "<b>Properties:</b>\n",
    "\n",
    " - Fast access, insertion, and deletion.\n",
    " - Dynamic size (in Python, implemented using dictionaries).\n",
    " - Common Operations:\n",
    "\n",
    "<b>Use Cases:</b>\n",
    "\n",
    " - Implementing associative arrays and dictionaries.\n",
    " - Efficient lookup and retrieval operations.\n",
    " - Caching and memoization."
   ]
  },
  {
   "cell_type": "code",
   "execution_count": 2,
   "metadata": {},
   "outputs": [
    {
     "name": "stdout",
     "output_type": "stream",
     "text": [
      "Alice\n",
      "{'name': 'Alice', 'age': 26}\n",
      "name Alice\n",
      "age 26\n"
     ]
    }
   ],
   "source": [
    "# Creating a dictionary\n",
    "hash_table = {}\n",
    "\n",
    "# Adding key-value pairs\n",
    "hash_table[\"name\"] = \"Alice\"\n",
    "hash_table[\"age\"] = 25\n",
    "\n",
    "# Accessing values\n",
    "print(hash_table[\"name\"])  \n",
    "\n",
    "# Modifying values\n",
    "hash_table[\"age\"] = 26\n",
    "print(hash_table)\n",
    "\n",
    "# Iterating through the dictionary\n",
    "for key, value in hash_table.items():\n",
    "    print(key, value)"
   ]
  }
 ],
 "metadata": {
  "kernelspec": {
   "display_name": "Deep_Learning",
   "language": "python",
   "name": "python3"
  },
  "language_info": {
   "codemirror_mode": {
    "name": "ipython",
    "version": 3
   },
   "file_extension": ".py",
   "mimetype": "text/x-python",
   "name": "python",
   "nbconvert_exporter": "python",
   "pygments_lexer": "ipython3",
   "version": "3.9.18"
  }
 },
 "nbformat": 4,
 "nbformat_minor": 2
}
