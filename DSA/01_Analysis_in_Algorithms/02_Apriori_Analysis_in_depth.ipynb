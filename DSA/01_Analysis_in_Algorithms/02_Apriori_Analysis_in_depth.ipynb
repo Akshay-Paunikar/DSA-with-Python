{
 "cells": [
  {
   "cell_type": "markdown",
   "metadata": {},
   "source": [
    "<h3>Apriori Analysis in Depth</h3>"
   ]
  },
  {
   "cell_type": "markdown",
   "metadata": {},
   "source": [
    "<b>What do you mean by Apriori Analysis?</b>\n",
    "\n",
    " - It is an analysis which helps us to find which solution is best among all.\n",
    " - It is a \"Determination of order of magnitude of a statement\".\n",
    " - Here magnitude means: while running a program, how many times a statement is executing.\n",
    " - For example: If you want to print value of x 10 times, you can write print(x) 10 times and get the output. This is a very tedious task. So, what we will do is we will use a for loop and achieve the same output with minimum lines of code.\n",
    " - Now, if someone asks what is the time complexity of above lines of code??. Since, we printed x 10 number of times, it is order of 10 i.e. O(10), the Big O Notation.\n",
    " - Big O Notation takes care of the worst case time complexity.\n",
    " - Let's take another example:\n",
    "\n",
    "y = 2\n",
    "\n",
    "z = 3\n",
    "\n",
    "x = y + z\n",
    "\n",
    "print(x)\n",
    "\n",
    "- In above lines of code, each statement is running only one time. So, the time complexity is constant i.e. O(1). Hence, the code will take very minimum time to run.\n",
    "\n",
    "- Another example is:\n",
    "<pre>\n",
    "for i = 0 to n:\n",
    "\n",
    "    for j = 0 to n:\n",
    "        \n",
    "        x = y + z</pre>\n",
    "\n",
    " - Here, what will happen is: for i = 0, it will run from j = 0 to n and will perform the operation x = y + z each time. Then, for i = 1, it will run from j = 0 to n and will perform the same operation x = y + z each time and so on till i = n.\n",
    "\n",
    " - So, here code will run for n * n = n<sup>2</sup> times. The time complexity will be: n<sup>2</sup> + n + 1.\n",
    "\n",
    " - As, this is a apriori analysis, we are expecting an approximate output. Consider n<sup>2</sup> + n + 1. For higher values of n, what matters is the n<sup>2</sup> i.e. the highest polynomial.\n",
    "\n",
    " - So, the overall time complexity is O(n<sup>2</sup>) approximately.\n",
    "\n",
    " - Let's say that the value of n is 2000. Then, the value of n + 1 is very small as compared to n<sup>2</sup>. Therefore, we use approximate when we talk about apriori algorithm."
   ]
  },
  {
   "cell_type": "markdown",
   "metadata": {},
   "source": [
    "<h3>Example Illustration of Apriori Algorithm:</h3>"
   ]
  },
  {
   "cell_type": "markdown",
   "metadata": {},
   "source": [
    "Consider below lines of code:\n",
    "<pre>\n",
    "i = n\n",
    "\n",
    "while i >= 1:\n",
    "\n",
    "    print(x)\n",
    "\n",
    "    i = i - 2\n",
    "</pre>\n",
    "\n",
    "now, if value of n = 20, then the code will execute 10 times. if value of n = 40, then the code will execute 20 times. So, the time complexity will be O(n/2) = O(n) approximately."
   ]
  },
  {
   "cell_type": "markdown",
   "metadata": {},
   "source": [
    "Important Notes:\n",
    "\n",
    " - Time Complexity is loop only.\n",
    " - Not only loop ==>> larger loop (n or n<sup>2</sup>).\n",
    " - No loop at all ==>> O(1) ==>> constant time complexity."
   ]
  },
  {
   "cell_type": "markdown",
   "metadata": {},
   "source": [
    "One more example:\n",
    "<pre>\n",
    "n = 1\n",
    "i = 2 ** n\n",
    "while i < 64:\n",
    "    print(i)\n",
    "    n += 1\n",
    "    i = 2 ** n\n",
    "</pre>\n",
    "\n",
    "now, if value of n = 64, then the code will execute for 6 times. If value of n = 32, then it will execute for 5 times and so on.\n",
    "\n",
    "If we write this in form of logarithm: log<sub>2</sub>64 = log<sub>2</sub>2<sup>(6)</sup> = 6.\n",
    "\n",
    "This is how time complexity will change according to the code."
   ]
  }
 ],
 "metadata": {
  "kernelspec": {
   "display_name": "Deep_Learning",
   "language": "python",
   "name": "python3"
  },
  "language_info": {
   "codemirror_mode": {
    "name": "ipython",
    "version": 3
   },
   "file_extension": ".py",
   "mimetype": "text/x-python",
   "name": "python",
   "nbconvert_exporter": "python",
   "pygments_lexer": "ipython3",
   "version": "3.9.18"
  }
 },
 "nbformat": 4,
 "nbformat_minor": 2
}
