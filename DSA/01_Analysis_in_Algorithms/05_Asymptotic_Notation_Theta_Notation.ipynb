{
 "cells": [
  {
   "cell_type": "markdown",
   "metadata": {},
   "source": [
    "<h3>Asymptotic Notation - Theta Notation &theta;</h3>"
   ]
  },
  {
   "cell_type": "markdown",
   "metadata": {},
   "source": [
    " - It is something that satisfies both Big O and Omega.\n",
    " - For example, if there are two functions f(n) and g(n) such that f(n) = &theta;(g(n)) then:\n",
    "    - if it satisfies the condition f(n) &le; c * g(n) i.e Big O Notation and\n",
    "    - if it satisfies the condition f(n) &ge; c * g(n) \n",
    "    - where n &ge; n<sub>0</sub> and n<sub>0</sub> &ge;1 and c > 0.\n",
    "    - then we can call it as f(n) = &theta;(g(n))"
   ]
  },
  {
   "cell_type": "markdown",
   "metadata": {},
   "source": [
    "For example:\n",
    " - f(n) = n and g(n) = 5n\n",
    " - As discussed in previous sections, this satisfies both Big O and Omega Notation.\n",
    " - Hence this will also satisfy the Theta Notation."
   ]
  },
  {
   "cell_type": "markdown",
   "metadata": {},
   "source": [
    "Another example:\n",
    " - f(n) = n and g(n) = n then:\n",
    " - For Big O Notation:\n",
    "    - f(n) = O(g(n))\n",
    "    - f(n) &le; c * g(n)\n",
    "    - n &le; c * n\n",
    " - Now if we put the value of c as 1, then it satisfies the Big O condition.\n",
    " - Similarly, for Omega Notation:\n",
    "    - f(n) = &Omega;(g(n))\n",
    "    - f(n) &ge; c * g(n)\n",
    "    - n &ge; c * g(n)\n",
    " - Now if we put the value of c as 1, then it satisfies the Omega condition.\n",
    " - Hence, Overall this satisfies the Theta Notation."
   ]
  }
 ],
 "metadata": {
  "kernelspec": {
   "display_name": "Deep_Learning",
   "language": "python",
   "name": "python3"
  },
  "language_info": {
   "name": "python",
   "version": "3.9.18"
  }
 },
 "nbformat": 4,
 "nbformat_minor": 2
}
