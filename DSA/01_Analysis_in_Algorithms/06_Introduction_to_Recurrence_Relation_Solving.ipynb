{
 "cells": [
  {
   "cell_type": "markdown",
   "metadata": {},
   "source": [
    "<h3>Introduction to Recurrence Relation Solving</h3>"
   ]
  },
  {
   "cell_type": "markdown",
   "metadata": {},
   "source": [
    "<b>What is a Recurrence Relation?</b>\n",
    "\n",
    " - A recurrence relation is an equation which represents a sequence based on some rule. It helps in finding the subsequent term (next term) dependent upon the preceding term (previous term). If we know the previous term in a given series, then we can easily determine the next term.\n",
    " - A recurrence relation is a mathematical expression that defines a sequence in terms of its previous terms. In the context of algorithmic analysis, it is often used to model the time complexity of recursive algorithms.\n",
    " - General form of Recurrence Relation:\n",
    "    - a<sub>n</sub> = f(a<sub>n-1</sub>, a<sub>n-2</sub>, ..., a<sub>n-k</sub>).\n",
    " - Recurrence Relations play a significant role in analyzing and optimizing the complexity of algorithms.\n",
    " - Some of the common uses of Recurrence Relations are:\n",
    "   - Time Complexity Analysis\n",
    "   - Generalizing Divide and Conquer Algorithms\n",
    "   - Analyzing Recursive Algorithms\n",
    "   - Defining State and Transitions for Dynamic Programming.\n",
    " - Common Examples of Recurrence Relations:\n",
    "   - Fibonacci Sequence: F(n) = F(n-1) + F(n-2)\n",
    "   - Factorial of a number n: F(n) = n * F(n-1)\n",
    "   - Merge Sort: T(n) = 2*T(n/2) + O(n)\n",
    "   - Tower of Hanoi: H(n) = 2*H(n-1) + 1\n",
    "   - Binary Search: T(n) = T(n/2) + 1\n",
    " - There are mainly three ways of solving recurrences:\n",
    "   - Substitution Method.\n",
    "   - Recurrence Tree Method.\n",
    "   - Master Method."
   ]
  },
  {
   "cell_type": "markdown",
   "metadata": {},
   "source": [
    "<h3>Substitution Method - Problem 1:</h3>"
   ]
  },
  {
   "cell_type": "markdown",
   "metadata": {},
   "source": [
    "Let's consider below recurrence relation:\n",
    "<pre>\n",
    "        1               n = 1\n",
    "T(n) =\n",
    "        T(n-1) + n      n > 1\n",
    "</pre>"
   ]
  },
  {
   "cell_type": "markdown",
   "metadata": {},
   "source": [
    "Now, if you have to find out the Time Complexity of this relation using substitution method, as the name suggests, try to substitute values in a recursive term. In above recurrence relation, T(n-1) is the recursive term and n is the non-recursive term. So, for any T(n), there exists a recursive term and a non-recursive term and try to substitute values in case of recursive term."
   ]
  },
  {
   "cell_type": "markdown",
   "metadata": {},
   "source": [
    "<pre>\n",
    "Let's put the value of n = n - 1, then:\n",
    "    T(n-1) = T(n-2) + (n-1).\n",
    "Now, put this value of T(n-1) into the recurrence relation, then:\n",
    "    T(n) = T(n-2) + (n-1) + n\n",
    "Now, similarly put the value of T(n-2) in above equation, then:\n",
    "    T(n) = T(n-3) + (n-2) + (n-1) + n\n",
    "Now, if we solve it for 50 times, then:\n",
    "    T(n) = T(n-50) + (n-49) + (n-48) + (n-47) + ... + (n-1) + n\n",
    "</pre>\n",
    "\n",
    "Now, until how many times we have to repeat this pattern or do substitution again and again ???\n",
    "\n",
    "As we know that, if value of n = 1, then T(n) = 1 i.e. T(1) = 1. We can consider this as a base condition. So, we are waiting for this term to get rid of the recursive term and we can get rid of recursive term only when T(1) = 1. \n",
    "\n",
    "Now, suppose we are doing it for k number of times such that after k<sup>th</sup> time, we will be able to get T(1). How we are going to achieve this??\n",
    "\n",
    "We have to find the condition where: n-k = 1. Therefore, k = n - 1. That means, we have to substitute the values n-1 times to get T(1) and in this way we will be able to get rid of this recursive term. So, we can rewrite the above equation as:\n",
    "<pre>\n",
    "    T(n) = T(n - k) + (n - k + 1) + (n - k + 2) + (n - k + 3) + ... + n-1 + n\n",
    "Now, if we put value of k = n - 1, then:\n",
    "    T(n) = T(1) + 2 + 3 + ... + (n-1) + n\n",
    "Now, as we know T(1) = 1, then:\n",
    "    T(n) = 1 + 2 + 3 + ... + (n-1) + n\n",
    "</pre>\n",
    "\n",
    "Now, isn't it a sum of n natural numbers?. As we know that the sum of n natural numbers is: \n",
    "<pre>\n",
    "    n(n+1) / 2 = n<sup>2</sup> + n / 2 = n<sup>2</sup> / 2 + n / 2 \n",
    "</pre>\n",
    "Now, in terms of Big O notation, the time complexity will be an order of n<sup>2</sup> i.e. O(n<sup>2</sup>). This is how we will get the time complexity of recursive term."
   ]
  },
  {
   "cell_type": "markdown",
   "metadata": {},
   "source": [
    "<h3>Substitution Method - Problem 2</h3>"
   ]
  },
  {
   "cell_type": "markdown",
   "metadata": {},
   "source": [
    "Let's consider below recurrence relation:\n",
    "<pre>\n",
    "            1               n = 1\n",
    "    T(n) =\n",
    "            T(n-1) + 1/n    n > 1\n",
    "</pre>"
   ]
  },
  {
   "cell_type": "markdown",
   "metadata": {},
   "source": [
    "What will be the time complexity of above recurrence relation???\n",
    "\n",
    "Here, T(n-1) is a recursive term and 1/n is a non-recursive term. So, let's try to solve above recurrence relation:\n",
    "<pre>\n",
    "    T(n) = T(n-2) + 1/(n-1) + 1/n\n",
    "    T(n) = T(n-3) + 1/(n-2) + 1/(n-1) + 1/n\n",
    "Now, if we substitute for 50 times, then:\n",
    "    T(n) = T(n-50) + 1/(n-49) + 1/(n-48) + ... + 1/(n-1) + 1/n\n",
    "We can rewrite above equations as:\n",
    "    T(n) = T(n-50) + 1/(n-50+1) + 1/(n-50+2) + ... + 1/(n-1) + 1/n\n",
    "Now, how many times we have to repeat untill we reach T(1) = 1 ???\n",
    "Let's say that we are repeating it for k times and at k<sup>th</sup> we will be able to get T(1) = 1. \n",
    "n - k = 1\n",
    "k = n - 1\n",
    "So, the equation will be:\n",
    "    T(k) = T(n-k) + 1/(n - k + 1) + 1/(n - k + 2) + ... + 1/(n-1) + 1/n\n",
    "Now, substituting the value of k = n - 1, then:\n",
    "    T(k) = T(1) + 1/2 + 1/3 + ... + 1/(n-1) + 1/n\n",
    "    T(k) = 1 + 1/2 + 1/3 + ... + 1/(n-1) + 1/n\n",
    "</pre>\n",
    "Now this is a logarithmic series. Hence, the time complexity will be O(log<sub>2</sub> n)."
   ]
  },
  {
   "cell_type": "markdown",
   "metadata": {},
   "source": [
    "<h3>Substitution Method - Problem 3</h3>"
   ]
  },
  {
   "cell_type": "markdown",
   "metadata": {},
   "source": [
    "Let's consider below recurrence relation:\n",
    "<pre>\n",
    "            1               n = 1\n",
    "    T(n) = \n",
    "            T(n-1) * n      n > 1\n",
    "</pre>"
   ]
  },
  {
   "cell_type": "markdown",
   "metadata": {},
   "source": [
    "What will be the time complexity of above recurrence relation???\n",
    "\n",
    "Here, T(n-1) is a recursive term and n is non-recursive term. So let's try to solve above recurrence relation:\n",
    "<pre>\n",
    "    T(n) = T(n-2) * (n-1) * n\n",
    "    T(n) = T(n-3) * (n-2) * (n-1) * n\n",
    "Now, if we substitute for 50 times, then:\n",
    "    T(n) = T(n-50) * (n-49) * (n-48) * ... * (n-1) * n\n",
    "We can rewrite above equations as:\n",
    "    T(n) = T(n-50) * (n-50+1) * (n-50+2) * ... * (n-1) * n\n",
    "Now, how many times we have to repeat untill we reach T(1) = 1 ???\n",
    "Let's say that we are repeating it for k times and at k<sup>th</sup> time we will be able to get T(1) = 1\n",
    "n - k = 1\n",
    "k = n - 1\n",
    "So, the equation will be:\n",
    "    T(k) = T(n-k) * (n - k + 1) * (n - k + 2) * ... * (n-1) * n\n",
    "Now, substituting the value of k = n - 1, then:\n",
    "    T(k) = T(1) * 2 * 3 * ... * (n-1) * n\n",
    "    T(k) = 1 * 2 * 3 * ... * (n-1) * n\n",
    "</pre>\n",
    "This is a factorial series. Hence, the time complexity will be O(n!).\n",
    "\n",
    "However, as we studied before, 2<sup>n</sup> < n! < n<sup>n</sup>.\n",
    "\n",
    "Hence, in terms of Big O notation, it will be O(n<sup>n</sup>) - Upper Bound. Similarly, in terms of Omega notation, it will be: &Omega;(2<sup>n</sup>) - Lower Bound."
   ]
  },
  {
   "cell_type": "markdown",
   "metadata": {},
   "source": [
    "<h3>Substitution Method - Problem 4</h3>"
   ]
  },
  {
   "cell_type": "markdown",
   "metadata": {},
   "source": [
    "Let's consider below recurrence relation:\n",
    "<pre>\n",
    "            1               n = 1\n",
    "    T(n) = \n",
    "            T(n/2) + n      n > 1\n",
    "</pre>"
   ]
  },
  {
   "cell_type": "markdown",
   "metadata": {},
   "source": [
    "What will be the time complexity of above recurrence relation ???\n",
    "\n",
    "Here, T(n/2) is a recursive term and n is non-recursive term. So let's try to solve above recurrence relation:\n",
    "<pre>\n",
    "    T(n) = T(n/2<sup>2</sup>) + (n/2) + n\n",
    "    T(n) = T(n/2<sup>3</sup>) + (n/2<sup>2</sup>) + (n/2) + n\n",
    "Now, if we substitute for 50 times then:\n",
    "    T(n) = T(n/2<sup>50</sup>) + (n/2<sup>49</sup>) + (n/2<sup>48</sup>) + ... + (n/2) + n\n",
    "Now, how many times we have to repeat untill we reach T(1) = 1 ???\n",
    "Let's say that we are repeating it for k times and at k<sup>th</sup> time we will be able to get T(1) = 1\n",
    "n/2<sup>k</sup> = 1\n",
    "n = 2<sup>k</sup>\n",
    "k = log<sub>2</sub>n\n",
    "So, the equation will be:\n",
    "    T(k) = T(n/2<sup>k</sup>) + (n/2<sup>k-1</sup>) + (n/2<sup>k-2</sup>) + ... + (n/2) + n\n",
    "    T(k) = T(n/2<sup>log<sub>2</sub>n</sup>) + (n/2<sup>log<sub>2</sub>n - 1</sup>) + (n/2<sup>log<sub>2</sub>n - 2</sup>) + ... + (n/2) + n\n",
    "Now, as we know the logarithmic property of: 2<sup>log<sub>2</sub>n</sup> ==>> n log<sub>2</sub>2. So above equation will be:\n",
    "    T(k) = T(n/n) + n((1/2)<sup>0</sup> + (1/2)<sup>1</sup> + (1/2)<sup>2</sup> + ... + (1/2)<sup>log<sub>2</sub>n-1</sup>)\n",
    "</pre>\n",
    "Now, this is a Geometric Progression Series with r = 1/2. Since this r = 1/2 < 1 and when the common ratio is less than 1, then the sum of GP series is:\n",
    "\n",
    "S =  a(1 - r<sup>n</sup>) / (1 - r).\n",
    "\n",
    "Now, a is the first term i.e. (1/2)<sup>0</sup> = 1\n",
    "\n",
    "S = 1 * (1 - (1/2)<sup><sup>log<sub>2</sub>n</sup></sup>) * n + 1\n",
    "\n",
    "Now, if you solve above equation you will get:\n",
    "\n",
    "S = constant term * n + 1\n",
    "\n",
    "Therefore, the time complexity will be O(n)."
   ]
  }
 ],
 "metadata": {
  "kernelspec": {
   "display_name": "Deep_Learning",
   "language": "python",
   "name": "python3"
  },
  "language_info": {
   "codemirror_mode": {
    "name": "ipython",
    "version": 3
   },
   "file_extension": ".py",
   "mimetype": "text/x-python",
   "name": "python",
   "nbconvert_exporter": "python",
   "pygments_lexer": "ipython3",
   "version": "3.9.18"
  }
 },
 "nbformat": 4,
 "nbformat_minor": 2
}
