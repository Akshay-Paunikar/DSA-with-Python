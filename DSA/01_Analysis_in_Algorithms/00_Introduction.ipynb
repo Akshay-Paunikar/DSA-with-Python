{
 "cells": [
  {
   "cell_type": "markdown",
   "metadata": {},
   "source": [
    "<h2>Data Structures and Algorithms</h2>"
   ]
  },
  {
   "cell_type": "markdown",
   "metadata": {},
   "source": [
    "<h3>What is DSA?</h3>\n",
    "\n",
    "Data Structures and Algorithms (DSA) refer to the study of methods for organizing and storing data and the design of procedures (algorithms) for solving problems, which operate on these data structures."
   ]
  },
  {
   "cell_type": "markdown",
   "metadata": {},
   "source": [
    "<h3>What is Data Structure?</h3>\n",
    "\n",
    " - A data structure is the mathematical or logical model of an organization of data. \n",
    " - A data structure is a way to organize data in a form that is accessible to computers. \n",
    " - It allows the processing of a large amount of data in a relatively short period of time. \n",
    " - The main purpose of using data structures is to reduce time and space complexities. \n",
    " - An efficient data structure makes use of minimum memory space and takes the minimal possible time to execute.\n",
    "\n",
    "<h4>Types of Data Structure:</h4>\n",
    "\n",
    " - <b>Array: </b>Array is a linear data structure that stores a collection of elements of the same data type. Elements are allocated contiguous memory, allowing for constant-time access. Each element has a unique index number.\n",
    " - <b>String: </b>A string is a sequence of characters, typically used to represent text. It is considered a data type that allows for the manipulation and processing of textual data in computer programs.\n",
    " - <b>Linked Lists: </b>A linked list is a linear data structure that stores data in nodes, which are connected by pointers. Unlike arrays, linked lists are not stored in contiguous memory locations.\n",
    " - <b>Matrix/Grid: </b>A matrix is a two-dimensional array of elements, arranged in rows and columns. It is represented as a rectangular grid, with each element at the intersection of a row and column.\n",
    " - <b>Stack: </b>Stack is a linear data structure that follows a particular order in which the operations are performed. The order may be LIFO(Last In First Out) or FILO(First In Last Out).\n",
    " - <b>Queue: </b>A Queue Data Structure is a fundamental concept in computer science used for storing and managing data in a specific order. It follows the principle of “First in, First out” (FIFO).\n",
    " - <b>Heap: </b>A Heap is a complete binary tree data structure that satisfies the heap property: for every node, the value of its children is less than or equal to its own value.\n",
    " - <b>Hash: </b>Hashing is a technique that generates a fixed-size output (hash value) from an input of variable size using mathematical formulas called hash functions.\n",
    " - <b>Tree: </b>A tree is a non-linear hierarchical data structure consisting of nodes connected by edges, with a top node called the root and nodes having child nodes.\n",
    " - <b>Graph: </b>A Graph is a non-linear data structure consisting of a finite set of vertices(or nodes) and a set of edges that connect a pair of nodes."
   ]
  },
  {
   "cell_type": "markdown",
   "metadata": {},
   "source": [
    "<h3>What is Algorithm?</h3>\n",
    "\n",
    " - Algorithms are well-defined sets of instructions that are used to solve problems or perform a task.\n",
    " - An algorithm is a sequence of instructions or actions that are performed within a limited amount of space-time to provide a solution to a particular issue.\n",
    " - It is a systematic and logical approach to tackle or overcome an issue by the step-by-step process to start from scratch and develop a solution.\n",
    " - In a simpler terms, it is a sequence of finite steps used to solve a particular problem.\n",
    "\n",
    "Based on the type of nature and usage, the Algorithms are grouped together into several categories, as shown below:\n",
    "\n",
    " - <b>Searching Algorithm: </b>Searching algorithms are used to locate specific data within a larger set of data. It helps find the presence of a target value within the data.\n",
    "    - For example: Linear Search, Binary Search etc.\n",
    " - <b>Sorting Algorithm: </b>Sorting algorithms are used for arranging the elements of a list in a specific order, such as numerical or alphabetical. It organizes the items in a systematic way, making it easier to search for and access specific elements.\n",
    "    - For example: Bubble Sort, Selection Sort etc.\n",
    " - <b>Divide and Conquer Algorithm: </b>Divide and conquer algorithms follow a recursive strategy to solve problems by dividing them into smaller subproblems, solving those subproblems, and combining the solutions to obtain the final solution.\n",
    "    - For example: Merge Sort, Quick Sort etc.\n",
    " - <b>Greedy Algorithms: </b>As the name suggests, this algorithm builds up the solution one piece at a time and chooses the next piece which gives the most obvious and immediate benefit i.e., which is the most optimal choice at that moment.\n",
    "    - For example: Fractional Knapsack, Huffman Coding etc.\n",
    " - <b>Recursion: </b>Recursion is a programming technique where a function calls itself within its own definition. It is usually used to solve problems that can be broken down into smaller instances of the same problem.\n",
    "    - For example: Towers of Hanoi (TOH), Factorial Calculation and Fibonacci Sequence etc.\n",
    " - <b>Backtracking Algorithm: </b>The Backtracking algorithm is derived from the Recursion algorithm, with the option to revert if a recursive solution fails, i.e. in case a solution fails, the program traces back to the moment where it failed and builds on another solution. So basically it tries out all the possible solutions and finds the correct one.\n",
    "    - For example: Rat in a Maze, Sudoku etc.\n",
    " - <b>Dynamic Programming: </b>Dynamic Programming is a method used in mathematics and computer science to solve complex problems by breaking them down into simpler subproblems. By solving each subproblem only once and storing the results, it avoids redundant computations, leading to more efficient solutions for a wide range of problems.\n",
    "    - For example: Fibonacci Sequence, Subset Sum Problem etc.\n",
    " - <b>Graph Algorithms: </b>Graph algorithms in data structures and algorithms (DSA) are a set of techniques and methods used to solve problems related to graphs, which are a collection of nodes and edges.\n",
    "    - For example: Graph Traversal, Topological Sorting etc.\n",
    " - <b>Pattern Searching: </b>Pattern searching is a fundamental technique in DSA used to find occurrences of a specific pattern within a given text.\n",
    "    - For example: Brute-Force, Knuth-Morris-Pratt etc.\n",
    " - <b>Mathematical Algorithms: </b>Mathematical algorithms are a class of algorithms that solve problems related to mathematical concepts. They are widely used in various fields, including Computer graphics, Numerical analysis, Optimization and Cryptography.\n",
    "    - For example: GCD and LCM, Fibonacci Numbers etc.\n",
    " - <b>Geometric Algorithms: </b>Geometric algorithms are a class of algorithms that solve problems related to geometry.\n",
    "    - For example: Line Intersection, Convex Hull etc.\n",
    " - <b>Bitwise Algorithms: </b>Bitwise algorithms are algorithms that operate on individual bits of numbers. These algorithms manipulate the binary representation of numbers to perform tasks such as bit manipulation, bitwise logical operations (AND, OR, XOR), shifting bits, and setting or clearing specific bits within a number. Bitwise algorithms are commonly used in low-level programming, cryptography, and optimization tasks where efficient manipulation of individual bits is required.\n",
    "    - For example: Bit Shifting, Extract bits etc.\n",
    " - <b>Randomized Algorithms: </b>Randomized algorithms are algorithms that use randomness to solve problems. They make use of random input to achieve their goals, often leading to simpler or more efficient solutions.\n",
    "    - For example: Bloom Filter, Skip List.\n",
    " - <b>Branch and Bound Algorithm: </b>The Branch and Bound Algorithm is a method used in combinatorial optimization problems to systematically search for the best solution. It works by dividing the problem into smaller subproblems, or branches, and then eliminating certain branches based on bounds on the optimal solution. This process continues until the best solution is found or all branches have been explored.\n",
    "    - For example: N Queen Problem using Branch and Bound, 8 puzzle Problem using Branch and Bound etc."
   ]
  },
  {
   "cell_type": "markdown",
   "metadata": {},
   "source": [
    "<h4>Properties of Algorithms:</h4>\n",
    "\n",
    " - It should terminate after finite time.\n",
    " - It should produce at least one output.\n",
    " - It is independent of any programming language.\n",
    " - It should be unambiguous (Deterministic)\n",
    "    - For same input, it will always produce same output.\n",
    "    - If it produces different output for same input, it is called as non-deterministic algorithm."
   ]
  }
 ],
 "metadata": {
  "kernelspec": {
   "display_name": "Python 3",
   "language": "python",
   "name": "python3"
  },
  "language_info": {
   "name": "python",
   "version": "3.9.18"
  }
 },
 "nbformat": 4,
 "nbformat_minor": 2
}
