{
 "cells": [
  {
   "cell_type": "markdown",
   "metadata": {},
   "source": [
    "<h2>Data Structures and Algorithms (DSA)</h2>"
   ]
  },
  {
   "cell_type": "markdown",
   "metadata": {},
   "source": [
    "<h3>What is DSA?</h3>\n",
    "\n",
    " - Data Structures and Algorithms (DSA) refers to the study of methods for organizing and storing data and the design of procedures (algorithms) for solving problems, which operate on this data structures."
   ]
  },
  {
   "cell_type": "markdown",
   "metadata": {},
   "source": [
    "<h3>What is a Data Structure?</h3>\n",
    "\n",
    " - A data structure is the mathematical or logical model of an organization of data. \n",
    " - A data structure is a way to organize data in a form that is accessible to computers. \n",
    " - It allows the processing of a large amount of data in a relatively short period of time. \n",
    " - The main purpose of using data structures is to reduce time and space complexities. \n",
    " - An efficient data structure makes use of minimum memory space and takes the minimal possible time to execute.\n",
    "\n",
    " <h4>Types of Data Structure:</h4>\n",
    "\n",
    " - <b>Arrays: </b>A"
   ]
  },
  {
   "cell_type": "markdown",
   "metadata": {},
   "source": []
  }
 ],
 "metadata": {
  "kernelspec": {
   "display_name": "Deep_Learning",
   "language": "python",
   "name": "python3"
  },
  "language_info": {
   "name": "python",
   "version": "3.9.18"
  }
 },
 "nbformat": 4,
 "nbformat_minor": 2
}
