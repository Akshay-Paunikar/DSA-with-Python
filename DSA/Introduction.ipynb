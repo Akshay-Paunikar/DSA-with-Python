{
 "cells": [
  {
   "cell_type": "markdown",
   "metadata": {},
   "source": [
    "<h2>Data Structures and Algorithms (DSA)</h2>"
   ]
  },
  {
   "cell_type": "markdown",
   "metadata": {},
   "source": [
    "<h3>What is DSA?</h3>\n",
    "\n",
    " - Data Structures and Algorithms (DSA) refers to the study of methods for organizing and storing data and the design of procedures (algorithms) for solving problems, which operate on this data structures."
   ]
  },
  {
   "cell_type": "markdown",
   "metadata": {},
   "source": [
    "<h3>What is a Data Structure?</h3>\n",
    "\n",
    " - A data structure is the mathematical or logical model of an organization of data. \n",
    " - A data structure is a way to organize data in a form that is accessible to computers. \n",
    " - It allows the processing of a large amount of data in a relatively short period of time. \n",
    " - The main purpose of using data structures is to reduce time and space complexities. \n",
    " - An efficient data structure makes use of minimum memory space and takes the minimal possible time to execute.\n",
    "\n",
    " <h4>Types of Data Structure:</h4>\n",
    "\n",
    " - <b>Arrays: </b>An array is a collection of elements of the same type placed in contiguous memory locations.\n",
    " - <b>Linked Lists: </b>It is a linear data structure, in which the elements are not stored at contiguous memory locations and the elements are linked with each other.\n",
    " - <b>Stacks: </b>Stack is a linear data structure that follows a particular order in which the operations are performed. Follow LIFO (Last In First Out) principle. In this the last element in the stack will be removed first.\n",
    " - <b>Queues: </b>It follows the FIFO (First In First Out) principle. In this the first element stored is removed first.\n",
    " - <b>Hash Tables: </b>This is a type of data structure that stores values which have keys related to each item.\n",
    " - <b>Trees: </b>It is a data structure in which data is organized hierarchically and linked together. Some examples are the Binary Search Tree, Binary Tree, Splay Tree, AVL Tree etc.\n",
    " - <b>Heaps: </b>A Heap is a complete binary tree data structure that satisfies the heap property: for every node, the value of its children is less than or equal to its own value.\n",
    " - <b>Graphs: </b>A Graph is a non-linear data structure. It consists of a set of nodes and edges connecting each other.\n",
    " - <b>String :</b>A string is a sequence of characters, typically used to represent text. It is considered a data type that allows for the manipulation and processing of textual data in computer programs.\n",
    " - <b>Matrix/Grid: </b>A matrix is a two-dimensional array of elements, arranged in rows and columns. It is represented as a rectangular grid, with each element at the intersection of a row and column."
   ]
  },
  {
   "cell_type": "markdown",
   "metadata": {},
   "source": [
    "<h3>What is Algorithm?</h3>\n",
    "\n",
    " - Algorithms are well-defined sets of instructions that are used to solve problems or perform a task.\n",
    " - An algorithm is a sequence of instructions or actions that are performed within a limited amount of space-time to provide a solution to a particular issue.\n",
    " - It is a systematic and logical approach to tackle or overcome an issue by the step-by-step process to start from scratch and develop a solution.\n",
    " - In simpler terms, it is a set of operations performed in a step-by-step manner to execute a task."
   ]
  },
  {
   "cell_type": "markdown",
   "metadata": {},
   "source": [
    "<h4>Types of Algorithms:</h4>\n",
    "\n",
    "Based on the type of nature and usage, the algorithms are grouped together into several categories as below:\n",
    "\n",
    "<b>1. Searching Algorithm: </b>Searching algorithms are used to locate specific data within a larger set of data. It helps find the presence of a target value within the data.\n",
    "\n",
    "<b>2. Sorting Algorithm: </b>Sorting algorithms are used to arranging the elements of a list in a specific order, such as numerical or alphabetical. It organizes the items in a systematic way, making it easier to search for and access specific elements.\n",
    "\n",
    "<b>3. Divide and Conquer Algorithm: </b>Divide and Conquer algorithms follow a recursive strategy to solve problems by dividing them into smaller subproblems, solving these subproblems, and combining the solutions to obtain the final solution.\n",
    "\n",
    "<b>4. Greedy Algorithms: </b>This algorithm builds up the solution one piece at a time and chooses the next piece which gives the most obvious and immediate benefit i.e. which is the most optimal choice at that moment.\n",
    "\n",
    "<b>5. Recursion: </b>Recursion is a programming technique where a function calls itself within its own definition. It is usually used to solve problems that can be broken down into smaller instances of the same problem.\n",
    "\n",
    "<b>6. Backtracking Algorithm: </b>Backtracking algorithm is derived from the Recursion algorithm, with the option to revert if a recursive solution fails, i.e. in case a solution fails, the program traces back to the moment where it failed and builds on another solution. So, basically it tries out all the possible solutions and finds the correct one.\n",
    "\n",
    "<b>7. Dynamic Programming: </b>Dynamic programming is a method used in mathematics and computer science to solve complex problems by breaking them down into simpler subproblems. By solving each subproblem only once and storing results it avoids redundant computations, leading to more efficient solutions for a wide range of problems.\n",
    "\n",
    "<b>8. Graph Algorithms: </b>Graph algorithms are a set of techniques and methods used to solve problems related to graphs which are a collection of nodes and edges. They are essential for solving a wide range of real world problems, including network routing, social network analysis and resource allocation.\n",
    "\n",
    "<b>9. Pattern Searching: </b>It is a fundamental technique in DSA used to find occurences of a specific pattern within a given text.\n",
    "\n",
    "<b>10. Mathematical Algorithms: </b>Mathematical algorithms are a class of algorithms that solve problems related to mathematical concepts.\n",
    "\n",
    "<b>11. Geometric Algorithms: </b>Geometric algorithms are a class of algorithms that solve problems related to geometry.\n",
    "\n",
    "<b>12. Bitwise Algorithms: </b>Bitwise algorithms are algorithms that operate on individual bits of numbers. These are commonly used in low-level programming, cryptography, and optimization tasks where efficient manipulation of individual bits is required.\n",
    "\n",
    "<b>13. Randomized Algorithms: </b>Randomized algorithms are algorithms that use randomness to solve problems. They make use of random inputs to achieve their goals, often leading to simpler or more efficient solutions.\n",
    "\n",
    "<b>14. Branch and Bound Algorithms: </b>The branch and bound algorithm is a method used in combinatorial optimization problems to systematically search for the best solution. It works by dividing the problem into smaller subproblems or branches and then eliminating certain branches based on bounds on the optimal solution. This process continues untill the best solution is found or all branches have been explored. "
   ]
  },
  {
   "cell_type": "markdown",
   "metadata": {},
   "source": []
  }
 ],
 "metadata": {
  "kernelspec": {
   "display_name": "Deep_Learning",
   "language": "python",
   "name": "python3"
  },
  "language_info": {
   "name": "python",
   "version": "3.9.18"
  }
 },
 "nbformat": 4,
 "nbformat_minor": 2
}
