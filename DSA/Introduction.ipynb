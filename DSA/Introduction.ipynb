{
 "cells": [
  {
   "cell_type": "markdown",
   "metadata": {},
   "source": [
    "<h2>Data Structures and Algorithms (DSA)</h2>"
   ]
  },
  {
   "cell_type": "markdown",
   "metadata": {},
   "source": [
    "<h3>What is DSA?</h3>\n",
    "\n",
    " - Data Structures and Algorithms (DSA) refers to the study of methods for organizing and storing data and the design of procedures (algorithms) for solving problems, which operate on this data structures."
   ]
  },
  {
   "cell_type": "markdown",
   "metadata": {},
   "source": [
    "<h3>What is a Data Structure?</h3>\n",
    "\n",
    " - A data structure is the mathematical or logical model of an organization of data. \n",
    " - A data structure is a way to organize data in a form that is accessible to computers. \n",
    " - It allows the processing of a large amount of data in a relatively short period of time. \n",
    " - The main purpose of using data structures is to reduce time and space complexities. \n",
    " - An efficient data structure makes use of minimum memory space and takes the minimal possible time to execute.\n",
    "\n",
    " <h4>Types of Data Structure:</h4>\n",
    "\n",
    " - <b>Arrays: </b>An array is a collection of elements of the same type placed in contiguous memory locations.\n",
    " - <b>Linked Lists: </b>It is a linear data structure, in which the elements are not stored at contiguous memory locations and the elements are linked with each other.\n",
    " - <b>Stacks: </b>Follow LIFO (Last In First Out) principle. In this the last element in the stack will be removed first.\n",
    " - <b>Queues: </b>It follows the FIFO (First In First Out) principle. In this the first element stored is removed first.\n",
    " - <b>Hash Tables: </b>This is a type of data structure that stores values which have keys related to each item.\n",
    " - <b>Trees: </b>It is a data structure in which data is organized hierarchically and linked together. Some examples are the Binary Search Tree, Binary Tree, Splay Tree, AVL Tree etc.\n",
    " - <b>Heaps: </b>It is a specialized tree-based data structure, also called binary heap in which the tree is a complete binary tree and the data is stored.\n",
    " - <b>Graphs: </b>It consists of a set of nodes and edges connecting each other."
   ]
  },
  {
   "cell_type": "markdown",
   "metadata": {},
   "source": []
  }
 ],
 "metadata": {
  "kernelspec": {
   "display_name": "Deep_Learning",
   "language": "python",
   "name": "python3"
  },
  "language_info": {
   "name": "python",
   "version": "3.9.18"
  }
 },
 "nbformat": 4,
 "nbformat_minor": 2
}
