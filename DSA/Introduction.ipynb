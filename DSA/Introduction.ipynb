{
 "cells": [
  {
   "cell_type": "markdown",
   "metadata": {},
   "source": [
    "<h2>Data Structures and Algorithms (DSA)</h2>"
   ]
  },
  {
   "cell_type": "markdown",
   "metadata": {},
   "source": [
    "<h3>What is DSA?</h3>\n",
    "\n",
    " - Data Structures and Algorithms (DSA) refers to the study of methods for organizing and storing data and the design of procedures (algorithms) for solving problems, which operate on this data structures."
   ]
  },
  {
   "cell_type": "markdown",
   "metadata": {},
   "source": [
    "<h3>What is a Data Structure?</h3>\n",
    "\n",
    " - A data structure is the mathematical or logical model of an organization of data. \n",
    " - A data structure is a way to organize data in a form that is accessible to computers. \n",
    " - It allows the processing of a large amount of data in a relatively short period of time. \n",
    " - The main purpose of using data structures is to reduce time and space complexities. \n",
    " - An efficient data structure makes use of minimum memory space and takes the minimal possible time to execute.\n",
    "\n",
    " <h4>Types of Data Structure:</h4>\n",
    "\n",
    " - <b>Arrays: </b>An array is a collection of elements of the same type placed in contiguous memory locations.\n",
    " - <b>Linked Lists: </b>It is a linear data structure, in which the elements are not stored at contiguous memory locations and the elements are linked with each other.\n",
    " - <b>Stacks: </b>Stack is a linear data structure that follows a particular order in which the operations are performed. Follow LIFO (Last In First Out) principle. In this the last element in the stack will be removed first.\n",
    " - <b>Queues: </b>It follows the FIFO (First In First Out) principle. In this the first element stored is removed first.\n",
    " - <b>Hash Tables: </b>This is a type of data structure that stores values which have keys related to each item.\n",
    " - <b>Trees: </b>It is a data structure in which data is organized hierarchically and linked together. Some examples are the Binary Search Tree, Binary Tree, Splay Tree, AVL Tree etc.\n",
    " - <b>Heaps: </b>A Heap is a complete binary tree data structure that satisfies the heap property: for every node, the value of its children is less than or equal to its own value.\n",
    " - <b>Graphs: </b>A Graph is a non-linear data structure. It consists of a set of nodes and edges connecting each other.\n",
    " - <b>String :</b>A string is a sequence of characters, typically used to represent text. It is considered a data type that allows for the manipulation and processing of textual data in computer programs.\n",
    " - <b>Matrix/Grid: <b>A matrix is a two-dimensional array of elements, arranged in rows and columns. It is represented as a rectangular grid, with each element at the intersection of a row and column."
   ]
  },
  {
   "cell_type": "markdown",
   "metadata": {},
   "source": [
    "<h3>What is Algorithm?</h3>\n",
    "\n",
    " - Algorithms are well-defined sets of instructions that are used to solve problems or perform a task.\n",
    " - An algorithm is a sequence of instructions or actions that are performed within a limited amount of space-time to provide a solution to a particular issue.\n",
    " - It is a systematic and logical approach to tackle or overcome an issue by the step-by-step process to start from scratch and develop a solution.\n",
    " - In simpler terms, it is a set of operations performed in a step-by-step manner to execute a task."
   ]
  },
  {
   "cell_type": "markdown",
   "metadata": {},
   "source": []
  }
 ],
 "metadata": {
  "kernelspec": {
   "display_name": "Deep_Learning",
   "language": "python",
   "name": "python3"
  },
  "language_info": {
   "name": "python",
   "version": "3.9.18"
  }
 },
 "nbformat": 4,
 "nbformat_minor": 2
}
